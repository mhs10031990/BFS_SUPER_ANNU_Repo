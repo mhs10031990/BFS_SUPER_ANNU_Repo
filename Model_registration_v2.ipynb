{
 "cells": [
  {
   "cell_type": "code",
   "execution_count": 1,
   "id": "5535e842-c99f-4980-b415-a7ac35e91dc2",
   "metadata": {},
   "outputs": [],
   "source": [
    "#Snowpark lib\n",
    "#from snowflake.snowpark import Session\n",
    "\n",
    "# Data Science Libs\n",
    "import numpy as np\n",
    "import pandas as pd\n",
    "\n",
    "# create_temp_table warning suppresion\n",
    "import warnings; warnings.simplefilter('ignore')\n",
    "\n",
    "import numpy as np\n",
    "\n",
    "from sklearn.compose import ColumnTransformer\n",
    "from sklearn.feature_selection import SelectPercentile, chi2\n",
    "from sklearn.impute import SimpleImputer\n",
    "from sklearn.linear_model import LogisticRegression\n",
    "from sklearn.ensemble import RandomForestClassifier\n",
    "from sklearn.model_selection import RandomizedSearchCV, train_test_split\n",
    "from sklearn.pipeline import Pipeline\n",
    "from sklearn.preprocessing import OneHotEncoder, StandardScaler\n",
    "from sklearn.cluster import DBSCAN\n",
    "import pickle\n",
    "import requests\n",
    "\n",
    "np.random.seed(0)"
   ]
  },
  {
   "cell_type": "code",
   "execution_count": 2,
   "id": "4fe0e36f-e97d-4b8b-8e16-eaf246eb8b78",
   "metadata": {},
   "outputs": [],
   "source": [
    "# !pip install scikit-learn==1.3.2"
   ]
  },
  {
   "cell_type": "code",
   "execution_count": 3,
   "id": "b2a012e3",
   "metadata": {
    "scrolled": true
   },
   "outputs": [],
   "source": [
    "# from fosforml.model_manager.snowflakesession import get_session\n",
    "# my_session = get_session()"
   ]
  },
  {
   "cell_type": "code",
   "execution_count": 4,
   "id": "03aa460e",
   "metadata": {},
   "outputs": [],
   "source": [
    "with open('Churn_Classifier.pkl','rb') as f:  ## use rb while reading the fie\n",
    "    churn_model = pickle.load(f)"
   ]
  },
  {
   "cell_type": "code",
   "execution_count": 5,
   "id": "a8d7ccd4-53e6-4d8f-82ff-169cf3ddaf6f",
   "metadata": {},
   "outputs": [
    {
     "data": {
      "text/html": [
       "<style>#sk-container-id-1 {color: black;}#sk-container-id-1 pre{padding: 0;}#sk-container-id-1 div.sk-toggleable {background-color: white;}#sk-container-id-1 label.sk-toggleable__label {cursor: pointer;display: block;width: 100%;margin-bottom: 0;padding: 0.3em;box-sizing: border-box;text-align: center;}#sk-container-id-1 label.sk-toggleable__label-arrow:before {content: \"▸\";float: left;margin-right: 0.25em;color: #696969;}#sk-container-id-1 label.sk-toggleable__label-arrow:hover:before {color: black;}#sk-container-id-1 div.sk-estimator:hover label.sk-toggleable__label-arrow:before {color: black;}#sk-container-id-1 div.sk-toggleable__content {max-height: 0;max-width: 0;overflow: hidden;text-align: left;background-color: #f0f8ff;}#sk-container-id-1 div.sk-toggleable__content pre {margin: 0.2em;color: black;border-radius: 0.25em;background-color: #f0f8ff;}#sk-container-id-1 input.sk-toggleable__control:checked~div.sk-toggleable__content {max-height: 200px;max-width: 100%;overflow: auto;}#sk-container-id-1 input.sk-toggleable__control:checked~label.sk-toggleable__label-arrow:before {content: \"▾\";}#sk-container-id-1 div.sk-estimator input.sk-toggleable__control:checked~label.sk-toggleable__label {background-color: #d4ebff;}#sk-container-id-1 div.sk-label input.sk-toggleable__control:checked~label.sk-toggleable__label {background-color: #d4ebff;}#sk-container-id-1 input.sk-hidden--visually {border: 0;clip: rect(1px 1px 1px 1px);clip: rect(1px, 1px, 1px, 1px);height: 1px;margin: -1px;overflow: hidden;padding: 0;position: absolute;width: 1px;}#sk-container-id-1 div.sk-estimator {font-family: monospace;background-color: #f0f8ff;border: 1px dotted black;border-radius: 0.25em;box-sizing: border-box;margin-bottom: 0.5em;}#sk-container-id-1 div.sk-estimator:hover {background-color: #d4ebff;}#sk-container-id-1 div.sk-parallel-item::after {content: \"\";width: 100%;border-bottom: 1px solid gray;flex-grow: 1;}#sk-container-id-1 div.sk-label:hover label.sk-toggleable__label {background-color: #d4ebff;}#sk-container-id-1 div.sk-serial::before {content: \"\";position: absolute;border-left: 1px solid gray;box-sizing: border-box;top: 0;bottom: 0;left: 50%;z-index: 0;}#sk-container-id-1 div.sk-serial {display: flex;flex-direction: column;align-items: center;background-color: white;padding-right: 0.2em;padding-left: 0.2em;position: relative;}#sk-container-id-1 div.sk-item {position: relative;z-index: 1;}#sk-container-id-1 div.sk-parallel {display: flex;align-items: stretch;justify-content: center;background-color: white;position: relative;}#sk-container-id-1 div.sk-item::before, #sk-container-id-1 div.sk-parallel-item::before {content: \"\";position: absolute;border-left: 1px solid gray;box-sizing: border-box;top: 0;bottom: 0;left: 50%;z-index: -1;}#sk-container-id-1 div.sk-parallel-item {display: flex;flex-direction: column;z-index: 1;position: relative;background-color: white;}#sk-container-id-1 div.sk-parallel-item:first-child::after {align-self: flex-end;width: 50%;}#sk-container-id-1 div.sk-parallel-item:last-child::after {align-self: flex-start;width: 50%;}#sk-container-id-1 div.sk-parallel-item:only-child::after {width: 0;}#sk-container-id-1 div.sk-dashed-wrapped {border: 1px dashed gray;margin: 0 0.4em 0.5em 0.4em;box-sizing: border-box;padding-bottom: 0.4em;background-color: white;}#sk-container-id-1 div.sk-label label {font-family: monospace;font-weight: bold;display: inline-block;line-height: 1.2em;}#sk-container-id-1 div.sk-label-container {text-align: center;}#sk-container-id-1 div.sk-container {/* jupyter's `normalize.less` sets `[hidden] { display: none; }` but bootstrap.min.css set `[hidden] { display: none !important; }` so we also need the `!important` here to be able to override the default hidden behavior on the sphinx rendered scikit-learn.org. See: https://github.com/scikit-learn/scikit-learn/issues/21755 */display: inline-block !important;position: relative;}#sk-container-id-1 div.sk-text-repr-fallback {display: none;}</style><div id=\"sk-container-id-1\" class=\"sk-top-container\"><div class=\"sk-text-repr-fallback\"><pre>Pipeline(steps=[(&#x27;preprocessor&#x27;,\n",
       "                 ColumnTransformer(transformers=[(&#x27;num&#x27;,\n",
       "                                                  Pipeline(steps=[(&#x27;imputer&#x27;,\n",
       "                                                                   SimpleImputer(strategy=&#x27;median&#x27;)),\n",
       "                                                                  (&#x27;scaler&#x27;,\n",
       "                                                                   StandardScaler())]),\n",
       "                                                  [&#x27;FUND_TOTAL_ASSETS&#x27;,\n",
       "                                                   &#x27;FUND_RETURN_TARGET_PERCENTAGE&#x27;,\n",
       "                                                   &#x27;CASH_BENCHMARK_ALLOCATION&#x27;,\n",
       "                                                   &#x27;FIXED_INCOME_BENCHMARK_ALLOCATION&#x27;,\n",
       "                                                   &#x27;DOMESTIC_LISTED_EQUITY_BENCHMARK_ALLOCATION&#x27;,\n",
       "                                                   &#x27;INTERNATIONAL_LISTED_EQU...\n",
       "                                                                                    score_func=&lt;function chi2 at 0x7ff42cd32dc0&gt;))]),\n",
       "                                                  [&#x27;MEMBER_GENDER&#x27;,\n",
       "                                                   &#x27;MEMBER_STATE&#x27;,\n",
       "                                                   &#x27;MEMBER_CONTACT_VERIFIED&#x27;,\n",
       "                                                   &#x27;INVESTMENT_RISK_CATEGORY&#x27;,\n",
       "                                                   &#x27;FUND_RISK_LEVEL&#x27;,\n",
       "                                                   &#x27;FUND_RISK_CATEGORY&#x27;,\n",
       "                                                   &#x27;NEG_NETRETURN_SINCE_INCEPTION&#x27;,\n",
       "                                                   &#x27;INVESTMENT_AGE_GROUP&#x27;,\n",
       "                                                   &#x27;RETIREMENT_AGE_GROUP&#x27;,\n",
       "                                                   &#x27;TOTAL_FUNDS_INVESTED&#x27;])])),\n",
       "                (&#x27;classifier&#x27;,\n",
       "                 RandomForestClassifier(max_depth=8, max_features=0.6,\n",
       "                                        max_samples=0.8, n_estimators=500))])</pre><b>In a Jupyter environment, please rerun this cell to show the HTML representation or trust the notebook. <br />On GitHub, the HTML representation is unable to render, please try loading this page with nbviewer.org.</b></div><div class=\"sk-container\" hidden><div class=\"sk-item sk-dashed-wrapped\"><div class=\"sk-label-container\"><div class=\"sk-label sk-toggleable\"><input class=\"sk-toggleable__control sk-hidden--visually\" id=\"sk-estimator-id-1\" type=\"checkbox\" ><label for=\"sk-estimator-id-1\" class=\"sk-toggleable__label sk-toggleable__label-arrow\">Pipeline</label><div class=\"sk-toggleable__content\"><pre>Pipeline(steps=[(&#x27;preprocessor&#x27;,\n",
       "                 ColumnTransformer(transformers=[(&#x27;num&#x27;,\n",
       "                                                  Pipeline(steps=[(&#x27;imputer&#x27;,\n",
       "                                                                   SimpleImputer(strategy=&#x27;median&#x27;)),\n",
       "                                                                  (&#x27;scaler&#x27;,\n",
       "                                                                   StandardScaler())]),\n",
       "                                                  [&#x27;FUND_TOTAL_ASSETS&#x27;,\n",
       "                                                   &#x27;FUND_RETURN_TARGET_PERCENTAGE&#x27;,\n",
       "                                                   &#x27;CASH_BENCHMARK_ALLOCATION&#x27;,\n",
       "                                                   &#x27;FIXED_INCOME_BENCHMARK_ALLOCATION&#x27;,\n",
       "                                                   &#x27;DOMESTIC_LISTED_EQUITY_BENCHMARK_ALLOCATION&#x27;,\n",
       "                                                   &#x27;INTERNATIONAL_LISTED_EQU...\n",
       "                                                                                    score_func=&lt;function chi2 at 0x7ff42cd32dc0&gt;))]),\n",
       "                                                  [&#x27;MEMBER_GENDER&#x27;,\n",
       "                                                   &#x27;MEMBER_STATE&#x27;,\n",
       "                                                   &#x27;MEMBER_CONTACT_VERIFIED&#x27;,\n",
       "                                                   &#x27;INVESTMENT_RISK_CATEGORY&#x27;,\n",
       "                                                   &#x27;FUND_RISK_LEVEL&#x27;,\n",
       "                                                   &#x27;FUND_RISK_CATEGORY&#x27;,\n",
       "                                                   &#x27;NEG_NETRETURN_SINCE_INCEPTION&#x27;,\n",
       "                                                   &#x27;INVESTMENT_AGE_GROUP&#x27;,\n",
       "                                                   &#x27;RETIREMENT_AGE_GROUP&#x27;,\n",
       "                                                   &#x27;TOTAL_FUNDS_INVESTED&#x27;])])),\n",
       "                (&#x27;classifier&#x27;,\n",
       "                 RandomForestClassifier(max_depth=8, max_features=0.6,\n",
       "                                        max_samples=0.8, n_estimators=500))])</pre></div></div></div><div class=\"sk-serial\"><div class=\"sk-item sk-dashed-wrapped\"><div class=\"sk-label-container\"><div class=\"sk-label sk-toggleable\"><input class=\"sk-toggleable__control sk-hidden--visually\" id=\"sk-estimator-id-2\" type=\"checkbox\" ><label for=\"sk-estimator-id-2\" class=\"sk-toggleable__label sk-toggleable__label-arrow\">preprocessor: ColumnTransformer</label><div class=\"sk-toggleable__content\"><pre>ColumnTransformer(transformers=[(&#x27;num&#x27;,\n",
       "                                 Pipeline(steps=[(&#x27;imputer&#x27;,\n",
       "                                                  SimpleImputer(strategy=&#x27;median&#x27;)),\n",
       "                                                 (&#x27;scaler&#x27;, StandardScaler())]),\n",
       "                                 [&#x27;FUND_TOTAL_ASSETS&#x27;,\n",
       "                                  &#x27;FUND_RETURN_TARGET_PERCENTAGE&#x27;,\n",
       "                                  &#x27;CASH_BENCHMARK_ALLOCATION&#x27;,\n",
       "                                  &#x27;FIXED_INCOME_BENCHMARK_ALLOCATION&#x27;,\n",
       "                                  &#x27;DOMESTIC_LISTED_EQUITY_BENCHMARK_ALLOCATION&#x27;,\n",
       "                                  &#x27;INTERNATIONAL_LISTED_EQUITY_BENCHMARK_ALLOCATION&#x27;,\n",
       "                                  &#x27;UNLIS...\n",
       "                                                  OneHotEncoder(handle_unknown=&#x27;ignore&#x27;)),\n",
       "                                                 (&#x27;selector&#x27;,\n",
       "                                                  SelectPercentile(percentile=50,\n",
       "                                                                   score_func=&lt;function chi2 at 0x7ff42cd32dc0&gt;))]),\n",
       "                                 [&#x27;MEMBER_GENDER&#x27;, &#x27;MEMBER_STATE&#x27;,\n",
       "                                  &#x27;MEMBER_CONTACT_VERIFIED&#x27;,\n",
       "                                  &#x27;INVESTMENT_RISK_CATEGORY&#x27;, &#x27;FUND_RISK_LEVEL&#x27;,\n",
       "                                  &#x27;FUND_RISK_CATEGORY&#x27;,\n",
       "                                  &#x27;NEG_NETRETURN_SINCE_INCEPTION&#x27;,\n",
       "                                  &#x27;INVESTMENT_AGE_GROUP&#x27;,\n",
       "                                  &#x27;RETIREMENT_AGE_GROUP&#x27;,\n",
       "                                  &#x27;TOTAL_FUNDS_INVESTED&#x27;])])</pre></div></div></div><div class=\"sk-parallel\"><div class=\"sk-parallel-item\"><div class=\"sk-item\"><div class=\"sk-label-container\"><div class=\"sk-label sk-toggleable\"><input class=\"sk-toggleable__control sk-hidden--visually\" id=\"sk-estimator-id-3\" type=\"checkbox\" ><label for=\"sk-estimator-id-3\" class=\"sk-toggleable__label sk-toggleable__label-arrow\">num</label><div class=\"sk-toggleable__content\"><pre>[&#x27;FUND_TOTAL_ASSETS&#x27;, &#x27;FUND_RETURN_TARGET_PERCENTAGE&#x27;, &#x27;CASH_BENCHMARK_ALLOCATION&#x27;, &#x27;FIXED_INCOME_BENCHMARK_ALLOCATION&#x27;, &#x27;DOMESTIC_LISTED_EQUITY_BENCHMARK_ALLOCATION&#x27;, &#x27;INTERNATIONAL_LISTED_EQUITY_BENCHMARK_ALLOCATION&#x27;, &#x27;UNLISTED_EQUITY_BENCHMARK_ALLOCATION&#x27;, &#x27;EQUITY_BENCHMARK_ALLOCATION&#x27;, &#x27;PROPERTY_BENCHMARK_ALLOCATION&#x27;, &#x27;INFRA_BENCHMARK_ALLOCATION&#x27;, &#x27;COMMODITIES_BENCHMARK_ALLOCATION&#x27;, &#x27;OTHERS_BENCHMARK_ALLOCATION&#x27;, &#x27;YEAR_1_RETURNS&#x27;, &#x27;YEAR_3_RETURNS&#x27;, &#x27;YEAR_5_RETURNS&#x27;, &#x27;YEAR_7_RETURNS&#x27;, &#x27;YEAR_10_RETURNS&#x27;, &#x27;SUPER_FEES&#x27;, &#x27;PENSION_FEES&#x27;]</pre></div></div></div><div class=\"sk-serial\"><div class=\"sk-item\"><div class=\"sk-serial\"><div class=\"sk-item\"><div class=\"sk-estimator sk-toggleable\"><input class=\"sk-toggleable__control sk-hidden--visually\" id=\"sk-estimator-id-4\" type=\"checkbox\" ><label for=\"sk-estimator-id-4\" class=\"sk-toggleable__label sk-toggleable__label-arrow\">SimpleImputer</label><div class=\"sk-toggleable__content\"><pre>SimpleImputer(strategy=&#x27;median&#x27;)</pre></div></div></div><div class=\"sk-item\"><div class=\"sk-estimator sk-toggleable\"><input class=\"sk-toggleable__control sk-hidden--visually\" id=\"sk-estimator-id-5\" type=\"checkbox\" ><label for=\"sk-estimator-id-5\" class=\"sk-toggleable__label sk-toggleable__label-arrow\">StandardScaler</label><div class=\"sk-toggleable__content\"><pre>StandardScaler()</pre></div></div></div></div></div></div></div></div><div class=\"sk-parallel-item\"><div class=\"sk-item\"><div class=\"sk-label-container\"><div class=\"sk-label sk-toggleable\"><input class=\"sk-toggleable__control sk-hidden--visually\" id=\"sk-estimator-id-6\" type=\"checkbox\" ><label for=\"sk-estimator-id-6\" class=\"sk-toggleable__label sk-toggleable__label-arrow\">cat</label><div class=\"sk-toggleable__content\"><pre>[&#x27;MEMBER_GENDER&#x27;, &#x27;MEMBER_STATE&#x27;, &#x27;MEMBER_CONTACT_VERIFIED&#x27;, &#x27;INVESTMENT_RISK_CATEGORY&#x27;, &#x27;FUND_RISK_LEVEL&#x27;, &#x27;FUND_RISK_CATEGORY&#x27;, &#x27;NEG_NETRETURN_SINCE_INCEPTION&#x27;, &#x27;INVESTMENT_AGE_GROUP&#x27;, &#x27;RETIREMENT_AGE_GROUP&#x27;, &#x27;TOTAL_FUNDS_INVESTED&#x27;]</pre></div></div></div><div class=\"sk-serial\"><div class=\"sk-item\"><div class=\"sk-serial\"><div class=\"sk-item\"><div class=\"sk-estimator sk-toggleable\"><input class=\"sk-toggleable__control sk-hidden--visually\" id=\"sk-estimator-id-7\" type=\"checkbox\" ><label for=\"sk-estimator-id-7\" class=\"sk-toggleable__label sk-toggleable__label-arrow\">OneHotEncoder</label><div class=\"sk-toggleable__content\"><pre>OneHotEncoder(handle_unknown=&#x27;ignore&#x27;)</pre></div></div></div><div class=\"sk-item\"><div class=\"sk-estimator sk-toggleable\"><input class=\"sk-toggleable__control sk-hidden--visually\" id=\"sk-estimator-id-8\" type=\"checkbox\" ><label for=\"sk-estimator-id-8\" class=\"sk-toggleable__label sk-toggleable__label-arrow\">SelectPercentile</label><div class=\"sk-toggleable__content\"><pre>SelectPercentile(percentile=50, score_func=&lt;function chi2 at 0x7ff42cd32dc0&gt;)</pre></div></div></div></div></div></div></div></div></div></div><div class=\"sk-item\"><div class=\"sk-estimator sk-toggleable\"><input class=\"sk-toggleable__control sk-hidden--visually\" id=\"sk-estimator-id-9\" type=\"checkbox\" ><label for=\"sk-estimator-id-9\" class=\"sk-toggleable__label sk-toggleable__label-arrow\">RandomForestClassifier</label><div class=\"sk-toggleable__content\"><pre>RandomForestClassifier(max_depth=8, max_features=0.6, max_samples=0.8,\n",
       "                       n_estimators=500)</pre></div></div></div></div></div></div></div>"
      ],
      "text/plain": [
       "Pipeline(steps=[('preprocessor',\n",
       "                 ColumnTransformer(transformers=[('num',\n",
       "                                                  Pipeline(steps=[('imputer',\n",
       "                                                                   SimpleImputer(strategy='median')),\n",
       "                                                                  ('scaler',\n",
       "                                                                   StandardScaler())]),\n",
       "                                                  ['FUND_TOTAL_ASSETS',\n",
       "                                                   'FUND_RETURN_TARGET_PERCENTAGE',\n",
       "                                                   'CASH_BENCHMARK_ALLOCATION',\n",
       "                                                   'FIXED_INCOME_BENCHMARK_ALLOCATION',\n",
       "                                                   'DOMESTIC_LISTED_EQUITY_BENCHMARK_ALLOCATION',\n",
       "                                                   'INTERNATIONAL_LISTED_EQU...\n",
       "                                                                                    score_func=<function chi2 at 0x7ff42cd32dc0>))]),\n",
       "                                                  ['MEMBER_GENDER',\n",
       "                                                   'MEMBER_STATE',\n",
       "                                                   'MEMBER_CONTACT_VERIFIED',\n",
       "                                                   'INVESTMENT_RISK_CATEGORY',\n",
       "                                                   'FUND_RISK_LEVEL',\n",
       "                                                   'FUND_RISK_CATEGORY',\n",
       "                                                   'NEG_NETRETURN_SINCE_INCEPTION',\n",
       "                                                   'INVESTMENT_AGE_GROUP',\n",
       "                                                   'RETIREMENT_AGE_GROUP',\n",
       "                                                   'TOTAL_FUNDS_INVESTED'])])),\n",
       "                ('classifier',\n",
       "                 RandomForestClassifier(max_depth=8, max_features=0.6,\n",
       "                                        max_samples=0.8, n_estimators=500))])"
      ]
     },
     "execution_count": 5,
     "metadata": {},
     "output_type": "execute_result"
    }
   ],
   "source": [
    "churn_model"
   ]
  },
  {
   "cell_type": "code",
   "execution_count": 6,
   "id": "c9c19f31-522c-4d8a-b9d6-99737e7985b9",
   "metadata": {},
   "outputs": [],
   "source": [
    "import snowflake.snowpark as snowpark\n",
    "from snowflake.snowpark.functions import col\n",
    "from snowflake.snowpark import Session\n",
    "\n",
    "\n",
    "connection_parameters = {\n",
    " \"account\": \"fya62509\",\n",
    " \"region\":\"us-east-1\",\n",
    " \"user\": \"MANISHH\",\n",
    " \"password\": \"cXl2n5i6#\",\n",
    " \"role\": \"MANISHH\",  # optional\n",
    " \"warehouse\": \"FOSFOR_SOLUTIONS_WH\",  # optional\n",
    " \"database\": \"FDC_BANKING_FS\",  # optional\n",
    " \"schema\": \"BFS_SUPER_ANNU_SCHEMA\",  # optional \n",
    "}\n",
    "my_session = Session.builder.configs(connection_parameters).create()  "
   ]
  },
  {
   "cell_type": "code",
   "execution_count": 7,
   "id": "c197f869-203d-4fff-ad10-d5513ecc7195",
   "metadata": {},
   "outputs": [],
   "source": [
    "table_name = 'MEMBER_FUNDS_ENRICHED_DETAILS'\n",
    "sf_df = my_session.sql(\"select * from {}\".format(table_name))\n",
    "df = sf_df.to_pandas()"
   ]
  },
  {
   "cell_type": "code",
   "execution_count": 8,
   "id": "20120f1a",
   "metadata": {},
   "outputs": [],
   "source": [
    "df = df.drop([\"MEMBER_DOB_DT\", 'ALLOCATION_DT', \"CHURN_DT\", \"RETIREMENT_DT\"], axis =1 )"
   ]
  },
  {
   "cell_type": "code",
   "execution_count": 9,
   "id": "0c94e8f8",
   "metadata": {},
   "outputs": [],
   "source": [
    "frame = df[['MEMBER_GENDER', 'MEMBER_STATE', 'MEMBER_CONTACT_VERIFIED','FUND_TOTAL_ASSETS','FUND_RETURN_TARGET_PERCENTAGE',\n",
    "            'INVESTMENT_RISK_CATEGORY', 'CASH_BENCHMARK_ALLOCATION','FIXED_INCOME_BENCHMARK_ALLOCATION',\n",
    "            'DOMESTIC_LISTED_EQUITY_BENCHMARK_ALLOCATION','INTERNATIONAL_LISTED_EQUITY_BENCHMARK_ALLOCATION',\n",
    "            'UNLISTED_EQUITY_BENCHMARK_ALLOCATION', 'EQUITY_BENCHMARK_ALLOCATION','PROPERTY_BENCHMARK_ALLOCATION',\n",
    "            'INFRA_BENCHMARK_ALLOCATION','COMMODITIES_BENCHMARK_ALLOCATION', 'OTHERS_BENCHMARK_ALLOCATION','FUND_RISK_LEVEL', \n",
    "            'FUND_RISK_CATEGORY','NEG_NETRETURN_SINCE_INCEPTION', 'YEAR_1_RETURNS', 'YEAR_3_RETURNS','YEAR_5_RETURNS',\n",
    "            'YEAR_7_RETURNS','YEAR_10_RETURNS', 'SUPER_FEES','PENSION_FEES',\n",
    "            'INVESTMENT_AGE_GROUP', 'RETIREMENT_AGE_GROUP', 'TOTAL_FUNDS_INVESTED','CHURN_FLAG']].copy()\n",
    "\n",
    "X = frame.drop(\"CHURN_FLAG\", axis=1)\n",
    "y = frame[\"CHURN_FLAG\"]\n",
    "\n",
    "X_train, X_test, y_train, y_test = train_test_split(X, y, test_size=0.2, random_state=0)"
   ]
  },
  {
   "cell_type": "code",
   "execution_count": 10,
   "id": "61d726cf-ff2b-4093-911f-2b3b8ce9d80c",
   "metadata": {},
   "outputs": [],
   "source": [
    "def score(model, request):\n",
    "    payload_dict = eval(request.json[\"payload\"])\n",
    "    data = pd.DataFrame.from_dict(payload_dict)\n",
    "    frame = data[['MEMBER_GENDER', 'MEMBER_STATE', 'MEMBER_CONTACT_VERIFIED','FUND_TOTAL_ASSETS','FUND_RETURN_TARGET_PERCENTAGE',\n",
    "            'INVESTMENT_RISK_CATEGORY', 'CASH_BENCHMARK_ALLOCATION','FIXED_INCOME_BENCHMARK_ALLOCATION',\n",
    "            'DOMESTIC_LISTED_EQUITY_BENCHMARK_ALLOCATION','INTERNATIONAL_LISTED_EQUITY_BENCHMARK_ALLOCATION',\n",
    "            'UNLISTED_EQUITY_BENCHMARK_ALLOCATION', 'EQUITY_BENCHMARK_ALLOCATION','PROPERTY_BENCHMARK_ALLOCATION',\n",
    "            'INFRA_BENCHMARK_ALLOCATION','COMMODITIES_BENCHMARK_ALLOCATION', 'OTHERS_BENCHMARK_ALLOCATION','FUND_RISK_LEVEL', \n",
    "            'FUND_RISK_CATEGORY','NEG_NETRETURN_SINCE_INCEPTION', 'YEAR_1_RETURNS', 'YEAR_3_RETURNS','YEAR_5_RETURNS',\n",
    "            'YEAR_7_RETURNS','YEAR_10_RETURNS', 'SUPER_FEES','PENSION_FEES',\n",
    "            'INVESTMENT_AGE_GROUP', 'RETIREMENT_AGE_GROUP', 'TOTAL_FUNDS_INVESTED']].copy()\n",
    "    result = model.predict(frame)\n",
    "    prediction = pd.DataFrame({\"CHURN_PREDICTION\":result})\n",
    "    prediction[\"CHURN_PREDICTION\"] = prediction[\"CHURN_PREDICTION\"].apply(lambda x: \"Y\" if x == 1 else \"N\")\n",
    "    probability = model.predict_proba(frame)\n",
    "    prediction[\"Probability\"] = [round(k[1],4) for k in probability]    \n",
    "    prediction = prediction.to_dict()\n",
    "    return pd.DataFrame(prediction)"
   ]
  },
  {
   "cell_type": "code",
   "execution_count": 11,
   "id": "e1a79378-dc8d-4dfd-ae7a-5df2a2f9e79b",
   "metadata": {},
   "outputs": [],
   "source": [
    "table_name = 'MEMBER_FUNDS_ENRICHED_DETAILS'\n",
    "sf_df = my_session.sql(\"select * from {}\".format(table_name))\n",
    "df = sf_df.to_pandas()\n",
    "df = df.drop([\"MEMBER_DOB_DT\", 'ALLOCATION_DT', \"CHURN_DT\", \"RETIREMENT_DT\"], axis =1 )"
   ]
  },
  {
   "cell_type": "code",
   "execution_count": 12,
   "id": "163736d8-dcf0-4439-b5f6-4dbc00c5fdf1",
   "metadata": {},
   "outputs": [
    {
     "data": {
      "text/html": [
       "<div>\n",
       "<style scoped>\n",
       "    .dataframe tbody tr th:only-of-type {\n",
       "        vertical-align: middle;\n",
       "    }\n",
       "\n",
       "    .dataframe tbody tr th {\n",
       "        vertical-align: top;\n",
       "    }\n",
       "\n",
       "    .dataframe thead th {\n",
       "        text-align: right;\n",
       "    }\n",
       "</style>\n",
       "<table border=\"1\" class=\"dataframe\">\n",
       "  <thead>\n",
       "    <tr style=\"text-align: right;\">\n",
       "      <th></th>\n",
       "      <th>CHURN_PREDICTION</th>\n",
       "      <th>Probability</th>\n",
       "    </tr>\n",
       "  </thead>\n",
       "  <tbody>\n",
       "    <tr>\n",
       "      <th>0</th>\n",
       "      <td>Y</td>\n",
       "      <td>0.9681</td>\n",
       "    </tr>\n",
       "    <tr>\n",
       "      <th>1</th>\n",
       "      <td>Y</td>\n",
       "      <td>0.9057</td>\n",
       "    </tr>\n",
       "    <tr>\n",
       "      <th>2</th>\n",
       "      <td>Y</td>\n",
       "      <td>0.7971</td>\n",
       "    </tr>\n",
       "    <tr>\n",
       "      <th>3</th>\n",
       "      <td>Y</td>\n",
       "      <td>0.7901</td>\n",
       "    </tr>\n",
       "    <tr>\n",
       "      <th>4</th>\n",
       "      <td>Y</td>\n",
       "      <td>0.8173</td>\n",
       "    </tr>\n",
       "    <tr>\n",
       "      <th>5</th>\n",
       "      <td>Y</td>\n",
       "      <td>0.8144</td>\n",
       "    </tr>\n",
       "    <tr>\n",
       "      <th>6</th>\n",
       "      <td>Y</td>\n",
       "      <td>0.5759</td>\n",
       "    </tr>\n",
       "    <tr>\n",
       "      <th>7</th>\n",
       "      <td>Y</td>\n",
       "      <td>0.9588</td>\n",
       "    </tr>\n",
       "    <tr>\n",
       "      <th>8</th>\n",
       "      <td>Y</td>\n",
       "      <td>0.9940</td>\n",
       "    </tr>\n",
       "    <tr>\n",
       "      <th>9</th>\n",
       "      <td>Y</td>\n",
       "      <td>0.9118</td>\n",
       "    </tr>\n",
       "  </tbody>\n",
       "</table>\n",
       "</div>"
      ],
      "text/plain": [
       "  CHURN_PREDICTION  Probability\n",
       "0                Y       0.9681\n",
       "1                Y       0.9057\n",
       "2                Y       0.7971\n",
       "3                Y       0.7901\n",
       "4                Y       0.8173\n",
       "5                Y       0.8144\n",
       "6                Y       0.5759\n",
       "7                Y       0.9588\n",
       "8                Y       0.9940\n",
       "9                Y       0.9118"
      ]
     },
     "execution_count": 12,
     "metadata": {},
     "output_type": "execute_result"
    }
   ],
   "source": [
    "payload = df.head(10).to_dict()\n",
    "req = requests.Request()\n",
    "req.json = {\"payload\":str(payload)}\n",
    "y = req\n",
    "yo = score(churn_model, y)\n",
    "yo"
   ]
  },
  {
   "cell_type": "code",
   "execution_count": 13,
   "id": "b65513a7-d101-4fd7-a02d-6d05e57284dd",
   "metadata": {},
   "outputs": [
    {
     "data": {
      "text/plain": [
       "pandas.core.frame.DataFrame"
      ]
     },
     "execution_count": 13,
     "metadata": {},
     "output_type": "execute_result"
    }
   ],
   "source": [
    "type(yo)"
   ]
  },
  {
   "cell_type": "code",
   "execution_count": null,
   "id": "b2e60b1e-7bc6-450e-bc69-638a087cb25b",
   "metadata": {},
   "outputs": [],
   "source": []
  },
  {
   "cell_type": "code",
   "execution_count": 14,
   "id": "574f201f-6bc7-4641-a844-3b7d0b542e6e",
   "metadata": {},
   "outputs": [],
   "source": [
    "frame = df[['MEMBER_GENDER', 'MEMBER_STATE', 'MEMBER_CONTACT_VERIFIED','FUND_TOTAL_ASSETS','FUND_RETURN_TARGET_PERCENTAGE',\n",
    "            'INVESTMENT_RISK_CATEGORY', 'CASH_BENCHMARK_ALLOCATION','FIXED_INCOME_BENCHMARK_ALLOCATION',\n",
    "            'DOMESTIC_LISTED_EQUITY_BENCHMARK_ALLOCATION','INTERNATIONAL_LISTED_EQUITY_BENCHMARK_ALLOCATION',\n",
    "            'UNLISTED_EQUITY_BENCHMARK_ALLOCATION', 'EQUITY_BENCHMARK_ALLOCATION','PROPERTY_BENCHMARK_ALLOCATION',\n",
    "            'INFRA_BENCHMARK_ALLOCATION','COMMODITIES_BENCHMARK_ALLOCATION', 'OTHERS_BENCHMARK_ALLOCATION','FUND_RISK_LEVEL', \n",
    "            'FUND_RISK_CATEGORY','NEG_NETRETURN_SINCE_INCEPTION', 'YEAR_1_RETURNS', 'YEAR_3_RETURNS','YEAR_5_RETURNS',\n",
    "            'YEAR_7_RETURNS','YEAR_10_RETURNS', 'SUPER_FEES','PENSION_FEES',\n",
    "            'INVESTMENT_AGE_GROUP', 'RETIREMENT_AGE_GROUP', 'TOTAL_FUNDS_INVESTED','CHURN_FLAG']].copy()\n",
    "\n",
    "X = frame.drop(\"CHURN_FLAG\", axis=1)\n",
    "y = frame[\"CHURN_FLAG\"]\n",
    "\n",
    "X_train, X_test, y_train, y_test = train_test_split(X, y, test_size=0.2, random_state=0)"
   ]
  },
  {
   "cell_type": "code",
   "execution_count": 15,
   "id": "719b43e2-599c-478f-8651-06e29d7b024c",
   "metadata": {},
   "outputs": [],
   "source": [
    "payload = X_test.to_dict()\n",
    "req = requests.Request()\n",
    "req.json = {\"payload\":str(payload)}\n",
    "y = req\n",
    "pred = score(churn_model, y)"
   ]
  },
  {
   "cell_type": "code",
   "execution_count": 16,
   "id": "8cf516ed-150f-4390-817d-fd4d7171a06a",
   "metadata": {},
   "outputs": [],
   "source": [
    "#temp_ = eval(pred_dic)\n",
    "#print(\"string to dict\")\n",
    "#pred = pd.DataFrame.from_dict(temp_)"
   ]
  },
  {
   "cell_type": "code",
   "execution_count": 17,
   "id": "1b4e10aa-52a2-43a6-b65b-9073d2a90c9f",
   "metadata": {},
   "outputs": [],
   "source": [
    "y_pred = pred[\"CHURN_PREDICTION\"]\n",
    "y_prob = pred[\"Probability\"]"
   ]
  },
  {
   "cell_type": "code",
   "execution_count": 18,
   "id": "9a8fdee3-6f0e-4317-bf60-9a0b44c8150c",
   "metadata": {},
   "outputs": [],
   "source": [
    "from fosforml import register_model\n",
    "## registering the model in Fosfor Insight Designer."
   ]
  },
  {
   "cell_type": "code",
   "execution_count": 19,
   "id": "d4ff4309-c893-410d-af06-494ec57a45f2",
   "metadata": {},
   "outputs": [
    {
     "data": {
      "text/plain": [
       "array(['MEMBER_GENDER', 'MEMBER_STATE', 'MEMBER_CONTACT_VERIFIED',\n",
       "       'FUND_TOTAL_ASSETS', 'FUND_RETURN_TARGET_PERCENTAGE',\n",
       "       'INVESTMENT_RISK_CATEGORY', 'CASH_BENCHMARK_ALLOCATION',\n",
       "       'FIXED_INCOME_BENCHMARK_ALLOCATION',\n",
       "       'DOMESTIC_LISTED_EQUITY_BENCHMARK_ALLOCATION',\n",
       "       'INTERNATIONAL_LISTED_EQUITY_BENCHMARK_ALLOCATION',\n",
       "       'UNLISTED_EQUITY_BENCHMARK_ALLOCATION',\n",
       "       'EQUITY_BENCHMARK_ALLOCATION', 'PROPERTY_BENCHMARK_ALLOCATION',\n",
       "       'INFRA_BENCHMARK_ALLOCATION', 'COMMODITIES_BENCHMARK_ALLOCATION',\n",
       "       'OTHERS_BENCHMARK_ALLOCATION', 'FUND_RISK_LEVEL',\n",
       "       'FUND_RISK_CATEGORY', 'NEG_NETRETURN_SINCE_INCEPTION',\n",
       "       'YEAR_1_RETURNS', 'YEAR_3_RETURNS', 'YEAR_5_RETURNS',\n",
       "       'YEAR_7_RETURNS', 'YEAR_10_RETURNS', 'SUPER_FEES', 'PENSION_FEES',\n",
       "       'INVESTMENT_AGE_GROUP', 'RETIREMENT_AGE_GROUP',\n",
       "       'TOTAL_FUNDS_INVESTED'], dtype=object)"
      ]
     },
     "execution_count": 19,
     "metadata": {},
     "output_type": "execute_result"
    }
   ],
   "source": [
    "churn_model.feature_names_in_"
   ]
  },
  {
   "cell_type": "code",
   "execution_count": 20,
   "id": "a13e6fd1-b416-427b-9984-511032fcc76f",
   "metadata": {},
   "outputs": [],
   "source": [
    "y_train = y_train.to_frame()\n",
    "y_test = y_test.to_frame()\n",
    "y_pred = y_pred.to_frame()\n",
    "y_prob = y_prob.to_frame()"
   ]
  },
  {
   "cell_type": "code",
   "execution_count": 21,
   "id": "26108205-0b73-45b4-9318-261fbff4753a",
   "metadata": {
    "scrolled": true
   },
   "outputs": [
    {
     "data": {
      "text/plain": [
       "(pandas.core.frame.DataFrame,\n",
       " pandas.core.frame.DataFrame,\n",
       " pandas.core.frame.DataFrame,\n",
       " pandas.core.frame.DataFrame,\n",
       " pandas.core.frame.DataFrame)"
      ]
     },
     "execution_count": 21,
     "metadata": {},
     "output_type": "execute_result"
    }
   ],
   "source": [
    "type(X_train), type(X_test),type(y_train), type(y_test), type(y_pred)"
   ]
  },
  {
   "cell_type": "code",
   "execution_count": 25,
   "id": "3871b36d-ff77-43ab-91cf-efaab48e8d8c",
   "metadata": {},
   "outputs": [
    {
     "name": "stdout",
     "output_type": "stream",
     "text": [
      "       Probability\n",
      "0           0.9325\n",
      "1           0.0000\n",
      "2           0.0000\n",
      "3           0.9136\n",
      "4           0.0000\n",
      "...            ...\n",
      "67195       0.1889\n",
      "67196       0.5841\n",
      "67197       0.7707\n",
      "67198       0.0000\n",
      "67199       0.0000\n",
      "\n",
      "[67200 rows x 1 columns]\n",
      "> \u001b[0;32m/notebooks/notebooks/fosforml/model_manager/model_registry.py\u001b[0m(54)\u001b[0;36mregister_model\u001b[0;34m()\u001b[0m\n",
      "\u001b[0;32m     52 \u001b[0;31m        \u001b[0;32mimport\u001b[0m \u001b[0mpdb\u001b[0m\u001b[0;34m\u001b[0m\u001b[0;34m\u001b[0m\u001b[0m\n",
      "\u001b[0m\u001b[0;32m     53 \u001b[0;31m        \u001b[0mpdb\u001b[0m\u001b[0;34m.\u001b[0m\u001b[0mset_trace\u001b[0m\u001b[0;34m(\u001b[0m\u001b[0;34m)\u001b[0m\u001b[0;34m\u001b[0m\u001b[0;34m\u001b[0m\u001b[0m\n",
      "\u001b[0m\u001b[0;32m---> 54 \u001b[0;31m        metrics_errors,metrics = self.get_model_metrics(\n",
      "\u001b[0m\u001b[0;32m     55 \u001b[0;31m                                        \u001b[0msource\u001b[0m\u001b[0;34m=\u001b[0m\u001b[0msource\u001b[0m\u001b[0;34m,\u001b[0m\u001b[0;34m\u001b[0m\u001b[0;34m\u001b[0m\u001b[0m\n",
      "\u001b[0m\u001b[0;32m     56 \u001b[0;31m                                        \u001b[0mmodel\u001b[0m\u001b[0;34m=\u001b[0m\u001b[0mmodel\u001b[0m\u001b[0;34m,\u001b[0m\u001b[0;34m\u001b[0m\u001b[0;34m\u001b[0m\u001b[0m\n",
      "\u001b[0m\n"
     ]
    },
    {
     "name": "stdin",
     "output_type": "stream",
     "text": [
      "ipdb>  c\n"
     ]
    },
    {
     "name": "stdout",
     "output_type": "stream",
     "text": [
      "> \u001b[0;32m/notebooks/notebooks/fosforml/model_manager/model_registry.py\u001b[0m(543)\u001b[0;36mget_dataset_details\u001b[0;34m()\u001b[0m\n",
      "\u001b[0;32m    541 \u001b[0;31m                    \u001b[0;32mimport\u001b[0m \u001b[0mpdb\u001b[0m\u001b[0;34m\u001b[0m\u001b[0;34m\u001b[0m\u001b[0m\n",
      "\u001b[0m\u001b[0;32m    542 \u001b[0;31m                    \u001b[0mpdb\u001b[0m\u001b[0;34m.\u001b[0m\u001b[0mset_trace\u001b[0m\u001b[0;34m(\u001b[0m\u001b[0;34m)\u001b[0m\u001b[0;34m\u001b[0m\u001b[0;34m\u001b[0m\u001b[0m\n",
      "\u001b[0m\u001b[0;32m--> 543 \u001b[0;31m                    model_artifacts = load_model_artifacts(\n",
      "\u001b[0m\u001b[0;32m    544 \u001b[0;31m                                                        \u001b[0msession\u001b[0m\u001b[0;34m=\u001b[0m\u001b[0msession\u001b[0m\u001b[0;34m,\u001b[0m\u001b[0;34m\u001b[0m\u001b[0;34m\u001b[0m\u001b[0m\n",
      "\u001b[0m\u001b[0;32m    545 \u001b[0;31m                                                        \u001b[0mmodel_type\u001b[0m\u001b[0;34m=\u001b[0m\u001b[0mmodel_type\u001b[0m\u001b[0;34m,\u001b[0m\u001b[0;34m\u001b[0m\u001b[0;34m\u001b[0m\u001b[0m\n",
      "\u001b[0m\n"
     ]
    },
    {
     "name": "stdin",
     "output_type": "stream",
     "text": [
      "ipdb>  c\n"
     ]
    },
    {
     "name": "stdout",
     "output_type": "stream",
     "text": [
      "> \u001b[0;32m/notebooks/notebooks/fosforml/utils.py\u001b[0m(199)\u001b[0;36mload_model_artifacts\u001b[0;34m()\u001b[0m\n",
      "\u001b[0;32m    197 \u001b[0;31m    \u001b[0;32mimport\u001b[0m \u001b[0mpdb\u001b[0m\u001b[0;34m\u001b[0m\u001b[0;34m\u001b[0m\u001b[0m\n",
      "\u001b[0m\u001b[0;32m    198 \u001b[0;31m    \u001b[0mpdb\u001b[0m\u001b[0;34m.\u001b[0m\u001b[0mset_trace\u001b[0m\u001b[0;34m(\u001b[0m\u001b[0;34m)\u001b[0m\u001b[0;34m\u001b[0m\u001b[0;34m\u001b[0m\u001b[0m\n",
      "\u001b[0m\u001b[0;32m--> 199 \u001b[0;31m    \u001b[0;32mfrom\u001b[0m \u001b[0mfosforml\u001b[0m\u001b[0;34m.\u001b[0m\u001b[0mmodel_manager\u001b[0m \u001b[0;32mimport\u001b[0m \u001b[0mModelObject\u001b[0m\u001b[0;34m\u001b[0m\u001b[0;34m\u001b[0m\u001b[0m\n",
      "\u001b[0m\u001b[0;32m    200 \u001b[0;31m    model_instance = ModelObject(model_obj,\n",
      "\u001b[0m\u001b[0;32m    201 \u001b[0;31m                                \u001b[0mmodel_type\u001b[0m\u001b[0;34m,\u001b[0m\u001b[0;34m\u001b[0m\u001b[0;34m\u001b[0m\u001b[0m\n",
      "\u001b[0m\n"
     ]
    },
    {
     "name": "stdin",
     "output_type": "stream",
     "text": [
      "ipdb>  c\n"
     ]
    },
    {
     "name": "stdout",
     "output_type": "stream",
     "text": [
      "> \u001b[0;32m/notebooks/notebooks/fosforml/model_manager/model.py\u001b[0m(14)\u001b[0;36mget_model_artifacts\u001b[0;34m()\u001b[0m\n",
      "\u001b[0;32m     12 \u001b[0;31m        \u001b[0;32mimport\u001b[0m \u001b[0mpdb\u001b[0m\u001b[0;34m\u001b[0m\u001b[0;34m\u001b[0m\u001b[0m\n",
      "\u001b[0m\u001b[0;32m     13 \u001b[0;31m        \u001b[0mpdb\u001b[0m\u001b[0;34m.\u001b[0m\u001b[0mset_trace\u001b[0m\u001b[0;34m(\u001b[0m\u001b[0;34m)\u001b[0m\u001b[0;34m\u001b[0m\u001b[0;34m\u001b[0m\u001b[0m\n",
      "\u001b[0m\u001b[0;32m---> 14 \u001b[0;31m        \u001b[0mmodel_artifacts\u001b[0m \u001b[0;34m=\u001b[0m \u001b[0;34m{\u001b[0m\u001b[0;34m}\u001b[0m\u001b[0;34m\u001b[0m\u001b[0;34m\u001b[0m\u001b[0m\n",
      "\u001b[0m\u001b[0;32m     15 \u001b[0;31m        \u001b[0mnew_model_object\u001b[0m \u001b[0;34m=\u001b[0m \u001b[0mself\u001b[0m\u001b[0;34m.\u001b[0m\u001b[0mget_model_object\u001b[0m\u001b[0;34m(\u001b[0m\u001b[0;34m)\u001b[0m\u001b[0;34m\u001b[0m\u001b[0;34m\u001b[0m\u001b[0m\n",
      "\u001b[0m\u001b[0;32m     16 \u001b[0;31m        \u001b[0mmodel_artifacts\u001b[0m\u001b[0;34m[\u001b[0m\u001b[0;34m'model_obj'\u001b[0m\u001b[0;34m]\u001b[0m \u001b[0;34m=\u001b[0m \u001b[0mnew_model_object\u001b[0m\u001b[0;34m\u001b[0m\u001b[0;34m\u001b[0m\u001b[0m\n",
      "\u001b[0m\n"
     ]
    },
    {
     "name": "stdin",
     "output_type": "stream",
     "text": [
      "ipdb>  c\n"
     ]
    },
    {
     "name": "stdout",
     "output_type": "stream",
     "text": [
      "> \u001b[0;32m/notebooks/notebooks/fosforml/model_manager/model.py\u001b[0m(24)\u001b[0;36mget_hyper_parameters\u001b[0;34m()\u001b[0m\n",
      "\u001b[0;32m     22 \u001b[0;31m        \u001b[0;32mimport\u001b[0m \u001b[0mpdb\u001b[0m\u001b[0;34m\u001b[0m\u001b[0;34m\u001b[0m\u001b[0m\n",
      "\u001b[0m\u001b[0;32m     23 \u001b[0;31m        \u001b[0mpdb\u001b[0m\u001b[0;34m.\u001b[0m\u001b[0mset_trace\u001b[0m\u001b[0;34m(\u001b[0m\u001b[0;34m)\u001b[0m\u001b[0;34m\u001b[0m\u001b[0;34m\u001b[0m\u001b[0m\n",
      "\u001b[0m\u001b[0;32m---> 24 \u001b[0;31m        \u001b[0;32mtry\u001b[0m\u001b[0;34m:\u001b[0m\u001b[0;34m\u001b[0m\u001b[0;34m\u001b[0m\u001b[0m\n",
      "\u001b[0m\u001b[0;32m     25 \u001b[0;31m            \u001b[0mhyper_parameters\u001b[0m \u001b[0;34m=\u001b[0m \u001b[0mnew_model_object\u001b[0m\u001b[0;34m.\u001b[0m\u001b[0mget_params\u001b[0m\u001b[0;34m(\u001b[0m\u001b[0;34m)\u001b[0m\u001b[0;34m\u001b[0m\u001b[0;34m\u001b[0m\u001b[0m\n",
      "\u001b[0m\u001b[0;32m     26 \u001b[0;31m            \u001b[0mupdated_hp\u001b[0m \u001b[0;34m=\u001b[0m \u001b[0;34m{\u001b[0m\u001b[0mkey\u001b[0m\u001b[0;34m:\u001b[0m\u001b[0meval\u001b[0m\u001b[0;34m(\u001b[0m\u001b[0mstr\u001b[0m\u001b[0;34m(\u001b[0m\u001b[0;34mf'\"{value}\"'\u001b[0m\u001b[0;34m)\u001b[0m\u001b[0;34m)\u001b[0m \u001b[0;32mif\u001b[0m \u001b[0;32mnot\u001b[0m \u001b[0mvalue\u001b[0m\u001b[0;34m==\u001b[0m\u001b[0;32mNone\u001b[0m \u001b[0;32melse\u001b[0m \u001b[0mvalue\u001b[0m \u001b[0;32mfor\u001b[0m \u001b[0;34m(\u001b[0m\u001b[0mkey\u001b[0m\u001b[0;34m,\u001b[0m\u001b[0mvalue\u001b[0m\u001b[0;34m)\u001b[0m \u001b[0;32min\u001b[0m \u001b[0mhyper_parameters\u001b[0m\u001b[0;34m.\u001b[0m\u001b[0mitems\u001b[0m\u001b[0;34m(\u001b[0m\u001b[0;34m)\u001b[0m\u001b[0;34m}\u001b[0m\u001b[0;34m\u001b[0m\u001b[0;34m\u001b[0m\u001b[0m\n",
      "\u001b[0m\n"
     ]
    },
    {
     "name": "stdin",
     "output_type": "stream",
     "text": [
      "ipdb>  c\n"
     ]
    },
    {
     "name": "stderr",
     "output_type": "stream",
     "text": [
      "WARNING:snowflake.snowpark._internal.udf_utils:Got error object of type 'NoneType' has no len() when trying to read default values from function: <class 'snowflake.ml.modeling.metrics.classification._register_confusion_matrix_computer.<locals>.ConfusionMatrixComputer'>. Proceeding without creating optional arguments\n",
      "WARNING:snowflake.snowpark._internal.udf_utils:Got error object of type 'NoneType' has no len() when trying to read default values from function: <class 'snowflake.ml.modeling.metrics.metrics_utils.register_accumulator_udtf.<locals>.Accumulator'>. Proceeding without creating optional arguments\n"
     ]
    },
    {
     "name": "stdout",
     "output_type": "stream",
     "text": [
      "Calculating build time metrics\n",
      "\n",
      "Progress: ██████████████                                                         20.0%\n",
      "Calculating build time metrics\n",
      "\n",
      "Progress: ████████████████████████████                                           40.0%\n",
      "(0000) pos_label=1 is not a valid label. It must be one of ['N', 'Y']\n",
      "(0000) pos_label=1 is not a valid label. It must be one of ['N', 'Y']\n",
      "(0000) pos_label=1 is not a valid label. It must be one of ['N', 'Y']\n"
     ]
    },
    {
     "name": "stderr",
     "output_type": "stream",
     "text": [
      "WARNING:snowflake.snowpark._internal.udf_utils:Got error object of type 'NoneType' has no len() when trying to read default values from function: <function roc_auc_score.<locals>.roc_auc_score_anon_sproc at 0x7ff42a086280>. Proceeding without creating optional arguments\n"
     ]
    },
    {
     "name": "stdout",
     "output_type": "stream",
     "text": [
      "(1300) (1304): 01b6c20f-070d-e96d-0072-f303106beca6: 100038 (22018): Numeric value 'Y' is not recognized\n",
      "Calculating build time metrics\n",
      "\n",
      "Progress: ██████████████████████████████████████████                             60.0%\n"
     ]
    },
    {
     "name": "stderr",
     "output_type": "stream",
     "text": [
      "WARNING:snowflake.snowpark.session:The version of package 'scikit-learn' in the local environment is 1.3.2, which does not fit the criteria for the requirement 'scikit-learn==1.3.*'. Your UDF might not work when the package version is different between the server and your local environment.\n",
      "WARNING:snowflake.snowpark.session:The version of package 'snowflake-snowpark-python' in the local environment is 1.21.0, which does not fit the criteria for the requirement 'snowflake-snowpark-python'. Your UDF might not work when the package version is different between the server and your local environment.\n"
     ]
    },
    {
     "name": "stdout",
     "output_type": "stream",
     "text": [
      "Error in while calculating roc_auc \n",
      "Calculating build time metrics\n",
      "\n",
      "Progress: ████████████████████████████████████████████████████████               80.0%\n",
      "Error in while calculating feature_importance \n",
      "Calculating build time metrics\n",
      "\n",
      "Progress: ██████████████████████████████████████████████████████████████████████ 100.0%\n",
      "model dataset upload failed, error: (2101) Dataset INSIGHT_DESIGNER_SPCS.INSIGHT_SPCS_SCHEMA.MODEL_738E8045_9A80_436D_B538_2A8EED5DF879_FDC_CHURN_BINARY_MODEL_v3 does not exist or is inaccessible.\n",
      "Failed to set tags for model MODEL_738E8045_9A80_436D_B538_2A8EED5DF879_FDC_CHURN_BINARY_MODEL.\n",
      "(1300) (1304): 01b6c20f-070d-ea00-0072-f303106c00d6: 003001 (42501): SQL access control error:\n",
      "Insufficient privileges to operate on tag 'FLAVOR'\n"
     ]
    },
    {
     "data": {
      "text/plain": [
       "\"Model 'MODEL_738E8045_9A80_436D_B538_2A8EED5DF879_FDC_CHURN_BINARY_MODEL' registered successfully.\""
      ]
     },
     "execution_count": 25,
     "metadata": {},
     "output_type": "execute_result"
    }
   ],
   "source": [
    "register_model(\n",
    "    model_obj=churn_model, \n",
    "    session=my_session,\n",
    "    x_train=X_train,\n",
    "    y_train=y_train,\n",
    "    x_test=X_test,\n",
    "    y_test=y_test,\n",
    "    y_pred=y_pred,\n",
    "    y_prob = y_prob,\n",
    "    source=\"Notebook\",\n",
    "    dataset_name=\"MEMBER_FUNDS_ENRICHED_DETAILS\",\n",
    "    dataset_source=\"Snowflake\",\n",
    "    #dataset_source=\"InMemory\",\n",
    "    name=\"CHURN_BINARY_MODEL\",\n",
    "    description=\"PREDICTING_FUND_CHURN\",\n",
    "    flavour=\"sklearn\",\n",
    "    model_type=\"classification\",\n",
    "    conda_dependencies=[\"scikit-learn==1.3.2\"]\n",
    ")\n",
    "\n",
    "# register_model(\n",
    "#   model_obj=churn_model,\n",
    "#   session=my_session,\n",
    "#   x_train=X_train,\n",
    "#   y_train=y_train,\n",
    "#   x_test=X_test,\n",
    "#   y_test=y_test,\n",
    "#   y_pred=y_pred,\n",
    "#   y_prob=y_prob,\n",
    "#   source=\"NOTEBOOK\",\n",
    "#   dataset_name=\"MEMBER_FUNDS_ENRICHED_DETAILS\",\n",
    "#   dataset_source=\"InMemory\",\n",
    "#   name=\"CHURN_BINARY_MODEL\",\n",
    "#   description=\"PREDICTING_FUND_CHURN\",\n",
    "#   flavour=\"sklearn\",\n",
    "#   model_type=\"classification\",\n",
    "#   conda_dependencies=[\"scikit-learn==1.3.2\"]\n",
    "# )"
   ]
  },
  {
   "cell_type": "code",
   "execution_count": 22,
   "id": "289efade-d0a1-43e3-99a0-271cc7581ba6",
   "metadata": {},
   "outputs": [
    {
     "data": {
      "text/html": [
       "<div>\n",
       "<style scoped>\n",
       "    .dataframe tbody tr th:only-of-type {\n",
       "        vertical-align: middle;\n",
       "    }\n",
       "\n",
       "    .dataframe tbody tr th {\n",
       "        vertical-align: top;\n",
       "    }\n",
       "\n",
       "    .dataframe thead th {\n",
       "        text-align: right;\n",
       "    }\n",
       "</style>\n",
       "<table border=\"1\" class=\"dataframe\">\n",
       "  <thead>\n",
       "    <tr style=\"text-align: right;\">\n",
       "      <th></th>\n",
       "      <th>Probability</th>\n",
       "    </tr>\n",
       "  </thead>\n",
       "  <tbody>\n",
       "    <tr>\n",
       "      <th>0</th>\n",
       "      <td>0.9325</td>\n",
       "    </tr>\n",
       "    <tr>\n",
       "      <th>1</th>\n",
       "      <td>0.0000</td>\n",
       "    </tr>\n",
       "    <tr>\n",
       "      <th>2</th>\n",
       "      <td>0.0000</td>\n",
       "    </tr>\n",
       "    <tr>\n",
       "      <th>3</th>\n",
       "      <td>0.9136</td>\n",
       "    </tr>\n",
       "    <tr>\n",
       "      <th>4</th>\n",
       "      <td>0.0000</td>\n",
       "    </tr>\n",
       "    <tr>\n",
       "      <th>...</th>\n",
       "      <td>...</td>\n",
       "    </tr>\n",
       "    <tr>\n",
       "      <th>67195</th>\n",
       "      <td>0.1889</td>\n",
       "    </tr>\n",
       "    <tr>\n",
       "      <th>67196</th>\n",
       "      <td>0.5841</td>\n",
       "    </tr>\n",
       "    <tr>\n",
       "      <th>67197</th>\n",
       "      <td>0.7707</td>\n",
       "    </tr>\n",
       "    <tr>\n",
       "      <th>67198</th>\n",
       "      <td>0.0000</td>\n",
       "    </tr>\n",
       "    <tr>\n",
       "      <th>67199</th>\n",
       "      <td>0.0000</td>\n",
       "    </tr>\n",
       "  </tbody>\n",
       "</table>\n",
       "<p>67200 rows × 1 columns</p>\n",
       "</div>"
      ],
      "text/plain": [
       "       Probability\n",
       "0           0.9325\n",
       "1           0.0000\n",
       "2           0.0000\n",
       "3           0.9136\n",
       "4           0.0000\n",
       "...            ...\n",
       "67195       0.1889\n",
       "67196       0.5841\n",
       "67197       0.7707\n",
       "67198       0.0000\n",
       "67199       0.0000\n",
       "\n",
       "[67200 rows x 1 columns]"
      ]
     },
     "execution_count": 22,
     "metadata": {},
     "output_type": "execute_result"
    }
   ],
   "source": [
    "y_prob"
   ]
  },
  {
   "cell_type": "code",
   "execution_count": null,
   "id": "d9f8b631-f29e-4afd-aabd-ce4c0dd299f7",
   "metadata": {},
   "outputs": [],
   "source": []
  },
  {
   "cell_type": "code",
   "execution_count": null,
   "id": "d4fee74c",
   "metadata": {},
   "outputs": [],
   "source": [
    "model_reg = register_model(churn_model,\n",
    "                           score, \n",
    "                           name=\"CHURN_BINARY_MODEL\", \n",
    "               description=\"PREDICTING_FUND_CHURN\",\n",
    "               flavour=MLModelFlavours.sklearn,\n",
    "               model_type=\"classification\",\n",
    "               init_script=\"\\\\n pip install --q fosforml==1.0.1b1\",\n",
    "               y_true=y_test,\n",
    "               y_pred=y_pred,\n",
    "               prob=y_prob,\n",
    "               features=X_train.columns,\n",
    "               input_type=\"json\", \n",
    "               explain_ai=True,\n",
    "               x_train=X_train, \n",
    "               x_test=X_test, \n",
    "               y_train=y_train,\n",
    "               y_test=y_test,\n",
    "               feature_names=X_train.columns.tolist(),\n",
    "               original_features=X_train.columns.tolist(),\n",
    "               feature_ids=X_train.columns,\n",
    "               kyd=True, kyd_score = True)"
   ]
  },
  {
   "cell_type": "markdown",
   "id": "e3964e08",
   "metadata": {},
   "source": [
    "# CHURN REASON MODEL"
   ]
  },
  {
   "cell_type": "code",
   "execution_count": null,
   "id": "769185ac",
   "metadata": {},
   "outputs": [],
   "source": [
    "with open('reason_model.pkl','rb') as f:  ## use rb while reading the fie\n",
    "    reason_model = pickle.load(f)"
   ]
  },
  {
   "cell_type": "code",
   "execution_count": null,
   "id": "e08963d9",
   "metadata": {},
   "outputs": [],
   "source": [
    "churned = df[df[\"CHURN_FLAG\"] == \"Y\"]"
   ]
  },
  {
   "cell_type": "code",
   "execution_count": null,
   "id": "34cc87d7",
   "metadata": {},
   "outputs": [],
   "source": [
    "r2id = {'NO REASON IDENTIFIED': 0,\n",
    " 'HIGH ACCOUNT FEE': 1,\n",
    " 'POOR FUND PERFORMANCE': 2,\n",
    " 'HIGH TRANSACTION FEE': 3,\n",
    " 'FUND REPUTATION DECLINING': 4,\n",
    " 'LIFE EVENT': 5}\n",
    "id2r = {v:k for k, v in r2id.items()}\n",
    "id2r"
   ]
  },
  {
   "cell_type": "code",
   "execution_count": null,
   "id": "6ca2ce3a",
   "metadata": {},
   "outputs": [],
   "source": [
    "@scoring_func\n",
    "def score(model, request):\n",
    "    payload_dict = eval(request.json[\"payload\"])\n",
    "    data = pd.DataFrame.from_dict(payload_dict)\n",
    "    frame = data[['MEMBER_GENDER', 'MEMBER_STATE', 'MEMBER_CONTACT_VERIFIED','FUND_TOTAL_ASSETS','FUND_RETURN_TARGET_PERCENTAGE',\n",
    "            'INVESTMENT_RISK_CATEGORY', 'CASH_BENCHMARK_ALLOCATION','FIXED_INCOME_BENCHMARK_ALLOCATION',\n",
    "            'DOMESTIC_LISTED_EQUITY_BENCHMARK_ALLOCATION','INTERNATIONAL_LISTED_EQUITY_BENCHMARK_ALLOCATION',\n",
    "            'UNLISTED_EQUITY_BENCHMARK_ALLOCATION', 'EQUITY_BENCHMARK_ALLOCATION','PROPERTY_BENCHMARK_ALLOCATION',\n",
    "            'INFRA_BENCHMARK_ALLOCATION','COMMODITIES_BENCHMARK_ALLOCATION', 'OTHERS_BENCHMARK_ALLOCATION','FUND_RISK_LEVEL', \n",
    "            'FUND_RISK_CATEGORY','NEG_NETRETURN_SINCE_INCEPTION', 'YEAR_1_RETURNS', 'YEAR_3_RETURNS','YEAR_5_RETURNS',\n",
    "            'YEAR_7_RETURNS','YEAR_10_RETURNS', 'SUPER_FEES','PENSION_FEES',\n",
    "            'INVESTMENT_AGE_GROUP', 'RETIREMENT_AGE_GROUP', 'TOTAL_FUNDS_INVESTED']].copy()\n",
    "    id2r = {0: 'NO REASON IDENTIFIED',\n",
    "             1: 'HIGH ACCOUNT FEE',\n",
    "             2: 'POOR FUND PERFORMANCE',\n",
    "             3: 'HIGH TRANSACTION FEE',\n",
    "             4: 'FUND REPUTATION DECLINING',\n",
    "             5: 'LIFE EVENT'}\n",
    "    result = model.predict(frame)\n",
    "    prediction = pd.DataFrame({\"REASON_PREDICTION\":result})\n",
    "    prediction[\"REASON_PREDICTION\"] = prediction[\"REASON_PREDICTION\"].apply(lambda x: id2r[x])\n",
    "    prediction = str(prediction.to_dict())\n",
    "    return prediction"
   ]
  },
  {
   "cell_type": "code",
   "execution_count": null,
   "id": "d918a9dc",
   "metadata": {},
   "outputs": [],
   "source": [
    "payload = churned.head(10).to_dict()\n",
    "req = requests.Request()\n",
    "req.json = {\"payload\":str(payload)}\n",
    "y = req\n",
    "yo = score(reason_model, y)\n",
    "yo"
   ]
  },
  {
   "cell_type": "code",
   "execution_count": null,
   "id": "14ac9d95",
   "metadata": {},
   "outputs": [],
   "source": [
    "\n",
    "X = churned.drop(\"CHURN_REASON\", axis=1)\n",
    "y = churned[\"CHURN_REASON\"]\n",
    "\n",
    "X_train, X_test, y_train, y_test = train_test_split(X, y, test_size=0.2, random_state=0)"
   ]
  },
  {
   "cell_type": "code",
   "execution_count": null,
   "id": "a1bc3fa5",
   "metadata": {},
   "outputs": [],
   "source": [
    "payload = X_test.to_dict()\n",
    "req = requests.Request()\n",
    "req.json = {\"payload\":str(payload)}\n",
    "y = req\n",
    "pred_dic = score(reason_model, y)"
   ]
  },
  {
   "cell_type": "code",
   "execution_count": null,
   "id": "80a7225c",
   "metadata": {},
   "outputs": [],
   "source": [
    "temp_ = eval(pred_dic)\n",
    "print(\"string to dict\")\n",
    "pred = pd.DataFrame.from_dict(temp_)"
   ]
  },
  {
   "cell_type": "code",
   "execution_count": null,
   "id": "41cf61f9",
   "metadata": {},
   "outputs": [],
   "source": [
    "y_pred = pred[\"REASON_PREDICTION\"]\n",
    "# y_prob = pred[\"Probability\"]"
   ]
  },
  {
   "cell_type": "code",
   "execution_count": null,
   "id": "c47b3d3b",
   "metadata": {},
   "outputs": [],
   "source": [
    "y_prob = reason_model.predict_proba(X_test)"
   ]
  },
  {
   "cell_type": "code",
   "execution_count": null,
   "id": "4e4b2598",
   "metadata": {},
   "outputs": [],
   "source": [
    "y_test"
   ]
  },
  {
   "cell_type": "code",
   "execution_count": null,
   "id": "945f6233",
   "metadata": {},
   "outputs": [],
   "source": [
    "y_pred"
   ]
  },
  {
   "cell_type": "code",
   "execution_count": null,
   "id": "6e1b0e48",
   "metadata": {},
   "outputs": [],
   "source": [
    "## registering the model in Fosfor.\n",
    "model_reg = register_model(reason_model,\n",
    "               score, \n",
    "               name=\"CHURN_REASON_MODEL\", \n",
    "               description=\"PREDICTING_FUND_CHURN_REASON\",\n",
    "               flavour=MLModelFlavours.sklearn,\n",
    "               model_type=\"classification\",\n",
    "               init_script=\"\\\\n pip install --q fosforml==1.0.1b1\",\n",
    "               y_true=y_test,\n",
    "               y_pred=y_pred,\n",
    "               prob=y_prob,\n",
    "               features=X_train.columns,\n",
    "               input_type=\"json\", \n",
    "               explain_ai=True,\n",
    "               x_train=X_train, \n",
    "               x_test=X_test, \n",
    "               y_train=y_train,\n",
    "               y_test=y_test,\n",
    "               feature_names=X_train.columns.tolist(),\n",
    "               original_features=X_train.columns.tolist(),\n",
    "               feature_ids=X_train.columns,\n",
    "               kyd=True, kyd_score = True)"
   ]
  }
 ],
 "metadata": {
  "kernelspec": {
   "display_name": "Python 3 (ipykernel)",
   "language": "python",
   "name": "python3"
  },
  "language_info": {
   "codemirror_mode": {
    "name": "ipython",
    "version": 3
   },
   "file_extension": ".py",
   "mimetype": "text/x-python",
   "name": "python",
   "nbconvert_exporter": "python",
   "pygments_lexer": "ipython3",
   "version": "3.9.19"
  }
 },
 "nbformat": 4,
 "nbformat_minor": 5
}
