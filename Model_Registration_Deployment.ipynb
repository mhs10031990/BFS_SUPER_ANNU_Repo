{
 "cells": [
  {
   "cell_type": "code",
   "execution_count": 1,
   "id": "b2a012e3",
   "metadata": {
    "scrolled": true
   },
   "outputs": [],
   "source": [
    "# !pip install --q fosforml==1.0.1b1\n",
    "# !pip install snowflake-connector-python[pandas]\n",
    "# !pip install snowflake-snowpark-python[pandas]\n",
    "# !pip install fosforio[snowflake]"
   ]
  },
  {
   "cell_type": "code",
   "execution_count": 3,
   "id": "9878369d",
   "metadata": {},
   "outputs": [
    {
     "name": "stdout",
     "output_type": "stream",
     "text": [
      "aiohttp==3.9.3\r\n",
      "aiosignal==1.3.1\r\n",
      "alembic==1.13.1\r\n",
      "anyio==4.2.0\r\n",
      "archspec==0.2.1\r\n",
      "argon2-cffi==23.1.0\r\n",
      "argon2-cffi-bindings==21.2.0\r\n",
      "asn1crypto==1.5.1\r\n",
      "asttokens==2.4.1\r\n",
      "async-generator==1.10\r\n",
      "async-timeout==4.0.3\r\n",
      "attrs==23.2.0\r\n",
      "Babel==2.14.0\r\n",
      "beautifulsoup4==4.12.3\r\n",
      "bleach==4.1.0\r\n",
      "boltons==23.0.0\r\n",
      "bqplot==0.12.42\r\n",
      "Brotli==1.0.9\r\n",
      "certifi==2024.7.4\r\n",
      "certipy==0.1.3\r\n",
      "cffi==1.17.0\r\n",
      "charset-normalizer==3.3.2\r\n",
      "click==8.1.7\r\n",
      "clickclick==20.10.2\r\n",
      "cloudpickle==3.0.0\r\n",
      "comm==0.2.1\r\n",
      "conda==23.11.0\r\n",
      "conda-content-trust==0.1.3\r\n",
      "conda-libmamba-solver==23.12.0\r\n",
      "conda-package-handling==2.2.0\r\n",
      "conda-package-streaming==0.9.0\r\n",
      "configparser==7.0.0\r\n",
      "connexion==2.6.0\r\n",
      "contourpy==1.2.0\r\n",
      "cryptography==42.0.8\r\n",
      "cycler==0.12.1\r\n",
      "Cython==0.29.15\r\n",
      "decorator==5.1.1\r\n",
      "defusedxml==0.7.1\r\n",
      "dill==0.3.8\r\n",
      "distro==1.8.0\r\n",
      "ds-lime==0.1.1.27\r\n",
      "entrypoints==0.4\r\n",
      "exceptiongroup==1.2.0\r\n",
      "executing==2.0.1\r\n",
      "fastjsonschema==2.19.1\r\n",
      "filelock==3.15.4\r\n",
      "flasgger==0.9.5\r\n",
      "Flask==2.2.5\r\n",
      "fonttools==4.47.2\r\n",
      "fosforio==1.0.1\r\n",
      "fosforml==1.0.1\r\n",
      "frozenlist==1.4.1\r\n",
      "greenlet==3.0.3\r\n",
      "gunicorn==19.9.0\r\n",
      "idna==3.7\r\n",
      "importlib-metadata==7.0.1\r\n",
      "importlib-resources==5.4.0\r\n",
      "inflection==0.5.1\r\n",
      "ipykernel==5.5.5\r\n",
      "ipython==8.18.1\r\n",
      "ipython-genutils==0.2.0\r\n",
      "ipywidgets==8.0.4\r\n",
      "itsdangerous==2.0.1\r\n",
      "jedi==0.19.1\r\n",
      "Jinja2==3.0.3\r\n",
      "joblib==1.4.2\r\n",
      "json5==0.9.14\r\n",
      "jsonpatch==1.32\r\n",
      "jsonpointer==2.1\r\n",
      "jsonschema==4.19.0\r\n",
      "jsonschema-path==0.3.2\r\n",
      "jsonschema-specifications==2023.12.1\r\n",
      "jupyter-client==8.6.0\r\n",
      "jupyter-core==5.7.1\r\n",
      "jupyter-events==0.9.0\r\n",
      "jupyter-lsp==2.2.1\r\n",
      "jupyter-server==2.7.3\r\n",
      "jupyter-server-proxy==4.1.0\r\n",
      "jupyter-server-terminals==0.5.2\r\n",
      "jupyter-telemetry==0.1.0\r\n",
      "jupyterhub==1.5.0\r\n",
      "jupyterlab==3.2.4\r\n",
      "jupyterlab-pygments==0.3.0\r\n",
      "jupyterlab-server==2.25.2\r\n",
      "jupyterlab-widgets==3.0.9\r\n",
      "kiwisolver==1.4.5\r\n",
      "lazy-object-proxy==1.10.0\r\n",
      "libmambapy==1.5.6\r\n",
      "llvmlite==0.41.1\r\n",
      "Mako==1.3.2\r\n",
      "MarkupSafe==2.1.4\r\n",
      "marshmallow==2.19.5\r\n",
      "matplotlib==3.6.0\r\n",
      "matplotlib-inline==0.1.6\r\n",
      "menuinst==2.0.1\r\n",
      "mistune==3.0.2\r\n",
      "mosaic-ai-client==1.0.0\r\n",
      "mosaic-ai-serving==1.0.0\r\n",
      "mosaic-common-utils==1.0.0\r\n",
      "mosaic-utils==1.0.2\r\n",
      "multidict==6.0.4\r\n",
      "multiprocess==0.70.16\r\n",
      "nbclassic==0.5.6\r\n",
      "nbclient==0.5.4\r\n",
      "nbconvert==7.14.2\r\n",
      "nbformat==5.9.2\r\n",
      "nest-asyncio==1.6.0\r\n",
      "notebook==6.4.10\r\n",
      "notebook-shim==0.2.3\r\n",
      "numba==0.58.1\r\n",
      "numpy==2.0.1\r\n",
      "oauthlib==3.2.2\r\n",
      "openapi-schema-validator==0.6.2\r\n",
      "openapi-spec-validator==0.7.1\r\n",
      "overrides==7.7.0\r\n",
      "packaging==24.1\r\n",
      "pamela==1.1.0\r\n",
      "pandas==2.2.2\r\n",
      "pandocfilters==1.5.1\r\n",
      "parso==0.8.3\r\n",
      "pathable==0.4.3\r\n",
      "pexpect==4.9.0\r\n",
      "pillow==10.2.0\r\n",
      "platformdirs==4.2.2\r\n",
      "pluggy==1.0.0\r\n",
      "prometheus-client==0.19.0\r\n",
      "prompt-toolkit==3.0.43\r\n",
      "protobuf==3.20.2\r\n",
      "psycopg2-binary==2.8.6\r\n",
      "ptyprocess==0.7.0\r\n",
      "pure-eval==0.2.2\r\n",
      "pyarrow==17.0.0\r\n",
      "pycosat==0.6.6\r\n",
      "pycparser==2.22\r\n",
      "pygments==2.17.2\r\n",
      "PyJWT==2.9.0\r\n",
      "PyMySQL==1.1.1\r\n",
      "pyOpenSSL==24.2.1\r\n",
      "pyparsing==3.1.1\r\n",
      "PySocks==1.7.1\r\n",
      "python-dateutil==2.9.0.post0\r\n",
      "python-dotenv==0.20.0\r\n",
      "python-json-logger==2.0.7\r\n",
      "pytz==2024.1\r\n",
      "PyYAML==6.0.1\r\n",
      "pyzmq==25.1.2\r\n",
      "referencing==0.33.0\r\n",
      "requests==2.32.3\r\n",
      "requests-toolbelt==1.0.0\r\n",
      "rfc3339-validator==0.1.4\r\n",
      "rfc3986-validator==0.1.1\r\n",
      "rpds-py==0.17.1\r\n",
      "ruamel.yaml==0.16.9\r\n",
      "ruamel.yaml.clib==0.2.6\r\n",
      "scikit-learn==1.5.1\r\n",
      "scipy==1.13.1\r\n",
      "Send2Trash==1.8.2\r\n",
      "shap==0.44.1\r\n",
      "shutils==0.1.0\r\n",
      "simpervisor==1.0.0\r\n",
      "six==1.16.0\r\n",
      "skater==1.0.4\r\n",
      "slicer==0.0.7\r\n",
      "sniffio==1.3.0\r\n",
      "snowflake-connector-python==3.12.0\r\n",
      "snowflake-snowpark-python==1.20.0\r\n",
      "sortedcontainers==2.4.0\r\n",
      "soupsieve==2.5\r\n",
      "SQLAlchemy==1.3.5\r\n",
      "stack-data==0.6.3\r\n",
      "terminado==0.18.0\r\n",
      "threadpoolctl==3.5.0\r\n",
      "tinycss2==1.2.1\r\n",
      "tomlkit==0.13.0\r\n",
      "tornado==6.4\r\n",
      "tqdm==4.65.0\r\n",
      "traitlets==5.9.0\r\n",
      "traittypes==0.2.1\r\n",
      "typing-extensions==4.12.2\r\n",
      "tzdata==2024.1\r\n",
      "urllib3==2.2.1\r\n",
      "uWSGI==2.0.21\r\n",
      "wcwidth==0.2.13\r\n",
      "webencodings==0.5.1\r\n",
      "websocket-client==1.7.0\r\n",
      "werkzeug==3.0.1\r\n",
      "widgetsnbextension==4.0.9\r\n",
      "yarl==1.9.4\r\n",
      "zipp==3.17.0\r\n",
      "zstandard==0.19.0\r\n"
     ]
    }
   ],
   "source": [
    "!pip freeze"
   ]
  },
  {
   "cell_type": "code",
   "execution_count": 2,
   "id": "860ed28c",
   "metadata": {},
   "outputs": [
    {
     "ename": "ModuleNotFoundError",
     "evalue": "No module named 'snowflake.snowpark'",
     "output_type": "error",
     "traceback": [
      "\u001b[0;31m---------------------------------------------------------------------------\u001b[0m",
      "\u001b[0;31mModuleNotFoundError\u001b[0m                       Traceback (most recent call last)",
      "Cell \u001b[0;32mIn[2], line 2\u001b[0m\n\u001b[1;32m      1\u001b[0m \u001b[38;5;66;03m#Snowpark lib\u001b[39;00m\n\u001b[0;32m----> 2\u001b[0m \u001b[38;5;28;01mfrom\u001b[39;00m \u001b[38;5;21;01msnowflake\u001b[39;00m\u001b[38;5;21;01m.\u001b[39;00m\u001b[38;5;21;01msnowpark\u001b[39;00m \u001b[38;5;28;01mimport\u001b[39;00m Session\n\u001b[1;32m      4\u001b[0m \u001b[38;5;66;03m# Data Science Libs\u001b[39;00m\n\u001b[1;32m      5\u001b[0m \u001b[38;5;28;01mimport\u001b[39;00m \u001b[38;5;21;01mnumpy\u001b[39;00m \u001b[38;5;28;01mas\u001b[39;00m \u001b[38;5;21;01mnp\u001b[39;00m\n",
      "\u001b[0;31mModuleNotFoundError\u001b[0m: No module named 'snowflake.snowpark'"
     ]
    }
   ],
   "source": [
    "#Snowpark lib\n",
    "from snowflake.snowpark import Session\n",
    "\n",
    "# Data Science Libs\n",
    "import numpy as np\n",
    "import pandas as pd\n",
    "\n",
    "# create_temp_table warning suppresion\n",
    "import warnings; warnings.simplefilter('ignore')\n",
    "\n",
    "#ConfigParser to read ini file\n",
    "import configparser\n",
    "\n",
    "import numpy as np\n",
    "\n",
    "from sklearn.compose import ColumnTransformer\n",
    "from sklearn.feature_selection import SelectPercentile, chi2\n",
    "from sklearn.impute import SimpleImputer\n",
    "from sklearn.linear_model import LogisticRegression\n",
    "from sklearn.ensemble import RandomForestClassifier\n",
    "from sklearn.model_selection import RandomizedSearchCV, train_test_split\n",
    "from sklearn.pipeline import Pipeline\n",
    "from sklearn.preprocessing import OneHotEncoder, StandardScaler\n",
    "from sklearn.cluster import DBSCAN\n",
    "import pickle\n",
    "\n",
    "from fosforml import *\n",
    "from fosforml import scoring_func, register_model\n",
    "from fosforml.constants import MLModelFlavours\n",
    "import requests\n",
    "\n",
    "np.random.seed(0)\n",
    "\n",
    "config = configparser.ConfigParser()\n",
    "config.read(\"/notebooks/notebooks/credentials.ini\")\n",
    "\n",
    "connection_parameters = {\n",
    "    \"user\": f'{config[\"Snowflake\"][\"user\"]}',\n",
    "    \"password\": f'{config[\"Snowflake\"][\"password\"]}',\n",
    "    \"account\": f'{config[\"Snowflake\"][\"account\"]}',\n",
    "    \"WAREHOUSE\": f'{config[\"Snowflake\"][\"WAREHOUSE\"]}',\n",
    "    \"DATABASE\": f'{config[\"Snowflake\"][\"DATABASE\"]}',\n",
    "    \"SCHEMA\": f'{config[\"Snowflake\"][\"SCHEMA\"]}'\n",
    "}\n",
    "\n",
    "def snowflake_connector(conn):\n",
    "    try:\n",
    "        session = Session.builder.configs(conn).create()\n",
    "        print(\"connection successful!\")\n",
    "    except:\n",
    "        raise ValueError(\"error while connecting with db\")\n",
    "    return session\n",
    "\n",
    "session = snowflake_connector(connection_parameters)"
   ]
  },
  {
   "cell_type": "code",
   "execution_count": 26,
   "id": "03aa460e",
   "metadata": {},
   "outputs": [],
   "source": [
    "with open('churn_model.pkl','rb') as f:  ## use rb while reading the fie\n",
    "    churn_model = pickle.load(f)"
   ]
  },
  {
   "cell_type": "code",
   "execution_count": 27,
   "id": "f29b4866",
   "metadata": {},
   "outputs": [],
   "source": [
    "@scoring_func\n",
    "def score(model, request):\n",
    "    payload_dict = eval(request.json[\"payload\"])\n",
    "    data = pd.DataFrame.from_dict(payload_dict)\n",
    "    frame = data[['MEMBER_GENDER', 'MEMBER_STATE', 'MEMBER_CONTACT_VERIFIED','FUND_TOTAL_ASSETS','FUND_RETURN_TARGET_PERCENTAGE',\n",
    "            'INVESTMENT_RISK_CATEGORY', 'CASH_BENCHMARK_ALLOCATION','FIXED_INCOME_BENCHMARK_ALLOCATION',\n",
    "            'DOMESTIC_LISTED_EQUITY_BENCHMARK_ALLOCATION','INTERNATIONAL_LISTED_EQUITY_BENCHMARK_ALLOCATION',\n",
    "            'UNLISTED_EQUITY_BENCHMARK_ALLOCATION', 'EQUITY_BENCHMARK_ALLOCATION','PROPERTY_BENCHMARK_ALLOCATION',\n",
    "            'INFRA_BENCHMARK_ALLOCATION','COMMODITIES_BENCHMARK_ALLOCATION', 'OTHERS_BENCHMARK_ALLOCATION','FUND_RISK_LEVEL', \n",
    "            'FUND_RISK_CATEGORY','NEG_NETRETURN_SINCE_INCEPTION', 'YEAR_1_RETURNS', 'YEAR_3_RETURNS','YEAR_5_RETURNS',\n",
    "            'YEAR_7_RETURNS','YEAR_10_RETURNS', 'SUPER_FEES','PENSION_FEES',\n",
    "            'INVESTMENT_AGE_GROUP', 'RETIREMENT_AGE_GROUP', 'TOTAL_FUNDS_INVESTED']].copy()\n",
    "    result = model.predict(frame)\n",
    "    prediction = pd.DataFrame({\"CHURN_PREDICTION\":result})\n",
    "    prediction[\"CHURN_PREDICTION\"] = prediction[\"CHURN_PREDICTION\"].apply(lambda x: \"Y\" if x == 1 else \"N\")\n",
    "    probability = model.predict_proba(frame)\n",
    "    prediction[\"Probability\"] = [round(k[1],4) for k in probability]\n",
    "    prediction = str(prediction.to_dict())\n",
    "    return prediction"
   ]
  },
  {
   "cell_type": "code",
   "execution_count": 28,
   "id": "20120f1a",
   "metadata": {},
   "outputs": [],
   "source": [
    "df = session.table(\"MEMBER_FUNDS_ENRICHED_DETAILS\").to_pandas()\n",
    "df = df.drop([\"MEMBER_DOB_DT\", 'ALLOCATION_DT', \"CHURN_DT\", \"RETIREMENT_DT\"], axis =1 )"
   ]
  },
  {
   "cell_type": "code",
   "execution_count": 29,
   "id": "78c23b16",
   "metadata": {},
   "outputs": [
    {
     "data": {
      "text/plain": [
       "\"{'CHURN_PREDICTION': {0: 'N', 1: 'N', 2: 'Y', 3: 'N', 4: 'N', 5: 'N', 6: 'N', 7: 'N', 8: 'N', 9: 'Y'}, 'Probability': {0: 0.3505, 1: 0.3511, 2: 0.5162, 3: 0.2224, 4: 0.2325, 5: 0.2897, 6: 0.3505, 7: 0.2668, 8: 0.2126, 9: 0.5162}}\""
      ]
     },
     "execution_count": 29,
     "metadata": {},
     "output_type": "execute_result"
    }
   ],
   "source": [
    "payload = df.head(10).to_dict()\n",
    "req = requests.Request()\n",
    "req.json = {\"payload\":str(payload)}\n",
    "y = req\n",
    "yo = score(churn_model, y)\n",
    "yo"
   ]
  },
  {
   "cell_type": "code",
   "execution_count": 30,
   "id": "0c94e8f8",
   "metadata": {},
   "outputs": [],
   "source": [
    "frame = df[['MEMBER_GENDER', 'MEMBER_STATE', 'MEMBER_CONTACT_VERIFIED','FUND_TOTAL_ASSETS','FUND_RETURN_TARGET_PERCENTAGE',\n",
    "            'INVESTMENT_RISK_CATEGORY', 'CASH_BENCHMARK_ALLOCATION','FIXED_INCOME_BENCHMARK_ALLOCATION',\n",
    "            'DOMESTIC_LISTED_EQUITY_BENCHMARK_ALLOCATION','INTERNATIONAL_LISTED_EQUITY_BENCHMARK_ALLOCATION',\n",
    "            'UNLISTED_EQUITY_BENCHMARK_ALLOCATION', 'EQUITY_BENCHMARK_ALLOCATION','PROPERTY_BENCHMARK_ALLOCATION',\n",
    "            'INFRA_BENCHMARK_ALLOCATION','COMMODITIES_BENCHMARK_ALLOCATION', 'OTHERS_BENCHMARK_ALLOCATION','FUND_RISK_LEVEL', \n",
    "            'FUND_RISK_CATEGORY','NEG_NETRETURN_SINCE_INCEPTION', 'YEAR_1_RETURNS', 'YEAR_3_RETURNS','YEAR_5_RETURNS',\n",
    "            'YEAR_7_RETURNS','YEAR_10_RETURNS', 'SUPER_FEES','PENSION_FEES',\n",
    "            'INVESTMENT_AGE_GROUP', 'RETIREMENT_AGE_GROUP', 'TOTAL_FUNDS_INVESTED','CHURN_FLAG']].copy()\n",
    "\n",
    "X = frame.drop(\"CHURN_FLAG\", axis=1)\n",
    "y = frame[\"CHURN_FLAG\"]\n",
    "\n",
    "X_train, X_test, y_train, y_test = train_test_split(X, y, test_size=0.2, random_state=0)"
   ]
  },
  {
   "cell_type": "code",
   "execution_count": 31,
   "id": "efd93f06",
   "metadata": {},
   "outputs": [],
   "source": [
    "payload = X_test.to_dict()\n",
    "req = requests.Request()\n",
    "req.json = {\"payload\":str(payload)}\n",
    "y = req\n",
    "pred_dic = score(churn_model, y)"
   ]
  },
  {
   "cell_type": "code",
   "execution_count": 32,
   "id": "00ccadfd",
   "metadata": {},
   "outputs": [
    {
     "name": "stdout",
     "output_type": "stream",
     "text": [
      "string to dict\n"
     ]
    }
   ],
   "source": [
    "temp_ = eval(pred_dic)\n",
    "print(\"string to dict\")\n",
    "pred = pd.DataFrame.from_dict(temp_)"
   ]
  },
  {
   "cell_type": "code",
   "execution_count": 33,
   "id": "08bb8e82",
   "metadata": {},
   "outputs": [],
   "source": [
    "y_pred = pred[\"CHURN_PREDICTION\"]\n",
    "y_prob = pred[\"Probability\"]"
   ]
  },
  {
   "cell_type": "code",
   "execution_count": 34,
   "id": "4ea76da5",
   "metadata": {},
   "outputs": [
    {
     "data": {
      "text/plain": [
       "96958     Y\n",
       "19699     N\n",
       "6860      N\n",
       "261926    N\n",
       "34660     N\n",
       "         ..\n",
       "187949    N\n",
       "269979    N\n",
       "16694     Y\n",
       "46808     N\n",
       "91910     N\n",
       "Name: CHURN_FLAG, Length: 67200, dtype: object"
      ]
     },
     "execution_count": 34,
     "metadata": {},
     "output_type": "execute_result"
    }
   ],
   "source": [
    "y_test"
   ]
  },
  {
   "cell_type": "code",
   "execution_count": 35,
   "id": "e2669139",
   "metadata": {},
   "outputs": [
    {
     "data": {
      "text/plain": [
       "0        Y\n",
       "1        N\n",
       "2        N\n",
       "3        N\n",
       "4        N\n",
       "        ..\n",
       "67195    N\n",
       "67196    N\n",
       "67197    Y\n",
       "67198    N\n",
       "67199    N\n",
       "Name: CHURN_PREDICTION, Length: 67200, dtype: object"
      ]
     },
     "execution_count": 35,
     "metadata": {},
     "output_type": "execute_result"
    }
   ],
   "source": [
    "y_pred"
   ]
  },
  {
   "cell_type": "code",
   "execution_count": 36,
   "id": "d4fee74c",
   "metadata": {},
   "outputs": [
    {
     "name": "stdout",
     "output_type": "stream",
     "text": [
      "Calculating build time metrics\n",
      "\n",
      "Progress: ██████████████████████████████████████████████████████████████████████ 100.0%\n"
     ]
    },
    {
     "data": {
      "application/vnd.jupyter.widget-view+json": {
       "model_id": "4fa9538aa5834c52a35527b1183e22e6",
       "version_major": 2,
       "version_minor": 0
      },
      "text/plain": [
       "VBox(children=(HTML(value='<style>.grad_1{background: #2468a4;} .grad_2{ color:white; background: #2468a4;}</s…"
      ]
     },
     "metadata": {},
     "output_type": "display_data"
    }
   ],
   "source": [
    "## registering the model in Fosfor.\n",
    "model_reg = register_model(churn_model,\n",
    "               score, \n",
    "               name=\"CHURN_BINARY_MODEL\", \n",
    "               description=\"PREDICTING_FUND_CHURN\",\n",
    "               flavour=MLModelFlavours.sklearn,\n",
    "               model_type=\"classification\",\n",
    "               init_script=\"\\\\n pip install --q fosforml==1.0.1b1 \\\\n pip install fosforio[snowflake] \\\\n pip install sklearn\\\\n pip install snowflake-connector-python[pandas]\",\n",
    "               y_true=y_test,\n",
    "               y_pred=y_pred,\n",
    "               prob=y_prob,\n",
    "               features=X_train.columns,\n",
    "               input_type=\"json\", \n",
    "               explain_ai=True,\n",
    "               x_train=X_train, \n",
    "               x_test=X_test, \n",
    "               y_train=y_train,\n",
    "               y_test=y_test,\n",
    "               feature_names=X_train.columns.tolist(),\n",
    "               original_features=X_train.columns.tolist(),\n",
    "               feature_ids=X_train.columns,\n",
    "               kyd=True, kyd_score = True)"
   ]
  }
 ],
 "metadata": {
  "kernelspec": {
   "display_name": "Python 3",
   "language": "python",
   "name": "python3"
  },
  "language_info": {
   "codemirror_mode": {
    "name": "ipython",
    "version": 3
   },
   "file_extension": ".py",
   "mimetype": "text/x-python",
   "name": "python",
   "nbconvert_exporter": "python",
   "pygments_lexer": "ipython3",
   "version": "3.9.18"
  }
 },
 "nbformat": 4,
 "nbformat_minor": 5
}
