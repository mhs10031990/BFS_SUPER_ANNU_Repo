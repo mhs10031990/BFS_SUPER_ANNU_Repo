{
 "cells": [
  {
   "cell_type": "code",
   "execution_count": 1,
   "id": "5535e842-c99f-4980-b415-a7ac35e91dc2",
   "metadata": {},
   "outputs": [],
   "source": [
    "#Snowpark lib\n",
    "#from snowflake.snowpark import Session\n",
    "\n",
    "# Data Science Libs\n",
    "import numpy as np\n",
    "import pandas as pd\n",
    "\n",
    "# create_temp_table warning suppresion\n",
    "import warnings; warnings.simplefilter('ignore')\n",
    "\n",
    "import numpy as np\n",
    "\n",
    "from sklearn.compose import ColumnTransformer\n",
    "from sklearn.feature_selection import SelectPercentile, chi2\n",
    "from sklearn.impute import SimpleImputer\n",
    "from sklearn.linear_model import LogisticRegression\n",
    "from sklearn.ensemble import RandomForestClassifier\n",
    "from sklearn.model_selection import RandomizedSearchCV, train_test_split\n",
    "from sklearn.pipeline import Pipeline\n",
    "from sklearn.preprocessing import OneHotEncoder, StandardScaler\n",
    "from sklearn.cluster import DBSCAN\n",
    "import pickle\n",
    "\n",
    "np.random.seed(0)"
   ]
  },
  {
   "cell_type": "code",
   "execution_count": 3,
   "id": "b2a012e3",
   "metadata": {
    "scrolled": true
   },
   "outputs": [],
   "source": [
    "from fosforml.model_manager.snowflakesession import get_session\n",
    "my_session = get_session()"
   ]
  },
  {
   "cell_type": "code",
   "execution_count": 4,
   "id": "95135311-688d-4824-83af-4c1cae2e2bdc",
   "metadata": {},
   "outputs": [],
   "source": [
    "table_name = 'MEMBER_FUNDS_ENRICHED_DETAILS'"
   ]
  },
  {
   "cell_type": "code",
   "execution_count": 5,
   "id": "9ac6cead-f91c-425c-b100-370c0d165c2f",
   "metadata": {},
   "outputs": [],
   "source": [
    "sf_df = my_session.sql(\"select * from {}\".format(table_name))"
   ]
  },
  {
   "cell_type": "code",
   "execution_count": 6,
   "id": "ce6ccda0-0d0e-44b9-863b-a3744c2dbb5e",
   "metadata": {},
   "outputs": [],
   "source": [
    "df = sf_df.to_pandas()"
   ]
  },
  {
   "cell_type": "code",
   "execution_count": 7,
   "id": "b87e6cda-8317-4483-9206-5654ff3946af",
   "metadata": {},
   "outputs": [
    {
     "data": {
      "text/html": [
       "<div>\n",
       "<style scoped>\n",
       "    .dataframe tbody tr th:only-of-type {\n",
       "        vertical-align: middle;\n",
       "    }\n",
       "\n",
       "    .dataframe tbody tr th {\n",
       "        vertical-align: top;\n",
       "    }\n",
       "\n",
       "    .dataframe thead th {\n",
       "        text-align: right;\n",
       "    }\n",
       "</style>\n",
       "<table border=\"1\" class=\"dataframe\">\n",
       "  <thead>\n",
       "    <tr style=\"text-align: right;\">\n",
       "      <th></th>\n",
       "      <th>MEMBER_ID</th>\n",
       "      <th>MEMBER_NAME</th>\n",
       "      <th>MEMBER_EMPLOYMENT</th>\n",
       "      <th>MEMBER_GENDER</th>\n",
       "      <th>MEMBER_CITY_TOWN</th>\n",
       "      <th>MEMBER_STATE</th>\n",
       "      <th>MEMBER_CONTACT_VERIFIED</th>\n",
       "      <th>FUND_ID</th>\n",
       "      <th>CHURN_REASON</th>\n",
       "      <th>LATITUDE</th>\n",
       "      <th>...</th>\n",
       "      <th>MEMBER_AGE</th>\n",
       "      <th>INVESTMENT_AGE_GROUP</th>\n",
       "      <th>RETIREMENT_AGE</th>\n",
       "      <th>RETIREMENT_AGE_GROUP</th>\n",
       "      <th>TOTAL_FUNDS_INVESTED</th>\n",
       "      <th>NO_OF_CHURN</th>\n",
       "      <th>MEMBER_DOB_DT</th>\n",
       "      <th>ALLOCATION_DT</th>\n",
       "      <th>CHURN_DT</th>\n",
       "      <th>RETIREMENT_DT</th>\n",
       "    </tr>\n",
       "  </thead>\n",
       "  <tbody>\n",
       "    <tr>\n",
       "      <th>0</th>\n",
       "      <td>MID108406</td>\n",
       "      <td>Maile Treston</td>\n",
       "      <td>Charles Darwin University</td>\n",
       "      <td>Male</td>\n",
       "      <td>Lakes Entrance</td>\n",
       "      <td>Victoria</td>\n",
       "      <td>Y</td>\n",
       "      <td>FID000044</td>\n",
       "      <td>NOT APPLICABLE</td>\n",
       "      <td>-37.8667</td>\n",
       "      <td>...</td>\n",
       "      <td>52</td>\n",
       "      <td>Senior</td>\n",
       "      <td>13</td>\n",
       "      <td>MORE_THAN_10_YEAR</td>\n",
       "      <td>3</td>\n",
       "      <td>2.0</td>\n",
       "      <td>1972-04-29</td>\n",
       "      <td>2011-02-25</td>\n",
       "      <td>9999-12-31</td>\n",
       "      <td>2037-04-29</td>\n",
       "    </tr>\n",
       "    <tr>\n",
       "      <th>1</th>\n",
       "      <td>MID108415</td>\n",
       "      <td>Annabelle Cryer</td>\n",
       "      <td>RMIT University</td>\n",
       "      <td>Female</td>\n",
       "      <td>Mooroopna</td>\n",
       "      <td>Victoria</td>\n",
       "      <td>N</td>\n",
       "      <td>FID000016</td>\n",
       "      <td>NOT APPLICABLE</td>\n",
       "      <td>-36.3833</td>\n",
       "      <td>...</td>\n",
       "      <td>26</td>\n",
       "      <td>Young</td>\n",
       "      <td>39</td>\n",
       "      <td>MORE_THAN_10_YEAR</td>\n",
       "      <td>3</td>\n",
       "      <td>2.0</td>\n",
       "      <td>1998-10-05</td>\n",
       "      <td>2010-01-04</td>\n",
       "      <td>9999-12-31</td>\n",
       "      <td>2063-10-05</td>\n",
       "    </tr>\n",
       "    <tr>\n",
       "      <th>2</th>\n",
       "      <td>MID108429</td>\n",
       "      <td>Leonora Acuff</td>\n",
       "      <td>University of South Australia</td>\n",
       "      <td>Male</td>\n",
       "      <td>Jindabyne</td>\n",
       "      <td>New South Wales</td>\n",
       "      <td>N</td>\n",
       "      <td>FID000100</td>\n",
       "      <td>NOT APPLICABLE</td>\n",
       "      <td>-36.4000</td>\n",
       "      <td>...</td>\n",
       "      <td>51</td>\n",
       "      <td>Senior</td>\n",
       "      <td>14</td>\n",
       "      <td>MORE_THAN_10_YEAR</td>\n",
       "      <td>3</td>\n",
       "      <td>2.0</td>\n",
       "      <td>1973-12-20</td>\n",
       "      <td>2010-09-04</td>\n",
       "      <td>9999-12-31</td>\n",
       "      <td>2038-12-20</td>\n",
       "    </tr>\n",
       "    <tr>\n",
       "      <th>3</th>\n",
       "      <td>MID108436</td>\n",
       "      <td>Franklyn Gesick</td>\n",
       "      <td>The University of Newcastle</td>\n",
       "      <td>Male</td>\n",
       "      <td>Wingham</td>\n",
       "      <td>New South Wales</td>\n",
       "      <td>N</td>\n",
       "      <td>FID000012</td>\n",
       "      <td>NOT APPLICABLE</td>\n",
       "      <td>-31.8667</td>\n",
       "      <td>...</td>\n",
       "      <td>41</td>\n",
       "      <td>Middle-aged</td>\n",
       "      <td>24</td>\n",
       "      <td>MORE_THAN_10_YEAR</td>\n",
       "      <td>3</td>\n",
       "      <td>2.0</td>\n",
       "      <td>1983-03-14</td>\n",
       "      <td>2013-04-27</td>\n",
       "      <td>9999-12-31</td>\n",
       "      <td>2048-03-14</td>\n",
       "    </tr>\n",
       "    <tr>\n",
       "      <th>4</th>\n",
       "      <td>MID108438</td>\n",
       "      <td>Amber Gillaspie</td>\n",
       "      <td>University of South Australia</td>\n",
       "      <td>Female</td>\n",
       "      <td>Nathalia</td>\n",
       "      <td>Victoria</td>\n",
       "      <td>Y</td>\n",
       "      <td>FID000035</td>\n",
       "      <td>NOT APPLICABLE</td>\n",
       "      <td>-36.0583</td>\n",
       "      <td>...</td>\n",
       "      <td>40</td>\n",
       "      <td>Middle-aged</td>\n",
       "      <td>25</td>\n",
       "      <td>MORE_THAN_10_YEAR</td>\n",
       "      <td>3</td>\n",
       "      <td>2.0</td>\n",
       "      <td>1984-01-06</td>\n",
       "      <td>2012-05-17</td>\n",
       "      <td>9999-12-31</td>\n",
       "      <td>2049-01-06</td>\n",
       "    </tr>\n",
       "  </tbody>\n",
       "</table>\n",
       "<p>5 rows × 50 columns</p>\n",
       "</div>"
      ],
      "text/plain": [
       "   MEMBER_ID      MEMBER_NAME              MEMBER_EMPLOYMENT MEMBER_GENDER  \\\n",
       "0  MID108406    Maile Treston      Charles Darwin University          Male   \n",
       "1  MID108415  Annabelle Cryer                RMIT University        Female   \n",
       "2  MID108429    Leonora Acuff  University of South Australia          Male   \n",
       "3  MID108436  Franklyn Gesick    The University of Newcastle          Male   \n",
       "4  MID108438  Amber Gillaspie  University of South Australia        Female   \n",
       "\n",
       "  MEMBER_CITY_TOWN     MEMBER_STATE MEMBER_CONTACT_VERIFIED    FUND_ID  \\\n",
       "0   Lakes Entrance         Victoria                       Y  FID000044   \n",
       "1        Mooroopna         Victoria                       N  FID000016   \n",
       "2        Jindabyne  New South Wales                       N  FID000100   \n",
       "3          Wingham  New South Wales                       N  FID000012   \n",
       "4         Nathalia         Victoria                       Y  FID000035   \n",
       "\n",
       "     CHURN_REASON  LATITUDE  ...  MEMBER_AGE INVESTMENT_AGE_GROUP  \\\n",
       "0  NOT APPLICABLE  -37.8667  ...          52               Senior   \n",
       "1  NOT APPLICABLE  -36.3833  ...          26                Young   \n",
       "2  NOT APPLICABLE  -36.4000  ...          51               Senior   \n",
       "3  NOT APPLICABLE  -31.8667  ...          41          Middle-aged   \n",
       "4  NOT APPLICABLE  -36.0583  ...          40          Middle-aged   \n",
       "\n",
       "  RETIREMENT_AGE RETIREMENT_AGE_GROUP  TOTAL_FUNDS_INVESTED  NO_OF_CHURN  \\\n",
       "0             13    MORE_THAN_10_YEAR                     3          2.0   \n",
       "1             39    MORE_THAN_10_YEAR                     3          2.0   \n",
       "2             14    MORE_THAN_10_YEAR                     3          2.0   \n",
       "3             24    MORE_THAN_10_YEAR                     3          2.0   \n",
       "4             25    MORE_THAN_10_YEAR                     3          2.0   \n",
       "\n",
       "   MEMBER_DOB_DT  ALLOCATION_DT    CHURN_DT  RETIREMENT_DT  \n",
       "0     1972-04-29     2011-02-25  9999-12-31     2037-04-29  \n",
       "1     1998-10-05     2010-01-04  9999-12-31     2063-10-05  \n",
       "2     1973-12-20     2010-09-04  9999-12-31     2038-12-20  \n",
       "3     1983-03-14     2013-04-27  9999-12-31     2048-03-14  \n",
       "4     1984-01-06     2012-05-17  9999-12-31     2049-01-06  \n",
       "\n",
       "[5 rows x 50 columns]"
      ]
     },
     "execution_count": 7,
     "metadata": {},
     "output_type": "execute_result"
    }
   ],
   "source": [
    "df.head()"
   ]
  },
  {
   "cell_type": "code",
   "execution_count": 8,
   "id": "03aa460e",
   "metadata": {},
   "outputs": [],
   "source": [
    "with open('churn_model.pkl','rb') as f:  ## use rb while reading the fie\n",
    "    churn_model = pickle.load(f)"
   ]
  },
  {
   "cell_type": "code",
   "execution_count": 9,
   "id": "20120f1a",
   "metadata": {},
   "outputs": [],
   "source": [
    "df = df.drop([\"MEMBER_DOB_DT\", 'ALLOCATION_DT', \"CHURN_DT\", \"RETIREMENT_DT\"], axis =1 )"
   ]
  },
  {
   "cell_type": "code",
   "execution_count": 10,
   "id": "0c94e8f8",
   "metadata": {},
   "outputs": [],
   "source": [
    "frame = df[['MEMBER_GENDER', 'MEMBER_STATE', 'MEMBER_CONTACT_VERIFIED','FUND_TOTAL_ASSETS','FUND_RETURN_TARGET_PERCENTAGE',\n",
    "            'INVESTMENT_RISK_CATEGORY', 'CASH_BENCHMARK_ALLOCATION','FIXED_INCOME_BENCHMARK_ALLOCATION',\n",
    "            'DOMESTIC_LISTED_EQUITY_BENCHMARK_ALLOCATION','INTERNATIONAL_LISTED_EQUITY_BENCHMARK_ALLOCATION',\n",
    "            'UNLISTED_EQUITY_BENCHMARK_ALLOCATION', 'EQUITY_BENCHMARK_ALLOCATION','PROPERTY_BENCHMARK_ALLOCATION',\n",
    "            'INFRA_BENCHMARK_ALLOCATION','COMMODITIES_BENCHMARK_ALLOCATION', 'OTHERS_BENCHMARK_ALLOCATION','FUND_RISK_LEVEL', \n",
    "            'FUND_RISK_CATEGORY','NEG_NETRETURN_SINCE_INCEPTION', 'YEAR_1_RETURNS', 'YEAR_3_RETURNS','YEAR_5_RETURNS',\n",
    "            'YEAR_7_RETURNS','YEAR_10_RETURNS', 'SUPER_FEES','PENSION_FEES',\n",
    "            'INVESTMENT_AGE_GROUP', 'RETIREMENT_AGE_GROUP', 'TOTAL_FUNDS_INVESTED','CHURN_FLAG']].copy()\n",
    "\n",
    "X = frame.drop(\"CHURN_FLAG\", axis=1)\n",
    "y = frame[\"CHURN_FLAG\"]\n",
    "\n",
    "X_train, X_test, y_train, y_test = train_test_split(X, y, test_size=0.2, random_state=0)"
   ]
  },
  {
   "cell_type": "code",
   "execution_count": null,
   "id": "61d726cf-ff2b-4093-911f-2b3b8ce9d80c",
   "metadata": {},
   "outputs": [],
   "source": [
    "@scoring_func\n",
    "def score(model, request):\n",
    "    payload_dict = eval(request.json[\"payload\"])\n",
    "    data = pd.DataFrame.from_dict(payload_dict)\n",
    "    frame = data[['MEMBER_GENDER', 'MEMBER_STATE', 'MEMBER_CONTACT_VERIFIED','FUND_TOTAL_ASSETS','FUND_RETURN_TARGET_PERCENTAGE',\n",
    "            'INVESTMENT_RISK_CATEGORY', 'CASH_BENCHMARK_ALLOCATION','FIXED_INCOME_BENCHMARK_ALLOCATION',\n",
    "            'DOMESTIC_LISTED_EQUITY_BENCHMARK_ALLOCATION','INTERNATIONAL_LISTED_EQUITY_BENCHMARK_ALLOCATION',\n",
    "            'UNLISTED_EQUITY_BENCHMARK_ALLOCATION', 'EQUITY_BENCHMARK_ALLOCATION','PROPERTY_BENCHMARK_ALLOCATION',\n",
    "            'INFRA_BENCHMARK_ALLOCATION','COMMODITIES_BENCHMARK_ALLOCATION', 'OTHERS_BENCHMARK_ALLOCATION','FUND_RISK_LEVEL', \n",
    "            'FUND_RISK_CATEGORY','NEG_NETRETURN_SINCE_INCEPTION', 'YEAR_1_RETURNS', 'YEAR_3_RETURNS','YEAR_5_RETURNS',\n",
    "            'YEAR_7_RETURNS','YEAR_10_RETURNS', 'SUPER_FEES','PENSION_FEES',\n",
    "            'INVESTMENT_AGE_GROUP', 'RETIREMENT_AGE_GROUP', 'TOTAL_FUNDS_INVESTED']].copy()\n",
    "    result = model.predict(frame)\n",
    "    prediction = pd.DataFrame({\"CHURN_PREDICTION\":result})\n",
    "    prediction[\"CHURN_PREDICTION\"] = prediction[\"CHURN_PREDICTION\"].apply(lambda x: \"Y\" if x == 1 else \"N\")\n",
    "    probability = model.predict_proba(frame)\n",
    "    prediction[\"Probability\"] = [round(k[1],4) for k in probability]\n",
    "    prediction = str(prediction.to_dict())\n",
    "    return prediction"
   ]
  },
  {
   "cell_type": "code",
   "execution_count": null,
   "id": "e1a79378-dc8d-4dfd-ae7a-5df2a2f9e79b",
   "metadata": {},
   "outputs": [],
   "source": [
    "df = session.table(\"MEMBER_FUNDS_ENRICHED_DETAILS\").to_pandas()\n",
    "df = df.drop([\"MEMBER_DOB_DT\", 'ALLOCATION_DT', \"CHURN_DT\", \"RETIREMENT_DT\"], axis =1 )"
   ]
  },
  {
   "cell_type": "code",
   "execution_count": null,
   "id": "163736d8-dcf0-4439-b5f6-4dbc00c5fdf1",
   "metadata": {},
   "outputs": [],
   "source": []
  },
  {
   "cell_type": "code",
   "execution_count": null,
   "id": "9a8fdee3-6f0e-4317-bf60-9a0b44c8150c",
   "metadata": {},
   "outputs": [],
   "source": [
    "## registering the model in Fosfor Insight Designer.\n",
    "register_model(\n",
    "    model_obj=churn_model, \n",
    "    session=my_session,\n",
    "    x_train=X_train,\n",
    "    y_train=y_train,\n",
    "    x_test=X_test,\n",
    "    y_test=y_test,\n",
    "    y_pred=y_pred,\n",
    "    source=\"Notebook\",\n",
    "    dataset_name=\"AUTO_INSURANCE_CLAIMS_DATA\",\n",
    "    dataset_source=\"Snowflake\",\n",
    "    #dataset_source=\"InMemory\",\n",
    "    name=\"Claims_Fraud_DTree_Classifier\",\n",
    "    description=\"Insurance claims model trained for Fraud Classification\",\n",
    "    flavour=\"sklearn\",\n",
    "    model_type=\"classification\",\n",
    "    conda_dependencies=[\"scikit-learn==1.3.2\"]\n",
    ")"
   ]
  },
  {
   "cell_type": "code",
   "execution_count": 20,
   "id": "d4fee74c",
   "metadata": {},
   "outputs": [
    {
     "name": "stdout",
     "output_type": "stream",
     "text": [
      "Calculating build time metrics\n",
      "\n",
      "Progress: ██████████████████████████████████████████████████████████████████████ 100.0%\n"
     ]
    },
    {
     "data": {
      "application/vnd.jupyter.widget-view+json": {
       "model_id": "88445509ba364a89b32d77bbfad63ee1",
       "version_major": 2,
       "version_minor": 0
      },
      "text/plain": [
       "VBox(children=(HTML(value='<style>.grad_1{background: #2468a4;} .grad_2{ color:white; background: #2468a4;}</s…"
      ]
     },
     "metadata": {},
     "output_type": "display_data"
    }
   ],
   "source": [
    "## registering the model in Fosfor.\n",
    "model_reg = register_model(churn_model,\n",
    "               score, \n",
    "               name=\"CHURN_BINARY_MODEL\", \n",
    "               description=\"PREDICTING_FUND_CHURN\",\n",
    "               flavour=MLModelFlavours.sklearn,\n",
    "               model_type=\"classification\",\n",
    "               init_script=\"\\\\n pip install --q fosforml==1.0.1b1\",\n",
    "               y_true=y_test,\n",
    "               y_pred=y_pred,\n",
    "               prob=y_prob,\n",
    "               features=X_train.columns,\n",
    "               input_type=\"json\", \n",
    "               explain_ai=True,\n",
    "               x_train=X_train, \n",
    "               x_test=X_test, \n",
    "               y_train=y_train,\n",
    "               y_test=y_test,\n",
    "               feature_names=X_train.columns.tolist(),\n",
    "               original_features=X_train.columns.tolist(),\n",
    "               feature_ids=X_train.columns,\n",
    "               kyd=True, kyd_score = True)"
   ]
  },
  {
   "cell_type": "markdown",
   "id": "e3964e08",
   "metadata": {},
   "source": [
    "# CHURN REASON MODEL"
   ]
  },
  {
   "cell_type": "code",
   "execution_count": 12,
   "id": "769185ac",
   "metadata": {},
   "outputs": [],
   "source": [
    "with open('reason_model.pkl','rb') as f:  ## use rb while reading the fie\n",
    "    reason_model = pickle.load(f)"
   ]
  },
  {
   "cell_type": "code",
   "execution_count": 13,
   "id": "e08963d9",
   "metadata": {},
   "outputs": [],
   "source": [
    "churned = df[df[\"CHURN_FLAG\"] == \"Y\"]"
   ]
  },
  {
   "cell_type": "code",
   "execution_count": 15,
   "id": "34cc87d7",
   "metadata": {},
   "outputs": [
    {
     "data": {
      "text/plain": [
       "{0: 'NO REASON IDENTIFIED',\n",
       " 1: 'HIGH ACCOUNT FEE',\n",
       " 2: 'POOR FUND PERFORMANCE',\n",
       " 3: 'HIGH TRANSACTION FEE',\n",
       " 4: 'FUND REPUTATION DECLINING',\n",
       " 5: 'LIFE EVENT'}"
      ]
     },
     "execution_count": 15,
     "metadata": {},
     "output_type": "execute_result"
    }
   ],
   "source": [
    "r2id = {'NO REASON IDENTIFIED': 0,\n",
    " 'HIGH ACCOUNT FEE': 1,\n",
    " 'POOR FUND PERFORMANCE': 2,\n",
    " 'HIGH TRANSACTION FEE': 3,\n",
    " 'FUND REPUTATION DECLINING': 4,\n",
    " 'LIFE EVENT': 5}\n",
    "id2r = {v:k for k, v in r2id.items()}\n",
    "id2r"
   ]
  },
  {
   "cell_type": "code",
   "execution_count": 26,
   "id": "6ca2ce3a",
   "metadata": {},
   "outputs": [],
   "source": [
    "@scoring_func\n",
    "def score(model, request):\n",
    "    payload_dict = eval(request.json[\"payload\"])\n",
    "    data = pd.DataFrame.from_dict(payload_dict)\n",
    "    frame = data[['MEMBER_GENDER', 'MEMBER_STATE', 'MEMBER_CONTACT_VERIFIED','FUND_TOTAL_ASSETS','FUND_RETURN_TARGET_PERCENTAGE',\n",
    "            'INVESTMENT_RISK_CATEGORY', 'CASH_BENCHMARK_ALLOCATION','FIXED_INCOME_BENCHMARK_ALLOCATION',\n",
    "            'DOMESTIC_LISTED_EQUITY_BENCHMARK_ALLOCATION','INTERNATIONAL_LISTED_EQUITY_BENCHMARK_ALLOCATION',\n",
    "            'UNLISTED_EQUITY_BENCHMARK_ALLOCATION', 'EQUITY_BENCHMARK_ALLOCATION','PROPERTY_BENCHMARK_ALLOCATION',\n",
    "            'INFRA_BENCHMARK_ALLOCATION','COMMODITIES_BENCHMARK_ALLOCATION', 'OTHERS_BENCHMARK_ALLOCATION','FUND_RISK_LEVEL', \n",
    "            'FUND_RISK_CATEGORY','NEG_NETRETURN_SINCE_INCEPTION', 'YEAR_1_RETURNS', 'YEAR_3_RETURNS','YEAR_5_RETURNS',\n",
    "            'YEAR_7_RETURNS','YEAR_10_RETURNS', 'SUPER_FEES','PENSION_FEES',\n",
    "            'INVESTMENT_AGE_GROUP', 'RETIREMENT_AGE_GROUP', 'TOTAL_FUNDS_INVESTED']].copy()\n",
    "    id2r = {0: 'NO REASON IDENTIFIED',\n",
    "             1: 'HIGH ACCOUNT FEE',\n",
    "             2: 'POOR FUND PERFORMANCE',\n",
    "             3: 'HIGH TRANSACTION FEE',\n",
    "             4: 'FUND REPUTATION DECLINING',\n",
    "             5: 'LIFE EVENT'}\n",
    "    result = model.predict(frame)\n",
    "    prediction = pd.DataFrame({\"REASON_PREDICTION\":result})\n",
    "    prediction[\"REASON_PREDICTION\"] = prediction[\"REASON_PREDICTION\"].apply(lambda x: id2r[x])\n",
    "    prediction = str(prediction.to_dict())\n",
    "    return prediction"
   ]
  },
  {
   "cell_type": "code",
   "execution_count": 27,
   "id": "d918a9dc",
   "metadata": {},
   "outputs": [
    {
     "data": {
      "text/plain": [
       "\"{'REASON_PREDICTION': {0: 'NO REASON IDENTIFIED', 1: 'NO REASON IDENTIFIED', 2: 'HIGH ACCOUNT FEE', 3: 'POOR FUND PERFORMANCE', 4: 'HIGH TRANSACTION FEE', 5: 'HIGH TRANSACTION FEE', 6: 'FUND REPUTATION DECLINING', 7: 'FUND REPUTATION DECLINING', 8: 'HIGH TRANSACTION FEE', 9: 'FUND REPUTATION DECLINING'}}\""
      ]
     },
     "execution_count": 27,
     "metadata": {},
     "output_type": "execute_result"
    }
   ],
   "source": [
    "payload = churned.head(10).to_dict()\n",
    "req = requests.Request()\n",
    "req.json = {\"payload\":str(payload)}\n",
    "y = req\n",
    "yo = score(reason_model, y)\n",
    "yo"
   ]
  },
  {
   "cell_type": "code",
   "execution_count": 31,
   "id": "14ac9d95",
   "metadata": {},
   "outputs": [],
   "source": [
    "\n",
    "X = churned.drop(\"CHURN_REASON\", axis=1)\n",
    "y = churned[\"CHURN_REASON\"]\n",
    "\n",
    "X_train, X_test, y_train, y_test = train_test_split(X, y, test_size=0.2, random_state=0)"
   ]
  },
  {
   "cell_type": "code",
   "execution_count": 37,
   "id": "a1bc3fa5",
   "metadata": {},
   "outputs": [],
   "source": [
    "payload = X_test.to_dict()\n",
    "req = requests.Request()\n",
    "req.json = {\"payload\":str(payload)}\n",
    "y = req\n",
    "pred_dic = score(reason_model, y)"
   ]
  },
  {
   "cell_type": "code",
   "execution_count": 38,
   "id": "80a7225c",
   "metadata": {},
   "outputs": [
    {
     "name": "stdout",
     "output_type": "stream",
     "text": [
      "string to dict\n"
     ]
    }
   ],
   "source": [
    "temp_ = eval(pred_dic)\n",
    "print(\"string to dict\")\n",
    "pred = pd.DataFrame.from_dict(temp_)"
   ]
  },
  {
   "cell_type": "code",
   "execution_count": 39,
   "id": "41cf61f9",
   "metadata": {},
   "outputs": [],
   "source": [
    "y_pred = pred[\"REASON_PREDICTION\"]\n",
    "# y_prob = pred[\"Probability\"]"
   ]
  },
  {
   "cell_type": "code",
   "execution_count": 43,
   "id": "c47b3d3b",
   "metadata": {},
   "outputs": [],
   "source": [
    "y_prob = reason_model.predict_proba(X_test)"
   ]
  },
  {
   "cell_type": "code",
   "execution_count": 40,
   "id": "4e4b2598",
   "metadata": {},
   "outputs": [
    {
     "data": {
      "text/plain": [
       "189394             HIGH ACCOUNT FEE\n",
       "117948         HIGH TRANSACTION FEE\n",
       "122069         NO REASON IDENTIFIED\n",
       "182181             HIGH ACCOUNT FEE\n",
       "197148    FUND REPUTATION DECLINING\n",
       "                    ...            \n",
       "254364         HIGH TRANSACTION FEE\n",
       "159041    FUND REPUTATION DECLINING\n",
       "213647         NO REASON IDENTIFIED\n",
       "310248         NO REASON IDENTIFIED\n",
       "174585         NO REASON IDENTIFIED\n",
       "Name: CHURN_REASON, Length: 18491, dtype: object"
      ]
     },
     "execution_count": 40,
     "metadata": {},
     "output_type": "execute_result"
    }
   ],
   "source": [
    "y_test"
   ]
  },
  {
   "cell_type": "code",
   "execution_count": 41,
   "id": "945f6233",
   "metadata": {},
   "outputs": [
    {
     "data": {
      "text/plain": [
       "0                 HIGH ACCOUNT FEE\n",
       "1             HIGH TRANSACTION FEE\n",
       "2             NO REASON IDENTIFIED\n",
       "3                 HIGH ACCOUNT FEE\n",
       "4        FUND REPUTATION DECLINING\n",
       "                   ...            \n",
       "18486         HIGH TRANSACTION FEE\n",
       "18487    FUND REPUTATION DECLINING\n",
       "18488         NO REASON IDENTIFIED\n",
       "18489         NO REASON IDENTIFIED\n",
       "18490         NO REASON IDENTIFIED\n",
       "Name: REASON_PREDICTION, Length: 18491, dtype: object"
      ]
     },
     "execution_count": 41,
     "metadata": {},
     "output_type": "execute_result"
    }
   ],
   "source": [
    "y_pred"
   ]
  },
  {
   "cell_type": "code",
   "execution_count": 47,
   "id": "6e1b0e48",
   "metadata": {},
   "outputs": [
    {
     "name": "stdout",
     "output_type": "stream",
     "text": [
      "Calculating build time metrics\n",
      "\n",
      "Progress: ██████████████████████████████████████████████████████████████████████ 100.0%\n"
     ]
    },
    {
     "data": {
      "application/vnd.jupyter.widget-view+json": {
       "model_id": "2eaeab4887564bdf97942aa5a9231b2b",
       "version_major": 2,
       "version_minor": 0
      },
      "text/plain": [
       "VBox(children=(HTML(value='<style>.grad_1{background: #2468a4;} .grad_2{ color:white; background: #2468a4;}</s…"
      ]
     },
     "metadata": {},
     "output_type": "display_data"
    }
   ],
   "source": [
    "## registering the model in Fosfor.\n",
    "model_reg = register_model(reason_model,\n",
    "               score, \n",
    "               name=\"CHURN_REASON_MODEL\", \n",
    "               description=\"PREDICTING_FUND_CHURN_REASON\",\n",
    "               flavour=MLModelFlavours.sklearn,\n",
    "               model_type=\"classification\",\n",
    "               init_script=\"\\\\n pip install --q fosforml==1.0.1b1\",\n",
    "               y_true=y_test,\n",
    "               y_pred=y_pred,\n",
    "               prob=y_prob,\n",
    "               features=X_train.columns,\n",
    "               input_type=\"json\", \n",
    "               explain_ai=True,\n",
    "               x_train=X_train, \n",
    "               x_test=X_test, \n",
    "               y_train=y_train,\n",
    "               y_test=y_test,\n",
    "               feature_names=X_train.columns.tolist(),\n",
    "               original_features=X_train.columns.tolist(),\n",
    "               feature_ids=X_train.columns,\n",
    "               kyd=True, kyd_score = True)"
   ]
  }
 ],
 "metadata": {
  "kernelspec": {
   "display_name": "Python 3 (ipykernel)",
   "language": "python",
   "name": "python3"
  },
  "language_info": {
   "codemirror_mode": {
    "name": "ipython",
    "version": 3
   },
   "file_extension": ".py",
   "mimetype": "text/x-python",
   "name": "python",
   "nbconvert_exporter": "python",
   "pygments_lexer": "ipython3",
   "version": "3.9.19"
  }
 },
 "nbformat": 4,
 "nbformat_minor": 5
}
