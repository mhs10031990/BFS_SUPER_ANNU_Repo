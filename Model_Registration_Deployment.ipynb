{
 "cells": [
  {
   "cell_type": "code",
   "execution_count": 7,
   "id": "99fe6496",
   "metadata": {
    "scrolled": true
   },
   "outputs": [],
   "source": [
    "# !pip install fosforml"
   ]
  },
  {
   "cell_type": "code",
   "execution_count": 5,
   "id": "5787bf04",
   "metadata": {},
   "outputs": [
    {
     "name": "stdout",
     "output_type": "stream",
     "text": [
      "connection successful!\n"
     ]
    }
   ],
   "source": [
    "#Snowpark lib\n",
    "from snowflake.snowpark import Session\n",
    "\n",
    "# Data Science Libs\n",
    "import numpy as np\n",
    "import pandas as pd\n",
    "\n",
    "# create_temp_table warning suppresion\n",
    "import warnings; warnings.simplefilter('ignore')\n",
    "\n",
    "#ConfigParser to read ini file\n",
    "import configparser\n",
    "\n",
    "import numpy as np\n",
    "\n",
    "from sklearn.compose import ColumnTransformer\n",
    "from sklearn.feature_selection import SelectPercentile, chi2\n",
    "from sklearn.impute import SimpleImputer\n",
    "from sklearn.linear_model import LogisticRegression\n",
    "from sklearn.ensemble import RandomForestClassifier\n",
    "from sklearn.model_selection import RandomizedSearchCV, train_test_split\n",
    "from sklearn.pipeline import Pipeline\n",
    "from sklearn.preprocessing import OneHotEncoder, StandardScaler\n",
    "from sklearn.cluster import DBSCAN\n",
    "import pickle\n",
    "\n",
    "from fosforml import *\n",
    "from fosforml import scoring_func\n",
    "from fosforml.constants import MLModelFlavours\n",
    "import requests\n",
    "\n",
    "np.random.seed(0)\n",
    "\n",
    "config = configparser.ConfigParser()\n",
    "config.read(\"/notebooks/notebooks/credentials.ini\")\n",
    "\n",
    "connection_parameters = {\n",
    "    \"user\": f'{config[\"Snowflake\"][\"user\"]}',\n",
    "    \"password\": f'{config[\"Snowflake\"][\"password\"]}',\n",
    "    \"account\": f'{config[\"Snowflake\"][\"account\"]}',\n",
    "    \"WAREHOUSE\": f'{config[\"Snowflake\"][\"WAREHOUSE\"]}',\n",
    "    \"DATABASE\": f'{config[\"Snowflake\"][\"DATABASE\"]}',\n",
    "    \"SCHEMA\": f'{config[\"Snowflake\"][\"SCHEMA\"]}'\n",
    "}\n",
    "\n",
    "def snowflake_connector(conn):\n",
    "    try:\n",
    "        session = Session.builder.configs(conn).create()\n",
    "        print(\"connection successful!\")\n",
    "    except:\n",
    "        raise ValueError(\"error while connecting with db\")\n",
    "    return session\n",
    "\n",
    "session = snowflake_connector(connection_parameters)"
   ]
  },
  {
   "cell_type": "code",
   "execution_count": 2,
   "id": "da57f5a6",
   "metadata": {},
   "outputs": [],
   "source": [
    "with open('churn_model.pkl','rb') as f:  ## use rb while reading the fie\n",
    "    churn_model = pickle.load(f)"
   ]
  },
  {
   "cell_type": "code",
   "execution_count": 21,
   "id": "c554b32f",
   "metadata": {},
   "outputs": [],
   "source": [
    "@scoring_func\n",
    "def score(model, request):\n",
    "    payload_dict = eval(request.json[\"payload\"])\n",
    "    data = pd.DataFrame.from_dict(payload_dict)\n",
    "    frame = data[['MEMBER_GENDER', 'MEMBER_STATE', 'MEMBER_CONTACT_VERIFIED','FUND_TOTAL_ASSETS','FUND_RETURN_TARGET_PERCENTAGE',\n",
    "            'INVESTMENT_RISK_CATEGORY', 'CASH_BENCHMARK_ALLOCATION','FIXED_INCOME_BENCHMARK_ALLOCATION',\n",
    "            'DOMESTIC_LISTED_EQUITY_BENCHMARK_ALLOCATION','INTERNATIONAL_LISTED_EQUITY_BENCHMARK_ALLOCATION',\n",
    "            'UNLISTED_EQUITY_BENCHMARK_ALLOCATION', 'EQUITY_BENCHMARK_ALLOCATION','PROPERTY_BENCHMARK_ALLOCATION',\n",
    "            'INFRA_BENCHMARK_ALLOCATION','COMMODITIES_BENCHMARK_ALLOCATION', 'OTHERS_BENCHMARK_ALLOCATION','FUND_RISK_LEVEL', \n",
    "            'FUND_RISK_CATEGORY','NEG_NETRETURN_SINCE_INCEPTION', 'YEAR_1_RETURNS', 'YEAR_3_RETURNS','YEAR_5_RETURNS',\n",
    "            'YEAR_7_RETURNS','YEAR_10_RETURNS', 'SUPER_FEES','PENSION_FEES',\n",
    "            'INVESTMENT_AGE_GROUP', 'RETIREMENT_AGE_GROUP', 'TOTAL_FUNDS_INVESTED','CHURN_FLAG']].copy()\n",
    "#     result = model.predict(frame)\n",
    "#     prediction = pd.DataFrame({\"CHURN_PREDICTION\":result})\n",
    "#     prediction[\"CHURN_PREDICTION\"] = prediction[\"CHURN_PREDICTION\"].apply(lambda x: \"CHURN\" if x == 1 else \"NOT CHURN\")\n",
    "#     probability = model.predict_proba(frame)\n",
    "#     prediction[\"Probability\"] = [round(k[1],4) for k in probability]\n",
    "#     prediction = str(prediction.to_dict())\n",
    "#     return prediction"
   ]
  },
  {
   "cell_type": "code",
   "execution_count": 7,
   "id": "1cc4cafb",
   "metadata": {},
   "outputs": [],
   "source": [
    "df = session.table(\"MEMBER_FUNDS_ENRICHED_DETAILS\").to_pandas()"
   ]
  },
  {
   "cell_type": "code",
   "execution_count": null,
   "id": "87bbbc38",
   "metadata": {},
   "outputs": [],
   "source": [
    "df = df.drop([\"MEMBER_DOB_DT\", 'ALLOCATION_DT', \"CHURN_DT\", \"RETIREMENT_DT\"])"
   ]
  },
  {
   "cell_type": "code",
   "execution_count": 16,
   "id": "baac6bf6",
   "metadata": {},
   "outputs": [],
   "source": [
    "payload = df.head(1).to_dict()\n",
    "req = requests.Request()\n",
    "req.json = {\"payload\":str(payload)}\n",
    "y = req\n"
   ]
  },
  {
   "cell_type": "code",
   "execution_count": 27,
   "id": "8fa75400",
   "metadata": {},
   "outputs": [
    {
     "data": {
      "text/plain": [
       "\"{'MEMBER_ID': {0: 'MID108406'}, 'MEMBER_NAME': {0: 'Maile Treston'}, 'MEMBER_EMPLOYMENT': {0: 'Charles Darwin University'}, 'MEMBER_GENDER': {0: 'Male'}, 'MEMBER_CITY_TOWN': {0: 'Lakes Entrance'}, 'MEMBER_STATE': {0: 'Victoria'}, 'MEMBER_CONTACT_VERIFIED': {0: 'Y'}, 'FUND_ID': {0: 'FID000044'}, 'CHURN_REASON': {0: 'NOT APPLICABLE'}, 'LATITUDE': {0: -37.8667}, 'LONGITUDE': {0: 147.9833}, 'COUNTRY': {0: 'Australia'}, 'COUNTRYCODE': {0: 'AU'}, 'CAPITAL': {0: 'NOT APPLICABLE'}, 'POPULATION': {0: 6071}, 'FUND_TOTAL_ASSETS': {0: 5866.0}, 'FUND_RETURN_TARGET_PERCENTAGE': {0: 3.247619048}, 'INVESTMENT_RISK_LEVEL': {0: 3.59047619}, 'INVESTMENT_RISK_CATEGORY': {0: 'Medium-Low'}, 'CASH_BENCHMARK_ALLOCATION': {0: 4.047619048}, 'FIXED_INCOME_BENCHMARK_ALLOCATION': {0: 9.761904762}, 'DOMESTIC_LISTED_EQUITY_BENCHMARK_ALLOCATION': {0: 24.52380952}, 'INTERNATIONAL_LISTED_EQUITY_BENCHMARK_ALLOCATION': {0: 25.19047619}, 'UNLISTED_EQUITY_BENCHMARK_ALLOCATION': {0: 0.0}, 'EQUITY_BENCHMARK_ALLOCATION': {0: 0.0}, 'PROPERTY_BENCHMARK_ALLOCATION': {0: 11.52380952}, 'INFRA_BENCHMARK_ALLOCATION': {0: 7.666666667}, 'COMMODITIES_BENCHMARK_ALLOCATION': {0: 0.0}, 'OTHERS_BENCHMARK_ALLOCATION': {0: 17.28571}, 'FUND_RISK_LEVEL': {0: 3.59047619}, 'FUND_RISK_CATEGORY': {0: 'Medium-Low'}, 'NEG_NETRETURN_SINCE_INCEPTION': {0: '1 to 2'}, 'YEAR_1_RETURNS': {0: 6.74}, 'YEAR_3_RETURNS': {0: 4.27}, 'YEAR_5_RETURNS': {0: 4.97}, 'YEAR_7_RETURNS': {0: 5.07}, 'YEAR_10_RETURNS': {0: 5.45}, 'SUPER_FEES': {0: 0.5}, 'PENSION_FEES': {0: 0.5}, 'CHURN_FLAG': {0: 'N'}, 'MEMBER_AGE': {0: 52}, 'INVESTMENT_AGE_GROUP': {0: 'Senior'}, 'RETIREMENT_AGE': {0: 13}, 'RETIREMENT_AGE_GROUP': {0: 'MORE_THAN_10_YEAR'}, 'TOTAL_FUNDS_INVESTED': {0: 3}, 'NO_OF_CHURN': {0: 2.0}, 'MEMBER_DOB_DT': {0: datetime.date(1972, 4, 29)}, 'ALLOCATION_DT': {0: datetime.date(2011, 2, 25)}, 'CHURN_DT': {0: datetime.date(9999, 12, 31)}, 'RETIREMENT_DT': {0: datetime.date(2037, 4, 29)}}\""
      ]
     },
     "execution_count": 27,
     "metadata": {},
     "output_type": "execute_result"
    }
   ],
   "source": [
    "y.json[\"payload\"]"
   ]
  },
  {
   "cell_type": "code",
   "execution_count": 22,
   "id": "e34202c9",
   "metadata": {},
   "outputs": [
    {
     "ename": "NameError",
     "evalue": "name 'datetime' is not defined",
     "output_type": "error",
     "traceback": [
      "\u001b[0;31m---------------------------------------------------------------------------\u001b[0m",
      "\u001b[0;31mNameError\u001b[0m                                 Traceback (most recent call last)",
      "Cell \u001b[0;32mIn[22], line 1\u001b[0m\n\u001b[0;32m----> 1\u001b[0m yo \u001b[38;5;241m=\u001b[39m \u001b[43mscore\u001b[49m\u001b[43m(\u001b[49m\u001b[43mchurn_model\u001b[49m\u001b[43m,\u001b[49m\u001b[43m \u001b[49m\u001b[43my\u001b[49m\u001b[43m)\u001b[49m\n\u001b[1;32m      2\u001b[0m yo\n",
      "File \u001b[0;32m/tmp/pip_packages/fosforml/decorators.py:18\u001b[0m, in \u001b[0;36mscoring_func.__call__\u001b[0;34m(self, *args, **kwargs)\u001b[0m\n\u001b[1;32m     17\u001b[0m \u001b[38;5;28;01mdef\u001b[39;00m \u001b[38;5;21m__call__\u001b[39m(\u001b[38;5;28mself\u001b[39m, \u001b[38;5;241m*\u001b[39margs, \u001b[38;5;241m*\u001b[39m\u001b[38;5;241m*\u001b[39mkwargs):\n\u001b[0;32m---> 18\u001b[0m     \u001b[38;5;28;01mreturn\u001b[39;00m \u001b[38;5;28;43mself\u001b[39;49m\u001b[38;5;241;43m.\u001b[39;49m\u001b[43m_user_func\u001b[49m\u001b[43m(\u001b[49m\u001b[38;5;241;43m*\u001b[39;49m\u001b[43margs\u001b[49m\u001b[43m,\u001b[49m\u001b[43m \u001b[49m\u001b[38;5;241;43m*\u001b[39;49m\u001b[38;5;241;43m*\u001b[39;49m\u001b[43mkwargs\u001b[49m\u001b[43m)\u001b[49m\n",
      "Cell \u001b[0;32mIn[21], line 3\u001b[0m, in \u001b[0;36mscore\u001b[0;34m(model, request)\u001b[0m\n\u001b[1;32m      1\u001b[0m \u001b[38;5;129m@scoring_func\u001b[39m\n\u001b[1;32m      2\u001b[0m \u001b[38;5;28;01mdef\u001b[39;00m \u001b[38;5;21mscore\u001b[39m(model, request):\n\u001b[0;32m----> 3\u001b[0m     payload_dict \u001b[38;5;241m=\u001b[39m \u001b[38;5;28;43meval\u001b[39;49m\u001b[43m(\u001b[49m\u001b[43mrequest\u001b[49m\u001b[38;5;241;43m.\u001b[39;49m\u001b[43mjson\u001b[49m\u001b[43m[\u001b[49m\u001b[38;5;124;43m\"\u001b[39;49m\u001b[38;5;124;43mpayload\u001b[39;49m\u001b[38;5;124;43m\"\u001b[39;49m\u001b[43m]\u001b[49m\u001b[43m)\u001b[49m\n\u001b[1;32m      4\u001b[0m     data \u001b[38;5;241m=\u001b[39m pd\u001b[38;5;241m.\u001b[39mDataFrame\u001b[38;5;241m.\u001b[39mfrom_dict(payload_dict)\n\u001b[1;32m      5\u001b[0m     frame \u001b[38;5;241m=\u001b[39m data[[\u001b[38;5;124m'\u001b[39m\u001b[38;5;124mMEMBER_GENDER\u001b[39m\u001b[38;5;124m'\u001b[39m, \u001b[38;5;124m'\u001b[39m\u001b[38;5;124mMEMBER_STATE\u001b[39m\u001b[38;5;124m'\u001b[39m, \u001b[38;5;124m'\u001b[39m\u001b[38;5;124mMEMBER_CONTACT_VERIFIED\u001b[39m\u001b[38;5;124m'\u001b[39m,\u001b[38;5;124m'\u001b[39m\u001b[38;5;124mFUND_TOTAL_ASSETS\u001b[39m\u001b[38;5;124m'\u001b[39m,\u001b[38;5;124m'\u001b[39m\u001b[38;5;124mFUND_RETURN_TARGET_PERCENTAGE\u001b[39m\u001b[38;5;124m'\u001b[39m,\n\u001b[1;32m      6\u001b[0m             \u001b[38;5;124m'\u001b[39m\u001b[38;5;124mINVESTMENT_RISK_CATEGORY\u001b[39m\u001b[38;5;124m'\u001b[39m, \u001b[38;5;124m'\u001b[39m\u001b[38;5;124mCASH_BENCHMARK_ALLOCATION\u001b[39m\u001b[38;5;124m'\u001b[39m,\u001b[38;5;124m'\u001b[39m\u001b[38;5;124mFIXED_INCOME_BENCHMARK_ALLOCATION\u001b[39m\u001b[38;5;124m'\u001b[39m,\n\u001b[1;32m      7\u001b[0m             \u001b[38;5;124m'\u001b[39m\u001b[38;5;124mDOMESTIC_LISTED_EQUITY_BENCHMARK_ALLOCATION\u001b[39m\u001b[38;5;124m'\u001b[39m,\u001b[38;5;124m'\u001b[39m\u001b[38;5;124mINTERNATIONAL_LISTED_EQUITY_BENCHMARK_ALLOCATION\u001b[39m\u001b[38;5;124m'\u001b[39m,\n\u001b[0;32m   (...)\u001b[0m\n\u001b[1;32m     11\u001b[0m             \u001b[38;5;124m'\u001b[39m\u001b[38;5;124mYEAR_7_RETURNS\u001b[39m\u001b[38;5;124m'\u001b[39m,\u001b[38;5;124m'\u001b[39m\u001b[38;5;124mYEAR_10_RETURNS\u001b[39m\u001b[38;5;124m'\u001b[39m, \u001b[38;5;124m'\u001b[39m\u001b[38;5;124mSUPER_FEES\u001b[39m\u001b[38;5;124m'\u001b[39m,\u001b[38;5;124m'\u001b[39m\u001b[38;5;124mPENSION_FEES\u001b[39m\u001b[38;5;124m'\u001b[39m,\n\u001b[1;32m     12\u001b[0m             \u001b[38;5;124m'\u001b[39m\u001b[38;5;124mINVESTMENT_AGE_GROUP\u001b[39m\u001b[38;5;124m'\u001b[39m, \u001b[38;5;124m'\u001b[39m\u001b[38;5;124mRETIREMENT_AGE_GROUP\u001b[39m\u001b[38;5;124m'\u001b[39m, \u001b[38;5;124m'\u001b[39m\u001b[38;5;124mTOTAL_FUNDS_INVESTED\u001b[39m\u001b[38;5;124m'\u001b[39m,\u001b[38;5;124m'\u001b[39m\u001b[38;5;124mCHURN_FLAG\u001b[39m\u001b[38;5;124m'\u001b[39m]]\u001b[38;5;241m.\u001b[39mcopy()\n",
      "File \u001b[0;32m<string>:1\u001b[0m\n",
      "\u001b[0;31mNameError\u001b[0m: name 'datetime' is not defined"
     ]
    }
   ],
   "source": [
    "yo = score(churn_model, y)\n",
    "yo"
   ]
  }
 ],
 "metadata": {
  "kernelspec": {
   "display_name": "Python 3",
   "language": "python",
   "name": "python3"
  },
  "language_info": {
   "codemirror_mode": {
    "name": "ipython",
    "version": 3
   },
   "file_extension": ".py",
   "mimetype": "text/x-python",
   "name": "python",
   "nbconvert_exporter": "python",
   "pygments_lexer": "ipython3",
   "version": "3.8.18"
  }
 },
 "nbformat": 4,
 "nbformat_minor": 5
}
