{
 "cells": [
  {
   "cell_type": "code",
   "execution_count": 7,
   "id": "6ad2ed26",
   "metadata": {
    "scrolled": true
   },
   "outputs": [],
   "source": [
    "# !pip install fosforml"
   ]
  },
  {
   "cell_type": "code",
   "execution_count": 5,
   "id": "3557a8ee",
   "metadata": {},
   "outputs": [
    {
     "name": "stdout",
     "output_type": "stream",
     "text": [
      "connection successful!\n"
     ]
    }
   ],
   "source": [
    "#Snowpark lib\n",
    "from snowflake.snowpark import Session\n",
    "\n",
    "# Data Science Libs\n",
    "import numpy as np\n",
    "import pandas as pd\n",
    "\n",
    "# create_temp_table warning suppresion\n",
    "import warnings; warnings.simplefilter('ignore')\n",
    "\n",
    "#ConfigParser to read ini file\n",
    "import configparser\n",
    "\n",
    "import numpy as np\n",
    "\n",
    "from sklearn.compose import ColumnTransformer\n",
    "from sklearn.feature_selection import SelectPercentile, chi2\n",
    "from sklearn.impute import SimpleImputer\n",
    "from sklearn.linear_model import LogisticRegression\n",
    "from sklearn.ensemble import RandomForestClassifier\n",
    "from sklearn.model_selection import RandomizedSearchCV, train_test_split\n",
    "from sklearn.pipeline import Pipeline\n",
    "from sklearn.preprocessing import OneHotEncoder, StandardScaler\n",
    "from sklearn.cluster import DBSCAN\n",
    "import pickle\n",
    "\n",
    "from fosforml import *\n",
    "from fosforml import scoring_func\n",
    "from fosforml.constants import MLModelFlavours\n",
    "import requests\n",
    "\n",
    "np.random.seed(0)\n",
    "\n",
    "config = configparser.ConfigParser()\n",
    "config.read(\"/notebooks/notebooks/credentials.ini\")\n",
    "\n",
    "connection_parameters = {\n",
    "    \"user\": f'{config[\"Snowflake\"][\"user\"]}',\n",
    "    \"password\": f'{config[\"Snowflake\"][\"password\"]}',\n",
    "    \"account\": f'{config[\"Snowflake\"][\"account\"]}',\n",
    "    \"WAREHOUSE\": f'{config[\"Snowflake\"][\"WAREHOUSE\"]}',\n",
    "    \"DATABASE\": f'{config[\"Snowflake\"][\"DATABASE\"]}',\n",
    "    \"SCHEMA\": f'{config[\"Snowflake\"][\"SCHEMA\"]}'\n",
    "}\n",
    "\n",
    "def snowflake_connector(conn):\n",
    "    try:\n",
    "        session = Session.builder.configs(conn).create()\n",
    "        print(\"connection successful!\")\n",
    "    except:\n",
    "        raise ValueError(\"error while connecting with db\")\n",
    "    return session\n",
    "\n",
    "session = snowflake_connector(connection_parameters)"
   ]
  },
  {
   "cell_type": "code",
   "execution_count": 2,
   "id": "3d66bdfa",
   "metadata": {},
   "outputs": [],
   "source": [
    "with open('churn_model.pkl','rb') as f:  ## use rb while reading the fie\n",
    "    churn_model = pickle.load(f)"
   ]
  },
  {
   "cell_type": "code",
   "execution_count": 34,
   "id": "34192f5f",
   "metadata": {},
   "outputs": [],
   "source": [
    "@scoring_func\n",
    "def score(model, request):\n",
    "    payload_dict = eval(request.json[\"payload\"])\n",
    "    data = pd.DataFrame.from_dict(payload_dict)\n",
    "    frame = data[['MEMBER_GENDER', 'MEMBER_STATE', 'MEMBER_CONTACT_VERIFIED','FUND_TOTAL_ASSETS','FUND_RETURN_TARGET_PERCENTAGE',\n",
    "            'INVESTMENT_RISK_CATEGORY', 'CASH_BENCHMARK_ALLOCATION','FIXED_INCOME_BENCHMARK_ALLOCATION',\n",
    "            'DOMESTIC_LISTED_EQUITY_BENCHMARK_ALLOCATION','INTERNATIONAL_LISTED_EQUITY_BENCHMARK_ALLOCATION',\n",
    "            'UNLISTED_EQUITY_BENCHMARK_ALLOCATION', 'EQUITY_BENCHMARK_ALLOCATION','PROPERTY_BENCHMARK_ALLOCATION',\n",
    "            'INFRA_BENCHMARK_ALLOCATION','COMMODITIES_BENCHMARK_ALLOCATION', 'OTHERS_BENCHMARK_ALLOCATION','FUND_RISK_LEVEL', \n",
    "            'FUND_RISK_CATEGORY','NEG_NETRETURN_SINCE_INCEPTION', 'YEAR_1_RETURNS', 'YEAR_3_RETURNS','YEAR_5_RETURNS',\n",
    "            'YEAR_7_RETURNS','YEAR_10_RETURNS', 'SUPER_FEES','PENSION_FEES',\n",
    "            'INVESTMENT_AGE_GROUP', 'RETIREMENT_AGE_GROUP', 'TOTAL_FUNDS_INVESTED','CHURN_FLAG']].copy()\n",
    "    result = model.predict(frame)\n",
    "    prediction = pd.DataFrame({\"CHURN_PREDICTION\":result})\n",
    "    prediction[\"CHURN_PREDICTION\"] = prediction[\"CHURN_PREDICTION\"].apply(lambda x: \"CHURN\" if x == 1 else \"NOT CHURN\")\n",
    "    probability = model.predict_proba(frame)\n",
    "    prediction[\"Probability\"] = [round(k[1],4) for k in probability]\n",
    "    prediction = str(prediction.to_dict())\n",
    "    return prediction"
   ]
  },
  {
   "cell_type": "code",
   "execution_count": 7,
   "id": "fa28351d",
   "metadata": {},
   "outputs": [],
   "source": [
    "df = session.table(\"MEMBER_FUNDS_ENRICHED_DETAILS\").to_pandas()"
   ]
  },
  {
   "cell_type": "code",
   "execution_count": 30,
   "id": "fd2e0bf1",
   "metadata": {},
   "outputs": [],
   "source": [
    "df = df.drop([\"MEMBER_DOB_DT\", 'ALLOCATION_DT', \"CHURN_DT\", \"RETIREMENT_DT\"], axis =1 )"
   ]
  },
  {
   "cell_type": "code",
   "execution_count": 38,
   "id": "dd93b499",
   "metadata": {},
   "outputs": [],
   "source": [
    "payload = df.head(10).to_dict()\n",
    "req = requests.Request()\n",
    "req.json = {\"payload\":str(payload)}\n",
    "y = req\n"
   ]
  },
  {
   "cell_type": "code",
   "execution_count": 39,
   "id": "4019289a",
   "metadata": {},
   "outputs": [
    {
     "data": {
      "text/plain": [
       "\"{'MEMBER_ID': {0: 'MID108406', 1: 'MID108415', 2: 'MID108429', 3: 'MID108436', 4: 'MID108438', 5: 'MID108452', 6: 'MID108455', 7: 'MID108469', 8: 'MID108503', 9: 'MID108529'}, 'MEMBER_NAME': {0: 'Maile Treston', 1: 'Annabelle Cryer', 2: 'Leonora Acuff', 3: 'Franklyn Gesick', 4: 'Amber Gillaspie', 5: 'Caprice Haroldson', 6: 'Glenna Kohnert', 7: 'Rolande Bennick', 8: 'Raylene Garufi', 9: 'Layla Bilden'}, 'MEMBER_EMPLOYMENT': {0: 'Charles Darwin University', 1: 'RMIT University', 2: 'University of South Australia', 3: 'The University of Newcastle', 4: 'University of South Australia', 5: 'Queensland University of Technology', 6: 'Southern Cross University', 7: 'The University of Notre Dame Australia', 8: 'Avondale University', 9: 'Avondale University'}, 'MEMBER_GENDER': {0: 'Male', 1: 'Female', 2: 'Male', 3: 'Male', 4: 'Female', 5: 'Female', 6: 'Female', 7: 'Male', 8: 'Male', 9: 'Male'}, 'MEMBER_CITY_TOWN': {0: 'Lakes Entrance', 1: 'Mooroopna', 2: 'Jindabyne', 3: 'Wingham', 4: 'Nathalia', 5: 'Worragee', 6: 'Euroa', 7: 'Temora', 8: 'Sawtell', 9: 'Penrith'}, 'MEMBER_STATE': {0: 'Victoria', 1: 'Victoria', 2: 'New South Wales', 3: 'New South Wales', 4: 'Victoria', 5: 'New South Wales', 6: 'Victoria', 7: 'New South Wales', 8: 'New South Wales', 9: 'New South Wales'}, 'MEMBER_CONTACT_VERIFIED': {0: 'Y', 1: 'N', 2: 'N', 3: 'N', 4: 'Y', 5: 'N', 6: 'N', 7: 'Y', 8: 'N', 9: 'N'}, 'FUND_ID': {0: 'FID000044', 1: 'FID000016', 2: 'FID000100', 3: 'FID000012', 4: 'FID000035', 5: 'FID000076', 6: 'FID000044', 7: 'FID000080', 8: 'FID000111', 9: 'FID000100'}, 'CHURN_REASON': {0: 'NOT APPLICABLE', 1: 'NOT APPLICABLE', 2: 'NOT APPLICABLE', 3: 'NOT APPLICABLE', 4: 'NOT APPLICABLE', 5: 'NOT APPLICABLE', 6: 'NOT APPLICABLE', 7: 'NOT APPLICABLE', 8: 'NOT APPLICABLE', 9: 'NOT APPLICABLE'}, 'LATITUDE': {0: -37.8667, 1: -36.3833, 2: -36.4, 3: -31.8667, 4: -36.0583, 5: -34.9144, 6: -36.75, 7: -34.4333, 8: -30.3833, 9: -33.7511}, 'LONGITUDE': {0: 147.9833, 1: 145.35, 2: 148.6167, 3: 152.3667, 4: 145.2036, 5: 150.6386, 6: 145.5667, 7: 147.5333, 8: 153.1, 9: 150.6942}, 'COUNTRY': {0: 'Australia', 1: 'Australia', 2: 'Australia', 3: 'Australia', 4: 'Australia', 5: 'Australia', 6: 'Australia', 7: 'Australia', 8: 'Australia', 9: 'Australia'}, 'COUNTRYCODE': {0: 'AU', 1: 'AU', 2: 'AU', 3: 'AU', 4: 'AU', 5: 'AU', 6: 'AU', 7: 'AU', 8: 'AU', 9: 'AU'}, 'CAPITAL': {0: 'NOT APPLICABLE', 1: 'NOT APPLICABLE', 2: 'NOT APPLICABLE', 3: 'NOT APPLICABLE', 4: 'NOT APPLICABLE', 5: 'NOT APPLICABLE', 6: 'NOT APPLICABLE', 7: 'NOT APPLICABLE', 8: 'NOT APPLICABLE', 9: 'NOT APPLICABLE'}, 'POPULATION': {0: 6071, 1: 7942, 2: 2233, 3: 4556, 4: 1529, 5: 5068, 6: 3275, 7: 4016, 8: 3682, 9: 13295}, 'FUND_TOTAL_ASSETS': {0: 5866.0, 1: 119890.3, 2: 368.6, 3: 39924.2, 4: 257919.0, 5: 1404.2, 6: 5866.0, 7: 56557.2, 8: 21674.2, 9: 368.6}, 'FUND_RETURN_TARGET_PERCENTAGE': {0: 3.247619048, 1: 3.473684211, 2: 4.0, 3: 3.985185185, 4: 5.15, 5: 2.607407407, 6: 3.247619048, 7: 2.857142857, 8: 4.478148148, 9: 4.0}, 'INVESTMENT_RISK_LEVEL': {0: 3.59047619, 1: 3.157894737, 2: 3.153846154, 3: 4.188888889, 4: 3.325, 5: 4.555555556, 6: 3.59047619, 7: 3.107142857, 8: 2.975925926, 9: 3.153846154}, 'INVESTMENT_RISK_CATEGORY': {0: 'Medium-Low', 1: 'Low', 2: 'Low', 3: 'Medium-High', 4: 'Medium-Low', 5: 'High', 6: 'Medium-Low', 7: 'Low', 8: 'Low', 9: 'Low'}, 'CASH_BENCHMARK_ALLOCATION': {0: 4.047619048, 1: 3.0, 2: 4.038461538, 3: 10.0, 4: 5.0, 5: 7.407407407, 6: 4.047619048, 7: 4.821428571, 8: 4.074074074, 9: 4.038461538}, 'FIXED_INCOME_BENCHMARK_ALLOCATION': {0: 9.761904762, 1: 12.0, 2: 21.15384615, 3: 10.0, 4: 22.0, 5: 15.28888889, 6: 9.761904762, 7: 26.46428571, 8: 15.74074074, 9: 21.15384615}, 'DOMESTIC_LISTED_EQUITY_BENCHMARK_ALLOCATION': {0: 24.52380952, 1: 23.0, 2: 42.69230769, 3: 10.0, 4: 21.0, 5: 26.37037037, 6: 24.52380952, 7: 28.57142857, 8: 27.0, 9: 42.69230769}, 'INTERNATIONAL_LISTED_EQUITY_BENCHMARK_ALLOCATION': {0: 25.19047619, 1: 25.0, 2: 21.0, 3: 10.0, 4: 26.0, 5: 26.40740741, 6: 25.19047619, 7: 25.71428571, 8: 22.18518519, 9: 21.0}, 'UNLISTED_EQUITY_BENCHMARK_ALLOCATION': {0: 0.0, 1: 3.0, 2: 0.0, 3: 10.0, 4: 5.0, 5: 0.916666667, 6: 0.0, 7: 0.0, 8: 5.777777778, 9: 0.0}, 'EQUITY_BENCHMARK_ALLOCATION': {0: 0.0, 1: 0.0, 2: 0.0, 3: 10.0, 4: 0.0, 5: 0.0, 6: 0.0, 7: 0.0, 8: 0.0, 9: 0.0}, 'PROPERTY_BENCHMARK_ALLOCATION': {0: 11.52380952, 1: 9.0, 2: 11.201, 3: 10.0, 4: 12.0, 5: 13.1, 6: 11.52380952, 7: 10.0, 8: 12.0, 9: 11.201}, 'INFRA_BENCHMARK_ALLOCATION': {0: 7.666666667, 1: 9.0, 2: 0.0, 3: 10.0, 4: 7.0, 5: 4.037037037, 6: 7.666666667, 7: 2.714285714, 8: 12.0, 9: 0.0}, 'COMMODITIES_BENCHMARK_ALLOCATION': {0: 0.0, 1: 1.0, 2: 0.0, 3: 10.0, 4: 0.0, 5: 0.0, 6: 0.0, 7: 0.0, 8: 0.0, 9: 0.0}, 'OTHERS_BENCHMARK_ALLOCATION': {0: 17.28571, 1: 15.0, 2: 0.0, 3: 10.0, 4: 2.0, 5: 6.47222, 6: 17.28571, 7: 1.714286, 8: 1.22222, 9: 0.0}, 'FUND_RISK_LEVEL': {0: 3.59047619, 1: 3.157894737, 2: 3.153846154, 3: 4.188888889, 4: 3.325, 5: 4.555555556, 6: 3.59047619, 7: 3.107142857, 8: 2.975925926, 9: 3.153846154}, 'FUND_RISK_CATEGORY': {0: 'Medium-Low', 1: 'Low', 2: 'Low', 3: 'Medium-High', 4: 'Medium-Low', 5: 'High', 6: 'Medium-Low', 7: 'Low', 8: 'Low', 9: 'Low'}, 'NEG_NETRETURN_SINCE_INCEPTION': {0: '1 to 2', 1: '0.5 to 1', 2: '0.5 to 1', 3: '2 to 3', 4: '1 to 2', 5: '3 to 4 ', 6: '1 to 2', 7: '0.5 to 1', 8: '0.5 to 1', 9: '0.5 to 1'}, 'YEAR_1_RETURNS': {0: 6.74, 1: 4.39, 2: 4.7, 3: 6.29, 4: 6.89, 5: 9.92, 6: 6.74, 7: 4.08, 8: 4.41, 9: 4.7}, 'YEAR_3_RETURNS': {0: 4.27, 1: 3.14, 2: 3.42, 3: 4.42, 4: 4.29, 5: 4.69, 6: 4.27, 7: 3.15, 8: 3.43, 9: 3.42}, 'YEAR_5_RETURNS': {0: 4.97, 1: 2.47, 2: 2.08, 3: 4.02, 4: 4.37, 5: 6.03, 6: 4.97, 7: 2.02, 8: 2.5, 9: 2.08}, 'YEAR_7_RETURNS': {0: 5.07, 1: 2.25, 2: 2.27, 3: 5.07, 4: 5.01, 5: 6.61, 6: 5.07, 7: 2.31, 8: 2.66, 9: 2.27}, 'YEAR_10_RETURNS': {0: 5.45, 1: 2.65, 2: 2.92, 3: 5.33, 4: 5.74, 5: 8.06, 6: 5.45, 7: 2.77, 8: 2.83, 9: 2.92}, 'SUPER_FEES': {0: 0.5, 1: 0.13, 2: 0.13, 3: 0.5, 4: 0.5, 5: 0.55, 6: 0.5, 7: 0.14, 8: 0.13, 9: 0.13}, 'PENSION_FEES': {0: 0.5, 1: 0.13, 2: 0.13, 3: 0.41, 4: 0.48, 5: 0.56, 6: 0.5, 7: 0.13, 8: 0.14, 9: 0.13}, 'CHURN_FLAG': {0: 'N', 1: 'N', 2: 'N', 3: 'N', 4: 'N', 5: 'N', 6: 'N', 7: 'N', 8: 'N', 9: 'N'}, 'MEMBER_AGE': {0: 52, 1: 26, 2: 51, 3: 41, 4: 40, 5: 59, 6: 47, 7: 24, 8: 38, 9: 30}, 'INVESTMENT_AGE_GROUP': {0: 'Senior', 1: 'Young', 2: 'Senior', 3: 'Middle-aged', 4: 'Middle-aged', 5: 'Senior', 6: 'Middle-aged', 7: 'Young', 8: 'Middle-aged', 9: 'Middle-aged'}, 'RETIREMENT_AGE': {0: 13, 1: 39, 2: 14, 3: 24, 4: 25, 5: 6, 6: 18, 7: 41, 8: 27, 9: 35}, 'RETIREMENT_AGE_GROUP': {0: 'MORE_THAN_10_YEAR', 1: 'MORE_THAN_10_YEAR', 2: 'MORE_THAN_10_YEAR', 3: 'MORE_THAN_10_YEAR', 4: 'MORE_THAN_10_YEAR', 5: 'IN_NEXT_5_YEAR', 6: 'MORE_THAN_10_YEAR', 7: 'MORE_THAN_10_YEAR', 8: 'MORE_THAN_10_YEAR', 9: 'MORE_THAN_10_YEAR'}, 'TOTAL_FUNDS_INVESTED': {0: 3, 1: 3, 2: 3, 3: 3, 4: 3, 5: 3, 6: 3, 7: 3, 8: 3, 9: 3}, 'NO_OF_CHURN': {0: 2.0, 1: 2.0, 2: 2.0, 3: 2.0, 4: 2.0, 5: 2.0, 6: 2.0, 7: 2.0, 8: 2.0, 9: 2.0}}\""
      ]
     },
     "execution_count": 39,
     "metadata": {},
     "output_type": "execute_result"
    }
   ],
   "source": [
    "y.json[\"payload\"]"
   ]
  },
  {
   "cell_type": "code",
   "execution_count": 40,
   "id": "30424cd1",
   "metadata": {},
   "outputs": [
    {
     "data": {
      "text/plain": [
       "\"{'CHURN_PREDICTION': {0: 'NOT CHURN', 1: 'NOT CHURN', 2: 'CHURN', 3: 'NOT CHURN', 4: 'NOT CHURN', 5: 'NOT CHURN', 6: 'NOT CHURN', 7: 'NOT CHURN', 8: 'NOT CHURN', 9: 'CHURN'}, 'Probability': {0: 0.3505, 1: 0.3511, 2: 0.5162, 3: 0.2224, 4: 0.2325, 5: 0.2897, 6: 0.3505, 7: 0.2668, 8: 0.2126, 9: 0.5162}}\""
      ]
     },
     "execution_count": 40,
     "metadata": {},
     "output_type": "execute_result"
    }
   ],
   "source": [
    "yo = score(churn_model, y)\n",
    "yo"
   ]
  }
 ],
 "metadata": {
  "kernelspec": {
   "display_name": "Python 3",
   "language": "python",
   "name": "python3"
  },
  "language_info": {
   "codemirror_mode": {
    "name": "ipython",
    "version": 3
   },
   "file_extension": ".py",
   "mimetype": "text/x-python",
   "name": "python",
   "nbconvert_exporter": "python",
   "pygments_lexer": "ipython3",
   "version": "3.8.18"
  }
 },
 "nbformat": 4,
 "nbformat_minor": 5
}
