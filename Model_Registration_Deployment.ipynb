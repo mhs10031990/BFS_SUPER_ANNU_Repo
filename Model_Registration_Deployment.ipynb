{
 "cells": [
  {
   "cell_type": "code",
   "execution_count": 24,
   "id": "5535e842-c99f-4980-b415-a7ac35e91dc2",
   "metadata": {},
   "outputs": [],
   "source": [
    "#Snowpark lib\n",
    "#from snowflake.snowpark import Session\n",
    "\n",
    "# Data Science Libs\n",
    "import numpy as np\n",
    "import pandas as pd\n",
    "\n",
    "# create_temp_table warning suppresion\n",
    "import warnings; warnings.simplefilter('ignore')\n",
    "\n",
    "import numpy as np\n",
    "\n",
    "from sklearn.compose import ColumnTransformer\n",
    "from sklearn.feature_selection import SelectPercentile, chi2\n",
    "from sklearn.impute import SimpleImputer\n",
    "from sklearn.linear_model import LogisticRegression\n",
    "from sklearn.ensemble import RandomForestClassifier\n",
    "from sklearn.model_selection import RandomizedSearchCV, train_test_split\n",
    "from sklearn.pipeline import Pipeline\n",
    "from sklearn.preprocessing import OneHotEncoder, StandardScaler\n",
    "from sklearn.cluster import DBSCAN\n",
    "import pickle\n",
    "import requests\n",
    "\n",
    "np.random.seed(0)"
   ]
  },
  {
   "cell_type": "code",
   "execution_count": 15,
   "id": "b2a012e3",
   "metadata": {
    "scrolled": true
   },
   "outputs": [],
   "source": [
    "from fosforml.model_manager.snowflakesession import get_session\n",
    "my_session = get_session()"
   ]
  },
  {
   "cell_type": "code",
   "execution_count": 16,
   "id": "03aa460e",
   "metadata": {},
   "outputs": [],
   "source": [
    "with open('churn_model.pkl','rb') as f:  ## use rb while reading the fie\n",
    "    churn_model = pickle.load(f)"
   ]
  },
  {
   "cell_type": "code",
   "execution_count": 18,
   "id": "c197f869-203d-4fff-ad10-d5513ecc7195",
   "metadata": {},
   "outputs": [],
   "source": [
    "table_name = 'MEMBER_FUNDS_ENRICHED_DETAILS'\n",
    "sf_df = my_session.sql(\"select * from {}\".format(table_name))\n",
    "df = sf_df.to_pandas()"
   ]
  },
  {
   "cell_type": "code",
   "execution_count": 19,
   "id": "20120f1a",
   "metadata": {},
   "outputs": [],
   "source": [
    "df = df.drop([\"MEMBER_DOB_DT\", 'ALLOCATION_DT', \"CHURN_DT\", \"RETIREMENT_DT\"], axis =1 )"
   ]
  },
  {
   "cell_type": "code",
   "execution_count": 20,
   "id": "0c94e8f8",
   "metadata": {},
   "outputs": [],
   "source": [
    "frame = df[['MEMBER_GENDER', 'MEMBER_STATE', 'MEMBER_CONTACT_VERIFIED','FUND_TOTAL_ASSETS','FUND_RETURN_TARGET_PERCENTAGE',\n",
    "            'INVESTMENT_RISK_CATEGORY', 'CASH_BENCHMARK_ALLOCATION','FIXED_INCOME_BENCHMARK_ALLOCATION',\n",
    "            'DOMESTIC_LISTED_EQUITY_BENCHMARK_ALLOCATION','INTERNATIONAL_LISTED_EQUITY_BENCHMARK_ALLOCATION',\n",
    "            'UNLISTED_EQUITY_BENCHMARK_ALLOCATION', 'EQUITY_BENCHMARK_ALLOCATION','PROPERTY_BENCHMARK_ALLOCATION',\n",
    "            'INFRA_BENCHMARK_ALLOCATION','COMMODITIES_BENCHMARK_ALLOCATION', 'OTHERS_BENCHMARK_ALLOCATION','FUND_RISK_LEVEL', \n",
    "            'FUND_RISK_CATEGORY','NEG_NETRETURN_SINCE_INCEPTION', 'YEAR_1_RETURNS', 'YEAR_3_RETURNS','YEAR_5_RETURNS',\n",
    "            'YEAR_7_RETURNS','YEAR_10_RETURNS', 'SUPER_FEES','PENSION_FEES',\n",
    "            'INVESTMENT_AGE_GROUP', 'RETIREMENT_AGE_GROUP', 'TOTAL_FUNDS_INVESTED','CHURN_FLAG']].copy()\n",
    "\n",
    "X = frame.drop(\"CHURN_FLAG\", axis=1)\n",
    "y = frame[\"CHURN_FLAG\"]\n",
    "\n",
    "X_train, X_test, y_train, y_test = train_test_split(X, y, test_size=0.2, random_state=0)"
   ]
  },
  {
   "cell_type": "code",
   "execution_count": 29,
   "id": "61d726cf-ff2b-4093-911f-2b3b8ce9d80c",
   "metadata": {},
   "outputs": [],
   "source": [
    "def score(model, request):\n",
    "    payload_dict = eval(request.json[\"payload\"])\n",
    "    data = pd.DataFrame.from_dict(payload_dict)\n",
    "    frame = data[['MEMBER_GENDER', 'MEMBER_STATE', 'MEMBER_CONTACT_VERIFIED','FUND_TOTAL_ASSETS','FUND_RETURN_TARGET_PERCENTAGE',\n",
    "            'INVESTMENT_RISK_CATEGORY', 'CASH_BENCHMARK_ALLOCATION','FIXED_INCOME_BENCHMARK_ALLOCATION',\n",
    "            'DOMESTIC_LISTED_EQUITY_BENCHMARK_ALLOCATION','INTERNATIONAL_LISTED_EQUITY_BENCHMARK_ALLOCATION',\n",
    "            'UNLISTED_EQUITY_BENCHMARK_ALLOCATION', 'EQUITY_BENCHMARK_ALLOCATION','PROPERTY_BENCHMARK_ALLOCATION',\n",
    "            'INFRA_BENCHMARK_ALLOCATION','COMMODITIES_BENCHMARK_ALLOCATION', 'OTHERS_BENCHMARK_ALLOCATION','FUND_RISK_LEVEL', \n",
    "            'FUND_RISK_CATEGORY','NEG_NETRETURN_SINCE_INCEPTION', 'YEAR_1_RETURNS', 'YEAR_3_RETURNS','YEAR_5_RETURNS',\n",
    "            'YEAR_7_RETURNS','YEAR_10_RETURNS', 'SUPER_FEES','PENSION_FEES',\n",
    "            'INVESTMENT_AGE_GROUP', 'RETIREMENT_AGE_GROUP', 'TOTAL_FUNDS_INVESTED']].copy()\n",
    "    result = model.predict(frame)\n",
    "    prediction = pd.DataFrame({\"CHURN_PREDICTION\":result})\n",
    "    prediction[\"CHURN_PREDICTION\"] = prediction[\"CHURN_PREDICTION\"].apply(lambda x: \"Y\" if x == 1 else \"N\")\n",
    "    probability = model.predict_proba(frame)\n",
    "    prediction[\"Probability\"] = [round(k[1],4) for k in probability]    \n",
    "    prediction = prediction.to_dict()\n",
    "    return pd.DataFrame(prediction)"
   ]
  },
  {
   "cell_type": "code",
   "execution_count": 22,
   "id": "e1a79378-dc8d-4dfd-ae7a-5df2a2f9e79b",
   "metadata": {},
   "outputs": [],
   "source": [
    "table_name = 'MEMBER_FUNDS_ENRICHED_DETAILS'\n",
    "sf_df = my_session.sql(\"select * from {}\".format(table_name))\n",
    "df = sf_df.to_pandas()\n",
    "df = df.drop([\"MEMBER_DOB_DT\", 'ALLOCATION_DT', \"CHURN_DT\", \"RETIREMENT_DT\"], axis =1 )"
   ]
  },
  {
   "cell_type": "code",
   "execution_count": 30,
   "id": "163736d8-dcf0-4439-b5f6-4dbc00c5fdf1",
   "metadata": {},
   "outputs": [
    {
     "data": {
      "text/html": [
       "<div>\n",
       "<style scoped>\n",
       "    .dataframe tbody tr th:only-of-type {\n",
       "        vertical-align: middle;\n",
       "    }\n",
       "\n",
       "    .dataframe tbody tr th {\n",
       "        vertical-align: top;\n",
       "    }\n",
       "\n",
       "    .dataframe thead th {\n",
       "        text-align: right;\n",
       "    }\n",
       "</style>\n",
       "<table border=\"1\" class=\"dataframe\">\n",
       "  <thead>\n",
       "    <tr style=\"text-align: right;\">\n",
       "      <th></th>\n",
       "      <th>CHURN_PREDICTION</th>\n",
       "      <th>Probability</th>\n",
       "    </tr>\n",
       "  </thead>\n",
       "  <tbody>\n",
       "    <tr>\n",
       "      <th>0</th>\n",
       "      <td>N</td>\n",
       "      <td>0.3438</td>\n",
       "    </tr>\n",
       "    <tr>\n",
       "      <th>1</th>\n",
       "      <td>N</td>\n",
       "      <td>0.3514</td>\n",
       "    </tr>\n",
       "    <tr>\n",
       "      <th>2</th>\n",
       "      <td>N</td>\n",
       "      <td>0.4961</td>\n",
       "    </tr>\n",
       "    <tr>\n",
       "      <th>3</th>\n",
       "      <td>N</td>\n",
       "      <td>0.2194</td>\n",
       "    </tr>\n",
       "    <tr>\n",
       "      <th>4</th>\n",
       "      <td>N</td>\n",
       "      <td>0.2482</td>\n",
       "    </tr>\n",
       "    <tr>\n",
       "      <th>5</th>\n",
       "      <td>N</td>\n",
       "      <td>0.2815</td>\n",
       "    </tr>\n",
       "    <tr>\n",
       "      <th>6</th>\n",
       "      <td>N</td>\n",
       "      <td>0.3438</td>\n",
       "    </tr>\n",
       "    <tr>\n",
       "      <th>7</th>\n",
       "      <td>N</td>\n",
       "      <td>0.2461</td>\n",
       "    </tr>\n",
       "    <tr>\n",
       "      <th>8</th>\n",
       "      <td>N</td>\n",
       "      <td>0.2412</td>\n",
       "    </tr>\n",
       "    <tr>\n",
       "      <th>9</th>\n",
       "      <td>N</td>\n",
       "      <td>0.4961</td>\n",
       "    </tr>\n",
       "  </tbody>\n",
       "</table>\n",
       "</div>"
      ],
      "text/plain": [
       "  CHURN_PREDICTION  Probability\n",
       "0                N       0.3438\n",
       "1                N       0.3514\n",
       "2                N       0.4961\n",
       "3                N       0.2194\n",
       "4                N       0.2482\n",
       "5                N       0.2815\n",
       "6                N       0.3438\n",
       "7                N       0.2461\n",
       "8                N       0.2412\n",
       "9                N       0.4961"
      ]
     },
     "execution_count": 30,
     "metadata": {},
     "output_type": "execute_result"
    }
   ],
   "source": [
    "payload = df.head(10).to_dict()\n",
    "req = requests.Request()\n",
    "req.json = {\"payload\":str(payload)}\n",
    "y = req\n",
    "yo = score(churn_model, y)\n",
    "yo"
   ]
  },
  {
   "cell_type": "code",
   "execution_count": 31,
   "id": "b65513a7-d101-4fd7-a02d-6d05e57284dd",
   "metadata": {},
   "outputs": [
    {
     "data": {
      "text/plain": [
       "pandas.core.frame.DataFrame"
      ]
     },
     "execution_count": 31,
     "metadata": {},
     "output_type": "execute_result"
    }
   ],
   "source": [
    "type(yo)"
   ]
  },
  {
   "cell_type": "code",
   "execution_count": 32,
   "id": "574f201f-6bc7-4641-a844-3b7d0b542e6e",
   "metadata": {},
   "outputs": [],
   "source": [
    "frame = df[['MEMBER_GENDER', 'MEMBER_STATE', 'MEMBER_CONTACT_VERIFIED','FUND_TOTAL_ASSETS','FUND_RETURN_TARGET_PERCENTAGE',\n",
    "            'INVESTMENT_RISK_CATEGORY', 'CASH_BENCHMARK_ALLOCATION','FIXED_INCOME_BENCHMARK_ALLOCATION',\n",
    "            'DOMESTIC_LISTED_EQUITY_BENCHMARK_ALLOCATION','INTERNATIONAL_LISTED_EQUITY_BENCHMARK_ALLOCATION',\n",
    "            'UNLISTED_EQUITY_BENCHMARK_ALLOCATION', 'EQUITY_BENCHMARK_ALLOCATION','PROPERTY_BENCHMARK_ALLOCATION',\n",
    "            'INFRA_BENCHMARK_ALLOCATION','COMMODITIES_BENCHMARK_ALLOCATION', 'OTHERS_BENCHMARK_ALLOCATION','FUND_RISK_LEVEL', \n",
    "            'FUND_RISK_CATEGORY','NEG_NETRETURN_SINCE_INCEPTION', 'YEAR_1_RETURNS', 'YEAR_3_RETURNS','YEAR_5_RETURNS',\n",
    "            'YEAR_7_RETURNS','YEAR_10_RETURNS', 'SUPER_FEES','PENSION_FEES',\n",
    "            'INVESTMENT_AGE_GROUP', 'RETIREMENT_AGE_GROUP', 'TOTAL_FUNDS_INVESTED','CHURN_FLAG']].copy()\n",
    "\n",
    "X = frame.drop(\"CHURN_FLAG\", axis=1)\n",
    "y = frame[\"CHURN_FLAG\"]\n",
    "\n",
    "X_train, X_test, y_train, y_test = train_test_split(X, y, test_size=0.2, random_state=0)"
   ]
  },
  {
   "cell_type": "code",
   "execution_count": 37,
   "id": "719b43e2-599c-478f-8651-06e29d7b024c",
   "metadata": {},
   "outputs": [],
   "source": [
    "payload = X_test.to_dict()\n",
    "req = requests.Request()\n",
    "req.json = {\"payload\":str(payload)}\n",
    "y = req\n",
    "pred = score(churn_model, y)"
   ]
  },
  {
   "cell_type": "code",
   "execution_count": 35,
   "id": "8cf516ed-150f-4390-817d-fd4d7171a06a",
   "metadata": {},
   "outputs": [],
   "source": [
    "#temp_ = eval(pred_dic)\n",
    "#print(\"string to dict\")\n",
    "#pred = pd.DataFrame.from_dict(temp_)"
   ]
  },
  {
   "cell_type": "code",
   "execution_count": 38,
   "id": "1b4e10aa-52a2-43a6-b65b-9073d2a90c9f",
   "metadata": {},
   "outputs": [],
   "source": [
    "y_pred = pred[\"CHURN_PREDICTION\"]\n",
    "y_prob = pred[\"Probability\"]"
   ]
  },
  {
   "cell_type": "code",
   "execution_count": 43,
   "id": "9a8fdee3-6f0e-4317-bf60-9a0b44c8150c",
   "metadata": {},
   "outputs": [],
   "source": [
    "from fosforml import register_model\n",
    "## registering the model in Fosfor Insight Designer."
   ]
  },
  {
   "cell_type": "code",
   "execution_count": 45,
   "id": "37b5c86f-69d9-48cd-b810-82b11e52a800",
   "metadata": {},
   "outputs": [
    {
     "data": {
      "text/html": [
       "<style>#sk-container-id-1 {color: black;}#sk-container-id-1 pre{padding: 0;}#sk-container-id-1 div.sk-toggleable {background-color: white;}#sk-container-id-1 label.sk-toggleable__label {cursor: pointer;display: block;width: 100%;margin-bottom: 0;padding: 0.3em;box-sizing: border-box;text-align: center;}#sk-container-id-1 label.sk-toggleable__label-arrow:before {content: \"▸\";float: left;margin-right: 0.25em;color: #696969;}#sk-container-id-1 label.sk-toggleable__label-arrow:hover:before {color: black;}#sk-container-id-1 div.sk-estimator:hover label.sk-toggleable__label-arrow:before {color: black;}#sk-container-id-1 div.sk-toggleable__content {max-height: 0;max-width: 0;overflow: hidden;text-align: left;background-color: #f0f8ff;}#sk-container-id-1 div.sk-toggleable__content pre {margin: 0.2em;color: black;border-radius: 0.25em;background-color: #f0f8ff;}#sk-container-id-1 input.sk-toggleable__control:checked~div.sk-toggleable__content {max-height: 200px;max-width: 100%;overflow: auto;}#sk-container-id-1 input.sk-toggleable__control:checked~label.sk-toggleable__label-arrow:before {content: \"▾\";}#sk-container-id-1 div.sk-estimator input.sk-toggleable__control:checked~label.sk-toggleable__label {background-color: #d4ebff;}#sk-container-id-1 div.sk-label input.sk-toggleable__control:checked~label.sk-toggleable__label {background-color: #d4ebff;}#sk-container-id-1 input.sk-hidden--visually {border: 0;clip: rect(1px 1px 1px 1px);clip: rect(1px, 1px, 1px, 1px);height: 1px;margin: -1px;overflow: hidden;padding: 0;position: absolute;width: 1px;}#sk-container-id-1 div.sk-estimator {font-family: monospace;background-color: #f0f8ff;border: 1px dotted black;border-radius: 0.25em;box-sizing: border-box;margin-bottom: 0.5em;}#sk-container-id-1 div.sk-estimator:hover {background-color: #d4ebff;}#sk-container-id-1 div.sk-parallel-item::after {content: \"\";width: 100%;border-bottom: 1px solid gray;flex-grow: 1;}#sk-container-id-1 div.sk-label:hover label.sk-toggleable__label {background-color: #d4ebff;}#sk-container-id-1 div.sk-serial::before {content: \"\";position: absolute;border-left: 1px solid gray;box-sizing: border-box;top: 0;bottom: 0;left: 50%;z-index: 0;}#sk-container-id-1 div.sk-serial {display: flex;flex-direction: column;align-items: center;background-color: white;padding-right: 0.2em;padding-left: 0.2em;position: relative;}#sk-container-id-1 div.sk-item {position: relative;z-index: 1;}#sk-container-id-1 div.sk-parallel {display: flex;align-items: stretch;justify-content: center;background-color: white;position: relative;}#sk-container-id-1 div.sk-item::before, #sk-container-id-1 div.sk-parallel-item::before {content: \"\";position: absolute;border-left: 1px solid gray;box-sizing: border-box;top: 0;bottom: 0;left: 50%;z-index: -1;}#sk-container-id-1 div.sk-parallel-item {display: flex;flex-direction: column;z-index: 1;position: relative;background-color: white;}#sk-container-id-1 div.sk-parallel-item:first-child::after {align-self: flex-end;width: 50%;}#sk-container-id-1 div.sk-parallel-item:last-child::after {align-self: flex-start;width: 50%;}#sk-container-id-1 div.sk-parallel-item:only-child::after {width: 0;}#sk-container-id-1 div.sk-dashed-wrapped {border: 1px dashed gray;margin: 0 0.4em 0.5em 0.4em;box-sizing: border-box;padding-bottom: 0.4em;background-color: white;}#sk-container-id-1 div.sk-label label {font-family: monospace;font-weight: bold;display: inline-block;line-height: 1.2em;}#sk-container-id-1 div.sk-label-container {text-align: center;}#sk-container-id-1 div.sk-container {/* jupyter's `normalize.less` sets `[hidden] { display: none; }` but bootstrap.min.css set `[hidden] { display: none !important; }` so we also need the `!important` here to be able to override the default hidden behavior on the sphinx rendered scikit-learn.org. See: https://github.com/scikit-learn/scikit-learn/issues/21755 */display: inline-block !important;position: relative;}#sk-container-id-1 div.sk-text-repr-fallback {display: none;}</style><div id=\"sk-container-id-1\" class=\"sk-top-container\"><div class=\"sk-text-repr-fallback\"><pre>Pipeline(steps=[(&#x27;preprocessor&#x27;,\n",
       "                 ColumnTransformer(transformers=[(&#x27;num&#x27;,\n",
       "                                                  Pipeline(steps=[(&#x27;imputer&#x27;,\n",
       "                                                                   SimpleImputer(strategy=&#x27;median&#x27;)),\n",
       "                                                                  (&#x27;scaler&#x27;,\n",
       "                                                                   StandardScaler())]),\n",
       "                                                  [&#x27;FUND_TOTAL_ASSETS&#x27;,\n",
       "                                                   &#x27;FUND_RETURN_TARGET_PERCENTAGE&#x27;,\n",
       "                                                   &#x27;CASH_BENCHMARK_ALLOCATION&#x27;,\n",
       "                                                   &#x27;FIXED_INCOME_BENCHMARK_ALLOCATION&#x27;,\n",
       "                                                   &#x27;DOMESTIC_LISTED_EQUITY_BENCHMARK_ALLOCATION&#x27;,\n",
       "                                                   &#x27;INTERNATIONAL_LISTED_EQU...\n",
       "                                                                                    score_func=&lt;function chi2 at 0x7fe849a7d790&gt;))]),\n",
       "                                                  [&#x27;MEMBER_GENDER&#x27;,\n",
       "                                                   &#x27;MEMBER_STATE&#x27;,\n",
       "                                                   &#x27;MEMBER_CONTACT_VERIFIED&#x27;,\n",
       "                                                   &#x27;INVESTMENT_RISK_CATEGORY&#x27;,\n",
       "                                                   &#x27;FUND_RISK_LEVEL&#x27;,\n",
       "                                                   &#x27;FUND_RISK_CATEGORY&#x27;,\n",
       "                                                   &#x27;NEG_NETRETURN_SINCE_INCEPTION&#x27;,\n",
       "                                                   &#x27;INVESTMENT_AGE_GROUP&#x27;,\n",
       "                                                   &#x27;RETIREMENT_AGE_GROUP&#x27;,\n",
       "                                                   &#x27;TOTAL_FUNDS_INVESTED&#x27;])])),\n",
       "                (&#x27;classifier&#x27;,\n",
       "                 RandomForestClassifier(max_depth=8, max_features=0.6,\n",
       "                                        max_samples=0.8, n_estimators=500))])</pre><b>In a Jupyter environment, please rerun this cell to show the HTML representation or trust the notebook. <br />On GitHub, the HTML representation is unable to render, please try loading this page with nbviewer.org.</b></div><div class=\"sk-container\" hidden><div class=\"sk-item sk-dashed-wrapped\"><div class=\"sk-label-container\"><div class=\"sk-label sk-toggleable\"><input class=\"sk-toggleable__control sk-hidden--visually\" id=\"sk-estimator-id-1\" type=\"checkbox\" ><label for=\"sk-estimator-id-1\" class=\"sk-toggleable__label sk-toggleable__label-arrow\">Pipeline</label><div class=\"sk-toggleable__content\"><pre>Pipeline(steps=[(&#x27;preprocessor&#x27;,\n",
       "                 ColumnTransformer(transformers=[(&#x27;num&#x27;,\n",
       "                                                  Pipeline(steps=[(&#x27;imputer&#x27;,\n",
       "                                                                   SimpleImputer(strategy=&#x27;median&#x27;)),\n",
       "                                                                  (&#x27;scaler&#x27;,\n",
       "                                                                   StandardScaler())]),\n",
       "                                                  [&#x27;FUND_TOTAL_ASSETS&#x27;,\n",
       "                                                   &#x27;FUND_RETURN_TARGET_PERCENTAGE&#x27;,\n",
       "                                                   &#x27;CASH_BENCHMARK_ALLOCATION&#x27;,\n",
       "                                                   &#x27;FIXED_INCOME_BENCHMARK_ALLOCATION&#x27;,\n",
       "                                                   &#x27;DOMESTIC_LISTED_EQUITY_BENCHMARK_ALLOCATION&#x27;,\n",
       "                                                   &#x27;INTERNATIONAL_LISTED_EQU...\n",
       "                                                                                    score_func=&lt;function chi2 at 0x7fe849a7d790&gt;))]),\n",
       "                                                  [&#x27;MEMBER_GENDER&#x27;,\n",
       "                                                   &#x27;MEMBER_STATE&#x27;,\n",
       "                                                   &#x27;MEMBER_CONTACT_VERIFIED&#x27;,\n",
       "                                                   &#x27;INVESTMENT_RISK_CATEGORY&#x27;,\n",
       "                                                   &#x27;FUND_RISK_LEVEL&#x27;,\n",
       "                                                   &#x27;FUND_RISK_CATEGORY&#x27;,\n",
       "                                                   &#x27;NEG_NETRETURN_SINCE_INCEPTION&#x27;,\n",
       "                                                   &#x27;INVESTMENT_AGE_GROUP&#x27;,\n",
       "                                                   &#x27;RETIREMENT_AGE_GROUP&#x27;,\n",
       "                                                   &#x27;TOTAL_FUNDS_INVESTED&#x27;])])),\n",
       "                (&#x27;classifier&#x27;,\n",
       "                 RandomForestClassifier(max_depth=8, max_features=0.6,\n",
       "                                        max_samples=0.8, n_estimators=500))])</pre></div></div></div><div class=\"sk-serial\"><div class=\"sk-item sk-dashed-wrapped\"><div class=\"sk-label-container\"><div class=\"sk-label sk-toggleable\"><input class=\"sk-toggleable__control sk-hidden--visually\" id=\"sk-estimator-id-2\" type=\"checkbox\" ><label for=\"sk-estimator-id-2\" class=\"sk-toggleable__label sk-toggleable__label-arrow\">preprocessor: ColumnTransformer</label><div class=\"sk-toggleable__content\"><pre>ColumnTransformer(transformers=[(&#x27;num&#x27;,\n",
       "                                 Pipeline(steps=[(&#x27;imputer&#x27;,\n",
       "                                                  SimpleImputer(strategy=&#x27;median&#x27;)),\n",
       "                                                 (&#x27;scaler&#x27;, StandardScaler())]),\n",
       "                                 [&#x27;FUND_TOTAL_ASSETS&#x27;,\n",
       "                                  &#x27;FUND_RETURN_TARGET_PERCENTAGE&#x27;,\n",
       "                                  &#x27;CASH_BENCHMARK_ALLOCATION&#x27;,\n",
       "                                  &#x27;FIXED_INCOME_BENCHMARK_ALLOCATION&#x27;,\n",
       "                                  &#x27;DOMESTIC_LISTED_EQUITY_BENCHMARK_ALLOCATION&#x27;,\n",
       "                                  &#x27;INTERNATIONAL_LISTED_EQUITY_BENCHMARK_ALLOCATION&#x27;,\n",
       "                                  &#x27;UNLIS...\n",
       "                                                  OneHotEncoder(handle_unknown=&#x27;ignore&#x27;)),\n",
       "                                                 (&#x27;selector&#x27;,\n",
       "                                                  SelectPercentile(percentile=50,\n",
       "                                                                   score_func=&lt;function chi2 at 0x7fe849a7d790&gt;))]),\n",
       "                                 [&#x27;MEMBER_GENDER&#x27;, &#x27;MEMBER_STATE&#x27;,\n",
       "                                  &#x27;MEMBER_CONTACT_VERIFIED&#x27;,\n",
       "                                  &#x27;INVESTMENT_RISK_CATEGORY&#x27;, &#x27;FUND_RISK_LEVEL&#x27;,\n",
       "                                  &#x27;FUND_RISK_CATEGORY&#x27;,\n",
       "                                  &#x27;NEG_NETRETURN_SINCE_INCEPTION&#x27;,\n",
       "                                  &#x27;INVESTMENT_AGE_GROUP&#x27;,\n",
       "                                  &#x27;RETIREMENT_AGE_GROUP&#x27;,\n",
       "                                  &#x27;TOTAL_FUNDS_INVESTED&#x27;])])</pre></div></div></div><div class=\"sk-parallel\"><div class=\"sk-parallel-item\"><div class=\"sk-item\"><div class=\"sk-label-container\"><div class=\"sk-label sk-toggleable\"><input class=\"sk-toggleable__control sk-hidden--visually\" id=\"sk-estimator-id-3\" type=\"checkbox\" ><label for=\"sk-estimator-id-3\" class=\"sk-toggleable__label sk-toggleable__label-arrow\">num</label><div class=\"sk-toggleable__content\"><pre>[&#x27;FUND_TOTAL_ASSETS&#x27;, &#x27;FUND_RETURN_TARGET_PERCENTAGE&#x27;, &#x27;CASH_BENCHMARK_ALLOCATION&#x27;, &#x27;FIXED_INCOME_BENCHMARK_ALLOCATION&#x27;, &#x27;DOMESTIC_LISTED_EQUITY_BENCHMARK_ALLOCATION&#x27;, &#x27;INTERNATIONAL_LISTED_EQUITY_BENCHMARK_ALLOCATION&#x27;, &#x27;UNLISTED_EQUITY_BENCHMARK_ALLOCATION&#x27;, &#x27;EQUITY_BENCHMARK_ALLOCATION&#x27;, &#x27;PROPERTY_BENCHMARK_ALLOCATION&#x27;, &#x27;INFRA_BENCHMARK_ALLOCATION&#x27;, &#x27;COMMODITIES_BENCHMARK_ALLOCATION&#x27;, &#x27;OTHERS_BENCHMARK_ALLOCATION&#x27;, &#x27;YEAR_1_RETURNS&#x27;, &#x27;YEAR_3_RETURNS&#x27;, &#x27;YEAR_5_RETURNS&#x27;, &#x27;YEAR_7_RETURNS&#x27;, &#x27;YEAR_10_RETURNS&#x27;, &#x27;SUPER_FEES&#x27;, &#x27;PENSION_FEES&#x27;]</pre></div></div></div><div class=\"sk-serial\"><div class=\"sk-item\"><div class=\"sk-serial\"><div class=\"sk-item\"><div class=\"sk-estimator sk-toggleable\"><input class=\"sk-toggleable__control sk-hidden--visually\" id=\"sk-estimator-id-4\" type=\"checkbox\" ><label for=\"sk-estimator-id-4\" class=\"sk-toggleable__label sk-toggleable__label-arrow\">SimpleImputer</label><div class=\"sk-toggleable__content\"><pre>SimpleImputer(strategy=&#x27;median&#x27;)</pre></div></div></div><div class=\"sk-item\"><div class=\"sk-estimator sk-toggleable\"><input class=\"sk-toggleable__control sk-hidden--visually\" id=\"sk-estimator-id-5\" type=\"checkbox\" ><label for=\"sk-estimator-id-5\" class=\"sk-toggleable__label sk-toggleable__label-arrow\">StandardScaler</label><div class=\"sk-toggleable__content\"><pre>StandardScaler()</pre></div></div></div></div></div></div></div></div><div class=\"sk-parallel-item\"><div class=\"sk-item\"><div class=\"sk-label-container\"><div class=\"sk-label sk-toggleable\"><input class=\"sk-toggleable__control sk-hidden--visually\" id=\"sk-estimator-id-6\" type=\"checkbox\" ><label for=\"sk-estimator-id-6\" class=\"sk-toggleable__label sk-toggleable__label-arrow\">cat</label><div class=\"sk-toggleable__content\"><pre>[&#x27;MEMBER_GENDER&#x27;, &#x27;MEMBER_STATE&#x27;, &#x27;MEMBER_CONTACT_VERIFIED&#x27;, &#x27;INVESTMENT_RISK_CATEGORY&#x27;, &#x27;FUND_RISK_LEVEL&#x27;, &#x27;FUND_RISK_CATEGORY&#x27;, &#x27;NEG_NETRETURN_SINCE_INCEPTION&#x27;, &#x27;INVESTMENT_AGE_GROUP&#x27;, &#x27;RETIREMENT_AGE_GROUP&#x27;, &#x27;TOTAL_FUNDS_INVESTED&#x27;]</pre></div></div></div><div class=\"sk-serial\"><div class=\"sk-item\"><div class=\"sk-serial\"><div class=\"sk-item\"><div class=\"sk-estimator sk-toggleable\"><input class=\"sk-toggleable__control sk-hidden--visually\" id=\"sk-estimator-id-7\" type=\"checkbox\" ><label for=\"sk-estimator-id-7\" class=\"sk-toggleable__label sk-toggleable__label-arrow\">OneHotEncoder</label><div class=\"sk-toggleable__content\"><pre>OneHotEncoder(handle_unknown=&#x27;ignore&#x27;)</pre></div></div></div><div class=\"sk-item\"><div class=\"sk-estimator sk-toggleable\"><input class=\"sk-toggleable__control sk-hidden--visually\" id=\"sk-estimator-id-8\" type=\"checkbox\" ><label for=\"sk-estimator-id-8\" class=\"sk-toggleable__label sk-toggleable__label-arrow\">SelectPercentile</label><div class=\"sk-toggleable__content\"><pre>SelectPercentile(percentile=50, score_func=&lt;function chi2 at 0x7fe849a7d790&gt;)</pre></div></div></div></div></div></div></div></div></div></div><div class=\"sk-item\"><div class=\"sk-estimator sk-toggleable\"><input class=\"sk-toggleable__control sk-hidden--visually\" id=\"sk-estimator-id-9\" type=\"checkbox\" ><label for=\"sk-estimator-id-9\" class=\"sk-toggleable__label sk-toggleable__label-arrow\">RandomForestClassifier</label><div class=\"sk-toggleable__content\"><pre>RandomForestClassifier(max_depth=8, max_features=0.6, max_samples=0.8,\n",
       "                       n_estimators=500)</pre></div></div></div></div></div></div></div>"
      ],
      "text/plain": [
       "Pipeline(steps=[('preprocessor',\n",
       "                 ColumnTransformer(transformers=[('num',\n",
       "                                                  Pipeline(steps=[('imputer',\n",
       "                                                                   SimpleImputer(strategy='median')),\n",
       "                                                                  ('scaler',\n",
       "                                                                   StandardScaler())]),\n",
       "                                                  ['FUND_TOTAL_ASSETS',\n",
       "                                                   'FUND_RETURN_TARGET_PERCENTAGE',\n",
       "                                                   'CASH_BENCHMARK_ALLOCATION',\n",
       "                                                   'FIXED_INCOME_BENCHMARK_ALLOCATION',\n",
       "                                                   'DOMESTIC_LISTED_EQUITY_BENCHMARK_ALLOCATION',\n",
       "                                                   'INTERNATIONAL_LISTED_EQU...\n",
       "                                                                                    score_func=<function chi2 at 0x7fe849a7d790>))]),\n",
       "                                                  ['MEMBER_GENDER',\n",
       "                                                   'MEMBER_STATE',\n",
       "                                                   'MEMBER_CONTACT_VERIFIED',\n",
       "                                                   'INVESTMENT_RISK_CATEGORY',\n",
       "                                                   'FUND_RISK_LEVEL',\n",
       "                                                   'FUND_RISK_CATEGORY',\n",
       "                                                   'NEG_NETRETURN_SINCE_INCEPTION',\n",
       "                                                   'INVESTMENT_AGE_GROUP',\n",
       "                                                   'RETIREMENT_AGE_GROUP',\n",
       "                                                   'TOTAL_FUNDS_INVESTED'])])),\n",
       "                ('classifier',\n",
       "                 RandomForestClassifier(max_depth=8, max_features=0.6,\n",
       "                                        max_samples=0.8, n_estimators=500))])"
      ]
     },
     "execution_count": 45,
     "metadata": {},
     "output_type": "execute_result"
    }
   ],
   "source": [
    "churn_model."
   ]
  },
  {
   "cell_type": "code",
   "execution_count": 44,
   "id": "6b86b656-b428-407a-8f82-a90f5b12b834",
   "metadata": {},
   "outputs": [
    {
     "data": {
      "text/plain": [
       "'Failed to load model artifacts. EOL while scanning string literal (<string>, line 1)'"
      ]
     },
     "execution_count": 44,
     "metadata": {},
     "output_type": "execute_result"
    }
   ],
   "source": [
    "register_model(\n",
    "    model_obj=churn_model, \n",
    "    session=my_session,\n",
    "    x_train=X_train,\n",
    "    y_train=y_train,\n",
    "    x_test=X_test,\n",
    "    y_test=y_test,\n",
    "    y_pred=y_pred,\n",
    "    #prob = y_prob,\n",
    "    source=\"Notebook\",\n",
    "    dataset_name=\"MEMBER_FUNDS_ENRICHED_DETAILS\",\n",
    "    dataset_source=\"Snowflake\",\n",
    "    #dataset_source=\"InMemory\",\n",
    "    name=\"CHURN_BINARY_MODEL\",\n",
    "    description=\"PREDICTING_FUND_CHURN\",\n",
    "    flavour=\"sklearn\",\n",
    "    model_type=\"classification\",\n",
    "    conda_dependencies=[\"scikit-learn==1.3.2\"]\n",
    ")"
   ]
  },
  {
   "cell_type": "code",
   "execution_count": 20,
   "id": "d4fee74c",
   "metadata": {},
   "outputs": [
    {
     "name": "stdout",
     "output_type": "stream",
     "text": [
      "Calculating build time metrics\n",
      "\n",
      "Progress: ██████████████████████████████████████████████████████████████████████ 100.0%\n"
     ]
    },
    {
     "data": {
      "application/vnd.jupyter.widget-view+json": {
       "model_id": "88445509ba364a89b32d77bbfad63ee1",
       "version_major": 2,
       "version_minor": 0
      },
      "text/plain": [
       "VBox(children=(HTML(value='<style>.grad_1{background: #2468a4;} .grad_2{ color:white; background: #2468a4;}</s…"
      ]
     },
     "metadata": {},
     "output_type": "display_data"
    }
   ],
   "source": [
    "## registering the model in Fosfor.\n",
    "model_reg = register_model(churn_model,\n",
    "               score, \n",
    "               name=\"CHURN_BINARY_MODEL\", \n",
    "               description=\"PREDICTING_FUND_CHURN\",\n",
    "               flavour=MLModelFlavours.sklearn,\n",
    "               model_type=\"classification\",\n",
    "               init_script=\"\\\\n pip install --q fosforml==1.0.1b1\",\n",
    "               y_true=y_test,\n",
    "               y_pred=y_pred,\n",
    "               prob=y_prob,\n",
    "               features=X_train.columns,\n",
    "               input_type=\"json\", \n",
    "               explain_ai=True,\n",
    "               x_train=X_train, \n",
    "               x_test=X_test, \n",
    "               y_train=y_train,\n",
    "               y_test=y_test,\n",
    "               feature_names=X_train.columns.tolist(),\n",
    "               original_features=X_train.columns.tolist(),\n",
    "               feature_ids=X_train.columns,\n",
    "               kyd=True, kyd_score = True)"
   ]
  },
  {
   "cell_type": "markdown",
   "id": "e3964e08",
   "metadata": {},
   "source": [
    "# CHURN REASON MODEL"
   ]
  },
  {
   "cell_type": "code",
   "execution_count": 12,
   "id": "769185ac",
   "metadata": {},
   "outputs": [],
   "source": [
    "with open('reason_model.pkl','rb') as f:  ## use rb while reading the fie\n",
    "    reason_model = pickle.load(f)"
   ]
  },
  {
   "cell_type": "code",
   "execution_count": 13,
   "id": "e08963d9",
   "metadata": {},
   "outputs": [],
   "source": [
    "churned = df[df[\"CHURN_FLAG\"] == \"Y\"]"
   ]
  },
  {
   "cell_type": "code",
   "execution_count": 15,
   "id": "34cc87d7",
   "metadata": {},
   "outputs": [
    {
     "data": {
      "text/plain": [
       "{0: 'NO REASON IDENTIFIED',\n",
       " 1: 'HIGH ACCOUNT FEE',\n",
       " 2: 'POOR FUND PERFORMANCE',\n",
       " 3: 'HIGH TRANSACTION FEE',\n",
       " 4: 'FUND REPUTATION DECLINING',\n",
       " 5: 'LIFE EVENT'}"
      ]
     },
     "execution_count": 15,
     "metadata": {},
     "output_type": "execute_result"
    }
   ],
   "source": [
    "r2id = {'NO REASON IDENTIFIED': 0,\n",
    " 'HIGH ACCOUNT FEE': 1,\n",
    " 'POOR FUND PERFORMANCE': 2,\n",
    " 'HIGH TRANSACTION FEE': 3,\n",
    " 'FUND REPUTATION DECLINING': 4,\n",
    " 'LIFE EVENT': 5}\n",
    "id2r = {v:k for k, v in r2id.items()}\n",
    "id2r"
   ]
  },
  {
   "cell_type": "code",
   "execution_count": 26,
   "id": "6ca2ce3a",
   "metadata": {},
   "outputs": [],
   "source": [
    "@scoring_func\n",
    "def score(model, request):\n",
    "    payload_dict = eval(request.json[\"payload\"])\n",
    "    data = pd.DataFrame.from_dict(payload_dict)\n",
    "    frame = data[['MEMBER_GENDER', 'MEMBER_STATE', 'MEMBER_CONTACT_VERIFIED','FUND_TOTAL_ASSETS','FUND_RETURN_TARGET_PERCENTAGE',\n",
    "            'INVESTMENT_RISK_CATEGORY', 'CASH_BENCHMARK_ALLOCATION','FIXED_INCOME_BENCHMARK_ALLOCATION',\n",
    "            'DOMESTIC_LISTED_EQUITY_BENCHMARK_ALLOCATION','INTERNATIONAL_LISTED_EQUITY_BENCHMARK_ALLOCATION',\n",
    "            'UNLISTED_EQUITY_BENCHMARK_ALLOCATION', 'EQUITY_BENCHMARK_ALLOCATION','PROPERTY_BENCHMARK_ALLOCATION',\n",
    "            'INFRA_BENCHMARK_ALLOCATION','COMMODITIES_BENCHMARK_ALLOCATION', 'OTHERS_BENCHMARK_ALLOCATION','FUND_RISK_LEVEL', \n",
    "            'FUND_RISK_CATEGORY','NEG_NETRETURN_SINCE_INCEPTION', 'YEAR_1_RETURNS', 'YEAR_3_RETURNS','YEAR_5_RETURNS',\n",
    "            'YEAR_7_RETURNS','YEAR_10_RETURNS', 'SUPER_FEES','PENSION_FEES',\n",
    "            'INVESTMENT_AGE_GROUP', 'RETIREMENT_AGE_GROUP', 'TOTAL_FUNDS_INVESTED']].copy()\n",
    "    id2r = {0: 'NO REASON IDENTIFIED',\n",
    "             1: 'HIGH ACCOUNT FEE',\n",
    "             2: 'POOR FUND PERFORMANCE',\n",
    "             3: 'HIGH TRANSACTION FEE',\n",
    "             4: 'FUND REPUTATION DECLINING',\n",
    "             5: 'LIFE EVENT'}\n",
    "    result = model.predict(frame)\n",
    "    prediction = pd.DataFrame({\"REASON_PREDICTION\":result})\n",
    "    prediction[\"REASON_PREDICTION\"] = prediction[\"REASON_PREDICTION\"].apply(lambda x: id2r[x])\n",
    "    prediction = str(prediction.to_dict())\n",
    "    return prediction"
   ]
  },
  {
   "cell_type": "code",
   "execution_count": 27,
   "id": "d918a9dc",
   "metadata": {},
   "outputs": [
    {
     "data": {
      "text/plain": [
       "\"{'REASON_PREDICTION': {0: 'NO REASON IDENTIFIED', 1: 'NO REASON IDENTIFIED', 2: 'HIGH ACCOUNT FEE', 3: 'POOR FUND PERFORMANCE', 4: 'HIGH TRANSACTION FEE', 5: 'HIGH TRANSACTION FEE', 6: 'FUND REPUTATION DECLINING', 7: 'FUND REPUTATION DECLINING', 8: 'HIGH TRANSACTION FEE', 9: 'FUND REPUTATION DECLINING'}}\""
      ]
     },
     "execution_count": 27,
     "metadata": {},
     "output_type": "execute_result"
    }
   ],
   "source": [
    "payload = churned.head(10).to_dict()\n",
    "req = requests.Request()\n",
    "req.json = {\"payload\":str(payload)}\n",
    "y = req\n",
    "yo = score(reason_model, y)\n",
    "yo"
   ]
  },
  {
   "cell_type": "code",
   "execution_count": 31,
   "id": "14ac9d95",
   "metadata": {},
   "outputs": [],
   "source": [
    "\n",
    "X = churned.drop(\"CHURN_REASON\", axis=1)\n",
    "y = churned[\"CHURN_REASON\"]\n",
    "\n",
    "X_train, X_test, y_train, y_test = train_test_split(X, y, test_size=0.2, random_state=0)"
   ]
  },
  {
   "cell_type": "code",
   "execution_count": 37,
   "id": "a1bc3fa5",
   "metadata": {},
   "outputs": [],
   "source": [
    "payload = X_test.to_dict()\n",
    "req = requests.Request()\n",
    "req.json = {\"payload\":str(payload)}\n",
    "y = req\n",
    "pred_dic = score(reason_model, y)"
   ]
  },
  {
   "cell_type": "code",
   "execution_count": 38,
   "id": "80a7225c",
   "metadata": {},
   "outputs": [
    {
     "name": "stdout",
     "output_type": "stream",
     "text": [
      "string to dict\n"
     ]
    }
   ],
   "source": [
    "temp_ = eval(pred_dic)\n",
    "print(\"string to dict\")\n",
    "pred = pd.DataFrame.from_dict(temp_)"
   ]
  },
  {
   "cell_type": "code",
   "execution_count": 39,
   "id": "41cf61f9",
   "metadata": {},
   "outputs": [],
   "source": [
    "y_pred = pred[\"REASON_PREDICTION\"]\n",
    "# y_prob = pred[\"Probability\"]"
   ]
  },
  {
   "cell_type": "code",
   "execution_count": 43,
   "id": "c47b3d3b",
   "metadata": {},
   "outputs": [],
   "source": [
    "y_prob = reason_model.predict_proba(X_test)"
   ]
  },
  {
   "cell_type": "code",
   "execution_count": 40,
   "id": "4e4b2598",
   "metadata": {},
   "outputs": [
    {
     "data": {
      "text/plain": [
       "189394             HIGH ACCOUNT FEE\n",
       "117948         HIGH TRANSACTION FEE\n",
       "122069         NO REASON IDENTIFIED\n",
       "182181             HIGH ACCOUNT FEE\n",
       "197148    FUND REPUTATION DECLINING\n",
       "                    ...            \n",
       "254364         HIGH TRANSACTION FEE\n",
       "159041    FUND REPUTATION DECLINING\n",
       "213647         NO REASON IDENTIFIED\n",
       "310248         NO REASON IDENTIFIED\n",
       "174585         NO REASON IDENTIFIED\n",
       "Name: CHURN_REASON, Length: 18491, dtype: object"
      ]
     },
     "execution_count": 40,
     "metadata": {},
     "output_type": "execute_result"
    }
   ],
   "source": [
    "y_test"
   ]
  },
  {
   "cell_type": "code",
   "execution_count": 41,
   "id": "945f6233",
   "metadata": {},
   "outputs": [
    {
     "data": {
      "text/plain": [
       "0                 HIGH ACCOUNT FEE\n",
       "1             HIGH TRANSACTION FEE\n",
       "2             NO REASON IDENTIFIED\n",
       "3                 HIGH ACCOUNT FEE\n",
       "4        FUND REPUTATION DECLINING\n",
       "                   ...            \n",
       "18486         HIGH TRANSACTION FEE\n",
       "18487    FUND REPUTATION DECLINING\n",
       "18488         NO REASON IDENTIFIED\n",
       "18489         NO REASON IDENTIFIED\n",
       "18490         NO REASON IDENTIFIED\n",
       "Name: REASON_PREDICTION, Length: 18491, dtype: object"
      ]
     },
     "execution_count": 41,
     "metadata": {},
     "output_type": "execute_result"
    }
   ],
   "source": [
    "y_pred"
   ]
  },
  {
   "cell_type": "code",
   "execution_count": 47,
   "id": "6e1b0e48",
   "metadata": {},
   "outputs": [
    {
     "name": "stdout",
     "output_type": "stream",
     "text": [
      "Calculating build time metrics\n",
      "\n",
      "Progress: ██████████████████████████████████████████████████████████████████████ 100.0%\n"
     ]
    },
    {
     "data": {
      "application/vnd.jupyter.widget-view+json": {
       "model_id": "2eaeab4887564bdf97942aa5a9231b2b",
       "version_major": 2,
       "version_minor": 0
      },
      "text/plain": [
       "VBox(children=(HTML(value='<style>.grad_1{background: #2468a4;} .grad_2{ color:white; background: #2468a4;}</s…"
      ]
     },
     "metadata": {},
     "output_type": "display_data"
    }
   ],
   "source": [
    "## registering the model in Fosfor.\n",
    "model_reg = register_model(reason_model,\n",
    "               score, \n",
    "               name=\"CHURN_REASON_MODEL\", \n",
    "               description=\"PREDICTING_FUND_CHURN_REASON\",\n",
    "               flavour=MLModelFlavours.sklearn,\n",
    "               model_type=\"classification\",\n",
    "               init_script=\"\\\\n pip install --q fosforml==1.0.1b1\",\n",
    "               y_true=y_test,\n",
    "               y_pred=y_pred,\n",
    "               prob=y_prob,\n",
    "               features=X_train.columns,\n",
    "               input_type=\"json\", \n",
    "               explain_ai=True,\n",
    "               x_train=X_train, \n",
    "               x_test=X_test, \n",
    "               y_train=y_train,\n",
    "               y_test=y_test,\n",
    "               feature_names=X_train.columns.tolist(),\n",
    "               original_features=X_train.columns.tolist(),\n",
    "               feature_ids=X_train.columns,\n",
    "               kyd=True, kyd_score = True)"
   ]
  }
 ],
 "metadata": {
  "kernelspec": {
   "display_name": "Python 3 (ipykernel)",
   "language": "python",
   "name": "python3"
  },
  "language_info": {
   "codemirror_mode": {
    "name": "ipython",
    "version": 3
   },
   "file_extension": ".py",
   "mimetype": "text/x-python",
   "name": "python",
   "nbconvert_exporter": "python",
   "pygments_lexer": "ipython3",
   "version": "3.9.19"
  }
 },
 "nbformat": 4,
 "nbformat_minor": 5
}
