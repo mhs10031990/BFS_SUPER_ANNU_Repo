{
 "cells": [
  {
   "cell_type": "code",
   "execution_count": 6,
   "id": "b2a012e3",
   "metadata": {
    "scrolled": true
   },
   "outputs": [],
   "source": [
    "# !pip install --q fosforml==1.0.1b1\n",
    "# !pip install snowflake-connector-python[pandas]\n",
    "# !pip install snowflake-snowpark-python[pandas]\n",
    "# !pip install fosforio[snowflake]"
   ]
  },
  {
   "cell_type": "code",
   "execution_count": 8,
   "id": "860ed28c",
   "metadata": {},
   "outputs": [
    {
     "name": "stdout",
     "output_type": "stream",
     "text": [
      "connection successful!\n"
     ]
    }
   ],
   "source": [
    "#Snowpark lib\n",
    "from snowflake.snowpark import Session\n",
    "\n",
    "# Data Science Libs\n",
    "import numpy as np\n",
    "import pandas as pd\n",
    "\n",
    "# create_temp_table warning suppresion\n",
    "import warnings; warnings.simplefilter('ignore')\n",
    "\n",
    "#ConfigParser to read ini file\n",
    "import configparser\n",
    "\n",
    "import numpy as np\n",
    "\n",
    "from sklearn.compose import ColumnTransformer\n",
    "from sklearn.feature_selection import SelectPercentile, chi2\n",
    "from sklearn.impute import SimpleImputer\n",
    "from sklearn.linear_model import LogisticRegression\n",
    "from sklearn.ensemble import RandomForestClassifier\n",
    "from sklearn.model_selection import RandomizedSearchCV, train_test_split\n",
    "from sklearn.pipeline import Pipeline\n",
    "from sklearn.preprocessing import OneHotEncoder, StandardScaler\n",
    "from sklearn.cluster import DBSCAN\n",
    "import pickle\n",
    "\n",
    "from fosforml import *\n",
    "from fosforml import scoring_func, register_model\n",
    "from fosforml.constants import MLModelFlavours\n",
    "import requests\n",
    "\n",
    "np.random.seed(0)\n",
    "\n",
    "config = configparser.ConfigParser()\n",
    "config.read(\"/notebooks/notebooks/credentials.ini\")\n",
    "\n",
    "connection_parameters = {\n",
    "    \"user\": f'{config[\"Snowflake\"][\"user\"]}',\n",
    "    \"password\": f'{config[\"Snowflake\"][\"password\"]}',\n",
    "    \"account\": f'{config[\"Snowflake\"][\"account\"]}',\n",
    "    \"WAREHOUSE\": f'{config[\"Snowflake\"][\"WAREHOUSE\"]}',\n",
    "    \"DATABASE\": f'{config[\"Snowflake\"][\"DATABASE\"]}',\n",
    "    \"SCHEMA\": f'{config[\"Snowflake\"][\"SCHEMA\"]}'\n",
    "}\n",
    "\n",
    "def snowflake_connector(conn):\n",
    "    try:\n",
    "        session = Session.builder.configs(conn).create()\n",
    "        print(\"connection successful!\")\n",
    "    except:\n",
    "        raise ValueError(\"error while connecting with db\")\n",
    "    return session\n",
    "\n",
    "session = snowflake_connector(connection_parameters)"
   ]
  },
  {
   "cell_type": "code",
   "execution_count": 9,
   "id": "03aa460e",
   "metadata": {},
   "outputs": [],
   "source": [
    "with open('churn_model.pkl','rb') as f:  ## use rb while reading the fie\n",
    "    churn_model = pickle.load(f)"
   ]
  },
  {
   "cell_type": "code",
   "execution_count": 10,
   "id": "f29b4866",
   "metadata": {},
   "outputs": [],
   "source": [
    "@scoring_func\n",
    "def score(model, request):\n",
    "    payload_dict = eval(request.json[\"payload\"])\n",
    "    data = pd.DataFrame.from_dict(payload_dict)\n",
    "    frame = data[['MEMBER_GENDER', 'MEMBER_STATE', 'MEMBER_CONTACT_VERIFIED','FUND_TOTAL_ASSETS','FUND_RETURN_TARGET_PERCENTAGE',\n",
    "            'INVESTMENT_RISK_CATEGORY', 'CASH_BENCHMARK_ALLOCATION','FIXED_INCOME_BENCHMARK_ALLOCATION',\n",
    "            'DOMESTIC_LISTED_EQUITY_BENCHMARK_ALLOCATION','INTERNATIONAL_LISTED_EQUITY_BENCHMARK_ALLOCATION',\n",
    "            'UNLISTED_EQUITY_BENCHMARK_ALLOCATION', 'EQUITY_BENCHMARK_ALLOCATION','PROPERTY_BENCHMARK_ALLOCATION',\n",
    "            'INFRA_BENCHMARK_ALLOCATION','COMMODITIES_BENCHMARK_ALLOCATION', 'OTHERS_BENCHMARK_ALLOCATION','FUND_RISK_LEVEL', \n",
    "            'FUND_RISK_CATEGORY','NEG_NETRETURN_SINCE_INCEPTION', 'YEAR_1_RETURNS', 'YEAR_3_RETURNS','YEAR_5_RETURNS',\n",
    "            'YEAR_7_RETURNS','YEAR_10_RETURNS', 'SUPER_FEES','PENSION_FEES',\n",
    "            'INVESTMENT_AGE_GROUP', 'RETIREMENT_AGE_GROUP', 'TOTAL_FUNDS_INVESTED']].copy()\n",
    "    result = model.predict(frame)\n",
    "    prediction = pd.DataFrame({\"CHURN_PREDICTION\":result})\n",
    "    prediction[\"CHURN_PREDICTION\"] = prediction[\"CHURN_PREDICTION\"].apply(lambda x: \"Y\" if x == 1 else \"N\")\n",
    "    probability = model.predict_proba(frame)\n",
    "    prediction[\"Probability\"] = [round(k[1],4) for k in probability]\n",
    "    prediction = str(prediction.to_dict())\n",
    "    return prediction"
   ]
  },
  {
   "cell_type": "code",
   "execution_count": 11,
   "id": "20120f1a",
   "metadata": {},
   "outputs": [],
   "source": [
    "df = session.table(\"MEMBER_FUNDS_ENRICHED_DETAILS\").to_pandas()\n",
    "df = df.drop([\"MEMBER_DOB_DT\", 'ALLOCATION_DT', \"CHURN_DT\", \"RETIREMENT_DT\"], axis =1 )"
   ]
  },
  {
   "cell_type": "code",
   "execution_count": 12,
   "id": "78c23b16",
   "metadata": {},
   "outputs": [
    {
     "data": {
      "text/plain": [
       "\"{'CHURN_PREDICTION': {0: 'N', 1: 'N', 2: 'N', 3: 'N', 4: 'N', 5: 'N', 6: 'N', 7: 'N', 8: 'N', 9: 'N'}, 'Probability': {0: 0.3231, 1: 0.3618, 2: 0.4944, 3: 0.2428, 4: 0.2337, 5: 0.2848, 6: 0.3231, 7: 0.2619, 8: 0.2353, 9: 0.4944}}\""
      ]
     },
     "execution_count": 12,
     "metadata": {},
     "output_type": "execute_result"
    }
   ],
   "source": [
    "payload = df.head(10).to_dict()\n",
    "req = requests.Request()\n",
    "req.json = {\"payload\":str(payload)}\n",
    "y = req\n",
    "yo = score(churn_model, y)\n",
    "yo"
   ]
  },
  {
   "cell_type": "code",
   "execution_count": 13,
   "id": "0c94e8f8",
   "metadata": {},
   "outputs": [],
   "source": [
    "frame = df[['MEMBER_GENDER', 'MEMBER_STATE', 'MEMBER_CONTACT_VERIFIED','FUND_TOTAL_ASSETS','FUND_RETURN_TARGET_PERCENTAGE',\n",
    "            'INVESTMENT_RISK_CATEGORY', 'CASH_BENCHMARK_ALLOCATION','FIXED_INCOME_BENCHMARK_ALLOCATION',\n",
    "            'DOMESTIC_LISTED_EQUITY_BENCHMARK_ALLOCATION','INTERNATIONAL_LISTED_EQUITY_BENCHMARK_ALLOCATION',\n",
    "            'UNLISTED_EQUITY_BENCHMARK_ALLOCATION', 'EQUITY_BENCHMARK_ALLOCATION','PROPERTY_BENCHMARK_ALLOCATION',\n",
    "            'INFRA_BENCHMARK_ALLOCATION','COMMODITIES_BENCHMARK_ALLOCATION', 'OTHERS_BENCHMARK_ALLOCATION','FUND_RISK_LEVEL', \n",
    "            'FUND_RISK_CATEGORY','NEG_NETRETURN_SINCE_INCEPTION', 'YEAR_1_RETURNS', 'YEAR_3_RETURNS','YEAR_5_RETURNS',\n",
    "            'YEAR_7_RETURNS','YEAR_10_RETURNS', 'SUPER_FEES','PENSION_FEES',\n",
    "            'INVESTMENT_AGE_GROUP', 'RETIREMENT_AGE_GROUP', 'TOTAL_FUNDS_INVESTED','CHURN_FLAG']].copy()\n",
    "\n",
    "X = frame.drop(\"CHURN_FLAG\", axis=1)\n",
    "y = frame[\"CHURN_FLAG\"]\n",
    "\n",
    "X_train, X_test, y_train, y_test = train_test_split(X, y, test_size=0.2, random_state=0)"
   ]
  },
  {
   "cell_type": "code",
   "execution_count": 14,
   "id": "efd93f06",
   "metadata": {},
   "outputs": [],
   "source": [
    "payload = X_test.to_dict()\n",
    "req = requests.Request()\n",
    "req.json = {\"payload\":str(payload)}\n",
    "y = req\n",
    "pred_dic = score(churn_model, y)"
   ]
  },
  {
   "cell_type": "code",
   "execution_count": 15,
   "id": "00ccadfd",
   "metadata": {},
   "outputs": [
    {
     "name": "stdout",
     "output_type": "stream",
     "text": [
      "string to dict\n"
     ]
    }
   ],
   "source": [
    "temp_ = eval(pred_dic)\n",
    "print(\"string to dict\")\n",
    "pred = pd.DataFrame.from_dict(temp_)"
   ]
  },
  {
   "cell_type": "code",
   "execution_count": 16,
   "id": "08bb8e82",
   "metadata": {},
   "outputs": [],
   "source": [
    "y_pred = pred[\"CHURN_PREDICTION\"]\n",
    "y_prob = pred[\"Probability\"]"
   ]
  },
  {
   "cell_type": "code",
   "execution_count": 17,
   "id": "4ea76da5",
   "metadata": {},
   "outputs": [
    {
     "data": {
      "text/plain": [
       "96958     Y\n",
       "19699     N\n",
       "6860      N\n",
       "261926    N\n",
       "34660     N\n",
       "         ..\n",
       "187949    N\n",
       "269979    N\n",
       "16694     Y\n",
       "46808     N\n",
       "91910     N\n",
       "Name: CHURN_FLAG, Length: 67200, dtype: object"
      ]
     },
     "execution_count": 17,
     "metadata": {},
     "output_type": "execute_result"
    }
   ],
   "source": [
    "y_test"
   ]
  },
  {
   "cell_type": "code",
   "execution_count": 18,
   "id": "e2669139",
   "metadata": {},
   "outputs": [
    {
     "data": {
      "text/plain": [
       "0        Y\n",
       "1        N\n",
       "2        N\n",
       "3        N\n",
       "4        N\n",
       "        ..\n",
       "67195    N\n",
       "67196    N\n",
       "67197    Y\n",
       "67198    N\n",
       "67199    N\n",
       "Name: CHURN_PREDICTION, Length: 67200, dtype: object"
      ]
     },
     "execution_count": 18,
     "metadata": {},
     "output_type": "execute_result"
    }
   ],
   "source": [
    "y_pred"
   ]
  },
  {
   "cell_type": "code",
   "execution_count": 19,
   "id": "d4fee74c",
   "metadata": {},
   "outputs": [
    {
     "data": {
      "application/vnd.jupyter.widget-view+json": {
       "model_id": "c6f4ae2446724b68a408325a40bea2e6",
       "version_major": 2,
       "version_minor": 0
      },
      "text/plain": [
       "VBox(children=(HTML(value='<style>.grad_1{background: #2468a4;} .grad_2{ color:white; background: #2468a4;}</s…"
      ]
     },
     "metadata": {},
     "output_type": "display_data"
    },
    {
     "data": {
      "text/plain": [
       "{'id': '839e922b-7683-4ed7-98c8-a76728f0db9d',\n",
       " 'last_modified_on': '2024-08-09T12:17:46.129867+00:00',\n",
       " 'created_on': '2024-08-09T12:17:46.129859+00:00',\n",
       " 'last_modified_by': 'ayushk.singh@fosfor.com',\n",
       " 'model_display': True,\n",
       " 'description': 'PREDICTING_FUND_CHURN',\n",
       " 'versions': [{'nas_details': {'template_id': 'd2d47506-8da5-4dfb-a527-51ca427d313f',\n",
       "    'nas_location': '',\n",
       "    'kernel_type': 'python',\n",
       "    'language_version': '3.8.18',\n",
       "    'packages_req': {'conda_packages': '',\n",
       "     'pip_packages': 'emoji==1.4.0',\n",
       "     'cran_packages': {}}},\n",
       "   'created_on': '2024-08-09T12:17:46.149443+00:00',\n",
       "   'validation_report': None,\n",
       "   'deployments': [],\n",
       "   'gpu_docker_image_url': '937361994640.dkr.ecr.us-east-2.amazonaws.com/mosaic-ai-logistics/mosaic-notebooks-manager/jupyter/3.6:2.6.14',\n",
       "   'stage': 'ready_for_deployment',\n",
       "   'version_no': 1,\n",
       "   'model_class': {'steps': [['preprocessor',\n",
       "      \"ColumnTransformer(transformers=[('num',\\n                                 Pipeline(steps=[('imputer',\\n                                                  SimpleImputer(strategy='median')),\\n                                                 ('scaler', StandardScaler())]),\\n                                 ['FUND_TOTAL_ASSETS',\\n                                  'FUND_RETURN_TARGET_PERCENTAGE',\\n                                  'CASH_BENCHMARK_ALLOCATION',\\n                                  'FIXED_INCOME_BENCHMARK_ALLOCATION',\\n                                  'DOMESTIC_LISTED_EQUITY_BENCHMARK_ALLOCATION',\\n                                  'INTERNATIONAL_LISTED_EQUITY_BENCHMARK_ALLOCATION',\\n                                  'UNLIS...\\n                                                  OneHotEncoder(handle_unknown='ignore')),\\n                                                 ('selector',\\n                                                  SelectPercentile(percentile=50,\\n                                                                   score_func=<function chi2 at 0x7f94dad0c280>))]),\\n                                 ['MEMBER_GENDER', 'MEMBER_STATE',\\n                                  'MEMBER_CONTACT_VERIFIED',\\n                                  'INVESTMENT_RISK_CATEGORY', 'FUND_RISK_LEVEL',\\n                                  'FUND_RISK_CATEGORY',\\n                                  'NEG_NETRETURN_SINCE_INCEPTION',\\n                                  'INVESTMENT_AGE_GROUP',\\n                                  'RETIREMENT_AGE_GROUP',\\n                                  'TOTAL_FUNDS_INVESTED'])])\"],\n",
       "     ['classifier',\n",
       "      'RandomForestClassifier(max_depth=8, max_features=0.6, max_samples=0.8,\\n                       n_estimators=500)']],\n",
       "    'memory': None,\n",
       "    'verbose': False,\n",
       "    'class': 'sklearn.pipeline.Pipeline'},\n",
       "   'model_info': {'mode': 'classification',\n",
       "    'targets_mapping': {'target_names': None, 'mapping_value': None},\n",
       "    'features_name': ['MEMBER_GENDER',\n",
       "     'MEMBER_STATE',\n",
       "     'MEMBER_CONTACT_VERIFIED',\n",
       "     'FUND_TOTAL_ASSETS',\n",
       "     'FUND_RETURN_TARGET_PERCENTAGE',\n",
       "     'INVESTMENT_RISK_CATEGORY',\n",
       "     'CASH_BENCHMARK_ALLOCATION',\n",
       "     'FIXED_INCOME_BENCHMARK_ALLOCATION',\n",
       "     'DOMESTIC_LISTED_EQUITY_BENCHMARK_ALLOCATION',\n",
       "     'INTERNATIONAL_LISTED_EQUITY_BENCHMARK_ALLOCATION',\n",
       "     'UNLISTED_EQUITY_BENCHMARK_ALLOCATION',\n",
       "     'EQUITY_BENCHMARK_ALLOCATION',\n",
       "     'PROPERTY_BENCHMARK_ALLOCATION',\n",
       "     'INFRA_BENCHMARK_ALLOCATION',\n",
       "     'COMMODITIES_BENCHMARK_ALLOCATION',\n",
       "     'OTHERS_BENCHMARK_ALLOCATION',\n",
       "     'FUND_RISK_LEVEL',\n",
       "     'FUND_RISK_CATEGORY',\n",
       "     'NEG_NETRETURN_SINCE_INCEPTION',\n",
       "     'YEAR_1_RETURNS',\n",
       "     'YEAR_3_RETURNS',\n",
       "     'YEAR_5_RETURNS',\n",
       "     'YEAR_7_RETURNS',\n",
       "     'YEAR_10_RETURNS',\n",
       "     'SUPER_FEES',\n",
       "     'PENSION_FEES',\n",
       "     'INVESTMENT_AGE_GROUP',\n",
       "     'RETIREMENT_AGE_GROUP',\n",
       "     'TOTAL_FUNDS_INVESTED'],\n",
       "    'features_type': {},\n",
       "    'feature_type_inferenced': False,\n",
       "    'number_of_features': 29,\n",
       "    'number_of_targets': 0,\n",
       "    'deep_learning_model': False,\n",
       "    'temp_dir': '',\n",
       "    'expai': True,\n",
       "    'kyd': True},\n",
       "   'reviewed_flag': False,\n",
       "   'description': None,\n",
       "   'object_url': '839e922b-7683-4ed7-98c8-a76728f0db9d/11848477-2e09-45c2-a899-95d4eab14cd7/ml_model.tar.gz',\n",
       "   'last_modified_on': '2024-08-09T12:17:46.451079+00:00',\n",
       "   'status': 'active',\n",
       "   'init_script': '\"\\\\n pip install --q fosforml==1.0.1b1 \\\\n pip install fosforio[snowflake] \\\\n pip install snowflake-connector-python[pandas]\"',\n",
       "   'input_type': 'json',\n",
       "   'profiling': [],\n",
       "   'metadata_info': None,\n",
       "   'last_modified_by': 'ayushk.singh@fosfor.com',\n",
       "   'created_by': 'ayushk.singh@fosfor.com',\n",
       "   'ml_model_id': '839e922b-7683-4ed7-98c8-a76728f0db9d',\n",
       "   'model_settings': None,\n",
       "   'deploy_info': None,\n",
       "   'datasource_name': '',\n",
       "   'dependent_model': None,\n",
       "   'id': '11848477-2e09-45c2-a899-95d4eab14cd7',\n",
       "   'repo_details': None,\n",
       "   'target_names': {'target': None},\n",
       "   'schema': {},\n",
       "   'docker_image_url': '937361994640.dkr.ecr.us-east-2.amazonaws.com/mosaic-ai-logistics/mosaic-notebooks-manager/jupyter/3.8:3.8V1.0.27_Non_Vanilla_14'}],\n",
       " 'tags': None,\n",
       " 'outside_refract': False,\n",
       " 'flavour': 'sklearn',\n",
       " 'source': '',\n",
       " 'project_id': '99bc3349-ae04-40d8-9721-8ea53f985ee3',\n",
       " 'name': 'CHURN_BINARY_MODEL',\n",
       " 'type': 'model',\n",
       " 'created_by': 'ayushk.singh@fosfor.com'}"
      ]
     },
     "metadata": {},
     "output_type": "display_data"
    }
   ],
   "source": [
    "## registering the model in Fosfor.\n",
    "model_reg = register_model(churn_model,\n",
    "               score, \n",
    "               name=\"CHURN_BINARY_MODEL\", \n",
    "               description=\"PREDICTING_FUND_CHURN\",\n",
    "               flavour=MLModelFlavours.sklearn,\n",
    "               model_type=\"classification\",\n",
    "               init_script=\"\\\\n pip install --q fosforml==1.0.1b1\",\n",
    "               y_true=y_test,\n",
    "               y_pred=y_pred,\n",
    "               prob=y_prob,\n",
    "               features=X_train.columns,\n",
    "               input_type=\"json\", \n",
    "               explain_ai=True,\n",
    "               x_train=X_train, \n",
    "               x_test=X_test, \n",
    "               y_train=y_train,\n",
    "               y_test=y_test,\n",
    "               feature_names=X_train.columns.tolist(),\n",
    "               original_features=X_train.columns.tolist(),\n",
    "               feature_ids=X_train.columns,\n",
    "               kyd=True, kyd_score = True)"
   ]
  }
 ],
 "metadata": {
  "kernelspec": {
   "display_name": "Python 3",
   "language": "python",
   "name": "python3"
  },
  "language_info": {
   "codemirror_mode": {
    "name": "ipython",
    "version": 3
   },
   "file_extension": ".py",
   "mimetype": "text/x-python",
   "name": "python",
   "nbconvert_exporter": "python",
   "pygments_lexer": "ipython3",
   "version": "3.8.18"
  }
 },
 "nbformat": 4,
 "nbformat_minor": 5
}
