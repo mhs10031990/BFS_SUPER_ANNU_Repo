{
 "cells": [
  {
   "cell_type": "markdown",
   "id": "30fe6c51-cd90-4705-b2d0-279222bf9cca",
   "metadata": {},
   "source": [
    "# Use SUPER_ANNU_Template customized notebook template"
   ]
  },
  {
   "cell_type": "code",
   "execution_count": 1,
   "id": "e6bd2970",
   "metadata": {},
   "outputs": [
    {
     "name": "stdout",
     "output_type": "stream",
     "text": [
      "connection successful!\n"
     ]
    }
   ],
   "source": [
    "#Snowpark lib\n",
    "from snowflake.snowpark import Session\n",
    "\n",
    "# Data Science Libs\n",
    "import numpy as np\n",
    "import pandas as pd\n",
    "\n",
    "# create_temp_table warning suppresion\n",
    "import warnings; warnings.simplefilter('ignore')\n",
    "\n",
    "#ConfigParser to read ini file\n",
    "import configparser\n",
    "\n",
    "import numpy as np\n",
    "\n",
    "from sklearn.compose import ColumnTransformer\n",
    "from sklearn.feature_selection import SelectPercentile, chi2\n",
    "from sklearn.impute import SimpleImputer\n",
    "from sklearn.linear_model import LogisticRegression\n",
    "from sklearn.ensemble import RandomForestClassifier\n",
    "from sklearn.model_selection import RandomizedSearchCV, train_test_split\n",
    "from sklearn.pipeline import Pipeline\n",
    "from sklearn.preprocessing import OneHotEncoder, StandardScaler\n",
    "from sklearn.cluster import DBSCAN\n",
    "\n",
    "np.random.seed(0)"
   ]
  },
  {
   "cell_type": "code",
   "execution_count": null,
   "id": "0ad7b458-4938-45f6-a8f8-284045e86edd",
   "metadata": {},
   "outputs": [],
   "source": [
    "from fosforml.model_manager.snowflakesession import get_session\n",
    "my_session = get_session()"
   ]
  },
  {
   "cell_type": "code",
   "execution_count": null,
   "id": "5286d4f0-37de-42cf-a281-3d6c0842b8f9",
   "metadata": {},
   "outputs": [],
   "source": [
    "table_name = 'MEMBER_FUNDS_ENRICHED_DETAILS'"
   ]
  },
  {
   "cell_type": "code",
   "execution_count": null,
   "id": "92a78c6d-7fdf-45e5-8393-6b1c7aec52b4",
   "metadata": {},
   "outputs": [],
   "source": [
    "sf_df = my_session.sql(\"select * from {}\".format(table_name))\n",
    "df = sf_df.to_pandas()"
   ]
  },
  {
   "cell_type": "code",
   "execution_count": 3,
   "id": "dbadf6b7",
   "metadata": {},
   "outputs": [],
   "source": [
    "frame = df[['MEMBER_GENDER', 'MEMBER_STATE', 'MEMBER_CONTACT_VERIFIED','FUND_TOTAL_ASSETS','FUND_RETURN_TARGET_PERCENTAGE',\n",
    "            'INVESTMENT_RISK_CATEGORY', 'CASH_BENCHMARK_ALLOCATION','FIXED_INCOME_BENCHMARK_ALLOCATION',\n",
    "            'DOMESTIC_LISTED_EQUITY_BENCHMARK_ALLOCATION','INTERNATIONAL_LISTED_EQUITY_BENCHMARK_ALLOCATION',\n",
    "            'UNLISTED_EQUITY_BENCHMARK_ALLOCATION', 'EQUITY_BENCHMARK_ALLOCATION','PROPERTY_BENCHMARK_ALLOCATION',\n",
    "            'INFRA_BENCHMARK_ALLOCATION','COMMODITIES_BENCHMARK_ALLOCATION', 'OTHERS_BENCHMARK_ALLOCATION','FUND_RISK_LEVEL', \n",
    "            'FUND_RISK_CATEGORY','NEG_NETRETURN_SINCE_INCEPTION', 'YEAR_1_RETURNS', 'YEAR_3_RETURNS','YEAR_5_RETURNS',\n",
    "            'YEAR_7_RETURNS','YEAR_10_RETURNS', 'SUPER_FEES','PENSION_FEES',\n",
    "            'INVESTMENT_AGE_GROUP', 'RETIREMENT_AGE_GROUP', 'TOTAL_FUNDS_INVESTED','CHURN_FLAG']].copy()"
   ]
  },
  {
   "cell_type": "code",
   "execution_count": 4,
   "id": "8e8c14af",
   "metadata": {},
   "outputs": [],
   "source": [
    "frame[\"CHURN_FLAG\"] = frame[\"CHURN_FLAG\"].apply(lambda x: 1 if x ==\"Y\" else 0)"
   ]
  },
  {
   "cell_type": "markdown",
   "id": "3d87ed94",
   "metadata": {},
   "source": [
    "The distribution of CHURN is pretty common bettween the employers and hence wont contribute inn modelling"
   ]
  },
  {
   "cell_type": "markdown",
   "id": "81903d33-68c5-46d2-b7f3-e92d6c34c607",
   "metadata": {},
   "source": [
    "# Pull Model to Predict Churn Reason"
   ]
  },
  {
   "cell_type": "code",
   "execution_count": 9,
   "id": "fa27ef14",
   "metadata": {},
   "outputs": [],
   "source": [
    "import pickle\n",
    "\n",
    "with open('reason_model.pkl','rb') as f:  ## use rb while reading the fie\n",
    "    clf = pickle.load(f)"
   ]
  },
  {
   "cell_type": "code",
   "execution_count": 11,
   "id": "6e1d5877",
   "metadata": {},
   "outputs": [],
   "source": [
    "frame = clf.predict(frame)\n",
    "df[\"CHURN_PREDICTED\"] = frame"
   ]
  },
  {
   "cell_type": "markdown",
   "id": "0feee50a",
   "metadata": {},
   "source": [
    "# MODEL_REASON"
   ]
  },
  {
   "cell_type": "code",
   "execution_count": 12,
   "id": "a81c46df",
   "metadata": {},
   "outputs": [],
   "source": [
    "df[\"unique_id\"] = [i for i in range(df.shape[0])]"
   ]
  },
  {
   "cell_type": "code",
   "execution_count": 13,
   "id": "c1cd82a7",
   "metadata": {},
   "outputs": [],
   "source": [
    "churned = df[df[\"CHURN_FLAG\"] == \"Y\"]"
   ]
  },
  {
   "cell_type": "code",
   "execution_count": 14,
   "id": "5edf0d40",
   "metadata": {},
   "outputs": [
    {
     "data": {
      "text/html": [
       "<div>\n",
       "<style scoped>\n",
       "    .dataframe tbody tr th:only-of-type {\n",
       "        vertical-align: middle;\n",
       "    }\n",
       "\n",
       "    .dataframe tbody tr th {\n",
       "        vertical-align: top;\n",
       "    }\n",
       "\n",
       "    .dataframe thead th {\n",
       "        text-align: right;\n",
       "    }\n",
       "</style>\n",
       "<table border=\"1\" class=\"dataframe\">\n",
       "  <thead>\n",
       "    <tr style=\"text-align: right;\">\n",
       "      <th></th>\n",
       "      <th>CHURN_REASON</th>\n",
       "    </tr>\n",
       "    <tr>\n",
       "      <th>CHURN_REASON</th>\n",
       "      <th></th>\n",
       "    </tr>\n",
       "  </thead>\n",
       "  <tbody>\n",
       "    <tr>\n",
       "      <th>FUND REPUTATION DECLINING</th>\n",
       "      <td>29.070673</td>\n",
       "    </tr>\n",
       "    <tr>\n",
       "      <th>HIGH ACCOUNT FEE</th>\n",
       "      <td>16.143163</td>\n",
       "    </tr>\n",
       "    <tr>\n",
       "      <th>HIGH TRANSACTION FEE</th>\n",
       "      <td>21.015857</td>\n",
       "    </tr>\n",
       "    <tr>\n",
       "      <th>LIFE EVENT</th>\n",
       "      <td>5.547624</td>\n",
       "    </tr>\n",
       "    <tr>\n",
       "      <th>NO REASON IDENTIFIED</th>\n",
       "      <td>25.771735</td>\n",
       "    </tr>\n",
       "    <tr>\n",
       "      <th>POOR FUND PERFORMANCE</th>\n",
       "      <td>2.450949</td>\n",
       "    </tr>\n",
       "  </tbody>\n",
       "</table>\n",
       "</div>"
      ],
      "text/plain": [
       "                           CHURN_REASON\n",
       "CHURN_REASON                           \n",
       "FUND REPUTATION DECLINING     29.070673\n",
       "HIGH ACCOUNT FEE              16.143163\n",
       "HIGH TRANSACTION FEE          21.015857\n",
       "LIFE EVENT                     5.547624\n",
       "NO REASON IDENTIFIED          25.771735\n",
       "POOR FUND PERFORMANCE          2.450949"
      ]
     },
     "execution_count": 14,
     "metadata": {},
     "output_type": "execute_result"
    }
   ],
   "source": [
    "churned.groupby([\"CHURN_REASON\"])[[\"CHURN_REASON\"]].count() / churned.shape[0]*100"
   ]
  },
  {
   "cell_type": "code",
   "execution_count": 15,
   "id": "b6b45e3c",
   "metadata": {},
   "outputs": [],
   "source": [
    "from sklearn.multiclass import OneVsRestClassifier\n",
    "from sklearn.linear_model import LogisticRegression"
   ]
  },
  {
   "cell_type": "code",
   "execution_count": 16,
   "id": "857578bf",
   "metadata": {},
   "outputs": [],
   "source": [
    "# frame_id = churned[[\"FUND_ID\",\"\"]]\n",
    "frame = churned[['MEMBER_GENDER', 'MEMBER_STATE', 'MEMBER_CONTACT_VERIFIED','FUND_TOTAL_ASSETS','FUND_RETURN_TARGET_PERCENTAGE',\n",
    "            'INVESTMENT_RISK_CATEGORY', 'CASH_BENCHMARK_ALLOCATION','FIXED_INCOME_BENCHMARK_ALLOCATION',\n",
    "            'DOMESTIC_LISTED_EQUITY_BENCHMARK_ALLOCATION','INTERNATIONAL_LISTED_EQUITY_BENCHMARK_ALLOCATION',\n",
    "            'UNLISTED_EQUITY_BENCHMARK_ALLOCATION', 'EQUITY_BENCHMARK_ALLOCATION','PROPERTY_BENCHMARK_ALLOCATION',\n",
    "            'INFRA_BENCHMARK_ALLOCATION','COMMODITIES_BENCHMARK_ALLOCATION', 'OTHERS_BENCHMARK_ALLOCATION','FUND_RISK_LEVEL', \n",
    "            'FUND_RISK_CATEGORY','NEG_NETRETURN_SINCE_INCEPTION', 'YEAR_1_RETURNS', 'YEAR_3_RETURNS','YEAR_5_RETURNS',\n",
    "            'YEAR_7_RETURNS','YEAR_10_RETURNS', 'SUPER_FEES','PENSION_FEES',\n",
    "            'INVESTMENT_AGE_GROUP', 'RETIREMENT_AGE_GROUP', 'TOTAL_FUNDS_INVESTED',\"CHURN_REASON\"]].copy()"
   ]
  },
  {
   "cell_type": "code",
   "execution_count": 17,
   "id": "4d072b7a",
   "metadata": {},
   "outputs": [],
   "source": [
    "churn_reason_dic = {reason:i for i, reason in enumerate(churned[\"CHURN_REASON\"].unique())}\n",
    "frame[\"CHURN_REASON\"] = frame[\"CHURN_REASON\"].apply(lambda x: churn_reason_dic[x])"
   ]
  },
  {
   "cell_type": "code",
   "execution_count": 34,
   "id": "1244a6e1",
   "metadata": {},
   "outputs": [
    {
     "data": {
      "text/plain": [
       "{'NO REASON IDENTIFIED': 0,\n",
       " 'HIGH ACCOUNT FEE': 1,\n",
       " 'POOR FUND PERFORMANCE': 2,\n",
       " 'HIGH TRANSACTION FEE': 3,\n",
       " 'FUND REPUTATION DECLINING': 4,\n",
       " 'LIFE EVENT': 5}"
      ]
     },
     "execution_count": 34,
     "metadata": {},
     "output_type": "execute_result"
    }
   ],
   "source": [
    "churn_reason_dic"
   ]
  },
  {
   "cell_type": "code",
   "execution_count": 18,
   "id": "21d45cfe",
   "metadata": {},
   "outputs": [],
   "source": [
    "numeric_features = [\"FUND_TOTAL_ASSETS\", 'FUND_RETURN_TARGET_PERCENTAGE','CASH_BENCHMARK_ALLOCATION',\n",
    "       'FIXED_INCOME_BENCHMARK_ALLOCATION','DOMESTIC_LISTED_EQUITY_BENCHMARK_ALLOCATION','INTERNATIONAL_LISTED_EQUITY_BENCHMARK_ALLOCATION',\n",
    "       'UNLISTED_EQUITY_BENCHMARK_ALLOCATION', 'EQUITY_BENCHMARK_ALLOCATION','PROPERTY_BENCHMARK_ALLOCATION', 'INFRA_BENCHMARK_ALLOCATION',\n",
    "       'COMMODITIES_BENCHMARK_ALLOCATION', 'OTHERS_BENCHMARK_ALLOCATION', 'YEAR_1_RETURNS', 'YEAR_3_RETURNS',\n",
    "       'YEAR_5_RETURNS', 'YEAR_7_RETURNS', 'YEAR_10_RETURNS', 'SUPER_FEES','PENSION_FEES',]\n",
    "numeric_transformer = Pipeline(\n",
    "    steps=[(\"imputer\", SimpleImputer(strategy=\"median\")), (\"scaler\", StandardScaler())]\n",
    ")\n",
    "\n",
    "categorical_features = [\"MEMBER_GENDER\", \"MEMBER_STATE\", \"MEMBER_CONTACT_VERIFIED\",\"INVESTMENT_RISK_CATEGORY\",'FUND_RISK_LEVEL',\n",
    "                        'FUND_RISK_CATEGORY',\"NEG_NETRETURN_SINCE_INCEPTION\", 'INVESTMENT_AGE_GROUP', 'RETIREMENT_AGE_GROUP', \"TOTAL_FUNDS_INVESTED\"]\n",
    "categorical_transformer = Pipeline(\n",
    "    steps=[\n",
    "        (\"encoder\", OneHotEncoder(handle_unknown=\"ignore\")),\n",
    "        (\"selector\", SelectPercentile(chi2, percentile=50)),\n",
    "    ]\n",
    ")\n",
    "preprocessor = ColumnTransformer(\n",
    "    transformers=[\n",
    "        (\"num\", numeric_transformer, numeric_features),\n",
    "        (\"cat\", categorical_transformer, categorical_features),\n",
    "    ]\n",
    ")"
   ]
  },
  {
   "cell_type": "code",
   "execution_count": 19,
   "id": "0c67eae5",
   "metadata": {},
   "outputs": [
    {
     "name": "stdout",
     "output_type": "stream",
     "text": [
      "(73963, 29)\n",
      "model score: 1.000\n"
     ]
    }
   ],
   "source": [
    "multi_lable_clf = OneVsRestClassifier(RandomForestClassifier(n_estimators=500, max_depth=8, max_features=0.6, bootstrap=True,\n",
    "                                                             max_samples=0.8))\n",
    "clf2 = Pipeline(\n",
    "    steps=[(\"preprocessor\", preprocessor), (\"classifier\", multi_lable_clf)]\n",
    ")\n",
    "\n",
    "\n",
    "X = frame.drop(\"CHURN_REASON\", axis=1)\n",
    "y = frame[\"CHURN_REASON\"]\n",
    "\n",
    "X_train, X_test, y_train, y_test = train_test_split(X, y, test_size=0.2, random_state=0)\n",
    "print(X_train.shape)\n",
    "\n",
    "clf2.fit(X_train, y_train)\n",
    "print(\"model score: %.3f\" % clf2.score(X_test, y_test))"
   ]
  },
  {
   "cell_type": "code",
   "execution_count": 20,
   "id": "b774a17b",
   "metadata": {},
   "outputs": [],
   "source": [
    "frame_pred = clf2.predict(frame)\n",
    "churned[\"CHURN_REASON_PREDICTED\"] = frame_pred"
   ]
  },
  {
   "cell_type": "code",
   "execution_count": 21,
   "id": "70187d06",
   "metadata": {},
   "outputs": [],
   "source": [
    "import pickle\n",
    "\n",
    "# save\n",
    "with open('reason_model.pkl','wb') as f:  ## use rb while reading the fie\n",
    "    pickle.dump(clf2,f)"
   ]
  },
  {
   "cell_type": "code",
   "execution_count": 22,
   "id": "de5f9d69",
   "metadata": {},
   "outputs": [],
   "source": [
    "rev_churn_dic = {val:key for key, val in churn_reason_dic.items()}\n",
    "temp_df = df[[\"unique_id\"]]\n",
    "temp_churned = churned[[\"unique_id\", \"CHURN_REASON_PREDICTED\"]]\n",
    "temp_df = pd.merge(temp_df, temp_churned, on=\"unique_id\", how=\"left\")\n",
    "    \n",
    "    \n",
    "temp_df = temp_df.replace(np.nan, \"Not Applicable\")\n",
    "temp_df[\"CHURN_REASON_PREDICTED\"] = temp_df[\"CHURN_REASON_PREDICTED\"].apply(lambda  x: rev_churn_dic[int(x)] if x !=  \"Not Applicable\" else x)\n",
    "df[\"CHURN_REASON_PREDICTED\"] = temp_df[\"CHURN_REASON_PREDICTED\"]"
   ]
  },
  {
   "cell_type": "markdown",
   "id": "4bc2b5bd",
   "metadata": {},
   "source": [
    "# FUND RECOMMENDATION"
   ]
  },
  {
   "cell_type": "code",
   "execution_count": null,
   "id": "a0ec8e87-17bb-4098-9c5c-681c1fe4894c",
   "metadata": {},
   "outputs": [],
   "source": [
    "from fosforml.model_manager.snowflakesession import get_session\n",
    "my_session = get_session()"
   ]
  },
  {
   "cell_type": "code",
   "execution_count": null,
   "id": "827192bf-7e89-4505-8f88-c9358501733c",
   "metadata": {},
   "outputs": [],
   "source": [
    "table_name = 'FUND_ALLOCATION_MASTER'\n",
    "\n",
    "sf_df = my_session.sql(\"select * from {}\".format(table_name))\n",
    "fund_allocation = sf_df.to_pandas()"
   ]
  },
  {
   "cell_type": "code",
   "execution_count": null,
   "id": "86f8a462-2f85-4f07-afda-320d7acca965",
   "metadata": {},
   "outputs": [],
   "source": [
    "table_name = 'FUND_MASTER'\n",
    "\n",
    "sf_df = my_session.sql(\"select * from {}\".format(table_name))\n",
    "fund_master = sf_df.to_pandas()"
   ]
  },
  {
   "cell_type": "code",
   "execution_count": null,
   "id": "ccb6e7f1-cd5f-426c-8546-b14c29a92066",
   "metadata": {},
   "outputs": [],
   "source": [
    "table_name = 'FUND_PERFORMANCE_MASTER'\n",
    "\n",
    "sf_df = my_session.sql(\"select * from {}\".format(table_name))\n",
    "fund_performance = sf_df.to_pandas()"
   ]
  },
  {
   "cell_type": "code",
   "execution_count": 24,
   "id": "2c1f6c72",
   "metadata": {},
   "outputs": [],
   "source": [
    "fund = pd.merge(fund_allocation, fund_master, on=\"FUND_ID\")\n",
    "fund_total = pd.merge(fund, fund_performance, on=\"FUND_ID\")\n",
    "fund_charge = [float(i) for i in fund_total[\"FUND_FEES_CHARGES\"] if i != 'Not Available']\n",
    "avg_fund_charge = sum(fund_charge) / len(fund_charge)\n",
    "\n",
    "fund_total[\"FUND_FEES_CHARGES\"] = fund_total[\"FUND_FEES_CHARGES\"].apply(lambda x: avg_fund_charge if x == 'Not Available' else x)\n",
    "fund_total[\"FUND_FEES_CHARGES\"] = fund_total[\"FUND_FEES_CHARGES\"].astype(float) \n",
    "\n",
    "fund_meta = fund_total[[\"FUND_ID\",\"FUNDNAME\"]]\n",
    "fund_cluster = fund_total.drop([\"FUND_ID\",\"FUNDNAME\",\"FUND_NAME_y\",\"FUND_TRUSTEE\",\"FUND_INCEPTION_DATE\"], axis=1)"
   ]
  },
  {
   "cell_type": "code",
   "execution_count": 25,
   "id": "6a0b6acf",
   "metadata": {},
   "outputs": [],
   "source": [
    "fund_data = pd.get_dummies(fund_cluster)\n",
    "\n",
    "fund_data = fund_data.replace(False, 0)\n",
    "fund_data = fund_data.replace(True, 1)"
   ]
  },
  {
   "cell_type": "code",
   "execution_count": 26,
   "id": "69966241",
   "metadata": {},
   "outputs": [],
   "source": [
    "clustering = DBSCAN(eps=2, min_samples=3).fit(fund_data)"
   ]
  },
  {
   "cell_type": "code",
   "execution_count": 27,
   "id": "5c7132b6",
   "metadata": {},
   "outputs": [],
   "source": [
    "fund_total[\"cluster\"] = clustering.labels_\n",
    "fund_total[\"avg_return\"] = fund_total[[\"YEAR_1_RETURNS\",\"YEAR_3_RETURNS\",\n",
    "                                 \"YEAR_5_RETURNS\",\"YEAR_7_RETURNS\",\n",
    "                                 \"YEAR_10_RETURNS\"]].apply(lambda x:\n",
    "                                                        (x[0] + (0.9*x[1]) + (0.75*x[2]) + (0.6*x[3]) + (0.55*x[4]))/5, axis=1)"
   ]
  },
  {
   "cell_type": "code",
   "execution_count": 28,
   "id": "67846c76",
   "metadata": {},
   "outputs": [
    {
     "name": "stdout",
     "output_type": "stream",
     "text": [
      "9\n"
     ]
    }
   ],
   "source": [
    "def recommendation(fund_id, reason):\n",
    "    if reason == 'NO REASON IDENTIFIED' or reason == \"NOT APPLICABLE\":\n",
    "        return \"Not Applicable\"\n",
    "    elif reason == 'HIGH ACCOUNT FEE' or reason == 'HIGH TRANSACTION FEE':\n",
    "        clus_frame = fund_total[fund_total[\"FUND_ID\"] == fund_id]\n",
    "        clus = list(clus_frame[\"cluster\"])[0]\n",
    "        clus_frame[\"charge\"] = clus_frame[[\"SUPER_FEES\",\"PENSION_FEES\",\"FUND_FEES_CHARGES\"]].apply(lambda x: (x[0]+x[1]+x[2])/3, axis=1)\n",
    "        total_charge = list(clus_frame[\"charge\"])[0]\n",
    "        group = fund_total[fund_total[\"cluster\"] == clus]\n",
    "        group[\"avg_fee\"] = group[[\"SUPER_FEES\",\"PENSION_FEES\",\"FUND_FEES_CHARGES\"]].apply(lambda x: (x[0]+x[1]+x[2])/3, axis=1)\n",
    "        group[\"rec\"] = group[\"avg_fee\"].apply(lambda x: 1 if x < total_charge else 0)\n",
    "        group = group.sort_values(\"avg_return\")\n",
    "        recommendations = list(group[group[\"rec\"] == 1][\"FUND_ID\"])\n",
    "        if fund_id in recommendations:\n",
    "            recommendations.remove(fund_id)\n",
    "        recommendations = recommendations[:5]\n",
    "        if len(recommendations) >= 1:\n",
    "            recommendations = np.random.choice(recommendations,1)[0]\n",
    "        else:\n",
    "            return \"Not Applicable\"\n",
    "        return recommendations\n",
    "\n",
    "    elif reason == 'FUND REPUTATION DECLINING' or reason == 'POOR FUND PERFORMANCE':\n",
    "        clus_frame = fund_total[fund_total[\"FUND_ID\"] == fund_id]\n",
    "        clus = list(clus_frame[\"cluster\"])[0]\n",
    "        group = fund_total[fund_total[\"cluster\"] == clus]\n",
    "        group = group.sort_values(\"avg_return\")\n",
    "        recommendations = list(group[\"FUND_ID\"])\n",
    "        if fund_id in recommendations:\n",
    "            recommendations.remove(fund_id)\n",
    "        recommendations = recommendations[:5]\n",
    "        if len(recommendations) >= 1:\n",
    "            recommendations = np.random.choice(recommendations,1)[0]\n",
    "        else:\n",
    "            return \"Not Applicable\"\n",
    "        return recommendations\n",
    "    \n",
    "    else:\n",
    "        return \"Not Applicable\"\n",
    "\n",
    "rec = recommendation(\"FID000014\",\"HIGH ACCOUNT FEE\")\n",
    "print(len(rec))"
   ]
  },
  {
   "cell_type": "code",
   "execution_count": 29,
   "id": "01b77fa2",
   "metadata": {},
   "outputs": [
    {
     "data": {
      "text/plain": [
       "'FID000016'"
      ]
     },
     "execution_count": 29,
     "metadata": {},
     "output_type": "execute_result"
    }
   ],
   "source": [
    "rec"
   ]
  },
  {
   "cell_type": "code",
   "execution_count": 29,
   "id": "42f936ec",
   "metadata": {},
   "outputs": [],
   "source": [
    "from tqdm import tqdm"
   ]
  },
  {
   "cell_type": "code",
   "execution_count": 30,
   "id": "b1bea31c",
   "metadata": {},
   "outputs": [
    {
     "name": "stderr",
     "output_type": "stream",
     "text": [
      "335999it [03:33, 1576.72it/s]\n"
     ]
    }
   ],
   "source": [
    "rec_fund = []\n",
    "for fund_id, f_reason, churn in tqdm(zip(df[\"FUND_ID\"], df[\"CHURN_REASON\"], df[\"CHURN_PREDICTED\"])):\n",
    "    if churn == 1:\n",
    "        rec = recommendation(fund_id,f_reason)\n",
    "        rec_fund.append(rec)\n",
    "    else:\n",
    "        rec_fund.append(\"Not Applicable\")\n",
    "    "
   ]
  },
  {
   "cell_type": "code",
   "execution_count": 31,
   "id": "8ae5fcb3",
   "metadata": {},
   "outputs": [],
   "source": [
    "df[\"funds_rec\"] = rec_fund"
   ]
  },
  {
   "cell_type": "code",
   "execution_count": 32,
   "id": "5bd7631d",
   "metadata": {},
   "outputs": [],
   "source": [
    "#df.to_csv(\"/data/funds_recommendated.csv\", index=False)"
   ]
  },
  {
   "cell_type": "code",
   "execution_count": 33,
   "id": "c2305020",
   "metadata": {},
   "outputs": [],
   "source": [
    "#fund_total.to_csv(\"/data/FUNDS_COMPLETE_DATA.csv\", index=False)"
   ]
  },
  {
   "cell_type": "code",
   "execution_count": 100,
   "id": "affd50e2",
   "metadata": {},
   "outputs": [],
   "source": [
    "df = df.rename(columns={'FUNDS RECOMMENDATIONS': 'FUNDS_RECOMMENDATIONS'})\n",
    "df[\"FUNDS_RECOMMENDATIONS\"] = df[\"FUNDS_RECOMMENDATIONS\"].astype(str)"
   ]
  },
  {
   "cell_type": "code",
   "execution_count": 98,
   "id": "b5c53fb2",
   "metadata": {},
   "outputs": [],
   "source": [
    "for i, val in tqdm(enumerate(df['FUNDS_RECOMMENDATIONS'])):\n",
    "    df[\"FUNDS_RECOMMENDATIONS\"].iloc[i] = str(val)"
   ]
  },
  {
   "cell_type": "code",
   "execution_count": 110,
   "id": "da674e6c",
   "metadata": {},
   "outputs": [],
   "source": [
    "from snowflake.snowpark.types import StructType, StructField, StringType, IntegerType, FloatType\n",
    "\n",
    "schema = StructType([\n",
    "    StructField(\"MEMBER_ID\", StringType()),\n",
    "    StructField(\"MEMBER_NAME\", StringType()),\n",
    "    StructField(\"MEMBER_EMPLOYMENT\", StringType()),\n",
    "    StructField(\"MEMBER_GENDER\", StringType()),\n",
    "    StructField(\"MEMBER_CITY_TOWN\", StringType()),\n",
    "    StructField(\"MEMBER_STATE\", StringType()),\n",
    "    StructField(\"MEMBER_CONTACT_VERIFIED\", StringType()),\n",
    "    StructField(\"FUND_ID\", StringType()),\n",
    "    StructField(\"CHURN_REASON\", StringType()),\n",
    "    StructField(\"LATITUDE\", FloatType()),\n",
    "    StructField(\"LONGITUDE\", FloatType()),\n",
    "    StructField(\"COUNTRY\", StringType()),\n",
    "    StructField(\"COUNTRYCODE\", StringType()),\n",
    "    StructField(\"CAPITAL\", StringType()),\n",
    "    StructField(\"POPULATION\", IntegerType()),\n",
    "    StructField(\"FUND_TOTAL_ASSETS\", FloatType()),\n",
    "    StructField(\"FUND_RETURN_TARGET_PERCENTAGE\", FloatType()),\n",
    "    StructField(\"INVESTMENT_RISK_LEVEL\", FloatType()),\n",
    "    StructField(\"INVESTMENT_RISK_CATEGORY\", StringType()),\n",
    "    StructField(\"CASH_BENCHMARK_ALLOCATION\", FloatType()),\n",
    "    StructField(\"FIXED_INCOME_BENCHMARK_ALLOCATION\", FloatType()),\n",
    "    StructField(\"DOMESTIC_LISTED_EQUITY_BENCHMARK_ALLOCATION\", FloatType()),\n",
    "    StructField(\"INTERNATIONAL_LISTED_EQUITY_BENCHMARK_ALLOCATION\", FloatType()),\n",
    "    StructField(\"UNLISTED_EQUITY_BENCHMARK_ALLOCATION\", FloatType()),\n",
    "    StructField(\"EQUITY_BENCHMARK_ALLOCATION\", FloatType()),\n",
    "    StructField(\"PROPERTY_BENCHMARK_ALLOCATION\", FloatType()),\n",
    "    StructField(\"INFRA_BENCHMARK_ALLOCATION\", FloatType()),\n",
    "    StructField(\"COMMODITIES_BENCHMARK_ALLOCATION\", FloatType()),\n",
    "    StructField(\"OTHERS_BENCHMARK_ALLOCATION\", FloatType()),\n",
    "    StructField(\"FUND_RISK_LEVEL\", FloatType()),\n",
    "    StructField(\"FUND_RISK_CATEGORY\", StringType()),\n",
    "    StructField(\"NEG_NETRETURN_SINCE_INCEPTION\", StringType()),\n",
    "    StructField(\"YEAR_1_RETURNS\", FloatType()),\n",
    "    StructField(\"YEAR_3_RETURNS\", FloatType()),\n",
    "    StructField(\"YEAR_5_RETURNS\", FloatType()),\n",
    "    StructField(\"YEAR_7_RETURNS\", FloatType()),\n",
    "    StructField(\"YEAR_10_RETURNS\", FloatType()),\n",
    "    StructField(\"SUPER_FEES\", FloatType()),\n",
    "    StructField(\"PENSION_FEES\", FloatType()),\n",
    "    StructField(\"CHURN_FLAG\", StringType()),\n",
    "    StructField(\"MEMBER_AGE\", IntegerType()),\n",
    "    StructField(\"INVESTMENT_AGE_GROUP\", StringType()),\n",
    "    StructField(\"RETIREMENT_AGE\", IntegerType()),\n",
    "    StructField(\"RETIREMENT_AGE_GROUP\", StringType()),\n",
    "    StructField(\"TOTAL_FUNDS_INVESTED\", IntegerType()),\n",
    "    StructField(\"NO_OF_CHURN\", StringType()),\n",
    "    StructField(\"MEMBER_DOB_DT\", StringType()),\n",
    "    StructField(\"ALLOCATION_DT\", StringType()),\n",
    "    StructField(\"CHURN_DT\", StringType()),\n",
    "    StructField(\"RETIREMENT_DT\", StringType()),\n",
    "    StructField(\"CHURN_PREDICTED\", IntegerType()),\n",
    "    StructField(\"unique_id\", IntegerType()),\n",
    "    StructField(\"CHURN_REASON_PREDICTED\", StringType()),\n",
    "    StructField(\"FUNDS_RECOMMENDATIONS\", StringType())\n",
    "])"
   ]
  },
  {
   "cell_type": "code",
   "execution_count": 111,
   "id": "fc1167a7",
   "metadata": {},
   "outputs": [],
   "source": [
    "df_snowflake = session.createDataFrame(df.values.tolist(), schema=schema)"
   ]
  },
  {
   "cell_type": "code",
   "execution_count": 112,
   "id": "768a10da",
   "metadata": {},
   "outputs": [],
   "source": [
    "df_snowflake.write.mode(\"overwrite\").save_as_table(\"FDC_Banking_FS.BFS_SUPER_ANNU_SCHEMA.FUNDS_COMPLETE_DATA\")"
   ]
  },
  {
   "cell_type": "code",
   "execution_count": 108,
   "id": "818e39c2",
   "metadata": {},
   "outputs": [
    {
     "name": "stderr",
     "output_type": "stream",
     "text": [
      "335999it [02:19, 2414.77it/s]\n"
     ]
    }
   ],
   "source": [
    "temp_ = {}\n",
    "for i, val in tqdm(enumerate(df['FUNDS_RECOMMENDATIONS'])):\n",
    "    df[\"FUNDS_RECOMMENDATIONS\"].iloc[i] = str(val)\n",
    "#     temp_[val] =type(val)\n",
    "    "
   ]
  },
  {
   "cell_type": "code",
   "execution_count": 115,
   "id": "859ce725",
   "metadata": {},
   "outputs": [],
   "source": [
    "fund_master[\"WEIGHTED_AVG_RETURN\"] = fund_total[\"avg_return\"]"
   ]
  },
  {
   "cell_type": "code",
   "execution_count": 116,
   "id": "8247244b",
   "metadata": {},
   "outputs": [],
   "source": [
    "fund_master[\"AVG_FEES\"] = fund_total[[\"SUPER_FEES\",\"PENSION_FEES\",\"FUND_FEES_CHARGES\"]].apply(lambda x: (x[0]+x[1]+x[2])/3, axis=1)"
   ]
  },
  {
   "cell_type": "code",
   "execution_count": 120,
   "id": "65dd4934",
   "metadata": {},
   "outputs": [],
   "source": [
    "def get_return_rating(x):\n",
    "    if x == '2 to 3':\n",
    "        return 4.0\n",
    "    if x == '1 to 2': \n",
    "        return 4.2\n",
    "    if x == '4 to 6':\n",
    "        return 3.5\n",
    "    if x == '0.5 to 1':\n",
    "        return  4.5\n",
    "    if x == '3 to 4':\n",
    "        return 3.8\n",
    "    else:\n",
    "        return 4.8\n",
    "\n",
    "fund_master[\"NEG_RETURN_RATING\"] = fund_total[\"NEG_NETRETURN_SINCE_INCEPTION\"].apply(get_return_rating)"
   ]
  },
  {
   "cell_type": "code",
   "execution_count": 122,
   "id": "39dc9acf",
   "metadata": {},
   "outputs": [],
   "source": [
    "fund_master = fund_master.drop(\"AVG_RETURN\", axis=1)"
   ]
  },
  {
   "cell_type": "code",
   "execution_count": 123,
   "id": "153af4f5",
   "metadata": {},
   "outputs": [],
   "source": [
    "df_snowflake = session.createDataFrame(fund_master.values.tolist(), schema=fund_master.columns.tolist())"
   ]
  },
  {
   "cell_type": "code",
   "execution_count": 124,
   "id": "3681106b",
   "metadata": {},
   "outputs": [],
   "source": [
    "df_snowflake.write.mode(\"overwrite\").save_as_table(\"FDC_Banking_FS.BFS_SUPER_ANNU_SCHEMA.FUND_MASTER\")"
   ]
  }
 ],
 "metadata": {
  "kernelspec": {
   "display_name": "Python 3 (ipykernel)",
   "language": "python",
   "name": "python3"
  },
  "language_info": {
   "codemirror_mode": {
    "name": "ipython",
    "version": 3
   },
   "file_extension": ".py",
   "mimetype": "text/x-python",
   "name": "python",
   "nbconvert_exporter": "python",
   "pygments_lexer": "ipython3",
   "version": "3.9.19"
  }
 },
 "nbformat": 4,
 "nbformat_minor": 5
}
