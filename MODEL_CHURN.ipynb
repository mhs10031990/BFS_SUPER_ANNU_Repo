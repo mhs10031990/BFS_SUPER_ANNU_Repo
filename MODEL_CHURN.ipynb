{
 "cells": [
  {
   "cell_type": "code",
   "execution_count": 1,
   "id": "e6bd2970",
   "metadata": {},
   "outputs": [
    {
     "name": "stdout",
     "output_type": "stream",
     "text": [
      "connection successful!\n"
     ]
    }
   ],
   "source": [
    "#Snowpark lib\n",
    "from snowflake.snowpark import Session\n",
    "\n",
    "# Data Science Libs\n",
    "import numpy as np\n",
    "import pandas as pd\n",
    "\n",
    "# create_temp_table warning suppresion\n",
    "import warnings; warnings.simplefilter('ignore')\n",
    "\n",
    "#ConfigParser to read ini file\n",
    "import configparser\n",
    "\n",
    "import numpy as np\n",
    "\n",
    "from sklearn.compose import ColumnTransformer\n",
    "from sklearn.feature_selection import SelectPercentile, chi2\n",
    "from sklearn.impute import SimpleImputer\n",
    "from sklearn.linear_model import LogisticRegression\n",
    "from sklearn.ensemble import RandomForestClassifier\n",
    "from sklearn.model_selection import RandomizedSearchCV, train_test_split\n",
    "from sklearn.pipeline import Pipeline\n",
    "from sklearn.preprocessing import OneHotEncoder, StandardScaler\n",
    "\n",
    "np.random.seed(0)\n",
    "\n",
    "config = configparser.ConfigParser()\n",
    "config.read(\"/notebooks/notebooks/credentials.ini\")\n",
    "\n",
    "connection_parameters = {\n",
    "    \"user\": f'{config[\"Snowflake\"][\"user\"]}',\n",
    "    \"password\": f'{config[\"Snowflake\"][\"password\"]}',\n",
    "    \"account\": f'{config[\"Snowflake\"][\"account\"]}',\n",
    "    \"WAREHOUSE\": f'{config[\"Snowflake\"][\"WAREHOUSE\"]}',\n",
    "    \"DATABASE\": f'{config[\"Snowflake\"][\"DATABASE\"]}',\n",
    "    \"SCHEMA\": f'{config[\"Snowflake\"][\"SCHEMA\"]}'\n",
    "}\n",
    "\n",
    "def snowflake_connector(conn):\n",
    "    try:\n",
    "        session = Session.builder.configs(conn).create()\n",
    "        print(\"connection successful!\")\n",
    "    except:\n",
    "        raise ValueError(\"error while connecting with db\")\n",
    "    return session\n",
    "\n",
    "session = snowflake_connector(connection_parameters)"
   ]
  },
  {
   "cell_type": "code",
   "execution_count": 2,
   "id": "9d9920b1",
   "metadata": {},
   "outputs": [],
   "source": [
    "# df = session.table(\"MEMBER_FUNDS_ENRICHED_DETAILS\").to_pandas()\n",
    "df = pd.read_csv(\"/data/funds.csv\")"
   ]
  },
  {
   "cell_type": "code",
   "execution_count": 3,
   "id": "a15f6ff6",
   "metadata": {},
   "outputs": [],
   "source": [
    "# df.to_csv(\"/data/funds.csv\", index=False)"
   ]
  },
  {
   "cell_type": "code",
   "execution_count": 4,
   "id": "60392fab",
   "metadata": {},
   "outputs": [
    {
     "data": {
      "text/html": [
       "<div>\n",
       "<style scoped>\n",
       "    .dataframe tbody tr th:only-of-type {\n",
       "        vertical-align: middle;\n",
       "    }\n",
       "\n",
       "    .dataframe tbody tr th {\n",
       "        vertical-align: top;\n",
       "    }\n",
       "\n",
       "    .dataframe thead th {\n",
       "        text-align: right;\n",
       "    }\n",
       "</style>\n",
       "<table border=\"1\" class=\"dataframe\">\n",
       "  <thead>\n",
       "    <tr style=\"text-align: right;\">\n",
       "      <th></th>\n",
       "      <th>MEMBER_ID</th>\n",
       "      <th>MEMBER_NAME</th>\n",
       "      <th>MEMBER_EMPLOYMENT</th>\n",
       "      <th>MEMBER_GENDER</th>\n",
       "      <th>MEMBER_CITY_TOWN</th>\n",
       "      <th>MEMBER_STATE</th>\n",
       "      <th>MEMBER_CONTACT_VERIFIED</th>\n",
       "      <th>FUND_ID</th>\n",
       "      <th>CHURN_REASON</th>\n",
       "      <th>LATITUDE</th>\n",
       "      <th>...</th>\n",
       "      <th>MEMBER_AGE</th>\n",
       "      <th>INVESTMENT_AGE_GROUP</th>\n",
       "      <th>RETIREMENT_AGE</th>\n",
       "      <th>RETIREMENT_AGE_GROUP</th>\n",
       "      <th>TOTAL_FUNDS_INVESTED</th>\n",
       "      <th>NO_OF_CHURN</th>\n",
       "      <th>MEMBER_DOB_DT</th>\n",
       "      <th>ALLOCATION_DT</th>\n",
       "      <th>CHURN_DT</th>\n",
       "      <th>RETIREMENT_DT</th>\n",
       "    </tr>\n",
       "  </thead>\n",
       "  <tbody>\n",
       "    <tr>\n",
       "      <th>0</th>\n",
       "      <td>MID108406</td>\n",
       "      <td>Maile Treston</td>\n",
       "      <td>Charles Darwin University</td>\n",
       "      <td>Male</td>\n",
       "      <td>Lakes Entrance</td>\n",
       "      <td>Victoria</td>\n",
       "      <td>Y</td>\n",
       "      <td>FID000044</td>\n",
       "      <td>NOT APPLICABLE</td>\n",
       "      <td>-37.8667</td>\n",
       "      <td>...</td>\n",
       "      <td>52</td>\n",
       "      <td>Senior</td>\n",
       "      <td>13</td>\n",
       "      <td>MORE_THAN_10_YEAR</td>\n",
       "      <td>3</td>\n",
       "      <td>2.0</td>\n",
       "      <td>1972-04-29</td>\n",
       "      <td>2011-02-25</td>\n",
       "      <td>9999-12-31</td>\n",
       "      <td>2037-04-29</td>\n",
       "    </tr>\n",
       "    <tr>\n",
       "      <th>1</th>\n",
       "      <td>MID108415</td>\n",
       "      <td>Annabelle Cryer</td>\n",
       "      <td>RMIT University</td>\n",
       "      <td>Female</td>\n",
       "      <td>Mooroopna</td>\n",
       "      <td>Victoria</td>\n",
       "      <td>N</td>\n",
       "      <td>FID000016</td>\n",
       "      <td>NOT APPLICABLE</td>\n",
       "      <td>-36.3833</td>\n",
       "      <td>...</td>\n",
       "      <td>26</td>\n",
       "      <td>Young</td>\n",
       "      <td>39</td>\n",
       "      <td>MORE_THAN_10_YEAR</td>\n",
       "      <td>3</td>\n",
       "      <td>2.0</td>\n",
       "      <td>1998-10-05</td>\n",
       "      <td>2010-01-04</td>\n",
       "      <td>9999-12-31</td>\n",
       "      <td>2063-10-05</td>\n",
       "    </tr>\n",
       "    <tr>\n",
       "      <th>2</th>\n",
       "      <td>MID108429</td>\n",
       "      <td>Leonora Acuff</td>\n",
       "      <td>University of South Australia</td>\n",
       "      <td>Male</td>\n",
       "      <td>Jindabyne</td>\n",
       "      <td>New South Wales</td>\n",
       "      <td>N</td>\n",
       "      <td>FID000100</td>\n",
       "      <td>NOT APPLICABLE</td>\n",
       "      <td>-36.4000</td>\n",
       "      <td>...</td>\n",
       "      <td>51</td>\n",
       "      <td>Senior</td>\n",
       "      <td>14</td>\n",
       "      <td>MORE_THAN_10_YEAR</td>\n",
       "      <td>3</td>\n",
       "      <td>2.0</td>\n",
       "      <td>1973-12-20</td>\n",
       "      <td>2010-09-04</td>\n",
       "      <td>9999-12-31</td>\n",
       "      <td>2038-12-20</td>\n",
       "    </tr>\n",
       "    <tr>\n",
       "      <th>3</th>\n",
       "      <td>MID108436</td>\n",
       "      <td>Franklyn Gesick</td>\n",
       "      <td>The University of Newcastle</td>\n",
       "      <td>Male</td>\n",
       "      <td>Wingham</td>\n",
       "      <td>New South Wales</td>\n",
       "      <td>N</td>\n",
       "      <td>FID000012</td>\n",
       "      <td>NOT APPLICABLE</td>\n",
       "      <td>-31.8667</td>\n",
       "      <td>...</td>\n",
       "      <td>41</td>\n",
       "      <td>Middle-aged</td>\n",
       "      <td>24</td>\n",
       "      <td>MORE_THAN_10_YEAR</td>\n",
       "      <td>3</td>\n",
       "      <td>2.0</td>\n",
       "      <td>1983-03-14</td>\n",
       "      <td>2013-04-27</td>\n",
       "      <td>9999-12-31</td>\n",
       "      <td>2048-03-14</td>\n",
       "    </tr>\n",
       "    <tr>\n",
       "      <th>4</th>\n",
       "      <td>MID108438</td>\n",
       "      <td>Amber Gillaspie</td>\n",
       "      <td>University of South Australia</td>\n",
       "      <td>Female</td>\n",
       "      <td>Nathalia</td>\n",
       "      <td>Victoria</td>\n",
       "      <td>Y</td>\n",
       "      <td>FID000035</td>\n",
       "      <td>NOT APPLICABLE</td>\n",
       "      <td>-36.0583</td>\n",
       "      <td>...</td>\n",
       "      <td>40</td>\n",
       "      <td>Middle-aged</td>\n",
       "      <td>25</td>\n",
       "      <td>MORE_THAN_10_YEAR</td>\n",
       "      <td>3</td>\n",
       "      <td>2.0</td>\n",
       "      <td>1984-01-06</td>\n",
       "      <td>2012-05-17</td>\n",
       "      <td>9999-12-31</td>\n",
       "      <td>2049-01-06</td>\n",
       "    </tr>\n",
       "  </tbody>\n",
       "</table>\n",
       "<p>5 rows × 50 columns</p>\n",
       "</div>"
      ],
      "text/plain": [
       "   MEMBER_ID      MEMBER_NAME              MEMBER_EMPLOYMENT MEMBER_GENDER  \\\n",
       "0  MID108406    Maile Treston      Charles Darwin University          Male   \n",
       "1  MID108415  Annabelle Cryer                RMIT University        Female   \n",
       "2  MID108429    Leonora Acuff  University of South Australia          Male   \n",
       "3  MID108436  Franklyn Gesick    The University of Newcastle          Male   \n",
       "4  MID108438  Amber Gillaspie  University of South Australia        Female   \n",
       "\n",
       "  MEMBER_CITY_TOWN     MEMBER_STATE MEMBER_CONTACT_VERIFIED    FUND_ID  \\\n",
       "0   Lakes Entrance         Victoria                       Y  FID000044   \n",
       "1        Mooroopna         Victoria                       N  FID000016   \n",
       "2        Jindabyne  New South Wales                       N  FID000100   \n",
       "3          Wingham  New South Wales                       N  FID000012   \n",
       "4         Nathalia         Victoria                       Y  FID000035   \n",
       "\n",
       "     CHURN_REASON  LATITUDE  ...  MEMBER_AGE INVESTMENT_AGE_GROUP  \\\n",
       "0  NOT APPLICABLE  -37.8667  ...          52               Senior   \n",
       "1  NOT APPLICABLE  -36.3833  ...          26                Young   \n",
       "2  NOT APPLICABLE  -36.4000  ...          51               Senior   \n",
       "3  NOT APPLICABLE  -31.8667  ...          41          Middle-aged   \n",
       "4  NOT APPLICABLE  -36.0583  ...          40          Middle-aged   \n",
       "\n",
       "  RETIREMENT_AGE RETIREMENT_AGE_GROUP  TOTAL_FUNDS_INVESTED  NO_OF_CHURN  \\\n",
       "0             13    MORE_THAN_10_YEAR                     3          2.0   \n",
       "1             39    MORE_THAN_10_YEAR                     3          2.0   \n",
       "2             14    MORE_THAN_10_YEAR                     3          2.0   \n",
       "3             24    MORE_THAN_10_YEAR                     3          2.0   \n",
       "4             25    MORE_THAN_10_YEAR                     3          2.0   \n",
       "\n",
       "   MEMBER_DOB_DT  ALLOCATION_DT    CHURN_DT  RETIREMENT_DT  \n",
       "0     1972-04-29     2011-02-25  9999-12-31     2037-04-29  \n",
       "1     1998-10-05     2010-01-04  9999-12-31     2063-10-05  \n",
       "2     1973-12-20     2010-09-04  9999-12-31     2038-12-20  \n",
       "3     1983-03-14     2013-04-27  9999-12-31     2048-03-14  \n",
       "4     1984-01-06     2012-05-17  9999-12-31     2049-01-06  \n",
       "\n",
       "[5 rows x 50 columns]"
      ]
     },
     "execution_count": 4,
     "metadata": {},
     "output_type": "execute_result"
    }
   ],
   "source": [
    "df.head()"
   ]
  },
  {
   "cell_type": "code",
   "execution_count": 5,
   "id": "9956b1c8",
   "metadata": {},
   "outputs": [
    {
     "data": {
      "text/plain": [
       "MEMBER_ID                                           0.000000\n",
       "MEMBER_NAME                                         0.000000\n",
       "MEMBER_EMPLOYMENT                                   0.000000\n",
       "MEMBER_GENDER                                       0.000000\n",
       "MEMBER_CITY_TOWN                                    0.000000\n",
       "MEMBER_STATE                                        0.000000\n",
       "MEMBER_CONTACT_VERIFIED                             0.000000\n",
       "FUND_ID                                             0.000000\n",
       "CHURN_REASON                                        0.000000\n",
       "LATITUDE                                            0.000000\n",
       "LONGITUDE                                           0.000000\n",
       "COUNTRY                                             0.000000\n",
       "COUNTRYCODE                                         0.000000\n",
       "CAPITAL                                             0.000000\n",
       "POPULATION                                          0.000000\n",
       "FUND_TOTAL_ASSETS                                   0.000000\n",
       "FUND_RETURN_TARGET_PERCENTAGE                       0.000000\n",
       "INVESTMENT_RISK_LEVEL                               0.000000\n",
       "INVESTMENT_RISK_CATEGORY                            0.000000\n",
       "CASH_BENCHMARK_ALLOCATION                           0.000000\n",
       "FIXED_INCOME_BENCHMARK_ALLOCATION                   0.000000\n",
       "DOMESTIC_LISTED_EQUITY_BENCHMARK_ALLOCATION         0.000000\n",
       "INTERNATIONAL_LISTED_EQUITY_BENCHMARK_ALLOCATION    0.000000\n",
       "UNLISTED_EQUITY_BENCHMARK_ALLOCATION                0.000000\n",
       "EQUITY_BENCHMARK_ALLOCATION                         0.000000\n",
       "PROPERTY_BENCHMARK_ALLOCATION                       0.000000\n",
       "INFRA_BENCHMARK_ALLOCATION                          0.000000\n",
       "COMMODITIES_BENCHMARK_ALLOCATION                    0.000000\n",
       "OTHERS_BENCHMARK_ALLOCATION                         0.000000\n",
       "FUND_RISK_LEVEL                                     0.000000\n",
       "FUND_RISK_CATEGORY                                  0.000000\n",
       "NEG_NETRETURN_SINCE_INCEPTION                       0.000000\n",
       "YEAR_1_RETURNS                                      0.000000\n",
       "YEAR_3_RETURNS                                      0.000000\n",
       "YEAR_5_RETURNS                                      0.000000\n",
       "YEAR_7_RETURNS                                      0.000000\n",
       "YEAR_10_RETURNS                                     0.000000\n",
       "SUPER_FEES                                          0.000000\n",
       "PENSION_FEES                                        0.000000\n",
       "CHURN_FLAG                                          0.000000\n",
       "MEMBER_AGE                                          0.000000\n",
       "INVESTMENT_AGE_GROUP                                0.000000\n",
       "RETIREMENT_AGE                                      0.000000\n",
       "RETIREMENT_AGE_GROUP                                0.000000\n",
       "TOTAL_FUNDS_INVESTED                                0.000000\n",
       "NO_OF_CHURN                                         0.484275\n",
       "MEMBER_DOB_DT                                       0.000000\n",
       "ALLOCATION_DT                                       0.000000\n",
       "CHURN_DT                                            0.000000\n",
       "RETIREMENT_DT                                       0.000000\n",
       "dtype: float64"
      ]
     },
     "execution_count": 5,
     "metadata": {},
     "output_type": "execute_result"
    }
   ],
   "source": [
    "df.isna().sum() / df.shape[0]"
   ]
  },
  {
   "cell_type": "markdown",
   "id": "79265970",
   "metadata": {},
   "source": [
    "NO_OF_CHURN column has almost 50% missing value, it wont be wise to impute these many values so will just drop it.                                     "
   ]
  },
  {
   "cell_type": "code",
   "execution_count": 6,
   "id": "dbadf6b7",
   "metadata": {},
   "outputs": [],
   "source": [
    "frame = df[['MEMBER_GENDER', 'MEMBER_STATE', 'MEMBER_CONTACT_VERIFIED','FUND_TOTAL_ASSETS','FUND_RETURN_TARGET_PERCENTAGE',\n",
    "            'INVESTMENT_RISK_CATEGORY', 'CASH_BENCHMARK_ALLOCATION','FIXED_INCOME_BENCHMARK_ALLOCATION',\n",
    "            'DOMESTIC_LISTED_EQUITY_BENCHMARK_ALLOCATION','INTERNATIONAL_LISTED_EQUITY_BENCHMARK_ALLOCATION',\n",
    "            'UNLISTED_EQUITY_BENCHMARK_ALLOCATION', 'EQUITY_BENCHMARK_ALLOCATION','PROPERTY_BENCHMARK_ALLOCATION',\n",
    "            'INFRA_BENCHMARK_ALLOCATION','COMMODITIES_BENCHMARK_ALLOCATION', 'OTHERS_BENCHMARK_ALLOCATION','FUND_RISK_LEVEL', \n",
    "            'FUND_RISK_CATEGORY','NEG_NETRETURN_SINCE_INCEPTION', 'YEAR_1_RETURNS', 'YEAR_3_RETURNS','YEAR_5_RETURNS',\n",
    "            'YEAR_7_RETURNS','YEAR_10_RETURNS', 'SUPER_FEES','PENSION_FEES',\n",
    "            'INVESTMENT_AGE_GROUP', 'RETIREMENT_AGE_GROUP', 'TOTAL_FUNDS_INVESTED','CHURN_FLAG']].copy()"
   ]
  },
  {
   "cell_type": "code",
   "execution_count": 7,
   "id": "8e8c14af",
   "metadata": {},
   "outputs": [],
   "source": [
    "frame[\"CHURN_FLAG\"] = frame[\"CHURN_FLAG\"].apply(lambda x: 1 if x ==\"Y\" else 0)"
   ]
  },
  {
   "cell_type": "code",
   "execution_count": 82,
   "id": "acc5ef94",
   "metadata": {},
   "outputs": [],
   "source": [
    "# frame.groupby([\"RETIREMENT_AGE_GROUP\",\"CHURN_FLAG\"])[[\"CHURN_FLAG\"]].count()"
   ]
  },
  {
   "cell_type": "markdown",
   "id": "3d87ed94",
   "metadata": {},
   "source": [
    "The distribution of CHURN is pretty common bettween the employers and hence wont contribute inn modelling"
   ]
  },
  {
   "cell_type": "code",
   "execution_count": 76,
   "id": "9141d97f",
   "metadata": {},
   "outputs": [],
   "source": [
    "# multiple = {i for i, j in dict(df[\"MEMBER_ID\"].value_counts()).items() if j > 1 }\n",
    "# multiple[multiple[\"value_counts\"]>=2].index.to_list()"
   ]
  },
  {
   "cell_type": "markdown",
   "id": "69a03707",
   "metadata": {},
   "source": [
    "# MODEL TO PREDICT CHURN"
   ]
  },
  {
   "cell_type": "code",
   "execution_count": 8,
   "id": "35aed35e",
   "metadata": {},
   "outputs": [],
   "source": [
    "numeric_features = [\"FUND_TOTAL_ASSETS\", 'FUND_RETURN_TARGET_PERCENTAGE','CASH_BENCHMARK_ALLOCATION',\n",
    "       'FIXED_INCOME_BENCHMARK_ALLOCATION','DOMESTIC_LISTED_EQUITY_BENCHMARK_ALLOCATION','INTERNATIONAL_LISTED_EQUITY_BENCHMARK_ALLOCATION',\n",
    "       'UNLISTED_EQUITY_BENCHMARK_ALLOCATION', 'EQUITY_BENCHMARK_ALLOCATION','PROPERTY_BENCHMARK_ALLOCATION', 'INFRA_BENCHMARK_ALLOCATION',\n",
    "       'COMMODITIES_BENCHMARK_ALLOCATION', 'OTHERS_BENCHMARK_ALLOCATION', 'YEAR_1_RETURNS', 'YEAR_3_RETURNS',\n",
    "       'YEAR_5_RETURNS', 'YEAR_7_RETURNS', 'YEAR_10_RETURNS', 'SUPER_FEES','PENSION_FEES',]\n",
    "numeric_transformer = Pipeline(\n",
    "    steps=[(\"imputer\", SimpleImputer(strategy=\"median\")), (\"scaler\", StandardScaler())]\n",
    ")\n",
    "\n",
    "categorical_features = [\"MEMBER_GENDER\", \"MEMBER_STATE\", \"MEMBER_CONTACT_VERIFIED\",\"INVESTMENT_RISK_CATEGORY\",'FUND_RISK_LEVEL',\n",
    "                        'FUND_RISK_CATEGORY',\"NEG_NETRETURN_SINCE_INCEPTION\", 'INVESTMENT_AGE_GROUP', 'RETIREMENT_AGE_GROUP', \"TOTAL_FUNDS_INVESTED\"]\n",
    "categorical_transformer = Pipeline(\n",
    "    steps=[\n",
    "        (\"encoder\", OneHotEncoder(handle_unknown=\"ignore\")),\n",
    "        (\"selector\", SelectPercentile(chi2, percentile=50)),\n",
    "    ]\n",
    ")\n",
    "preprocessor = ColumnTransformer(\n",
    "    transformers=[\n",
    "        (\"num\", numeric_transformer, numeric_features),\n",
    "        (\"cat\", categorical_transformer, categorical_features),\n",
    "    ]\n",
    ")"
   ]
  },
  {
   "cell_type": "code",
   "execution_count": 9,
   "id": "e0595d24",
   "metadata": {},
   "outputs": [],
   "source": [
    "clf = Pipeline(\n",
    "    steps=[(\"preprocessor\", preprocessor), (\"classifier\", RandomForestClassifier(n_estimators=500, max_depth=8, \n",
    "                                                                                 max_features=0.6,\n",
    "                                                                                 bootstrap=True, max_samples=0.8))]\n",
    ")\n",
    "\n"
   ]
  },
  {
   "cell_type": "code",
   "execution_count": 10,
   "id": "71843bc2",
   "metadata": {},
   "outputs": [],
   "source": [
    "X = frame.drop(\"CHURN_FLAG\", axis=1)\n",
    "y = frame[\"CHURN_FLAG\"]\n",
    "\n",
    "X_train, X_test, y_train, y_test = train_test_split(X, y, test_size=0.2, random_state=0)\n"
   ]
  },
  {
   "cell_type": "code",
   "execution_count": 11,
   "id": "915e4b2b",
   "metadata": {},
   "outputs": [
    {
     "name": "stdout",
     "output_type": "stream",
     "text": [
      "model score: 0.984\n"
     ]
    }
   ],
   "source": [
    "clf.fit(X_train, y_train)\n",
    "print(\"model score: %.3f\" % clf.score(X_test, y_test))"
   ]
  },
  {
   "cell_type": "code",
   "execution_count": 12,
   "id": "fa27ef14",
   "metadata": {},
   "outputs": [],
   "source": [
    "import pickle\n",
    "\n",
    "# save\n",
    "with open('churn_model.pkl','wb') as f:  ## use rb while reading the fie\n",
    "    pickle.dump(clf,f)"
   ]
  },
  {
   "cell_type": "code",
   "execution_count": 13,
   "id": "87cd5d1c",
   "metadata": {},
   "outputs": [
    {
     "data": {
      "text/html": [
       "<style>#sk-container-id-1 {color: black;}#sk-container-id-1 pre{padding: 0;}#sk-container-id-1 div.sk-toggleable {background-color: white;}#sk-container-id-1 label.sk-toggleable__label {cursor: pointer;display: block;width: 100%;margin-bottom: 0;padding: 0.3em;box-sizing: border-box;text-align: center;}#sk-container-id-1 label.sk-toggleable__label-arrow:before {content: \"▸\";float: left;margin-right: 0.25em;color: #696969;}#sk-container-id-1 label.sk-toggleable__label-arrow:hover:before {color: black;}#sk-container-id-1 div.sk-estimator:hover label.sk-toggleable__label-arrow:before {color: black;}#sk-container-id-1 div.sk-toggleable__content {max-height: 0;max-width: 0;overflow: hidden;text-align: left;background-color: #f0f8ff;}#sk-container-id-1 div.sk-toggleable__content pre {margin: 0.2em;color: black;border-radius: 0.25em;background-color: #f0f8ff;}#sk-container-id-1 input.sk-toggleable__control:checked~div.sk-toggleable__content {max-height: 200px;max-width: 100%;overflow: auto;}#sk-container-id-1 input.sk-toggleable__control:checked~label.sk-toggleable__label-arrow:before {content: \"▾\";}#sk-container-id-1 div.sk-estimator input.sk-toggleable__control:checked~label.sk-toggleable__label {background-color: #d4ebff;}#sk-container-id-1 div.sk-label input.sk-toggleable__control:checked~label.sk-toggleable__label {background-color: #d4ebff;}#sk-container-id-1 input.sk-hidden--visually {border: 0;clip: rect(1px 1px 1px 1px);clip: rect(1px, 1px, 1px, 1px);height: 1px;margin: -1px;overflow: hidden;padding: 0;position: absolute;width: 1px;}#sk-container-id-1 div.sk-estimator {font-family: monospace;background-color: #f0f8ff;border: 1px dotted black;border-radius: 0.25em;box-sizing: border-box;margin-bottom: 0.5em;}#sk-container-id-1 div.sk-estimator:hover {background-color: #d4ebff;}#sk-container-id-1 div.sk-parallel-item::after {content: \"\";width: 100%;border-bottom: 1px solid gray;flex-grow: 1;}#sk-container-id-1 div.sk-label:hover label.sk-toggleable__label {background-color: #d4ebff;}#sk-container-id-1 div.sk-serial::before {content: \"\";position: absolute;border-left: 1px solid gray;box-sizing: border-box;top: 0;bottom: 0;left: 50%;z-index: 0;}#sk-container-id-1 div.sk-serial {display: flex;flex-direction: column;align-items: center;background-color: white;padding-right: 0.2em;padding-left: 0.2em;position: relative;}#sk-container-id-1 div.sk-item {position: relative;z-index: 1;}#sk-container-id-1 div.sk-parallel {display: flex;align-items: stretch;justify-content: center;background-color: white;position: relative;}#sk-container-id-1 div.sk-item::before, #sk-container-id-1 div.sk-parallel-item::before {content: \"\";position: absolute;border-left: 1px solid gray;box-sizing: border-box;top: 0;bottom: 0;left: 50%;z-index: -1;}#sk-container-id-1 div.sk-parallel-item {display: flex;flex-direction: column;z-index: 1;position: relative;background-color: white;}#sk-container-id-1 div.sk-parallel-item:first-child::after {align-self: flex-end;width: 50%;}#sk-container-id-1 div.sk-parallel-item:last-child::after {align-self: flex-start;width: 50%;}#sk-container-id-1 div.sk-parallel-item:only-child::after {width: 0;}#sk-container-id-1 div.sk-dashed-wrapped {border: 1px dashed gray;margin: 0 0.4em 0.5em 0.4em;box-sizing: border-box;padding-bottom: 0.4em;background-color: white;}#sk-container-id-1 div.sk-label label {font-family: monospace;font-weight: bold;display: inline-block;line-height: 1.2em;}#sk-container-id-1 div.sk-label-container {text-align: center;}#sk-container-id-1 div.sk-container {/* jupyter's `normalize.less` sets `[hidden] { display: none; }` but bootstrap.min.css set `[hidden] { display: none !important; }` so we also need the `!important` here to be able to override the default hidden behavior on the sphinx rendered scikit-learn.org. See: https://github.com/scikit-learn/scikit-learn/issues/21755 */display: inline-block !important;position: relative;}#sk-container-id-1 div.sk-text-repr-fallback {display: none;}</style><div id=\"sk-container-id-1\" class=\"sk-top-container\"><div class=\"sk-text-repr-fallback\"><pre>Pipeline(steps=[(&#x27;preprocessor&#x27;,\n",
       "                 ColumnTransformer(transformers=[(&#x27;num&#x27;,\n",
       "                                                  Pipeline(steps=[(&#x27;imputer&#x27;,\n",
       "                                                                   SimpleImputer(strategy=&#x27;median&#x27;)),\n",
       "                                                                  (&#x27;scaler&#x27;,\n",
       "                                                                   StandardScaler())]),\n",
       "                                                  [&#x27;FUND_TOTAL_ASSETS&#x27;,\n",
       "                                                   &#x27;FUND_RETURN_TARGET_PERCENTAGE&#x27;,\n",
       "                                                   &#x27;CASH_BENCHMARK_ALLOCATION&#x27;,\n",
       "                                                   &#x27;FIXED_INCOME_BENCHMARK_ALLOCATION&#x27;,\n",
       "                                                   &#x27;DOMESTIC_LISTED_EQUITY_BENCHMARK_ALLOCATION&#x27;,\n",
       "                                                   &#x27;INTERNATIONAL_LISTED_EQU...\n",
       "                                                                                    score_func=&lt;function chi2 at 0x7f0dc09f3040&gt;))]),\n",
       "                                                  [&#x27;MEMBER_GENDER&#x27;,\n",
       "                                                   &#x27;MEMBER_STATE&#x27;,\n",
       "                                                   &#x27;MEMBER_CONTACT_VERIFIED&#x27;,\n",
       "                                                   &#x27;INVESTMENT_RISK_CATEGORY&#x27;,\n",
       "                                                   &#x27;FUND_RISK_LEVEL&#x27;,\n",
       "                                                   &#x27;FUND_RISK_CATEGORY&#x27;,\n",
       "                                                   &#x27;NEG_NETRETURN_SINCE_INCEPTION&#x27;,\n",
       "                                                   &#x27;INVESTMENT_AGE_GROUP&#x27;,\n",
       "                                                   &#x27;RETIREMENT_AGE_GROUP&#x27;,\n",
       "                                                   &#x27;TOTAL_FUNDS_INVESTED&#x27;])])),\n",
       "                (&#x27;classifier&#x27;,\n",
       "                 RandomForestClassifier(max_depth=8, max_features=0.6,\n",
       "                                        max_samples=0.8, n_estimators=500))])</pre><b>In a Jupyter environment, please rerun this cell to show the HTML representation or trust the notebook. <br />On GitHub, the HTML representation is unable to render, please try loading this page with nbviewer.org.</b></div><div class=\"sk-container\" hidden><div class=\"sk-item sk-dashed-wrapped\"><div class=\"sk-label-container\"><div class=\"sk-label sk-toggleable\"><input class=\"sk-toggleable__control sk-hidden--visually\" id=\"sk-estimator-id-1\" type=\"checkbox\" ><label for=\"sk-estimator-id-1\" class=\"sk-toggleable__label sk-toggleable__label-arrow\">Pipeline</label><div class=\"sk-toggleable__content\"><pre>Pipeline(steps=[(&#x27;preprocessor&#x27;,\n",
       "                 ColumnTransformer(transformers=[(&#x27;num&#x27;,\n",
       "                                                  Pipeline(steps=[(&#x27;imputer&#x27;,\n",
       "                                                                   SimpleImputer(strategy=&#x27;median&#x27;)),\n",
       "                                                                  (&#x27;scaler&#x27;,\n",
       "                                                                   StandardScaler())]),\n",
       "                                                  [&#x27;FUND_TOTAL_ASSETS&#x27;,\n",
       "                                                   &#x27;FUND_RETURN_TARGET_PERCENTAGE&#x27;,\n",
       "                                                   &#x27;CASH_BENCHMARK_ALLOCATION&#x27;,\n",
       "                                                   &#x27;FIXED_INCOME_BENCHMARK_ALLOCATION&#x27;,\n",
       "                                                   &#x27;DOMESTIC_LISTED_EQUITY_BENCHMARK_ALLOCATION&#x27;,\n",
       "                                                   &#x27;INTERNATIONAL_LISTED_EQU...\n",
       "                                                                                    score_func=&lt;function chi2 at 0x7f0dc09f3040&gt;))]),\n",
       "                                                  [&#x27;MEMBER_GENDER&#x27;,\n",
       "                                                   &#x27;MEMBER_STATE&#x27;,\n",
       "                                                   &#x27;MEMBER_CONTACT_VERIFIED&#x27;,\n",
       "                                                   &#x27;INVESTMENT_RISK_CATEGORY&#x27;,\n",
       "                                                   &#x27;FUND_RISK_LEVEL&#x27;,\n",
       "                                                   &#x27;FUND_RISK_CATEGORY&#x27;,\n",
       "                                                   &#x27;NEG_NETRETURN_SINCE_INCEPTION&#x27;,\n",
       "                                                   &#x27;INVESTMENT_AGE_GROUP&#x27;,\n",
       "                                                   &#x27;RETIREMENT_AGE_GROUP&#x27;,\n",
       "                                                   &#x27;TOTAL_FUNDS_INVESTED&#x27;])])),\n",
       "                (&#x27;classifier&#x27;,\n",
       "                 RandomForestClassifier(max_depth=8, max_features=0.6,\n",
       "                                        max_samples=0.8, n_estimators=500))])</pre></div></div></div><div class=\"sk-serial\"><div class=\"sk-item sk-dashed-wrapped\"><div class=\"sk-label-container\"><div class=\"sk-label sk-toggleable\"><input class=\"sk-toggleable__control sk-hidden--visually\" id=\"sk-estimator-id-2\" type=\"checkbox\" ><label for=\"sk-estimator-id-2\" class=\"sk-toggleable__label sk-toggleable__label-arrow\">preprocessor: ColumnTransformer</label><div class=\"sk-toggleable__content\"><pre>ColumnTransformer(transformers=[(&#x27;num&#x27;,\n",
       "                                 Pipeline(steps=[(&#x27;imputer&#x27;,\n",
       "                                                  SimpleImputer(strategy=&#x27;median&#x27;)),\n",
       "                                                 (&#x27;scaler&#x27;, StandardScaler())]),\n",
       "                                 [&#x27;FUND_TOTAL_ASSETS&#x27;,\n",
       "                                  &#x27;FUND_RETURN_TARGET_PERCENTAGE&#x27;,\n",
       "                                  &#x27;CASH_BENCHMARK_ALLOCATION&#x27;,\n",
       "                                  &#x27;FIXED_INCOME_BENCHMARK_ALLOCATION&#x27;,\n",
       "                                  &#x27;DOMESTIC_LISTED_EQUITY_BENCHMARK_ALLOCATION&#x27;,\n",
       "                                  &#x27;INTERNATIONAL_LISTED_EQUITY_BENCHMARK_ALLOCATION&#x27;,\n",
       "                                  &#x27;UNLIS...\n",
       "                                                  OneHotEncoder(handle_unknown=&#x27;ignore&#x27;)),\n",
       "                                                 (&#x27;selector&#x27;,\n",
       "                                                  SelectPercentile(percentile=50,\n",
       "                                                                   score_func=&lt;function chi2 at 0x7f0dc09f3040&gt;))]),\n",
       "                                 [&#x27;MEMBER_GENDER&#x27;, &#x27;MEMBER_STATE&#x27;,\n",
       "                                  &#x27;MEMBER_CONTACT_VERIFIED&#x27;,\n",
       "                                  &#x27;INVESTMENT_RISK_CATEGORY&#x27;, &#x27;FUND_RISK_LEVEL&#x27;,\n",
       "                                  &#x27;FUND_RISK_CATEGORY&#x27;,\n",
       "                                  &#x27;NEG_NETRETURN_SINCE_INCEPTION&#x27;,\n",
       "                                  &#x27;INVESTMENT_AGE_GROUP&#x27;,\n",
       "                                  &#x27;RETIREMENT_AGE_GROUP&#x27;,\n",
       "                                  &#x27;TOTAL_FUNDS_INVESTED&#x27;])])</pre></div></div></div><div class=\"sk-parallel\"><div class=\"sk-parallel-item\"><div class=\"sk-item\"><div class=\"sk-label-container\"><div class=\"sk-label sk-toggleable\"><input class=\"sk-toggleable__control sk-hidden--visually\" id=\"sk-estimator-id-3\" type=\"checkbox\" ><label for=\"sk-estimator-id-3\" class=\"sk-toggleable__label sk-toggleable__label-arrow\">num</label><div class=\"sk-toggleable__content\"><pre>[&#x27;FUND_TOTAL_ASSETS&#x27;, &#x27;FUND_RETURN_TARGET_PERCENTAGE&#x27;, &#x27;CASH_BENCHMARK_ALLOCATION&#x27;, &#x27;FIXED_INCOME_BENCHMARK_ALLOCATION&#x27;, &#x27;DOMESTIC_LISTED_EQUITY_BENCHMARK_ALLOCATION&#x27;, &#x27;INTERNATIONAL_LISTED_EQUITY_BENCHMARK_ALLOCATION&#x27;, &#x27;UNLISTED_EQUITY_BENCHMARK_ALLOCATION&#x27;, &#x27;EQUITY_BENCHMARK_ALLOCATION&#x27;, &#x27;PROPERTY_BENCHMARK_ALLOCATION&#x27;, &#x27;INFRA_BENCHMARK_ALLOCATION&#x27;, &#x27;COMMODITIES_BENCHMARK_ALLOCATION&#x27;, &#x27;OTHERS_BENCHMARK_ALLOCATION&#x27;, &#x27;YEAR_1_RETURNS&#x27;, &#x27;YEAR_3_RETURNS&#x27;, &#x27;YEAR_5_RETURNS&#x27;, &#x27;YEAR_7_RETURNS&#x27;, &#x27;YEAR_10_RETURNS&#x27;, &#x27;SUPER_FEES&#x27;, &#x27;PENSION_FEES&#x27;]</pre></div></div></div><div class=\"sk-serial\"><div class=\"sk-item\"><div class=\"sk-serial\"><div class=\"sk-item\"><div class=\"sk-estimator sk-toggleable\"><input class=\"sk-toggleable__control sk-hidden--visually\" id=\"sk-estimator-id-4\" type=\"checkbox\" ><label for=\"sk-estimator-id-4\" class=\"sk-toggleable__label sk-toggleable__label-arrow\">SimpleImputer</label><div class=\"sk-toggleable__content\"><pre>SimpleImputer(strategy=&#x27;median&#x27;)</pre></div></div></div><div class=\"sk-item\"><div class=\"sk-estimator sk-toggleable\"><input class=\"sk-toggleable__control sk-hidden--visually\" id=\"sk-estimator-id-5\" type=\"checkbox\" ><label for=\"sk-estimator-id-5\" class=\"sk-toggleable__label sk-toggleable__label-arrow\">StandardScaler</label><div class=\"sk-toggleable__content\"><pre>StandardScaler()</pre></div></div></div></div></div></div></div></div><div class=\"sk-parallel-item\"><div class=\"sk-item\"><div class=\"sk-label-container\"><div class=\"sk-label sk-toggleable\"><input class=\"sk-toggleable__control sk-hidden--visually\" id=\"sk-estimator-id-6\" type=\"checkbox\" ><label for=\"sk-estimator-id-6\" class=\"sk-toggleable__label sk-toggleable__label-arrow\">cat</label><div class=\"sk-toggleable__content\"><pre>[&#x27;MEMBER_GENDER&#x27;, &#x27;MEMBER_STATE&#x27;, &#x27;MEMBER_CONTACT_VERIFIED&#x27;, &#x27;INVESTMENT_RISK_CATEGORY&#x27;, &#x27;FUND_RISK_LEVEL&#x27;, &#x27;FUND_RISK_CATEGORY&#x27;, &#x27;NEG_NETRETURN_SINCE_INCEPTION&#x27;, &#x27;INVESTMENT_AGE_GROUP&#x27;, &#x27;RETIREMENT_AGE_GROUP&#x27;, &#x27;TOTAL_FUNDS_INVESTED&#x27;]</pre></div></div></div><div class=\"sk-serial\"><div class=\"sk-item\"><div class=\"sk-serial\"><div class=\"sk-item\"><div class=\"sk-estimator sk-toggleable\"><input class=\"sk-toggleable__control sk-hidden--visually\" id=\"sk-estimator-id-7\" type=\"checkbox\" ><label for=\"sk-estimator-id-7\" class=\"sk-toggleable__label sk-toggleable__label-arrow\">OneHotEncoder</label><div class=\"sk-toggleable__content\"><pre>OneHotEncoder(handle_unknown=&#x27;ignore&#x27;)</pre></div></div></div><div class=\"sk-item\"><div class=\"sk-estimator sk-toggleable\"><input class=\"sk-toggleable__control sk-hidden--visually\" id=\"sk-estimator-id-8\" type=\"checkbox\" ><label for=\"sk-estimator-id-8\" class=\"sk-toggleable__label sk-toggleable__label-arrow\">SelectPercentile</label><div class=\"sk-toggleable__content\"><pre>SelectPercentile(percentile=50, score_func=&lt;function chi2 at 0x7f0dc09f3040&gt;)</pre></div></div></div></div></div></div></div></div></div></div><div class=\"sk-item\"><div class=\"sk-estimator sk-toggleable\"><input class=\"sk-toggleable__control sk-hidden--visually\" id=\"sk-estimator-id-9\" type=\"checkbox\" ><label for=\"sk-estimator-id-9\" class=\"sk-toggleable__label sk-toggleable__label-arrow\">RandomForestClassifier</label><div class=\"sk-toggleable__content\"><pre>RandomForestClassifier(max_depth=8, max_features=0.6, max_samples=0.8,\n",
       "                       n_estimators=500)</pre></div></div></div></div></div></div></div>"
      ],
      "text/plain": [
       "Pipeline(steps=[('preprocessor',\n",
       "                 ColumnTransformer(transformers=[('num',\n",
       "                                                  Pipeline(steps=[('imputer',\n",
       "                                                                   SimpleImputer(strategy='median')),\n",
       "                                                                  ('scaler',\n",
       "                                                                   StandardScaler())]),\n",
       "                                                  ['FUND_TOTAL_ASSETS',\n",
       "                                                   'FUND_RETURN_TARGET_PERCENTAGE',\n",
       "                                                   'CASH_BENCHMARK_ALLOCATION',\n",
       "                                                   'FIXED_INCOME_BENCHMARK_ALLOCATION',\n",
       "                                                   'DOMESTIC_LISTED_EQUITY_BENCHMARK_ALLOCATION',\n",
       "                                                   'INTERNATIONAL_LISTED_EQU...\n",
       "                                                                                    score_func=<function chi2 at 0x7f0dc09f3040>))]),\n",
       "                                                  ['MEMBER_GENDER',\n",
       "                                                   'MEMBER_STATE',\n",
       "                                                   'MEMBER_CONTACT_VERIFIED',\n",
       "                                                   'INVESTMENT_RISK_CATEGORY',\n",
       "                                                   'FUND_RISK_LEVEL',\n",
       "                                                   'FUND_RISK_CATEGORY',\n",
       "                                                   'NEG_NETRETURN_SINCE_INCEPTION',\n",
       "                                                   'INVESTMENT_AGE_GROUP',\n",
       "                                                   'RETIREMENT_AGE_GROUP',\n",
       "                                                   'TOTAL_FUNDS_INVESTED'])])),\n",
       "                ('classifier',\n",
       "                 RandomForestClassifier(max_depth=8, max_features=0.6,\n",
       "                                        max_samples=0.8, n_estimators=500))])"
      ]
     },
     "execution_count": 13,
     "metadata": {},
     "output_type": "execute_result"
    }
   ],
   "source": [
    "clf"
   ]
  },
  {
   "cell_type": "code",
   "execution_count": null,
   "id": "6e1d5877",
   "metadata": {},
   "outputs": [],
   "source": [
    "frame = clf.predict(frame)"
   ]
  },
  {
   "cell_type": "code",
   "execution_count": null,
   "id": "80e74432",
   "metadata": {},
   "outputs": [],
   "source": [
    "df[\"CHURN_PREDICTED\"] = frame"
   ]
  },
  {
   "cell_type": "code",
   "execution_count": null,
   "id": "c1cd82a7",
   "metadata": {},
   "outputs": [],
   "source": [
    "churned = df[df[\"CHURN_FLAG\"] == \"Y\"]"
   ]
  },
  {
   "cell_type": "code",
   "execution_count": null,
   "id": "5edf0d40",
   "metadata": {},
   "outputs": [],
   "source": [
    "churned.groupby([\"CHURN_REASON\"])[[\"CHURN_REASON\"]].count() / churned.shape[0]*100"
   ]
  },
  {
   "cell_type": "code",
   "execution_count": null,
   "id": "b6b45e3c",
   "metadata": {},
   "outputs": [],
   "source": [
    "from sklearn.multiclass import OneVsRestClassifier\n",
    "from sklearn.linear_model import LogisticRegression"
   ]
  },
  {
   "cell_type": "code",
   "execution_count": null,
   "id": "857578bf",
   "metadata": {},
   "outputs": [],
   "source": [
    "frame = churned[['MEMBER_GENDER', 'MEMBER_STATE', 'MEMBER_CONTACT_VERIFIED','FUND_TOTAL_ASSETS','FUND_RETURN_TARGET_PERCENTAGE',\n",
    "            'INVESTMENT_RISK_CATEGORY', 'CASH_BENCHMARK_ALLOCATION','FIXED_INCOME_BENCHMARK_ALLOCATION',\n",
    "            'DOMESTIC_LISTED_EQUITY_BENCHMARK_ALLOCATION','INTERNATIONAL_LISTED_EQUITY_BENCHMARK_ALLOCATION',\n",
    "            'UNLISTED_EQUITY_BENCHMARK_ALLOCATION', 'EQUITY_BENCHMARK_ALLOCATION','PROPERTY_BENCHMARK_ALLOCATION',\n",
    "            'INFRA_BENCHMARK_ALLOCATION','COMMODITIES_BENCHMARK_ALLOCATION', 'OTHERS_BENCHMARK_ALLOCATION','FUND_RISK_LEVEL', \n",
    "            'FUND_RISK_CATEGORY','NEG_NETRETURN_SINCE_INCEPTION', 'YEAR_1_RETURNS', 'YEAR_3_RETURNS','YEAR_5_RETURNS',\n",
    "            'YEAR_7_RETURNS','YEAR_10_RETURNS', 'SUPER_FEES','PENSION_FEES',\n",
    "            'INVESTMENT_AGE_GROUP', 'RETIREMENT_AGE_GROUP', 'TOTAL_FUNDS_INVESTED',\"CHURN_REASON\"]].copy()"
   ]
  },
  {
   "cell_type": "code",
   "execution_count": null,
   "id": "4d072b7a",
   "metadata": {},
   "outputs": [],
   "source": [
    "churn_reason_dic = {reason:i for i, reason in enumerate(churned[\"CHURN_REASON\"].unique())}\n",
    "frame[\"CHURN_REASON\"] = frame[\"CHURN_REASON\"].apply(lambda x: churn_reason_dic[x])"
   ]
  },
  {
   "cell_type": "code",
   "execution_count": null,
   "id": "79a7684e",
   "metadata": {},
   "outputs": [],
   "source": [
    "frame"
   ]
  },
  {
   "cell_type": "code",
   "execution_count": null,
   "id": "21d45cfe",
   "metadata": {},
   "outputs": [],
   "source": [
    "numeric_features = [\"FUND_TOTAL_ASSETS\", 'FUND_RETURN_TARGET_PERCENTAGE','CASH_BENCHMARK_ALLOCATION',\n",
    "       'FIXED_INCOME_BENCHMARK_ALLOCATION','DOMESTIC_LISTED_EQUITY_BENCHMARK_ALLOCATION','INTERNATIONAL_LISTED_EQUITY_BENCHMARK_ALLOCATION',\n",
    "       'UNLISTED_EQUITY_BENCHMARK_ALLOCATION', 'EQUITY_BENCHMARK_ALLOCATION','PROPERTY_BENCHMARK_ALLOCATION', 'INFRA_BENCHMARK_ALLOCATION',\n",
    "       'COMMODITIES_BENCHMARK_ALLOCATION', 'OTHERS_BENCHMARK_ALLOCATION', 'YEAR_1_RETURNS', 'YEAR_3_RETURNS',\n",
    "       'YEAR_5_RETURNS', 'YEAR_7_RETURNS', 'YEAR_10_RETURNS', 'SUPER_FEES','PENSION_FEES',]\n",
    "numeric_transformer = Pipeline(\n",
    "    steps=[(\"imputer\", SimpleImputer(strategy=\"median\")), (\"scaler\", StandardScaler())]\n",
    ")\n",
    "\n",
    "categorical_features = [\"MEMBER_GENDER\", \"MEMBER_STATE\", \"MEMBER_CONTACT_VERIFIED\",\"INVESTMENT_RISK_CATEGORY\",'FUND_RISK_LEVEL',\n",
    "                        'FUND_RISK_CATEGORY',\"NEG_NETRETURN_SINCE_INCEPTION\", 'INVESTMENT_AGE_GROUP', 'RETIREMENT_AGE_GROUP', \"TOTAL_FUNDS_INVESTED\"]\n",
    "categorical_transformer = Pipeline(\n",
    "    steps=[\n",
    "        (\"encoder\", OneHotEncoder(handle_unknown=\"ignore\")),\n",
    "        (\"selector\", SelectPercentile(chi2, percentile=50)),\n",
    "    ]\n",
    ")\n",
    "preprocessor = ColumnTransformer(\n",
    "    transformers=[\n",
    "        (\"num\", numeric_transformer, numeric_features),\n",
    "        (\"cat\", categorical_transformer, categorical_features),\n",
    "    ]\n",
    ")"
   ]
  },
  {
   "cell_type": "code",
   "execution_count": null,
   "id": "0c67eae5",
   "metadata": {},
   "outputs": [],
   "source": [
    "multi_lable_clf = OneVsRestClassifier(RandomForestClassifier(n_estimators=500, max_depth=8, max_features=0.6, bootstrap=True,\n",
    "                                                             max_samples=0.8))\n",
    "clf2 = Pipeline(\n",
    "    steps=[(\"preprocessor\", preprocessor), (\"classifier\", multi_lable_clf)]\n",
    ")\n",
    "\n",
    "\n"
   ]
  },
  {
   "cell_type": "code",
   "execution_count": null,
   "id": "9c5a41cd",
   "metadata": {},
   "outputs": [],
   "source": [
    "X = frame.drop(\"CHURN_REASON\", axis=1)\n",
    "y = frame[\"CHURN_REASON\"]\n",
    "\n",
    "X_train, X_test, y_train, y_test = train_test_split(X, y, test_size=0.2, random_state=0)"
   ]
  },
  {
   "cell_type": "code",
   "execution_count": null,
   "id": "110bbb7f",
   "metadata": {},
   "outputs": [],
   "source": [
    "clf2.fit(X_train, y_train)\n",
    "print(\"model score: %.3f\" % clf2.score(X_test, y_test))"
   ]
  },
  {
   "cell_type": "code",
   "execution_count": null,
   "id": "70187d06",
   "metadata": {},
   "outputs": [],
   "source": [
    "import pickle\n",
    "\n",
    "# save\n",
    "with open('reason_model.pkl','wb') as f:  ## use rb while reading the fie\n",
    "    pickle.dump(clf2,f)"
   ]
  },
  {
   "cell_type": "markdown",
   "id": "4bc2b5bd",
   "metadata": {},
   "source": [
    "# FUND RECOMMENDATION"
   ]
  },
  {
   "cell_type": "code",
   "execution_count": 27,
   "id": "0c23f556",
   "metadata": {},
   "outputs": [
    {
     "data": {
      "text/plain": [
       "Index(['MEMBER_ID', 'MEMBER_NAME', 'MEMBER_EMPLOYMENT', 'MEMBER_GENDER',\n",
       "       'MEMBER_CITY_TOWN', 'MEMBER_STATE', 'MEMBER_CONTACT_VERIFIED',\n",
       "       'FUND_ID', 'CHURN_REASON', 'LATITUDE', 'LONGITUDE', 'COUNTRY',\n",
       "       'COUNTRYCODE', 'CAPITAL', 'POPULATION', 'FUND_TOTAL_ASSETS',\n",
       "       'FUND_RETURN_TARGET_PERCENTAGE', 'INVESTMENT_RISK_LEVEL',\n",
       "       'INVESTMENT_RISK_CATEGORY', 'CASH_BENCHMARK_ALLOCATION',\n",
       "       'FIXED_INCOME_BENCHMARK_ALLOCATION',\n",
       "       'DOMESTIC_LISTED_EQUITY_BENCHMARK_ALLOCATION',\n",
       "       'INTERNATIONAL_LISTED_EQUITY_BENCHMARK_ALLOCATION',\n",
       "       'UNLISTED_EQUITY_BENCHMARK_ALLOCATION', 'EQUITY_BENCHMARK_ALLOCATION',\n",
       "       'PROPERTY_BENCHMARK_ALLOCATION', 'INFRA_BENCHMARK_ALLOCATION',\n",
       "       'COMMODITIES_BENCHMARK_ALLOCATION', 'OTHERS_BENCHMARK_ALLOCATION',\n",
       "       'FUND_RISK_LEVEL', 'FUND_RISK_CATEGORY',\n",
       "       'NEG_NETRETURN_SINCE_INCEPTION', 'YEAR_1_RETURNS', 'YEAR_3_RETURNS',\n",
       "       'YEAR_5_RETURNS', 'YEAR_7_RETURNS', 'YEAR_10_RETURNS', 'SUPER_FEES',\n",
       "       'PENSION_FEES', 'CHURN_FLAG', 'MEMBER_AGE', 'INVESTMENT_AGE_GROUP',\n",
       "       'RETIREMENT_AGE', 'RETIREMENT_AGE_GROUP', 'TOTAL_FUNDS_INVESTED',\n",
       "       'NO_OF_CHURN', 'MEMBER_DOB_DT', 'ALLOCATION_DT', 'CHURN_DT',\n",
       "       'RETIREMENT_DT', 'CHURN_PREDICTED'],\n",
       "      dtype='object')"
      ]
     },
     "execution_count": 27,
     "metadata": {},
     "output_type": "execute_result"
    }
   ],
   "source": [
    "df.columns"
   ]
  },
  {
   "cell_type": "code",
   "execution_count": 28,
   "id": "dd34dac0",
   "metadata": {},
   "outputs": [
    {
     "data": {
      "text/html": [
       "<div>\n",
       "<style scoped>\n",
       "    .dataframe tbody tr th:only-of-type {\n",
       "        vertical-align: middle;\n",
       "    }\n",
       "\n",
       "    .dataframe tbody tr th {\n",
       "        vertical-align: top;\n",
       "    }\n",
       "\n",
       "    .dataframe thead th {\n",
       "        text-align: right;\n",
       "    }\n",
       "</style>\n",
       "<table border=\"1\" class=\"dataframe\">\n",
       "  <thead>\n",
       "    <tr style=\"text-align: right;\">\n",
       "      <th></th>\n",
       "      <th>FUND_ID</th>\n",
       "      <th>CHURN_REASON</th>\n",
       "    </tr>\n",
       "  </thead>\n",
       "  <tbody>\n",
       "    <tr>\n",
       "      <th>0</th>\n",
       "      <td>FID000044</td>\n",
       "      <td>NOT APPLICABLE</td>\n",
       "    </tr>\n",
       "    <tr>\n",
       "      <th>1</th>\n",
       "      <td>FID000016</td>\n",
       "      <td>NOT APPLICABLE</td>\n",
       "    </tr>\n",
       "    <tr>\n",
       "      <th>2</th>\n",
       "      <td>FID000100</td>\n",
       "      <td>NOT APPLICABLE</td>\n",
       "    </tr>\n",
       "    <tr>\n",
       "      <th>3</th>\n",
       "      <td>FID000012</td>\n",
       "      <td>NOT APPLICABLE</td>\n",
       "    </tr>\n",
       "    <tr>\n",
       "      <th>4</th>\n",
       "      <td>FID000035</td>\n",
       "      <td>NOT APPLICABLE</td>\n",
       "    </tr>\n",
       "    <tr>\n",
       "      <th>...</th>\n",
       "      <td>...</td>\n",
       "      <td>...</td>\n",
       "    </tr>\n",
       "    <tr>\n",
       "      <th>335994</th>\n",
       "      <td>FID000119</td>\n",
       "      <td>NOT APPLICABLE</td>\n",
       "    </tr>\n",
       "    <tr>\n",
       "      <th>335995</th>\n",
       "      <td>FID000026</td>\n",
       "      <td>FUND REPUTATION DECLINING</td>\n",
       "    </tr>\n",
       "    <tr>\n",
       "      <th>335996</th>\n",
       "      <td>FID000017</td>\n",
       "      <td>NO REASON IDENTIFIED</td>\n",
       "    </tr>\n",
       "    <tr>\n",
       "      <th>335997</th>\n",
       "      <td>FID000191</td>\n",
       "      <td>FUND REPUTATION DECLINING</td>\n",
       "    </tr>\n",
       "    <tr>\n",
       "      <th>335998</th>\n",
       "      <td>FID000040</td>\n",
       "      <td>LIFE EVENT</td>\n",
       "    </tr>\n",
       "  </tbody>\n",
       "</table>\n",
       "<p>335999 rows × 2 columns</p>\n",
       "</div>"
      ],
      "text/plain": [
       "          FUND_ID               CHURN_REASON\n",
       "0       FID000044             NOT APPLICABLE\n",
       "1       FID000016             NOT APPLICABLE\n",
       "2       FID000100             NOT APPLICABLE\n",
       "3       FID000012             NOT APPLICABLE\n",
       "4       FID000035             NOT APPLICABLE\n",
       "...           ...                        ...\n",
       "335994  FID000119             NOT APPLICABLE\n",
       "335995  FID000026  FUND REPUTATION DECLINING\n",
       "335996  FID000017       NO REASON IDENTIFIED\n",
       "335997  FID000191  FUND REPUTATION DECLINING\n",
       "335998  FID000040                 LIFE EVENT\n",
       "\n",
       "[335999 rows x 2 columns]"
      ]
     },
     "execution_count": 28,
     "metadata": {},
     "output_type": "execute_result"
    }
   ],
   "source": [
    "df[[\"FUND_ID\",\"CHURN_REASON\"]]"
   ]
  },
  {
   "cell_type": "code",
   "execution_count": 38,
   "id": "9c3836d6",
   "metadata": {},
   "outputs": [],
   "source": [
    "fund_allocation = session.table(\"FUND_ALLOCATION_MASTER\").to_pandas()\n",
    "fund_master = session.table(\"FUND_MASTER\").to_pandas()\n",
    "fund_performance = session.table(\"FUND_PERFORMANCE_MASTER\").to_pandas()"
   ]
  },
  {
   "cell_type": "code",
   "execution_count": 39,
   "id": "2c1f6c72",
   "metadata": {},
   "outputs": [],
   "source": [
    "fund = pd.merge(fund_allocation, fund_master, on=\"FUND_ID\")\n",
    "fund_total = pd.merge(fund, fund_performance, on=\"FUND_ID\")\n"
   ]
  },
  {
   "cell_type": "code",
   "execution_count": 40,
   "id": "4bc8f584",
   "metadata": {},
   "outputs": [],
   "source": [
    "fund_meta = fund_total[[\"FUND_ID\",\"FUNDNAME\"]]\n",
    "fund_cluster = fund_total.drop([\"FUND_ID\",\"FUNDNAME\",\"FUND_NAME_y\",\"FUND_TRUSTEE\",\"FUND_INCEPTION_DATE\"], axis=1)"
   ]
  },
  {
   "cell_type": "code",
   "execution_count": 44,
   "id": "6a0561e8",
   "metadata": {},
   "outputs": [],
   "source": [
    "from sklearn.cluster import DBSCAN\n",
    "\n",
    "# X = np.array([[1, 2], [2, 2], [2, 3],\n",
    "#               [8, 7], [8, 8], [25, 80]])\n",
    "# clustering = DBSCAN(eps=3, min_samples=2).fit(X)\n",
    "# clustering.labels_"
   ]
  },
  {
   "cell_type": "code",
   "execution_count": 45,
   "id": "6a0b6acf",
   "metadata": {},
   "outputs": [],
   "source": [
    "fund_data = pd.get_dummies(fund_cluster)"
   ]
  },
  {
   "cell_type": "code",
   "execution_count": 50,
   "id": "886374b8",
   "metadata": {},
   "outputs": [],
   "source": [
    "fund_data = fund_data.replace(False, 0)\n",
    "fund_data = fund_data.replace(True, 1)"
   ]
  },
  {
   "cell_type": "code",
   "execution_count": 59,
   "id": "69966241",
   "metadata": {},
   "outputs": [],
   "source": [
    "clustering = DBSCAN(eps=2, min_samples=4).fit(fund_data)\n",
    "# clustering.labels_"
   ]
  }
 ],
 "metadata": {
  "kernelspec": {
   "display_name": "Python 3",
   "language": "python",
   "name": "python3"
  },
  "language_info": {
   "codemirror_mode": {
    "name": "ipython",
    "version": 3
   },
   "file_extension": ".py",
   "mimetype": "text/x-python",
   "name": "python",
   "nbconvert_exporter": "python",
   "pygments_lexer": "ipython3",
   "version": "3.8.18"
  }
 },
 "nbformat": 4,
 "nbformat_minor": 5
}
