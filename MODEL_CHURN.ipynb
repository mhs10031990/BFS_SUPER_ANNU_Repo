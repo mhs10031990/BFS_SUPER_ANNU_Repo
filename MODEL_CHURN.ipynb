{
 "cells": [
  {
   "cell_type": "code",
   "execution_count": 1,
   "id": "7b96b701",
   "metadata": {},
   "outputs": [
    {
     "name": "stdout",
     "output_type": "stream",
     "text": [
      "connection successful!\n"
     ]
    }
   ],
   "source": [
    "#Snowpark lib\n",
    "from snowflake.snowpark import Session\n",
    "\n",
    "# Data Science Libs\n",
    "import numpy as np\n",
    "import pandas as pd\n",
    "\n",
    "# create_temp_table warning suppresion\n",
    "import warnings; warnings.simplefilter('ignore')\n",
    "\n",
    "#ConfigParser to read ini file\n",
    "import configparser\n",
    "\n",
    "config = configparser.ConfigParser()\n",
    "config.read(\"/notebooks/notebooks/credentials.ini\")\n",
    "\n",
    "connection_parameters = {\n",
    "    \"user\": f'{config[\"Snowflake\"][\"user\"]}',\n",
    "    \"password\": f'{config[\"Snowflake\"][\"password\"]}',\n",
    "    \"account\": f'{config[\"Snowflake\"][\"account\"]}',\n",
    "    \"WAREHOUSE\": f'{config[\"Snowflake\"][\"WAREHOUSE\"]}',\n",
    "    \"DATABASE\": f'{config[\"Snowflake\"][\"DATABASE\"]}',\n",
    "    \"SCHEMA\": f'{config[\"Snowflake\"][\"SCHEMA\"]}'\n",
    "}\n",
    "\n",
    "def snowflake_connector(conn):\n",
    "    try:\n",
    "        session = Session.builder.configs(conn).create()\n",
    "        print(\"connection successful!\")\n",
    "    except:\n",
    "        raise ValueError(\"error while connecting with db\")\n",
    "    return session\n",
    "\n",
    "session = snowflake_connector(connection_parameters)"
   ]
  },
  {
   "cell_type": "code",
   "execution_count": 40,
   "id": "346c52db",
   "metadata": {},
   "outputs": [],
   "source": [
    "# df = session.table(\"MEMBER_FUNDS_ENRICHED_DETAILS\").to_pandas()\n",
    "df = pd.read_csv(\"/data/funds.csv\")"
   ]
  },
  {
   "cell_type": "code",
   "execution_count": 24,
   "id": "4a41da2d",
   "metadata": {},
   "outputs": [],
   "source": [
    "# df.to_csv(\"/data/funds.csv\", index=False)"
   ]
  },
  {
   "cell_type": "code",
   "execution_count": 41,
   "id": "9b9c6ddf",
   "metadata": {},
   "outputs": [
    {
     "data": {
      "text/html": [
       "<div>\n",
       "<style scoped>\n",
       "    .dataframe tbody tr th:only-of-type {\n",
       "        vertical-align: middle;\n",
       "    }\n",
       "\n",
       "    .dataframe tbody tr th {\n",
       "        vertical-align: top;\n",
       "    }\n",
       "\n",
       "    .dataframe thead th {\n",
       "        text-align: right;\n",
       "    }\n",
       "</style>\n",
       "<table border=\"1\" class=\"dataframe\">\n",
       "  <thead>\n",
       "    <tr style=\"text-align: right;\">\n",
       "      <th></th>\n",
       "      <th>MEMBER_ID</th>\n",
       "      <th>MEMBER_NAME</th>\n",
       "      <th>MEMBER_EMPLOYMENT</th>\n",
       "      <th>MEMBER_GENDER</th>\n",
       "      <th>MEMBER_CITY_TOWN</th>\n",
       "      <th>MEMBER_STATE</th>\n",
       "      <th>MEMBER_CONTACT_VERIFIED</th>\n",
       "      <th>FUND_ID</th>\n",
       "      <th>CHURN_REASON</th>\n",
       "      <th>LATITUDE</th>\n",
       "      <th>...</th>\n",
       "      <th>MEMBER_AGE</th>\n",
       "      <th>INVESTMENT_AGE_GROUP</th>\n",
       "      <th>RETIREMENT_AGE</th>\n",
       "      <th>RETIREMENT_AGE_GROUP</th>\n",
       "      <th>TOTAL_FUNDS_INVESTED</th>\n",
       "      <th>NO_OF_CHURN</th>\n",
       "      <th>MEMBER_DOB_DT</th>\n",
       "      <th>ALLOCATION_DT</th>\n",
       "      <th>CHURN_DT</th>\n",
       "      <th>RETIREMENT_DT</th>\n",
       "    </tr>\n",
       "  </thead>\n",
       "  <tbody>\n",
       "    <tr>\n",
       "      <th>0</th>\n",
       "      <td>MID000001</td>\n",
       "      <td>Vallie Bachman</td>\n",
       "      <td>The University of Sydney</td>\n",
       "      <td>Female</td>\n",
       "      <td>Hobart</td>\n",
       "      <td>Tasmania</td>\n",
       "      <td>N</td>\n",
       "      <td>FID000106</td>\n",
       "      <td>NOT APPLICABLE</td>\n",
       "      <td>-42.8806</td>\n",
       "      <td>...</td>\n",
       "      <td>44</td>\n",
       "      <td>Middle-aged</td>\n",
       "      <td>21</td>\n",
       "      <td>MORE_THAN_10_YEAR</td>\n",
       "      <td>1</td>\n",
       "      <td>NaN</td>\n",
       "      <td>1980-01-08</td>\n",
       "      <td>2004-11-18</td>\n",
       "      <td>9999-12-31</td>\n",
       "      <td>2045-01-08</td>\n",
       "    </tr>\n",
       "    <tr>\n",
       "      <th>1</th>\n",
       "      <td>MID000028</td>\n",
       "      <td>Jani Herritt</td>\n",
       "      <td>Murdoch University</td>\n",
       "      <td>Female</td>\n",
       "      <td>Sydney</td>\n",
       "      <td>New South Wales</td>\n",
       "      <td>Y</td>\n",
       "      <td>FID000137</td>\n",
       "      <td>NOT APPLICABLE</td>\n",
       "      <td>-33.8678</td>\n",
       "      <td>...</td>\n",
       "      <td>52</td>\n",
       "      <td>Senior</td>\n",
       "      <td>13</td>\n",
       "      <td>MORE_THAN_10_YEAR</td>\n",
       "      <td>1</td>\n",
       "      <td>NaN</td>\n",
       "      <td>1972-02-27</td>\n",
       "      <td>2001-07-08</td>\n",
       "      <td>9999-12-31</td>\n",
       "      <td>2037-02-27</td>\n",
       "    </tr>\n",
       "    <tr>\n",
       "      <th>2</th>\n",
       "      <td>MID000044</td>\n",
       "      <td>Jani Rulapaugh</td>\n",
       "      <td>Torrens University Australia</td>\n",
       "      <td>Male</td>\n",
       "      <td>Melbourne</td>\n",
       "      <td>Victoria</td>\n",
       "      <td>Y</td>\n",
       "      <td>FID000050</td>\n",
       "      <td>NOT APPLICABLE</td>\n",
       "      <td>-37.8142</td>\n",
       "      <td>...</td>\n",
       "      <td>43</td>\n",
       "      <td>Middle-aged</td>\n",
       "      <td>22</td>\n",
       "      <td>MORE_THAN_10_YEAR</td>\n",
       "      <td>1</td>\n",
       "      <td>NaN</td>\n",
       "      <td>1981-02-17</td>\n",
       "      <td>2002-12-10</td>\n",
       "      <td>9999-12-31</td>\n",
       "      <td>2046-02-17</td>\n",
       "    </tr>\n",
       "    <tr>\n",
       "      <th>3</th>\n",
       "      <td>MID000089</td>\n",
       "      <td>Alease Hollack</td>\n",
       "      <td>University of New England</td>\n",
       "      <td>Male</td>\n",
       "      <td>Darwin</td>\n",
       "      <td>Northern Territory</td>\n",
       "      <td>N</td>\n",
       "      <td>FID000186</td>\n",
       "      <td>NOT APPLICABLE</td>\n",
       "      <td>-12.4381</td>\n",
       "      <td>...</td>\n",
       "      <td>43</td>\n",
       "      <td>Middle-aged</td>\n",
       "      <td>22</td>\n",
       "      <td>MORE_THAN_10_YEAR</td>\n",
       "      <td>1</td>\n",
       "      <td>NaN</td>\n",
       "      <td>1981-12-19</td>\n",
       "      <td>2002-08-13</td>\n",
       "      <td>9999-12-31</td>\n",
       "      <td>2046-12-19</td>\n",
       "    </tr>\n",
       "    <tr>\n",
       "      <th>4</th>\n",
       "      <td>MID000098</td>\n",
       "      <td>Devorah Whobrey</td>\n",
       "      <td>The University of Notre Dame Australia</td>\n",
       "      <td>Female</td>\n",
       "      <td>Darwin</td>\n",
       "      <td>Northern Territory</td>\n",
       "      <td>Y</td>\n",
       "      <td>FID000184</td>\n",
       "      <td>NOT APPLICABLE</td>\n",
       "      <td>-12.4381</td>\n",
       "      <td>...</td>\n",
       "      <td>59</td>\n",
       "      <td>Senior</td>\n",
       "      <td>6</td>\n",
       "      <td>IN_NEXT_5_YEAR</td>\n",
       "      <td>1</td>\n",
       "      <td>NaN</td>\n",
       "      <td>1965-12-07</td>\n",
       "      <td>2005-08-05</td>\n",
       "      <td>9999-12-31</td>\n",
       "      <td>2030-12-07</td>\n",
       "    </tr>\n",
       "  </tbody>\n",
       "</table>\n",
       "<p>5 rows × 50 columns</p>\n",
       "</div>"
      ],
      "text/plain": [
       "   MEMBER_ID      MEMBER_NAME                       MEMBER_EMPLOYMENT  \\\n",
       "0  MID000001   Vallie Bachman                The University of Sydney   \n",
       "1  MID000028     Jani Herritt                      Murdoch University   \n",
       "2  MID000044   Jani Rulapaugh            Torrens University Australia   \n",
       "3  MID000089   Alease Hollack               University of New England   \n",
       "4  MID000098  Devorah Whobrey  The University of Notre Dame Australia   \n",
       "\n",
       "  MEMBER_GENDER MEMBER_CITY_TOWN        MEMBER_STATE MEMBER_CONTACT_VERIFIED  \\\n",
       "0        Female           Hobart            Tasmania                       N   \n",
       "1        Female           Sydney     New South Wales                       Y   \n",
       "2          Male        Melbourne            Victoria                       Y   \n",
       "3          Male           Darwin  Northern Territory                       N   \n",
       "4        Female           Darwin  Northern Territory                       Y   \n",
       "\n",
       "     FUND_ID    CHURN_REASON  LATITUDE  ...  MEMBER_AGE INVESTMENT_AGE_GROUP  \\\n",
       "0  FID000106  NOT APPLICABLE  -42.8806  ...          44          Middle-aged   \n",
       "1  FID000137  NOT APPLICABLE  -33.8678  ...          52               Senior   \n",
       "2  FID000050  NOT APPLICABLE  -37.8142  ...          43          Middle-aged   \n",
       "3  FID000186  NOT APPLICABLE  -12.4381  ...          43          Middle-aged   \n",
       "4  FID000184  NOT APPLICABLE  -12.4381  ...          59               Senior   \n",
       "\n",
       "  RETIREMENT_AGE RETIREMENT_AGE_GROUP  TOTAL_FUNDS_INVESTED  NO_OF_CHURN  \\\n",
       "0             21    MORE_THAN_10_YEAR                     1          NaN   \n",
       "1             13    MORE_THAN_10_YEAR                     1          NaN   \n",
       "2             22    MORE_THAN_10_YEAR                     1          NaN   \n",
       "3             22    MORE_THAN_10_YEAR                     1          NaN   \n",
       "4              6       IN_NEXT_5_YEAR                     1          NaN   \n",
       "\n",
       "   MEMBER_DOB_DT  ALLOCATION_DT    CHURN_DT  RETIREMENT_DT  \n",
       "0     1980-01-08     2004-11-18  9999-12-31     2045-01-08  \n",
       "1     1972-02-27     2001-07-08  9999-12-31     2037-02-27  \n",
       "2     1981-02-17     2002-12-10  9999-12-31     2046-02-17  \n",
       "3     1981-12-19     2002-08-13  9999-12-31     2046-12-19  \n",
       "4     1965-12-07     2005-08-05  9999-12-31     2030-12-07  \n",
       "\n",
       "[5 rows x 50 columns]"
      ]
     },
     "execution_count": 41,
     "metadata": {},
     "output_type": "execute_result"
    }
   ],
   "source": [
    "df.head()"
   ]
  },
  {
   "cell_type": "code",
   "execution_count": 42,
   "id": "2a4c47e7",
   "metadata": {},
   "outputs": [
    {
     "data": {
      "text/plain": [
       "MEMBER_ID                                           0.000000\n",
       "MEMBER_NAME                                         0.000000\n",
       "MEMBER_EMPLOYMENT                                   0.000000\n",
       "MEMBER_GENDER                                       0.000000\n",
       "MEMBER_CITY_TOWN                                    0.000000\n",
       "MEMBER_STATE                                        0.000000\n",
       "MEMBER_CONTACT_VERIFIED                             0.000000\n",
       "FUND_ID                                             0.000000\n",
       "CHURN_REASON                                        0.000000\n",
       "LATITUDE                                            0.000000\n",
       "LONGITUDE                                           0.000000\n",
       "COUNTRY                                             0.000000\n",
       "COUNTRYCODE                                         0.000000\n",
       "CAPITAL                                             0.000000\n",
       "POPULATION                                          0.000000\n",
       "FUND_TOTAL_ASSETS                                   0.000000\n",
       "FUND_RETURN_TARGET_PERCENTAGE                       0.000000\n",
       "INVESTMENT_RISK_LEVEL                               0.000000\n",
       "INVESTMENT_RISK_CATEGORY                            0.000000\n",
       "CASH_BENCHMARK_ALLOCATION                           0.000000\n",
       "FIXED_INCOME_BENCHMARK_ALLOCATION                   0.000000\n",
       "DOMESTIC_LISTED_EQUITY_BENCHMARK_ALLOCATION         0.000000\n",
       "INTERNATIONAL_LISTED_EQUITY_BENCHMARK_ALLOCATION    0.000000\n",
       "UNLISTED_EQUITY_BENCHMARK_ALLOCATION                0.000000\n",
       "EQUITY_BENCHMARK_ALLOCATION                         0.000000\n",
       "PROPERTY_BENCHMARK_ALLOCATION                       0.000000\n",
       "INFRA_BENCHMARK_ALLOCATION                          0.000000\n",
       "COMMODITIES_BENCHMARK_ALLOCATION                    0.000000\n",
       "OTHERS_BENCHMARK_ALLOCATION                         0.000000\n",
       "FUND_RISK_LEVEL                                     0.000000\n",
       "FUND_RISK_CATEGORY                                  0.000000\n",
       "NEG_NETRETURN_SINCE_INCEPTION                       0.000000\n",
       "YEAR_1_RETURNS                                      0.000000\n",
       "YEAR_3_RETURNS                                      0.000000\n",
       "YEAR_5_RETURNS                                      0.000000\n",
       "YEAR_7_RETURNS                                      0.000000\n",
       "YEAR_10_RETURNS                                     0.000000\n",
       "SUPER_FEES                                          0.000000\n",
       "PENSION_FEES                                        0.000000\n",
       "CHURN_FLAG                                          0.000000\n",
       "MEMBER_AGE                                          0.000000\n",
       "INVESTMENT_AGE_GROUP                                0.000000\n",
       "RETIREMENT_AGE                                      0.000000\n",
       "RETIREMENT_AGE_GROUP                                0.000000\n",
       "TOTAL_FUNDS_INVESTED                                0.000000\n",
       "NO_OF_CHURN                                         0.484275\n",
       "MEMBER_DOB_DT                                       0.000000\n",
       "ALLOCATION_DT                                       0.000000\n",
       "CHURN_DT                                            0.000000\n",
       "RETIREMENT_DT                                       0.000000\n",
       "dtype: float64"
      ]
     },
     "execution_count": 42,
     "metadata": {},
     "output_type": "execute_result"
    }
   ],
   "source": [
    "df.isna().sum() / df.shape[0]"
   ]
  },
  {
   "cell_type": "markdown",
   "id": "af40c298",
   "metadata": {},
   "source": [
    "NO_OF_CHURN column has almost 50% missing value, it wont be wise to impute these many values so will just drop it.                                     "
   ]
  },
  {
   "cell_type": "code",
   "execution_count": 86,
   "id": "ad24e795",
   "metadata": {},
   "outputs": [],
   "source": [
    "frame = df[['MEMBER_GENDER', 'MEMBER_STATE', 'MEMBER_CONTACT_VERIFIED','FUND_TOTAL_ASSETS','FUND_RETURN_TARGET_PERCENTAGE',\n",
    "            'INVESTMENT_RISK_CATEGORY', 'CASH_BENCHMARK_ALLOCATION','FIXED_INCOME_BENCHMARK_ALLOCATION',\n",
    "            'DOMESTIC_LISTED_EQUITY_BENCHMARK_ALLOCATION','INTERNATIONAL_LISTED_EQUITY_BENCHMARK_ALLOCATION',\n",
    "            'UNLISTED_EQUITY_BENCHMARK_ALLOCATION', 'EQUITY_BENCHMARK_ALLOCATION','PROPERTY_BENCHMARK_ALLOCATION',\n",
    "            'INFRA_BENCHMARK_ALLOCATION','COMMODITIES_BENCHMARK_ALLOCATION', 'OTHERS_BENCHMARK_ALLOCATION','FUND_RISK_LEVEL', \n",
    "            'FUND_RISK_CATEGORY','NEG_NETRETURN_SINCE_INCEPTION', 'YEAR_1_RETURNS', 'YEAR_3_RETURNS','YEAR_5_RETURNS',\n",
    "            'YEAR_7_RETURNS','YEAR_10_RETURNS', 'SUPER_FEES','PENSION_FEES',\n",
    "            'INVESTMENT_AGE_GROUP', 'RETIREMENT_AGE_GROUP', 'TOTAL_FUNDS_INVESTED','CHURN_FLAG']].copy()"
   ]
  },
  {
   "cell_type": "code",
   "execution_count": 87,
   "id": "97087d1a",
   "metadata": {},
   "outputs": [],
   "source": [
    "frame[\"CHURN_FLAG\"] = frame[\"CHURN_FLAG\"].apply(lambda x: 1 if x ==\"Y\" else 0)\n",
    "# data"
   ]
  },
  {
   "cell_type": "code",
   "execution_count": 82,
   "id": "b57fdc00",
   "metadata": {},
   "outputs": [],
   "source": [
    "# frame.groupby([\"RETIREMENT_AGE_GROUP\",\"CHURN_FLAG\"])[[\"CHURN_FLAG\"]].count()"
   ]
  },
  {
   "cell_type": "markdown",
   "id": "fcda71e1",
   "metadata": {},
   "source": [
    "The distribution of CHURN is pretty common bettween the employers and hence wont contribute inn modelling"
   ]
  },
  {
   "cell_type": "code",
   "execution_count": 76,
   "id": "7aa597f1",
   "metadata": {},
   "outputs": [],
   "source": [
    "# multiple = {i for i, j in dict(df[\"MEMBER_ID\"].value_counts()).items() if j > 1 }\n",
    "# multiple[multiple[\"value_counts\"]>=2].index.to_list()"
   ]
  },
  {
   "cell_type": "code",
   "execution_count": 95,
   "id": "f8b62210",
   "metadata": {},
   "outputs": [],
   "source": [
    "import numpy as np\n",
    "\n",
    "from sklearn.compose import ColumnTransformer\n",
    "from sklearn.feature_selection import SelectPercentile, chi2\n",
    "from sklearn.impute import SimpleImputer\n",
    "from sklearn.linear_model import LogisticRegression\n",
    "from sklearn.ensemble import RandomForestClassifier\n",
    "from sklearn.model_selection import RandomizedSearchCV, train_test_split\n",
    "from sklearn.pipeline import Pipeline\n",
    "from sklearn.preprocessing import OneHotEncoder, StandardScaler\n",
    "\n",
    "np.random.seed(0)"
   ]
  },
  {
   "cell_type": "code",
   "execution_count": 90,
   "id": "cea83e42",
   "metadata": {},
   "outputs": [
    {
     "data": {
      "text/plain": [
       "Index(['MEMBER_GENDER', 'MEMBER_STATE', 'MEMBER_CONTACT_VERIFIED',\n",
       "       'FUND_TOTAL_ASSETS', 'FUND_RETURN_TARGET_PERCENTAGE',\n",
       "       'INVESTMENT_RISK_CATEGORY', 'CASH_BENCHMARK_ALLOCATION',\n",
       "       'FIXED_INCOME_BENCHMARK_ALLOCATION',\n",
       "       'DOMESTIC_LISTED_EQUITY_BENCHMARK_ALLOCATION',\n",
       "       'INTERNATIONAL_LISTED_EQUITY_BENCHMARK_ALLOCATION',\n",
       "       'UNLISTED_EQUITY_BENCHMARK_ALLOCATION', 'EQUITY_BENCHMARK_ALLOCATION',\n",
       "       'PROPERTY_BENCHMARK_ALLOCATION', 'INFRA_BENCHMARK_ALLOCATION',\n",
       "       'COMMODITIES_BENCHMARK_ALLOCATION', 'OTHERS_BENCHMARK_ALLOCATION',\n",
       "       'FUND_RISK_LEVEL', 'FUND_RISK_CATEGORY',\n",
       "       'NEG_NETRETURN_SINCE_INCEPTION', 'YEAR_1_RETURNS', 'YEAR_3_RETURNS',\n",
       "       'YEAR_5_RETURNS', 'YEAR_7_RETURNS', 'YEAR_10_RETURNS', 'SUPER_FEES',\n",
       "       'PENSION_FEES', 'INVESTMENT_AGE_GROUP', 'RETIREMENT_AGE_GROUP',\n",
       "       'TOTAL_FUNDS_INVESTED', 'CHURN_FLAG'],\n",
       "      dtype='object')"
      ]
     },
     "execution_count": 90,
     "metadata": {},
     "output_type": "execute_result"
    }
   ],
   "source": [
    "frame.columns"
   ]
  },
  {
   "cell_type": "code",
   "execution_count": 94,
   "id": "3c13c4f9",
   "metadata": {},
   "outputs": [],
   "source": [
    "numeric_features = [\"FUND_TOTAL_ASSETS\", 'FUND_RETURN_TARGET_PERCENTAGE','CASH_BENCHMARK_ALLOCATION',\n",
    "       'FIXED_INCOME_BENCHMARK_ALLOCATION','DOMESTIC_LISTED_EQUITY_BENCHMARK_ALLOCATION','INTERNATIONAL_LISTED_EQUITY_BENCHMARK_ALLOCATION',\n",
    "       'UNLISTED_EQUITY_BENCHMARK_ALLOCATION', 'EQUITY_BENCHMARK_ALLOCATION','PROPERTY_BENCHMARK_ALLOCATION', 'INFRA_BENCHMARK_ALLOCATION',\n",
    "       'COMMODITIES_BENCHMARK_ALLOCATION', 'OTHERS_BENCHMARK_ALLOCATION', 'YEAR_1_RETURNS', 'YEAR_3_RETURNS',\n",
    "       'YEAR_5_RETURNS', 'YEAR_7_RETURNS', 'YEAR_10_RETURNS', 'SUPER_FEES','PENSION_FEES',]\n",
    "numeric_transformer = Pipeline(\n",
    "    steps=[(\"imputer\", SimpleImputer(strategy=\"median\")), (\"scaler\", StandardScaler())]\n",
    ")\n",
    "\n",
    "categorical_features = [\"MEMBER_GENDER\", \"MEMBER_STATE\", \"MEMBER_CONTACT_VERIFIED\",\"INVESTMENT_RISK_CATEGORY\",'FUND_RISK_LEVEL',\n",
    "                        'FUND_RISK_CATEGORY',\"NEG_NETRETURN_SINCE_INCEPTION\", 'INVESTMENT_AGE_GROUP', 'RETIREMENT_AGE_GROUP', \"TOTAL_FUNDS_INVESTED\"]\n",
    "categorical_transformer = Pipeline(\n",
    "    steps=[\n",
    "        (\"encoder\", OneHotEncoder(handle_unknown=\"ignore\")),\n",
    "        (\"selector\", SelectPercentile(chi2, percentile=50)),\n",
    "    ]\n",
    ")\n",
    "preprocessor = ColumnTransformer(\n",
    "    transformers=[\n",
    "        (\"num\", numeric_transformer, numeric_features),\n",
    "        (\"cat\", categorical_transformer, categorical_features),\n",
    "    ]\n",
    ")"
   ]
  },
  {
   "cell_type": "code",
   "execution_count": 96,
   "id": "fd582c98",
   "metadata": {},
   "outputs": [],
   "source": [
    "clf = Pipeline(\n",
    "    steps=[(\"preprocessor\", preprocessor), (\"classifier\", RandomForestClassifier(n_estimators=500, max_depth=8, \n",
    "                                                                                 max_features=0.6,\n",
    "                                                                                 bootstrap=True, max_samples=0.8))]\n",
    ")\n",
    "\n"
   ]
  },
  {
   "cell_type": "code",
   "execution_count": 98,
   "id": "d81c3f1a",
   "metadata": {},
   "outputs": [],
   "source": [
    "X = frame.drop(\"CHURN_FLAG\", axis=1)\n",
    "y = frame[\"CHURN_FLAG\"]\n",
    "\n",
    "X_train, X_test, y_train, y_test = train_test_split(X, y, test_size=0.2, random_state=0)\n"
   ]
  },
  {
   "cell_type": "code",
   "execution_count": 99,
   "id": "8e1c8a92",
   "metadata": {},
   "outputs": [
    {
     "name": "stdout",
     "output_type": "stream",
     "text": [
      "model score: 0.986\n"
     ]
    }
   ],
   "source": [
    "clf.fit(X_train, y_train)\n",
    "print(\"model score: %.3f\" % clf.score(X_test, y_test))"
   ]
  },
  {
   "cell_type": "code",
   "execution_count": null,
   "id": "d51dc14c",
   "metadata": {},
   "outputs": [],
   "source": []
  },
  {
   "cell_type": "code",
   "execution_count": 100,
   "id": "889c2249",
   "metadata": {},
   "outputs": [
    {
     "ename": "ImportError",
     "evalue": "cannot import name 'joblib' from 'sklearn.externals' (/packages/Python-3.8-Snowpark/86595857-4c87-4db3-814d-b3b9191f5ae5/3.8/sklearn/externals/__init__.py)",
     "output_type": "error",
     "traceback": [
      "\u001b[0;31m---------------------------------------------------------------------------\u001b[0m",
      "\u001b[0;31mImportError\u001b[0m                               Traceback (most recent call last)",
      "Cell \u001b[0;32mIn[100], line 1\u001b[0m\n\u001b[0;32m----> 1\u001b[0m \u001b[38;5;28;01mfrom\u001b[39;00m \u001b[38;5;21;01msklearn\u001b[39;00m\u001b[38;5;21;01m.\u001b[39;00m\u001b[38;5;21;01mexternals\u001b[39;00m \u001b[38;5;28;01mimport\u001b[39;00m joblib\n\u001b[1;32m      3\u001b[0m joblib\u001b[38;5;241m.\u001b[39mdump(clf, \u001b[38;5;124m'\u001b[39m\u001b[38;5;124mchurn_model.pkl\u001b[39m\u001b[38;5;124m'\u001b[39m)\n",
      "\u001b[0;31mImportError\u001b[0m: cannot import name 'joblib' from 'sklearn.externals' (/packages/Python-3.8-Snowpark/86595857-4c87-4db3-814d-b3b9191f5ae5/3.8/sklearn/externals/__init__.py)"
     ]
    }
   ],
   "source": [
    "from sklearn.externals import joblib\n",
    "\n",
    "joblib.dump(clf, 'churn_model.pkl')"
   ]
  }
 ],
 "metadata": {
  "kernelspec": {
   "display_name": "Python 3",
   "language": "python",
   "name": "python3"
  },
  "language_info": {
   "codemirror_mode": {
    "name": "ipython",
    "version": 3
   },
   "file_extension": ".py",
   "mimetype": "text/x-python",
   "name": "python",
   "nbconvert_exporter": "python",
   "pygments_lexer": "ipython3",
   "version": "3.8.18"
  }
 },
 "nbformat": 4,
 "nbformat_minor": 5
}
