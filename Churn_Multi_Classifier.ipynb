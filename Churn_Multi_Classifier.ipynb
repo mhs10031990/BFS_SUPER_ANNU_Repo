{
 "cells": [
  {
   "cell_type": "markdown",
   "id": "ae91a972-65a7-492f-9ab9-e516e8576947",
   "metadata": {},
   "source": [
    "# Use SUPER_ANNU_Template customized notebook template"
   ]
  },
  {
   "cell_type": "code",
   "execution_count": 1,
   "id": "f35e58f3-8cd4-448e-abee-ee9e08137187",
   "metadata": {},
   "outputs": [],
   "source": [
    "#Snowpark lib\n",
    "from snowflake.snowpark import Session\n",
    "\n",
    "# Data Science Libs\n",
    "import numpy as np\n",
    "import pandas as pd\n",
    "\n",
    "# create_temp_table warning suppresion\n",
    "import warnings; warnings.simplefilter('ignore')\n",
    "\n",
    "# Sklearn Libraries\n",
    "from sklearn.compose import ColumnTransformer\n",
    "from sklearn.feature_selection import SelectPercentile, chi2\n",
    "from sklearn.impute import SimpleImputer\n",
    "from sklearn.linear_model import LogisticRegression\n",
    "from sklearn.ensemble import RandomForestClassifier\n",
    "from sklearn.model_selection import RandomizedSearchCV, train_test_split\n",
    "from sklearn.pipeline import Pipeline\n",
    "from sklearn.preprocessing import OneHotEncoder, StandardScaler\n",
    "from sklearn.cluster import DBSCAN\n",
    "\n",
    "np.random.seed(0)"
   ]
  },
  {
   "cell_type": "code",
   "execution_count": 2,
   "id": "8dedf1c5-a3a5-4ed2-9347-08692c2a7a9b",
   "metadata": {},
   "outputs": [],
   "source": [
    "from fosforml.model_manager.snowflakesession import get_session\n",
    "my_session = get_session()"
   ]
  },
  {
   "cell_type": "code",
   "execution_count": 3,
   "id": "7615e166-9601-458a-be7a-32938eab84bc",
   "metadata": {},
   "outputs": [],
   "source": [
    "import pickle\n",
    "with open('reason_model.pkl','rb') as f:  ## use rb while reading the fie\n",
    "    reason_model = pickle.load(f)"
   ]
  },
  {
   "cell_type": "code",
   "execution_count": 4,
   "id": "4f6e57bd-3dcf-480a-82f7-7f2cf5530957",
   "metadata": {},
   "outputs": [],
   "source": [
    "table_name = 'MEMBER_FUNDS_ENRICHED_DETAILS'\n",
    "sf_df = my_session.sql(\"select * from {}\".format(table_name))\n",
    "df = sf_df.to_pandas()"
   ]
  },
  {
   "cell_type": "code",
   "execution_count": 5,
   "id": "2a2e8f5a-7733-49c9-9046-325e5ed20dae",
   "metadata": {},
   "outputs": [],
   "source": [
    "churned = df[df[\"CHURN_FLAG\"] == \"Y\"]"
   ]
  },
  {
   "cell_type": "code",
   "execution_count": 6,
   "id": "5d1cd624-553f-4ae7-831c-68d426732e5c",
   "metadata": {},
   "outputs": [
    {
     "data": {
      "text/plain": [
       "{0: 'NO REASON IDENTIFIED',\n",
       " 1: 'HIGH ACCOUNT FEE',\n",
       " 2: 'POOR FUND PERFORMANCE',\n",
       " 3: 'HIGH TRANSACTION FEE',\n",
       " 4: 'FUND REPUTATION DECLINING',\n",
       " 5: 'LIFE EVENT'}"
      ]
     },
     "execution_count": 6,
     "metadata": {},
     "output_type": "execute_result"
    }
   ],
   "source": [
    "r2id = {'NO REASON IDENTIFIED': 0,\n",
    " 'HIGH ACCOUNT FEE': 1,\n",
    " 'POOR FUND PERFORMANCE': 2,\n",
    " 'HIGH TRANSACTION FEE': 3,\n",
    " 'FUND REPUTATION DECLINING': 4,\n",
    " 'LIFE EVENT': 5}\n",
    "id2r = {v:k for k, v in r2id.items()}\n",
    "id2r"
   ]
  },
  {
   "cell_type": "code",
   "execution_count": 36,
   "id": "a35e1b72-4fc5-4197-a2df-16dbc9221b1b",
   "metadata": {},
   "outputs": [],
   "source": [
    "df = df.drop([\"MEMBER_DOB_DT\", 'ALLOCATION_DT', \"CHURN_DT\", \"RETIREMENT_DT\"], axis =1 )"
   ]
  },
  {
   "cell_type": "code",
   "execution_count": 7,
   "id": "68ebb2bf-5e92-4967-9b00-f9977a01f420",
   "metadata": {},
   "outputs": [],
   "source": [
    "def score(model, request):\n",
    "    payload_dict = eval(request.json[\"payload\"])\n",
    "    data = pd.DataFrame.from_dict(payload_dict)\n",
    "    frame = data[['MEMBER_GENDER', 'MEMBER_STATE', 'MEMBER_CONTACT_VERIFIED','FUND_TOTAL_ASSETS','FUND_RETURN_TARGET_PERCENTAGE',\n",
    "            'INVESTMENT_RISK_CATEGORY', 'CASH_BENCHMARK_ALLOCATION','FIXED_INCOME_BENCHMARK_ALLOCATION',\n",
    "            'DOMESTIC_LISTED_EQUITY_BENCHMARK_ALLOCATION','INTERNATIONAL_LISTED_EQUITY_BENCHMARK_ALLOCATION',\n",
    "            'UNLISTED_EQUITY_BENCHMARK_ALLOCATION', 'EQUITY_BENCHMARK_ALLOCATION','PROPERTY_BENCHMARK_ALLOCATION',\n",
    "            'INFRA_BENCHMARK_ALLOCATION','COMMODITIES_BENCHMARK_ALLOCATION', 'OTHERS_BENCHMARK_ALLOCATION','FUND_RISK_LEVEL', \n",
    "            'FUND_RISK_CATEGORY','NEG_NETRETURN_SINCE_INCEPTION', 'YEAR_1_RETURNS', 'YEAR_3_RETURNS','YEAR_5_RETURNS',\n",
    "            'YEAR_7_RETURNS','YEAR_10_RETURNS', 'SUPER_FEES','PENSION_FEES',\n",
    "            'INVESTMENT_AGE_GROUP', 'RETIREMENT_AGE_GROUP', 'TOTAL_FUNDS_INVESTED']].copy()\n",
    "    id2r = {0: 'NO REASON IDENTIFIED',\n",
    "             1: 'HIGH ACCOUNT FEE',\n",
    "             2: 'POOR FUND PERFORMANCE',\n",
    "             3: 'HIGH TRANSACTION FEE',\n",
    "             4: 'FUND REPUTATION DECLINING',\n",
    "             5: 'LIFE EVENT'}\n",
    "    result = model.predict(frame)\n",
    "    prediction = pd.DataFrame({\"REASON_PREDICTION\":result})\n",
    "    prediction[\"REASON_PREDICTION\"] = prediction[\"REASON_PREDICTION\"].apply(lambda x: id2r[x])\n",
    "    prediction = str(prediction.to_dict())\n",
    "    return prediction"
   ]
  },
  {
   "cell_type": "code",
   "execution_count": 11,
   "id": "50645491-0a83-4719-94f8-0172abc484d8",
   "metadata": {},
   "outputs": [],
   "source": [
    "import requests\n",
    "import datetime"
   ]
  },
  {
   "cell_type": "code",
   "execution_count": 12,
   "id": "e58d2f99-b17c-4a52-870d-97376e279fa7",
   "metadata": {},
   "outputs": [
    {
     "data": {
      "text/plain": [
       "\"{'REASON_PREDICTION': {0: 'HIGH TRANSACTION FEE', 1: 'NO REASON IDENTIFIED', 2: 'NO REASON IDENTIFIED', 3: 'HIGH ACCOUNT FEE', 4: 'FUND REPUTATION DECLINING', 5: 'NO REASON IDENTIFIED', 6: 'HIGH ACCOUNT FEE', 7: 'FUND REPUTATION DECLINING', 8: 'LIFE EVENT', 9: 'FUND REPUTATION DECLINING'}}\""
      ]
     },
     "execution_count": 12,
     "metadata": {},
     "output_type": "execute_result"
    }
   ],
   "source": [
    "payload = churned.head(10).to_dict()\n",
    "req = requests.Request()\n",
    "req.json = {\"payload\":str(payload)}\n",
    "y = req\n",
    "yo = score(reason_model, y)\n",
    "yo"
   ]
  },
  {
   "cell_type": "code",
   "execution_count": 13,
   "id": "b6026043-c43d-4b5d-a761-d32a58aca3ce",
   "metadata": {},
   "outputs": [],
   "source": [
    "X = churned.drop(\"CHURN_REASON\", axis=1)\n",
    "y = churned[\"CHURN_REASON\"]\n",
    "\n",
    "X_train, X_test, y_train, y_test = train_test_split(X, y, test_size=0.2, random_state=0)"
   ]
  },
  {
   "cell_type": "code",
   "execution_count": 14,
   "id": "2090a392-7349-4f23-b878-45cdb9ddf180",
   "metadata": {},
   "outputs": [],
   "source": [
    "payload = X_test.to_dict()\n",
    "req = requests.Request()\n",
    "req.json = {\"payload\":str(payload)}\n",
    "y = req\n",
    "pred_dic = score(reason_model, y)"
   ]
  },
  {
   "cell_type": "code",
   "execution_count": 15,
   "id": "6f771328-807e-4f24-9828-d73f8161c719",
   "metadata": {},
   "outputs": [
    {
     "name": "stdout",
     "output_type": "stream",
     "text": [
      "string to dict\n"
     ]
    }
   ],
   "source": [
    "temp_ = eval(pred_dic)\n",
    "print(\"string to dict\")\n",
    "pred = pd.DataFrame.from_dict(temp_)"
   ]
  },
  {
   "cell_type": "code",
   "execution_count": 17,
   "id": "81201c3a-492c-4177-8f04-e912638ec9db",
   "metadata": {},
   "outputs": [],
   "source": [
    "y_pred = pred[\"REASON_PREDICTION\"]"
   ]
  },
  {
   "cell_type": "code",
   "execution_count": 18,
   "id": "6a62f764-4a40-4325-8bd0-6a3b5e3c3d2a",
   "metadata": {},
   "outputs": [],
   "source": [
    "y_prob = reason_model.predict_proba(X_test)"
   ]
  },
  {
   "cell_type": "code",
   "execution_count": 19,
   "id": "8352ebcc-cfe4-43f6-81dd-05f0cfab2086",
   "metadata": {},
   "outputs": [
    {
     "data": {
      "text/plain": [
       "240048         NO REASON IDENTIFIED\n",
       "154866         HIGH TRANSACTION FEE\n",
       "158950         HIGH TRANSACTION FEE\n",
       "228750         NO REASON IDENTIFIED\n",
       "247815    FUND REPUTATION DECLINING\n",
       "                    ...            \n",
       "302560         NO REASON IDENTIFIED\n",
       "208132    FUND REPUTATION DECLINING\n",
       "264294                   LIFE EVENT\n",
       "326956             HIGH ACCOUNT FEE\n",
       "223727    FUND REPUTATION DECLINING\n",
       "Name: CHURN_REASON, Length: 18491, dtype: object"
      ]
     },
     "execution_count": 19,
     "metadata": {},
     "output_type": "execute_result"
    }
   ],
   "source": [
    "y_test"
   ]
  },
  {
   "cell_type": "code",
   "execution_count": 23,
   "id": "bbe5cc57-ba27-4426-9d84-1aa7e0db6b6b",
   "metadata": {},
   "outputs": [],
   "source": [
    "y_train = y_train.to_frame()\n",
    "y_test = y_test.to_frame()\n",
    "y_pred = y_pred.to_frame()"
   ]
  },
  {
   "cell_type": "code",
   "execution_count": 28,
   "id": "02352e07-0fc1-45e4-b0d7-50068d04c7e2",
   "metadata": {
    "scrolled": true
   },
   "outputs": [
    {
     "data": {
      "text/plain": [
       "(pandas.core.frame.DataFrame,\n",
       " pandas.core.frame.DataFrame,\n",
       " pandas.core.frame.DataFrame,\n",
       " pandas.core.frame.DataFrame,\n",
       " pandas.core.frame.DataFrame)"
      ]
     },
     "execution_count": 28,
     "metadata": {},
     "output_type": "execute_result"
    }
   ],
   "source": [
    "type(X_train), type(X_test),type(y_train), type(y_test), type(y_pred)"
   ]
  },
  {
   "cell_type": "code",
   "execution_count": 26,
   "id": "8ca25c27-2376-4a86-bb19-f12d3570dac5",
   "metadata": {},
   "outputs": [],
   "source": [
    "from fosforml import register_model"
   ]
  },
  {
   "cell_type": "code",
   "execution_count": 38,
   "id": "3aee7111-0913-458b-b5ac-861df5c7615e",
   "metadata": {},
   "outputs": [],
   "source": [
    "y_prob_df = pd.DataFrame(y_prob)"
   ]
  },
  {
   "cell_type": "code",
   "execution_count": 42,
   "id": "86835232-3b43-4c46-9a67-28a548ecbf08",
   "metadata": {},
   "outputs": [
    {
     "data": {
      "text/plain": [
       "'Failed to load model artifacts. EOL while scanning string literal (<string>, line 1)'"
      ]
     },
     "execution_count": 42,
     "metadata": {},
     "output_type": "execute_result"
    }
   ],
   "source": [
    "register_model(\n",
    "    model_obj=reason_model, \n",
    "    session=my_session,\n",
    "    x_train=X_train,\n",
    "    y_train=y_train,\n",
    "    x_test=X_test,\n",
    "    y_test=y_test,\n",
    "    y_pred=y_pred,\n",
    "    #y_prob = y_prob_df,\n",
    "    source=\"Notebook\",\n",
    "    dataset_name=\"MEMBER_FUNDS_ENRICHED_DETAILS\",\n",
    "    dataset_source=\"Snowflake\",\n",
    "    #dataset_source=\"InMemory\",\n",
    "    name=\"Churn_Reason_Classifier_Model\",\n",
    "    description=\"PREDICTING_FUND_REASON\",\n",
    "    flavour=\"sklearn\",\n",
    "    model_type=\"classification\",\n",
    "    conda_dependencies=[\"scikit-learn==1.3.2\"]\n",
    ")"
   ]
  }
 ],
 "metadata": {
  "kernelspec": {
   "display_name": "Python 3 (ipykernel)",
   "language": "python",
   "name": "python3"
  },
  "language_info": {
   "codemirror_mode": {
    "name": "ipython",
    "version": 3
   },
   "file_extension": ".py",
   "mimetype": "text/x-python",
   "name": "python",
   "nbconvert_exporter": "python",
   "pygments_lexer": "ipython3",
   "version": "3.9.19"
  }
 },
 "nbformat": 4,
 "nbformat_minor": 5
}
