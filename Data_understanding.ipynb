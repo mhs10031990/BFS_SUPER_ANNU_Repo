{
 "cells": [
  {
   "cell_type": "code",
   "execution_count": 4,
   "id": "135ebaa6",
   "metadata": {},
   "outputs": [],
   "source": [
    "#Snowpark lib\n",
    "from snowflake.snowpark import Session\n",
    "\n",
    "# Data Science Libs\n",
    "import numpy as np\n",
    "import pandas as pd\n",
    "\n",
    "# create_temp_table warning suppresion\n",
    "import warnings; warnings.simplefilter('ignore')\n",
    "\n",
    "#ConfigParser to read ini file\n",
    "import configparser\n",
    "\n",
    "config = configparser.ConfigParser()\n",
    "config.read(\"/notebooks/notebooks/credentials.ini\")"
   ]
  },
  {
   "cell_type": "code",
   "execution_count": 3,
   "id": "03d5beee",
   "metadata": {},
   "outputs": [
    {
     "name": "stdout",
     "output_type": "stream",
     "text": [
      "Connection details fetched: {'errorCode': 'CNM-404', 'message': 'Asset not found', 'detailMessage': 'Datasource not found by name MEMBER_FUNDS_ENRICHED_DETAIL', 'timeStamp': '2024-08-01 08:40:27.249', 'api': '/v1/external/getConnConfig/{dataSourceName}/{userId}/{projectId}'}\n",
      "Ex: 'params'\n",
      "Exception occurred in reading data_frame from snowflake connection: Exception occurred in creating snowflake connection: Datasource not found by name MEMBER_FUNDS_ENRICHED_DETAIL\n"
     ]
    }
   ],
   "source": [
    "df = snowflake.get_dataframe(\"MEMBER_FUNDS_ENRICHED_DETAIL\")\n"
   ]
  }
 ],
 "metadata": {
  "kernelspec": {
   "display_name": "Python 3",
   "language": "python",
   "name": "python3"
  },
  "language_info": {
   "codemirror_mode": {
    "name": "ipython",
    "version": 3
   },
   "file_extension": ".py",
   "mimetype": "text/x-python",
   "name": "python",
   "nbconvert_exporter": "python",
   "pygments_lexer": "ipython3",
   "version": "3.8.18"
  }
 },
 "nbformat": 4,
 "nbformat_minor": 5
}
