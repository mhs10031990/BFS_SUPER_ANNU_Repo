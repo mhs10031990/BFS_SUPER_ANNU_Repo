{
 "cells": [
  {
   "cell_type": "code",
   "execution_count": 1,
   "id": "815e947b",
   "metadata": {},
   "outputs": [
    {
     "name": "stderr",
     "output_type": "stream",
     "text": [
      "Matplotlib created a temporary cache directory at /tmp/matplotlib-htn_2zgh because the default path (/home/mosaic-ai/.cache/matplotlib) is not a writable directory; it is highly recommended to set the MPLCONFIGDIR environment variable to a writable directory, in particular to speed up the import of Matplotlib and to better support multiprocessing.\n"
     ]
    }
   ],
   "source": [
    "import pandas as pd\n",
    "import numpy as np\n",
    "import matplotlib.pyplot as plt"
   ]
  },
  {
   "cell_type": "code",
   "execution_count": null,
   "id": "f8c66821",
   "metadata": {},
   "outputs": [],
   "source": [
    "df =  pd.read_csv('/data/Input/My_super.csv')"
   ]
  },
  {
   "cell_type": "code",
   "execution_count": null,
   "id": "9fc781f8",
   "metadata": {},
   "outputs": [],
   "source": [
    "df.shape"
   ]
  },
  {
   "cell_type": "code",
   "execution_count": null,
   "id": "38a18baf",
   "metadata": {
    "scrolled": true
   },
   "outputs": [],
   "source": [
    "df.info()"
   ]
  },
  {
   "cell_type": "code",
   "execution_count": null,
   "id": "37fcc2ec",
   "metadata": {},
   "outputs": [],
   "source": [
    "df.describe()"
   ]
  },
  {
   "cell_type": "code",
   "execution_count": null,
   "id": "b432c2ae",
   "metadata": {},
   "outputs": [],
   "source": [
    "df.head()"
   ]
  },
  {
   "cell_type": "code",
   "execution_count": null,
   "id": "03e72d5b",
   "metadata": {},
   "outputs": [],
   "source": [
    "# Skip the first row (index 0) using the `iloc` method\n",
    "df = df.iloc[1:]"
   ]
  },
  {
   "cell_type": "code",
   "execution_count": null,
   "id": "6681b58f",
   "metadata": {},
   "outputs": [],
   "source": [
    "# Drop the NaN column\n",
    "df.drop('Unnamed: 46', inplace=True, axis=1)"
   ]
  },
  {
   "cell_type": "code",
   "execution_count": null,
   "id": "fb1bad97",
   "metadata": {
    "scrolled": true
   },
   "outputs": [],
   "source": [
    "df.head()"
   ]
  },
  {
   "cell_type": "code",
   "execution_count": null,
   "id": "e00c0808",
   "metadata": {
    "scrolled": true
   },
   "outputs": [],
   "source": [
    "cat_columns = ['MySuper product name','MySuper product type','Lifecycle strategy indicator','Fund name',\n",
    "               'Fund trustee','Fund public offer status','Fund type','Level of investment risk label']"
   ]
  },
  {
   "cell_type": "code",
   "execution_count": null,
   "id": "8c5f3b10",
   "metadata": {},
   "outputs": [],
   "source": [
    "for col in cat_columns:\n",
    "    print (\"------------------------------------------------\")\n",
    "    print (col, \" -> \",df[col].value_counts())"
   ]
  },
  {
   "cell_type": "code",
   "execution_count": null,
   "id": "1b99755f",
   "metadata": {},
   "outputs": [],
   "source": [
    "from snowflake.snowpark import Session\n",
    "import warnings; warnings.simplefilter('ignore')"
   ]
  },
  {
   "cell_type": "code",
   "execution_count": null,
   "id": "8283c664",
   "metadata": {},
   "outputs": [],
   "source": [
    "#Import all snowflake connection details from template variables.\n",
    "db_user = 'MANISH'\n",
    "db_password = 'Password@2023'\n",
    "db_account = 'ug94937.us-east4.gcp'\n",
    "db_database =  'FDC_Banking_FS'\n",
    "db_role = 'MANISH'\n",
    "db_warehouse = 'FOSFOR_SOLUTIONS_WH'\n",
    "db_schema = 'BFS_SUPER_ANNU_SCHEMA'"
   ]
  },
  {
   "cell_type": "code",
   "execution_count": null,
   "id": "030daaae",
   "metadata": {},
   "outputs": [],
   "source": [
    "from snowflake.snowpark.session import Session\n",
    "connection_params = {\n",
    "    'user': db_user,\n",
    "    'password': db_password,\n",
    "    'account': db_account,\n",
    "    'warehouse': db_warehouse,\n",
    "    'database': db_database,\n",
    "    'schema': db_schema,\n",
    "    'role': db_role\n",
    "}\n",
    "session1 = Session.builder.configs(connection_params).create()"
   ]
  },
  {
   "cell_type": "code",
   "execution_count": null,
   "id": "ef4fa945",
   "metadata": {},
   "outputs": [],
   "source": [
    "cat_columns"
   ]
  },
  {
   "cell_type": "code",
   "execution_count": null,
   "id": "e04e15e5",
   "metadata": {},
   "outputs": [],
   "source": [
    "non_numeric_col = ['Period','MySuper product name','MySuper product type','Lifecycle strategy indicator',\n",
    " 'Fund name', 'Fund trustee', 'Fund public offer status', 'Fund type', 'Level of investment risk label']"
   ]
  },
  {
   "cell_type": "code",
   "execution_count": null,
   "id": "02abde64",
   "metadata": {},
   "outputs": [],
   "source": [
    "numeric_col = [col for col in df.columns if col not in non_numeric_col]"
   ]
  },
  {
   "cell_type": "code",
   "execution_count": null,
   "id": "f2ae9d62",
   "metadata": {},
   "outputs": [],
   "source": [
    "numeric_col"
   ]
  },
  {
   "cell_type": "code",
   "execution_count": null,
   "id": "3ede11ca",
   "metadata": {},
   "outputs": [],
   "source": [
    "for col in cat_columns:\n",
    "    df[col].fillna('MISSING_VALUE', inplace=True)"
   ]
  },
  {
   "cell_type": "code",
   "execution_count": null,
   "id": "dc3fe81a",
   "metadata": {},
   "outputs": [],
   "source": [
    "for col in numeric_col:\n",
    "    df[col].replace(',','', regex=True, inplace=True)\n",
    "    #df[col].fillna(0, inplace=True)\n",
    "    df[col] = pd.to_numeric(df[col])"
   ]
  },
  {
   "cell_type": "code",
   "execution_count": null,
   "id": "d8b529f0",
   "metadata": {},
   "outputs": [],
   "source": [
    "df['Period'].dtype"
   ]
  },
  {
   "cell_type": "code",
   "execution_count": null,
   "id": "6273803d",
   "metadata": {},
   "outputs": [],
   "source": [
    "import pandas as pd\n",
    "df['Period'] = pd.to_datetime(df['Period'],  format='%Y-%m-%d')"
   ]
  },
  {
   "cell_type": "code",
   "execution_count": null,
   "id": "6e4097e7",
   "metadata": {},
   "outputs": [],
   "source": [
    "df['Period'].dtype"
   ]
  },
  {
   "cell_type": "code",
   "execution_count": null,
   "id": "bde343d3",
   "metadata": {},
   "outputs": [],
   "source": [
    "#import datetime as dt\n",
    "#df['Period'] = pd.to_datetime(df['Period']).dt.strftime('%Y-%m-%d')"
   ]
  },
  {
   "cell_type": "code",
   "execution_count": null,
   "id": "bba13f1a",
   "metadata": {},
   "outputs": [],
   "source": [
    "#df['Period'].value_counts()"
   ]
  },
  {
   "cell_type": "code",
   "execution_count": null,
   "id": "447c3541",
   "metadata": {},
   "outputs": [],
   "source": [
    "df_sf=session1.createDataFrame(\n",
    "        df.values.tolist(),\n",
    "        schema=df.columns.tolist())\n",
    "df_sf.write.mode(\"overwrite\").save_as_table(\"FDC_Banking_FS.BFS_SUPER_ANNU_SCHEMA.SUPPER_ANNUATION_FUND_DETAILS\")"
   ]
  }
 ],
 "metadata": {
  "kernelspec": {
   "display_name": "Python 3",
   "language": "python",
   "name": "python3"
  },
  "language_info": {
   "codemirror_mode": {
    "name": "ipython",
    "version": 3
   },
   "file_extension": ".py",
   "mimetype": "text/x-python",
   "name": "python",
   "nbconvert_exporter": "python",
   "pygments_lexer": "ipython3",
   "version": "3.8.18"
  }
 },
 "nbformat": 4,
 "nbformat_minor": 5
}
