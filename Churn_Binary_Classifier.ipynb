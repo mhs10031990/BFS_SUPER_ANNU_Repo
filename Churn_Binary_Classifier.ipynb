{
 "cells": [
  {
   "cell_type": "markdown",
   "id": "ae91a972-65a7-492f-9ab9-e516e8576947",
   "metadata": {},
   "source": [
    "# Use SUPER_ANNU_Template customized notebook template"
   ]
  },
  {
   "cell_type": "code",
   "execution_count": 1,
   "id": "f35e58f3-8cd4-448e-abee-ee9e08137187",
   "metadata": {},
   "outputs": [],
   "source": [
    "#Snowpark lib\n",
    "from snowflake.snowpark import Session\n",
    "\n",
    "# Data Science Libs\n",
    "import numpy as np\n",
    "import pandas as pd\n",
    "\n",
    "# create_temp_table warning suppresion\n",
    "import warnings; warnings.simplefilter('ignore')\n",
    "\n",
    "# Sklearn Libraries\n",
    "from sklearn.compose import ColumnTransformer\n",
    "from sklearn.feature_selection import SelectPercentile, chi2\n",
    "from sklearn.impute import SimpleImputer\n",
    "from sklearn.linear_model import LogisticRegression\n",
    "from sklearn.ensemble import RandomForestClassifier\n",
    "from sklearn.model_selection import RandomizedSearchCV, train_test_split\n",
    "from sklearn.pipeline import Pipeline\n",
    "from sklearn.preprocessing import OneHotEncoder, StandardScaler\n",
    "from sklearn.cluster import DBSCAN\n",
    "\n",
    "np.random.seed(0)"
   ]
  },
  {
   "cell_type": "code",
   "execution_count": 2,
   "id": "8dedf1c5-a3a5-4ed2-9347-08692c2a7a9b",
   "metadata": {},
   "outputs": [],
   "source": [
    "from fosforml.model_manager.snowflakesession import get_session\n",
    "my_session = get_session()"
   ]
  },
  {
   "cell_type": "code",
   "execution_count": 32,
   "id": "7615e166-9601-458a-be7a-32938eab84bc",
   "metadata": {},
   "outputs": [],
   "source": [
    "import pickle\n",
    "with open('Churn_Classifier.pkl','rb') as f:  ## use rb while reading the fie\n",
    "    churn_model = pickle.load(f)"
   ]
  },
  {
   "cell_type": "code",
   "execution_count": 33,
   "id": "4f6e57bd-3dcf-480a-82f7-7f2cf5530957",
   "metadata": {},
   "outputs": [],
   "source": [
    "table_name = 'MEMBER_FUNDS_ENRICHED_DETAILS'\n",
    "sf_df = my_session.sql(\"select * from {}\".format(table_name))\n",
    "df = sf_df.to_pandas()"
   ]
  },
  {
   "cell_type": "code",
   "execution_count": 36,
   "id": "a35e1b72-4fc5-4197-a2df-16dbc9221b1b",
   "metadata": {},
   "outputs": [],
   "source": [
    "df = df.drop([\"MEMBER_DOB_DT\", 'ALLOCATION_DT', \"CHURN_DT\", \"RETIREMENT_DT\"], axis =1 )"
   ]
  },
  {
   "cell_type": "code",
   "execution_count": 37,
   "id": "8a1d400e-b076-4d9d-9302-05f452efb298",
   "metadata": {},
   "outputs": [],
   "source": [
    "frame = df[['MEMBER_GENDER', 'MEMBER_STATE', 'MEMBER_CONTACT_VERIFIED','FUND_TOTAL_ASSETS','FUND_RETURN_TARGET_PERCENTAGE',\n",
    "            'INVESTMENT_RISK_CATEGORY', 'CASH_BENCHMARK_ALLOCATION','FIXED_INCOME_BENCHMARK_ALLOCATION',\n",
    "            'DOMESTIC_LISTED_EQUITY_BENCHMARK_ALLOCATION','INTERNATIONAL_LISTED_EQUITY_BENCHMARK_ALLOCATION',\n",
    "            'UNLISTED_EQUITY_BENCHMARK_ALLOCATION', 'EQUITY_BENCHMARK_ALLOCATION','PROPERTY_BENCHMARK_ALLOCATION',\n",
    "            'INFRA_BENCHMARK_ALLOCATION','COMMODITIES_BENCHMARK_ALLOCATION', 'OTHERS_BENCHMARK_ALLOCATION','FUND_RISK_LEVEL', \n",
    "            'FUND_RISK_CATEGORY','NEG_NETRETURN_SINCE_INCEPTION', 'YEAR_1_RETURNS', 'YEAR_3_RETURNS','YEAR_5_RETURNS',\n",
    "            'YEAR_7_RETURNS','YEAR_10_RETURNS', 'SUPER_FEES','PENSION_FEES',\n",
    "            'INVESTMENT_AGE_GROUP', 'RETIREMENT_AGE_GROUP', 'TOTAL_FUNDS_INVESTED','CHURN_FLAG']].copy()"
   ]
  },
  {
   "cell_type": "code",
   "execution_count": 38,
   "id": "956e847b-841e-42da-9511-ebb99cba2e42",
   "metadata": {},
   "outputs": [],
   "source": [
    "X = frame.drop(\"CHURN_FLAG\", axis=1)\n",
    "y = frame[\"CHURN_FLAG\"]\n",
    "\n",
    "X_train, X_test, y_train, y_test = train_test_split(X, y, test_size=0.2, random_state=0)"
   ]
  },
  {
   "cell_type": "code",
   "execution_count": 39,
   "id": "b0b94fa5-533f-4d76-81cd-fc2bdc7f5a76",
   "metadata": {},
   "outputs": [],
   "source": [
    "def score(model, request):\n",
    "    payload_dict = eval(request.json[\"payload\"])\n",
    "    data = pd.DataFrame.from_dict(payload_dict)\n",
    "    frame = data[['MEMBER_GENDER', 'MEMBER_STATE', 'MEMBER_CONTACT_VERIFIED','FUND_TOTAL_ASSETS','FUND_RETURN_TARGET_PERCENTAGE',\n",
    "            'INVESTMENT_RISK_CATEGORY', 'CASH_BENCHMARK_ALLOCATION','FIXED_INCOME_BENCHMARK_ALLOCATION',\n",
    "            'DOMESTIC_LISTED_EQUITY_BENCHMARK_ALLOCATION','INTERNATIONAL_LISTED_EQUITY_BENCHMARK_ALLOCATION',\n",
    "            'UNLISTED_EQUITY_BENCHMARK_ALLOCATION', 'EQUITY_BENCHMARK_ALLOCATION','PROPERTY_BENCHMARK_ALLOCATION',\n",
    "            'INFRA_BENCHMARK_ALLOCATION','COMMODITIES_BENCHMARK_ALLOCATION', 'OTHERS_BENCHMARK_ALLOCATION','FUND_RISK_LEVEL', \n",
    "            'FUND_RISK_CATEGORY','NEG_NETRETURN_SINCE_INCEPTION', 'YEAR_1_RETURNS', 'YEAR_3_RETURNS','YEAR_5_RETURNS',\n",
    "            'YEAR_7_RETURNS','YEAR_10_RETURNS', 'SUPER_FEES','PENSION_FEES',\n",
    "            'INVESTMENT_AGE_GROUP', 'RETIREMENT_AGE_GROUP', 'TOTAL_FUNDS_INVESTED']].copy()\n",
    "    result = model.predict(frame)\n",
    "    prediction = pd.DataFrame({\"CHURN_PREDICTION\":result})\n",
    "    prediction[\"CHURN_PREDICTION\"] = prediction[\"CHURN_PREDICTION\"].apply(lambda x: \"Y\" if x == 1 else \"N\")\n",
    "    probability = model.predict_proba(frame)\n",
    "    prediction[\"Probability\"] = [round(k[1],4) for k in probability]    \n",
    "    prediction = prediction.to_dict()\n",
    "    return pd.DataFrame(prediction)"
   ]
  },
  {
   "cell_type": "code",
   "execution_count": 40,
   "id": "11125fde-b61d-4eac-b0ab-488df4dd5ad5",
   "metadata": {},
   "outputs": [],
   "source": [
    "import requests"
   ]
  },
  {
   "cell_type": "code",
   "execution_count": 41,
   "id": "0198c006-92a6-4b0f-8641-f57d91a84fb3",
   "metadata": {
    "scrolled": true
   },
   "outputs": [
    {
     "data": {
      "text/html": [
       "<div>\n",
       "<style scoped>\n",
       "    .dataframe tbody tr th:only-of-type {\n",
       "        vertical-align: middle;\n",
       "    }\n",
       "\n",
       "    .dataframe tbody tr th {\n",
       "        vertical-align: top;\n",
       "    }\n",
       "\n",
       "    .dataframe thead th {\n",
       "        text-align: right;\n",
       "    }\n",
       "</style>\n",
       "<table border=\"1\" class=\"dataframe\">\n",
       "  <thead>\n",
       "    <tr style=\"text-align: right;\">\n",
       "      <th></th>\n",
       "      <th>CHURN_PREDICTION</th>\n",
       "      <th>Probability</th>\n",
       "    </tr>\n",
       "  </thead>\n",
       "  <tbody>\n",
       "    <tr>\n",
       "      <th>0</th>\n",
       "      <td>Y</td>\n",
       "      <td>0.8526</td>\n",
       "    </tr>\n",
       "    <tr>\n",
       "      <th>1</th>\n",
       "      <td>Y</td>\n",
       "      <td>0.9883</td>\n",
       "    </tr>\n",
       "    <tr>\n",
       "      <th>2</th>\n",
       "      <td>Y</td>\n",
       "      <td>0.5670</td>\n",
       "    </tr>\n",
       "    <tr>\n",
       "      <th>3</th>\n",
       "      <td>Y</td>\n",
       "      <td>0.7961</td>\n",
       "    </tr>\n",
       "    <tr>\n",
       "      <th>4</th>\n",
       "      <td>Y</td>\n",
       "      <td>0.8032</td>\n",
       "    </tr>\n",
       "    <tr>\n",
       "      <th>5</th>\n",
       "      <td>Y</td>\n",
       "      <td>0.5919</td>\n",
       "    </tr>\n",
       "    <tr>\n",
       "      <th>6</th>\n",
       "      <td>Y</td>\n",
       "      <td>0.8782</td>\n",
       "    </tr>\n",
       "    <tr>\n",
       "      <th>7</th>\n",
       "      <td>Y</td>\n",
       "      <td>0.5755</td>\n",
       "    </tr>\n",
       "    <tr>\n",
       "      <th>8</th>\n",
       "      <td>Y</td>\n",
       "      <td>0.9691</td>\n",
       "    </tr>\n",
       "    <tr>\n",
       "      <th>9</th>\n",
       "      <td>Y</td>\n",
       "      <td>0.9606</td>\n",
       "    </tr>\n",
       "  </tbody>\n",
       "</table>\n",
       "</div>"
      ],
      "text/plain": [
       "  CHURN_PREDICTION  Probability\n",
       "0                Y       0.8526\n",
       "1                Y       0.9883\n",
       "2                Y       0.5670\n",
       "3                Y       0.7961\n",
       "4                Y       0.8032\n",
       "5                Y       0.5919\n",
       "6                Y       0.8782\n",
       "7                Y       0.5755\n",
       "8                Y       0.9691\n",
       "9                Y       0.9606"
      ]
     },
     "execution_count": 41,
     "metadata": {},
     "output_type": "execute_result"
    }
   ],
   "source": [
    "payload = df.head(10).to_dict()\n",
    "req = requests.Request()\n",
    "req.json = {\"payload\":str(payload)}\n",
    "y = req\n",
    "yo = score(clf, y)\n",
    "yo"
   ]
  },
  {
   "cell_type": "code",
   "execution_count": 42,
   "id": "b577c5d0-0371-4b90-9713-9f1fc338e050",
   "metadata": {},
   "outputs": [],
   "source": [
    "y_pred = yo[\"CHURN_PREDICTION\"]\n",
    "y_prob = yo[\"Probability\"]"
   ]
  },
  {
   "cell_type": "code",
   "execution_count": 43,
   "id": "08e3835a-4e99-4190-987f-5e9fe04fe66e",
   "metadata": {},
   "outputs": [],
   "source": [
    "y_train = y_train.to_frame()\n",
    "y_test = y_test.to_frame()\n",
    "y_pred = y_pred.to_frame()\n",
    "y_prob = y_prob.to_frame()"
   ]
  },
  {
   "cell_type": "code",
   "execution_count": 44,
   "id": "8358e1f6-a63e-45e9-bd5a-03dbe83210b3",
   "metadata": {},
   "outputs": [
    {
     "data": {
      "text/plain": [
       "(pandas.core.frame.DataFrame,\n",
       " pandas.core.frame.DataFrame,\n",
       " pandas.core.frame.DataFrame,\n",
       " pandas.core.frame.DataFrame,\n",
       " pandas.core.frame.DataFrame)"
      ]
     },
     "execution_count": 44,
     "metadata": {},
     "output_type": "execute_result"
    }
   ],
   "source": [
    "type(X_train), type(X_test),type(y_train), type(y_test), type(y_pred)"
   ]
  },
  {
   "cell_type": "code",
   "execution_count": 46,
   "id": "5ce8cc0b-7daf-4f90-9d3c-894f50428c0f",
   "metadata": {},
   "outputs": [
    {
     "name": "stderr",
     "output_type": "stream",
     "text": [
      "WARNING:snowflake.snowpark._internal.udf_utils:Got error object of type 'NoneType' has no len() when trying to read default values from function: <class 'snowflake.ml.modeling.metrics.classification._register_confusion_matrix_computer.<locals>.ConfusionMatrixComputer'>. Proceeding without creating optional arguments\n",
      "WARNING:snowflake.snowpark._internal.udf_utils:Got error object of type 'NoneType' has no len() when trying to read default values from function: <class 'snowflake.ml.modeling.metrics.metrics_utils.register_accumulator_udtf.<locals>.Accumulator'>. Proceeding without creating optional arguments\n"
     ]
    },
    {
     "name": "stdout",
     "output_type": "stream",
     "text": [
      "Calculating build time metrics\n",
      "\n",
      "Progress: ██████████████                                                         20.0%\n",
      "Calculating build time metrics\n",
      "\n",
      "Progress: ████████████████████████████                                           40.0%\n",
      "(0000) pos_label=1 is not a valid label. It must be one of ['N', 'Y']\n",
      "(0000) pos_label=1 is not a valid label. It must be one of ['N', 'Y']\n",
      "(0000) pos_label=1 is not a valid label. It must be one of ['N', 'Y']\n"
     ]
    },
    {
     "name": "stderr",
     "output_type": "stream",
     "text": [
      "WARNING:snowflake.snowpark._internal.udf_utils:Got error object of type 'NoneType' has no len() when trying to read default values from function: <function roc_auc_score.<locals>.roc_auc_score_anon_sproc at 0x7ff21670bca0>. Proceeding without creating optional arguments\n"
     ]
    },
    {
     "name": "stdout",
     "output_type": "stream",
     "text": [
      "(1300) (1304): 01b6c307-070e-1713-0072-f30310493d6e: 100038 (22018): Numeric value 'N' is not recognized\n",
      "Calculating build time metrics\n",
      "\n",
      "Progress: ██████████████████████████████████████████                             60.0%\n"
     ]
    },
    {
     "name": "stderr",
     "output_type": "stream",
     "text": [
      "WARNING:snowflake.snowpark.session:The version of package 'scikit-learn' in the local environment is 1.3.2, which does not fit the criteria for the requirement 'scikit-learn==1.3.*'. Your UDF might not work when the package version is different between the server and your local environment.\n",
      "WARNING:snowflake.snowpark.session:The version of package 'snowflake-snowpark-python' in the local environment is 1.21.0, which does not fit the criteria for the requirement 'snowflake-snowpark-python'. Your UDF might not work when the package version is different between the server and your local environment.\n"
     ]
    },
    {
     "name": "stdout",
     "output_type": "stream",
     "text": [
      "Error in while calculating roc_auc \n",
      "Calculating build time metrics\n",
      "\n",
      "Progress: ████████████████████████████████████████████████████████               80.0%\n",
      "Error in while calculating feature_importance \n",
      "Calculating build time metrics\n",
      "\n",
      "Progress: ██████████████████████████████████████████████████████████████████████ 100.0%\n"
     ]
    },
    {
     "data": {
      "text/plain": [
       "\"Model 'MODEL_1BCAA7D6_FE9E_4FB7_AF4D_7C27E92AD7B4_FDC_CHURN_CLASSIFIER_RF_MODEL' registered successfully.\""
      ]
     },
     "execution_count": 46,
     "metadata": {},
     "output_type": "execute_result"
    }
   ],
   "source": [
    "register_model(\n",
    "    model_obj=churn_model, \n",
    "    session=my_session,\n",
    "    x_train=X_train,\n",
    "    y_train=y_train,\n",
    "    x_test=X_test,\n",
    "    y_test=y_test,\n",
    "    y_pred=y_pred,\n",
    "    y_prob = y_prob,\n",
    "    source=\"Notebook\",\n",
    "    dataset_name=\"MEMBER_FUNDS_ENRICHED_DETAILS\",\n",
    "    dataset_source=\"Snowflake\",\n",
    "    #dataset_source=\"InMemory\",\n",
    "    name=\"Churn_Classifier_RF_Model\",\n",
    "    description=\"PREDICTING_FUND_CHURN\",\n",
    "    flavour=\"sklearn\",\n",
    "    model_type=\"classification\",\n",
    "    conda_dependencies=[\"scikit-learn==1.3.2\"]\n",
    ")"
   ]
  },
  {
   "cell_type": "code",
   "execution_count": null,
   "id": "7b923bf6-c86c-4b96-a586-310b43b0829e",
   "metadata": {},
   "outputs": [],
   "source": []
  }
 ],
 "metadata": {
  "kernelspec": {
   "display_name": "Python 3 (ipykernel)",
   "language": "python",
   "name": "python3"
  },
  "language_info": {
   "codemirror_mode": {
    "name": "ipython",
    "version": 3
   },
   "file_extension": ".py",
   "mimetype": "text/x-python",
   "name": "python",
   "nbconvert_exporter": "python",
   "pygments_lexer": "ipython3",
   "version": "3.9.19"
  }
 },
 "nbformat": 4,
 "nbformat_minor": 5
}
