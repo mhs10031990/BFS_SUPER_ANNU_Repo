{
 "cells": [
  {
   "cell_type": "code",
   "execution_count": 1,
   "id": "f35e58f3-8cd4-448e-abee-ee9e08137187",
   "metadata": {},
   "outputs": [],
   "source": [
    "#Snowpark lib\n",
    "from snowflake.snowpark import Session\n",
    "\n",
    "# Data Science Libs\n",
    "import numpy as np\n",
    "import pandas as pd\n",
    "\n",
    "# create_temp_table warning suppresion\n",
    "import warnings; warnings.simplefilter('ignore')\n",
    "\n",
    "# Sklearn Libraries\n",
    "from sklearn.compose import ColumnTransformer\n",
    "from sklearn.feature_selection import SelectPercentile, chi2\n",
    "from sklearn.impute import SimpleImputer\n",
    "from sklearn.linear_model import LogisticRegression\n",
    "from sklearn.ensemble import RandomForestClassifier\n",
    "from sklearn.model_selection import RandomizedSearchCV, train_test_split\n",
    "from sklearn.pipeline import Pipeline\n",
    "from sklearn.preprocessing import OneHotEncoder, StandardScaler\n",
    "from sklearn.cluster import DBSCAN\n",
    "\n",
    "np.random.seed(0)"
   ]
  },
  {
   "cell_type": "code",
   "execution_count": 2,
   "id": "8dedf1c5-a3a5-4ed2-9347-08692c2a7a9b",
   "metadata": {},
   "outputs": [],
   "source": [
    "from fosforml.model_manager.snowflakesession import get_session\n",
    "my_session = get_session()"
   ]
  },
  {
   "cell_type": "code",
   "execution_count": 3,
   "id": "85580304-dac3-49a6-9b4a-9ff6f8750364",
   "metadata": {},
   "outputs": [],
   "source": [
    "table_name = 'MEMBER_FUNDS_ENRICHED_DETAILS'"
   ]
  },
  {
   "cell_type": "code",
   "execution_count": 4,
   "id": "8b9d3a57-f7c6-40b8-bc11-b24575e0e810",
   "metadata": {},
   "outputs": [],
   "source": [
    "sf_df = my_session.sql(\"select * from {}\".format(table_name))\n",
    "df = sf_df.to_pandas()"
   ]
  },
  {
   "cell_type": "code",
   "execution_count": 5,
   "id": "68e99e62-0bf8-42cf-a831-b0b41d4bf733",
   "metadata": {},
   "outputs": [
    {
     "data": {
      "text/plain": [
       "(335999, 50)"
      ]
     },
     "execution_count": 5,
     "metadata": {},
     "output_type": "execute_result"
    }
   ],
   "source": [
    "df.shape"
   ]
  },
  {
   "cell_type": "code",
   "execution_count": 6,
   "id": "6ed492b6-8336-44a2-84b2-b2788efb06f4",
   "metadata": {},
   "outputs": [],
   "source": [
    "frame = df[['MEMBER_GENDER', 'MEMBER_STATE', 'MEMBER_CONTACT_VERIFIED','FUND_TOTAL_ASSETS','FUND_RETURN_TARGET_PERCENTAGE',\n",
    "            'INVESTMENT_RISK_CATEGORY', 'CASH_BENCHMARK_ALLOCATION','FIXED_INCOME_BENCHMARK_ALLOCATION',\n",
    "            'DOMESTIC_LISTED_EQUITY_BENCHMARK_ALLOCATION','INTERNATIONAL_LISTED_EQUITY_BENCHMARK_ALLOCATION',\n",
    "            'UNLISTED_EQUITY_BENCHMARK_ALLOCATION', 'EQUITY_BENCHMARK_ALLOCATION','PROPERTY_BENCHMARK_ALLOCATION',\n",
    "            'INFRA_BENCHMARK_ALLOCATION','COMMODITIES_BENCHMARK_ALLOCATION', 'OTHERS_BENCHMARK_ALLOCATION','FUND_RISK_LEVEL', \n",
    "            'FUND_RISK_CATEGORY','NEG_NETRETURN_SINCE_INCEPTION', 'YEAR_1_RETURNS', 'YEAR_3_RETURNS','YEAR_5_RETURNS',\n",
    "            'YEAR_7_RETURNS','YEAR_10_RETURNS', 'SUPER_FEES','PENSION_FEES',\n",
    "            'INVESTMENT_AGE_GROUP', 'RETIREMENT_AGE_GROUP', 'TOTAL_FUNDS_INVESTED','CHURN_FLAG']].copy()"
   ]
  },
  {
   "cell_type": "code",
   "execution_count": 7,
   "id": "14979627-fe65-44f1-a7b3-2322f9a03d3e",
   "metadata": {},
   "outputs": [],
   "source": [
    "frame[\"CHURN_FLAG\"] = frame[\"CHURN_FLAG\"].apply(lambda x: 1 if x ==\"Y\" else 0)"
   ]
  },
  {
   "cell_type": "code",
   "execution_count": 8,
   "id": "a01cb5b8-76e0-42f4-bbf2-e732a2e45e3f",
   "metadata": {},
   "outputs": [],
   "source": [
    "numeric_features = [\"FUND_TOTAL_ASSETS\", 'FUND_RETURN_TARGET_PERCENTAGE','CASH_BENCHMARK_ALLOCATION',\n",
    "       'FIXED_INCOME_BENCHMARK_ALLOCATION','DOMESTIC_LISTED_EQUITY_BENCHMARK_ALLOCATION','INTERNATIONAL_LISTED_EQUITY_BENCHMARK_ALLOCATION',\n",
    "       'UNLISTED_EQUITY_BENCHMARK_ALLOCATION', 'EQUITY_BENCHMARK_ALLOCATION','PROPERTY_BENCHMARK_ALLOCATION', 'INFRA_BENCHMARK_ALLOCATION',\n",
    "       'COMMODITIES_BENCHMARK_ALLOCATION', 'OTHERS_BENCHMARK_ALLOCATION', 'YEAR_1_RETURNS', 'YEAR_3_RETURNS',\n",
    "       'YEAR_5_RETURNS', 'YEAR_7_RETURNS', 'YEAR_10_RETURNS', 'SUPER_FEES','PENSION_FEES',]\n",
    "numeric_transformer = Pipeline(\n",
    "    steps=[(\"imputer\", SimpleImputer(strategy=\"median\")), (\"scaler\", StandardScaler())]\n",
    ")\n",
    "\n",
    "categorical_features = [\"MEMBER_GENDER\", \"MEMBER_STATE\", \"MEMBER_CONTACT_VERIFIED\",\"INVESTMENT_RISK_CATEGORY\",'FUND_RISK_LEVEL',\n",
    "                        'FUND_RISK_CATEGORY',\"NEG_NETRETURN_SINCE_INCEPTION\", 'INVESTMENT_AGE_GROUP', 'RETIREMENT_AGE_GROUP', \"TOTAL_FUNDS_INVESTED\"]\n",
    "categorical_transformer = Pipeline(\n",
    "    steps=[\n",
    "        (\"encoder\", OneHotEncoder(handle_unknown=\"ignore\")),\n",
    "        (\"selector\", SelectPercentile(chi2, percentile=50)),\n",
    "    ]\n",
    ")\n",
    "preprocessor = ColumnTransformer(\n",
    "    transformers=[\n",
    "        (\"num\", numeric_transformer, numeric_features),\n",
    "        (\"cat\", categorical_transformer, categorical_features),\n",
    "    ]\n",
    ")"
   ]
  },
  {
   "cell_type": "code",
   "execution_count": 9,
   "id": "b1f89f5c-ec84-4486-935e-ee375497b644",
   "metadata": {},
   "outputs": [],
   "source": [
    "clf = Pipeline(\n",
    "    steps=[(\"preprocessor\", preprocessor), (\"classifier\", RandomForestClassifier(n_estimators=500, max_depth=8, \n",
    "                                                                                 max_features=0.6,\n",
    "                                                                                 bootstrap=True, max_samples=0.8))]\n",
    ")"
   ]
  },
  {
   "cell_type": "code",
   "execution_count": 10,
   "id": "eab186d9-8f34-4205-93dc-714325cdf4ef",
   "metadata": {},
   "outputs": [],
   "source": [
    "X = frame.drop(\"CHURN_FLAG\", axis=1)\n",
    "y = frame[\"CHURN_FLAG\"]\n",
    "\n",
    "X_train, X_test, y_train, y_test = train_test_split(X, y, test_size=0.2, random_state=0)"
   ]
  },
  {
   "cell_type": "code",
   "execution_count": 12,
   "id": "27d53ac6-e213-4fda-b673-2f8fae847137",
   "metadata": {},
   "outputs": [
    {
     "name": "stdout",
     "output_type": "stream",
     "text": [
      "model score: 0.983\n"
     ]
    }
   ],
   "source": [
    "clf.fit(X_train, y_train)\n",
    "print(\"model score: %.3f\" % clf.score(X_test, y_test))"
   ]
  },
  {
   "cell_type": "code",
   "execution_count": 19,
   "id": "eb874331-71ae-4b68-96bd-0bc906f7a945",
   "metadata": {},
   "outputs": [],
   "source": [
    "frame_1 = clf.predict(frame)\n",
    "df[\"CHURN_PREDICTED\"] = frame_1"
   ]
  },
  {
   "cell_type": "code",
   "execution_count": 21,
   "id": "6396157c-05e3-4ec5-baee-dd405f235b78",
   "metadata": {},
   "outputs": [
    {
     "data": {
      "text/plain": [
       "array([[0.67698521, 0.32301479],\n",
       "       [0.67011602, 0.32988398],\n",
       "       [0.52458061, 0.47541939],\n",
       "       ...,\n",
       "       [0.21784001, 0.78215999],\n",
       "       [0.39245189, 0.60754811],\n",
       "       [0.03163448, 0.96836552]])"
      ]
     },
     "execution_count": 21,
     "metadata": {},
     "output_type": "execute_result"
    }
   ],
   "source": [
    "frame_2 = clf.predict_proba(frame)"
   ]
  },
  {
   "cell_type": "code",
   "execution_count": 29,
   "id": "081b9f61-a19a-4117-88fa-5b2a3e1cd8dc",
   "metadata": {},
   "outputs": [
    {
     "data": {
      "text/plain": [
       "array([0.32301479, 0.32988398, 0.47541939, ..., 0.78215999, 0.60754811,\n",
       "       0.96836552])"
      ]
     },
     "execution_count": 29,
     "metadata": {},
     "output_type": "execute_result"
    }
   ],
   "source": [
    "frame_2[:,1]"
   ]
  },
  {
   "cell_type": "code",
   "execution_count": 15,
   "id": "589c25ec-91e1-4e12-8205-4eeef0bb1749",
   "metadata": {},
   "outputs": [
    {
     "data": {
      "text/plain": [
       "array([0, 0, 0, ..., 1, 1, 1])"
      ]
     },
     "execution_count": 15,
     "metadata": {},
     "output_type": "execute_result"
    }
   ],
   "source": [
    "frame_1"
   ]
  },
  {
   "cell_type": "code",
   "execution_count": 35,
   "id": "3b025a28-253d-437b-8d80-b4cced58dae3",
   "metadata": {},
   "outputs": [],
   "source": [
    "df[\"CHURN_PROBABILITY\"] =  frame_2[:,1]\n",
    "y_pred = frame_2[:,1]"
   ]
  },
  {
   "cell_type": "code",
   "execution_count": 31,
   "id": "a05950fb-52c2-46c6-9a1c-8b5e31efd04a",
   "metadata": {},
   "outputs": [],
   "source": [
    "from fosforml import register_model"
   ]
  },
  {
   "cell_type": "code",
   "execution_count": 32,
   "id": "5cd0d258-c72f-4e33-b276-7cbd008ba056",
   "metadata": {},
   "outputs": [],
   "source": [
    "from snowflake.ml.registry import Registry\n",
    "\n",
    "model_registry = Registry(session=my_session,\n",
    "                          database_name='FDC_Banking_FS',\n",
    "                          schema_name='BFS_SUPER_ANNU_SCHEMA'\n",
    "                         )"
   ]
  },
  {
   "cell_type": "code",
   "execution_count": 33,
   "id": "2149c2a6-b9a7-4187-a262-ab42f419998a",
   "metadata": {},
   "outputs": [
    {
     "data": {
      "text/plain": [
       "<snowflake.ml.model._client.model.model_version_impl.ModelVersion at 0x7fe010fe62e0>"
      ]
     },
     "execution_count": 33,
     "metadata": {},
     "output_type": "execute_result"
    }
   ],
   "source": [
    "model_registry.log_model(clf,\n",
    "                         model_name=\"BINARY_CHURN_CLASSIFIER\",\n",
    "                         version_name=\"v1\",\n",
    "                         comment=\"Random Forest Churn Classifier\",\n",
    "                         conda_dependencies=[\"scikit-learn==1.3.2\"],\n",
    "                         metrics=[],\n",
    "                         sample_input_data= X_train,\n",
    "                         python_version='3.9')"
   ]
  },
  {
   "cell_type": "code",
   "execution_count": 38,
   "id": "a0a09877-784a-4caa-a10a-f8e80bac1243",
   "metadata": {},
   "outputs": [],
   "source": [
    "y_pred_series = pd.Series(y_pred)\n",
    "y_pred_series.name = 'CHURN_PREDICTED'"
   ]
  },
  {
   "cell_type": "code",
   "execution_count": 40,
   "id": "51f4c2d4-2c68-4259-9e04-9c1e4f412eb1",
   "metadata": {},
   "outputs": [
    {
     "data": {
      "text/plain": [
       "'Failed to load model artifacts. EOL while scanning string literal (<string>, line 1)'"
      ]
     },
     "execution_count": 40,
     "metadata": {},
     "output_type": "execute_result"
    }
   ],
   "source": [
    "## registering the model in Fosfor Insight Designer.\n",
    "register_model(\n",
    "    model_obj=clf, \n",
    "    session=my_session,\n",
    "    x_train=X_train,\n",
    "    y_train=y_train,\n",
    "    x_test=X_test,\n",
    "    y_test=y_test,\n",
    "    y_pred=y_pred_series,\n",
    "    source=\"Notebook\",\n",
    "    dataset_name=\"MEMBER_FUNDS_ENRICHED_DETAILS\",\n",
    "    dataset_source=\"Snowflake\",\n",
    "    #dataset_source=\"InMemory\",\n",
    "    name=\"BINARY_CHURN_CLASSIFIER\",\n",
    "    description=\"Random_Forest_Churn_Classifier\",\n",
    "    flavour=\"sklearn\",\n",
    "    model_type=\"classification\",\n",
    "    conda_dependencies=[\"scikit-learn==1.3.2\"]\n",
    ")"
   ]
  },
  {
   "cell_type": "code",
   "execution_count": null,
   "id": "8f4f4b54-1bf3-4c55-9706-04b0d5cb8ffd",
   "metadata": {},
   "outputs": [],
   "source": []
  }
 ],
 "metadata": {
  "kernelspec": {
   "display_name": "Python 3 (ipykernel)",
   "language": "python",
   "name": "python3"
  },
  "language_info": {
   "codemirror_mode": {
    "name": "ipython",
    "version": 3
   },
   "file_extension": ".py",
   "mimetype": "text/x-python",
   "name": "python",
   "nbconvert_exporter": "python",
   "pygments_lexer": "ipython3",
   "version": "3.9.19"
  }
 },
 "nbformat": 4,
 "nbformat_minor": 5
}
