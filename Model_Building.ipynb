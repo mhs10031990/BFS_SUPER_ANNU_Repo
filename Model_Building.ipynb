{
 "cells": [
  {
   "cell_type": "code",
   "execution_count": 1,
   "id": "79ad1c14",
   "metadata": {
    "scrolled": true
   },
   "outputs": [
    {
     "name": "stdout",
     "output_type": "stream",
     "text": [
      "Uninstalling scikit-learn-1.2.1:\n",
      "  Successfully uninstalled scikit-learn-1.2.1\n",
      "Uninstalling joblib-1.4.2:\n",
      "  Successfully uninstalled joblib-1.4.2\n"
     ]
    }
   ],
   "source": [
    "# pip install \"snowflake-connector-python[pandas]\"\n",
    "!pip uninstall scikit-learn -y\n",
    "!pip uninstall joblib -y\n",
    "# !pip install scikit-learn==1.0.2\n",
    "# !pip install joblib==1.1.0"
   ]
  },
  {
   "cell_type": "code",
   "execution_count": 1,
   "id": "e8da035d",
   "metadata": {},
   "outputs": [
    {
     "name": "stdout",
     "output_type": "stream",
     "text": [
      "absl-py==1.4.0\n",
      "aiobotocore==2.12.1\n",
      "aiohttp==3.9.3\n",
      "aioitertools==0.11.0\n",
      "aiosignal==1.3.1\n",
      "alembic==1.13.1\n",
      "anyio==3.7.1\n",
      "archspec==0.2.3\n",
      "argon2-cffi==23.1.0\n",
      "argon2-cffi-bindings==21.2.0\n",
      "asn1crypto==1.5.1\n",
      "asttokens==2.4.1\n",
      "async-generator==1.10\n",
      "async-timeout==4.0.3\n",
      "attrs==23.2.0\n",
      "Babel==2.14.0\n",
      "beautifulsoup4==4.12.3\n",
      "bleach==4.1.0\n",
      "boltons==23.0.0\n",
      "botocore==1.34.51\n",
      "bqplot==0.12.43\n",
      "Brotli==1.0.9\n",
      "cachetools==4.2.4\n",
      "certifi==2024.7.4\n",
      "certipy==0.1.3\n",
      "cffi==1.17.0\n",
      "charset-normalizer==3.3.2\n",
      "cloudpickle==3.0.0\n",
      "comm==0.2.1\n",
      "conda==24.1.2\n",
      "conda-content-trust==0.1.3\n",
      "conda-libmamba-solver==24.1.0\n",
      "conda-package-handling==2.2.0\n",
      "conda-package-streaming==0.9.0\n",
      "configparser==7.0.0\n",
      "cryptography==42.0.8\n",
      "decorator==5.1.1\n",
      "defusedxml==0.7.1\n",
      "distro==1.8.0\n",
      "entrypoints==0.4\n",
      "exceptiongroup==1.2.0\n",
      "executing==2.0.1\n",
      "fastjsonschema==2.19.1\n",
      "filelock==3.15.4\n",
      "fosforml==1.0.1b1\n",
      "frozenlist==1.4.1\n",
      "fsspec==2023.12.2\n",
      "greenlet==3.0.3\n",
      "idna==3.7\n",
      "importlib-metadata==7.0.1\n",
      "ipykernel==5.5.5\n",
      "ipython==8.18.1\n",
      "ipython-genutils==0.2.0\n",
      "ipywidgets==8.1.2\n",
      "jedi==0.19.1\n",
      "Jinja2==3.1.3\n",
      "jmespath==1.0.1\n",
      "joblib==1.1.0\n",
      "json5==0.9.22\n",
      "jsonpatch==1.32\n",
      "jsonpointer==2.1\n",
      "jsonschema==3.2.0\n",
      "jupyter-client==8.6.0\n",
      "jupyter-core==5.7.1\n",
      "jupyter-server==2.0.0a1\n",
      "jupyter-server-terminals==0.5.2\n",
      "jupyter-telemetry==0.1.0\n",
      "jupyterhub==1.5.0\n",
      "jupyterlab==3.2.4\n",
      "jupyterlab-pygments==0.3.0\n",
      "jupyterlab-server==2.25.3\n",
      "jupyterlab-widgets==3.0.10\n",
      "libmambapy==1.5.6\n",
      "Mako==1.3.2\n",
      "MarkupSafe==2.1.5\n",
      "matplotlib-inline==0.1.6\n",
      "menuinst==2.0.2\n",
      "mistune==3.0.2\n",
      "mosaic-utils==1.0.2\n",
      "multidict==6.0.5\n",
      "nbclassic==0.5.6\n",
      "nbclient==0.5.4\n",
      "nbconvert==7.16.2\n",
      "nbformat==5.9.2\n",
      "nest-asyncio==1.6.0\n",
      "notebook==6.4.10\n",
      "notebook-shim==0.2.4\n",
      "numpy==2.0.1\n",
      "oauthlib==3.2.2\n",
      "packaging==24.1\n",
      "pamela==1.1.0\n",
      "pandas==2.2.2\n",
      "pandocfilters==1.5.1\n",
      "parso==0.8.3\n",
      "pexpect==4.9.0\n",
      "platformdirs==4.2.2\n",
      "pluggy==1.0.0\n",
      "prometheus-client==0.20.0\n",
      "prompt-toolkit==3.0.43\n",
      "ptyprocess==0.7.0\n",
      "pure-eval==0.2.2\n",
      "pyarrow==17.0.0\n",
      "pycosat==0.6.6\n",
      "pycparser==2.22\n",
      "pygments==2.17.2\n",
      "PyJWT==2.9.0\n",
      "PyMySQL==1.1.1\n",
      "pyOpenSSL==24.2.1\n",
      "pyrsistent==0.20.0\n",
      "PySocks==1.7.1\n",
      "python-dateutil==2.9.0.post0\n",
      "python-json-logger==2.0.7\n",
      "pytimeparse==1.1.8\n",
      "pytz==2024.1\n",
      "PyYAML==6.0.1\n",
      "pyzmq==25.1.2\n",
      "requests==2.32.3\n",
      "requests-toolbelt==1.0.0\n",
      "ruamel.yaml==0.16.9\n",
      "ruamel.yaml.clib==0.2.6\n",
      "s3fs==2023.12.2\n",
      "scikit-learn==1.0.2\n",
      "scipy==1.13.1\n",
      "Send2Trash==1.8.2\n",
      "shutils==0.1.0\n",
      "six==1.16.0\n",
      "sniffio==1.3.1\n",
      "snowflake-connector-python==3.12.0\n",
      "snowflake-ml-python==1.0.10\n",
      "snowflake-snowpark-python==1.5.0\n",
      "sortedcontainers==2.4.0\n",
      "soupsieve==2.5\n",
      "SQLAlchemy==2.0.28\n",
      "sqlparse==0.4.4\n",
      "stack-data==0.6.3\n",
      "terminado==0.18.0\n",
      "threadpoolctl==3.5.0\n",
      "tinycss2==1.2.1\n",
      "tomlkit==0.13.0\n",
      "tornado==6.4\n",
      "tqdm==4.65.0\n",
      "traitlets==5.9.0\n",
      "traittypes==0.2.1\n",
      "typing-extensions==4.12.2\n",
      "tzdata==2024.1\n",
      "urllib3==2.2.1\n",
      "wcwidth==0.2.13\n",
      "webencodings==0.5.1\n",
      "websocket-client==1.7.0\n",
      "widgetsnbextension==4.0.10\n",
      "wrapt==1.16.0\n",
      "xgboost==1.7.6\n",
      "yarl==1.9.4\n",
      "zipp==3.17.0\n",
      "zstandard==0.19.0\n",
      "Note: you may need to restart the kernel to use updated packages.\n"
     ]
    }
   ],
   "source": [
    "pip freeze"
   ]
  },
  {
   "cell_type": "code",
   "execution_count": 1,
   "id": "e6bd2970",
   "metadata": {},
   "outputs": [
    {
     "name": "stdout",
     "output_type": "stream",
     "text": [
      "connection successful!\n"
     ]
    }
   ],
   "source": [
    "#Snowpark lib\n",
    "from snowflake.snowpark import Session\n",
    "\n",
    "# Data Science Libs\n",
    "import numpy as np\n",
    "import pandas as pd\n",
    "\n",
    "# create_temp_table warning suppresion\n",
    "import warnings; warnings.simplefilter('ignore')\n",
    "\n",
    "#ConfigParser to read ini file\n",
    "import configparser\n",
    "\n",
    "import numpy as np\n",
    "\n",
    "from sklearn.compose import ColumnTransformer\n",
    "from sklearn.feature_selection import SelectPercentile, chi2\n",
    "from sklearn.impute import SimpleImputer\n",
    "from sklearn.linear_model import LogisticRegression\n",
    "from sklearn.ensemble import RandomForestClassifier\n",
    "from sklearn.model_selection import RandomizedSearchCV, train_test_split\n",
    "from sklearn.pipeline import Pipeline\n",
    "from sklearn.preprocessing import OneHotEncoder, StandardScaler\n",
    "from sklearn.cluster import DBSCAN\n",
    "\n",
    "np.random.seed(0)\n",
    "\n",
    "config = configparser.ConfigParser()\n",
    "config.read(\"/notebooks/notebooks/credentials.ini\")\n",
    "\n",
    "connection_parameters = {\n",
    "    \"user\": f'{config[\"Snowflake\"][\"user\"]}',\n",
    "    \"password\": f'{config[\"Snowflake\"][\"password\"]}',\n",
    "    \"account\": f'{config[\"Snowflake\"][\"account\"]}',\n",
    "    \"WAREHOUSE\": f'{config[\"Snowflake\"][\"WAREHOUSE\"]}',\n",
    "    \"DATABASE\": f'{config[\"Snowflake\"][\"DATABASE\"]}',\n",
    "    \"SCHEMA\": f'{config[\"Snowflake\"][\"SCHEMA\"]}'\n",
    "}\n",
    "\n",
    "def snowflake_connector(conn):\n",
    "    try:\n",
    "        session = Session.builder.configs(conn).create()\n",
    "        print(\"connection successful!\")\n",
    "    except:\n",
    "        raise ValueError(\"error while connecting with db\")\n",
    "    return session\n",
    "\n",
    "session = snowflake_connector(connection_parameters)"
   ]
  },
  {
   "cell_type": "code",
   "execution_count": 2,
   "id": "9d9920b1",
   "metadata": {},
   "outputs": [],
   "source": [
    "df = session.table(\"MEMBER_FUNDS_ENRICHED_DETAILS\").to_pandas()\n",
    "# df = pd.read_csv(\"/data/funds.csv\")"
   ]
  },
  {
   "cell_type": "code",
   "execution_count": 4,
   "id": "a15f6ff6",
   "metadata": {},
   "outputs": [],
   "source": [
    "# df.to_csv(\"/data/funds.csv\", index=False)"
   ]
  },
  {
   "cell_type": "markdown",
   "id": "79265970",
   "metadata": {},
   "source": [
    "NO_OF_CHURN column has almost 50% missing value, it wont be wise to impute these many values so will just drop it.                                     "
   ]
  },
  {
   "cell_type": "code",
   "execution_count": 3,
   "id": "dbadf6b7",
   "metadata": {},
   "outputs": [],
   "source": [
    "frame = df[['MEMBER_GENDER', 'MEMBER_STATE', 'MEMBER_CONTACT_VERIFIED','FUND_TOTAL_ASSETS','FUND_RETURN_TARGET_PERCENTAGE',\n",
    "            'INVESTMENT_RISK_CATEGORY', 'CASH_BENCHMARK_ALLOCATION','FIXED_INCOME_BENCHMARK_ALLOCATION',\n",
    "            'DOMESTIC_LISTED_EQUITY_BENCHMARK_ALLOCATION','INTERNATIONAL_LISTED_EQUITY_BENCHMARK_ALLOCATION',\n",
    "            'UNLISTED_EQUITY_BENCHMARK_ALLOCATION', 'EQUITY_BENCHMARK_ALLOCATION','PROPERTY_BENCHMARK_ALLOCATION',\n",
    "            'INFRA_BENCHMARK_ALLOCATION','COMMODITIES_BENCHMARK_ALLOCATION', 'OTHERS_BENCHMARK_ALLOCATION','FUND_RISK_LEVEL', \n",
    "            'FUND_RISK_CATEGORY','NEG_NETRETURN_SINCE_INCEPTION', 'YEAR_1_RETURNS', 'YEAR_3_RETURNS','YEAR_5_RETURNS',\n",
    "            'YEAR_7_RETURNS','YEAR_10_RETURNS', 'SUPER_FEES','PENSION_FEES',\n",
    "            'INVESTMENT_AGE_GROUP', 'RETIREMENT_AGE_GROUP', 'TOTAL_FUNDS_INVESTED','CHURN_FLAG']].copy()"
   ]
  },
  {
   "cell_type": "code",
   "execution_count": 4,
   "id": "8e8c14af",
   "metadata": {},
   "outputs": [],
   "source": [
    "frame[\"CHURN_FLAG\"] = frame[\"CHURN_FLAG\"].apply(lambda x: 1 if x ==\"Y\" else 0)"
   ]
  },
  {
   "cell_type": "code",
   "execution_count": 8,
   "id": "acc5ef94",
   "metadata": {},
   "outputs": [],
   "source": [
    "# frame.groupby([\"RETIREMENT_AGE_GROUP\",\"CHURN_FLAG\"])[[\"CHURN_FLAG\"]].count()"
   ]
  },
  {
   "cell_type": "markdown",
   "id": "3d87ed94",
   "metadata": {},
   "source": [
    "The distribution of CHURN is pretty common bettween the employers and hence wont contribute inn modelling"
   ]
  },
  {
   "cell_type": "code",
   "execution_count": 9,
   "id": "9141d97f",
   "metadata": {},
   "outputs": [],
   "source": [
    "# multiple = {i for i, j in dict(df[\"MEMBER_ID\"].value_counts()).items() if j > 1 }\n",
    "# multiple[multiple[\"value_counts\"]>=2].index.to_list()"
   ]
  },
  {
   "cell_type": "markdown",
   "id": "69a03707",
   "metadata": {},
   "source": [
    "# MODEL TO PREDICT CHURN"
   ]
  },
  {
   "cell_type": "code",
   "execution_count": 5,
   "id": "35aed35e",
   "metadata": {},
   "outputs": [],
   "source": [
    "numeric_features = [\"FUND_TOTAL_ASSETS\", 'FUND_RETURN_TARGET_PERCENTAGE','CASH_BENCHMARK_ALLOCATION',\n",
    "       'FIXED_INCOME_BENCHMARK_ALLOCATION','DOMESTIC_LISTED_EQUITY_BENCHMARK_ALLOCATION','INTERNATIONAL_LISTED_EQUITY_BENCHMARK_ALLOCATION',\n",
    "       'UNLISTED_EQUITY_BENCHMARK_ALLOCATION', 'EQUITY_BENCHMARK_ALLOCATION','PROPERTY_BENCHMARK_ALLOCATION', 'INFRA_BENCHMARK_ALLOCATION',\n",
    "       'COMMODITIES_BENCHMARK_ALLOCATION', 'OTHERS_BENCHMARK_ALLOCATION', 'YEAR_1_RETURNS', 'YEAR_3_RETURNS',\n",
    "       'YEAR_5_RETURNS', 'YEAR_7_RETURNS', 'YEAR_10_RETURNS', 'SUPER_FEES','PENSION_FEES',]\n",
    "numeric_transformer = Pipeline(\n",
    "    steps=[(\"imputer\", SimpleImputer(strategy=\"median\")), (\"scaler\", StandardScaler())]\n",
    ")\n",
    "\n",
    "categorical_features = [\"MEMBER_GENDER\", \"MEMBER_STATE\", \"MEMBER_CONTACT_VERIFIED\",\"INVESTMENT_RISK_CATEGORY\",'FUND_RISK_LEVEL',\n",
    "                        'FUND_RISK_CATEGORY',\"NEG_NETRETURN_SINCE_INCEPTION\", 'INVESTMENT_AGE_GROUP', 'RETIREMENT_AGE_GROUP', \"TOTAL_FUNDS_INVESTED\"]\n",
    "categorical_transformer = Pipeline(\n",
    "    steps=[\n",
    "        (\"encoder\", OneHotEncoder(handle_unknown=\"ignore\")),\n",
    "        (\"selector\", SelectPercentile(chi2, percentile=50)),\n",
    "    ]\n",
    ")\n",
    "preprocessor = ColumnTransformer(\n",
    "    transformers=[\n",
    "        (\"num\", numeric_transformer, numeric_features),\n",
    "        (\"cat\", categorical_transformer, categorical_features),\n",
    "    ]\n",
    ")"
   ]
  },
  {
   "cell_type": "code",
   "execution_count": 6,
   "id": "e0595d24",
   "metadata": {},
   "outputs": [],
   "source": [
    "clf = Pipeline(\n",
    "    steps=[(\"preprocessor\", preprocessor), (\"classifier\", RandomForestClassifier(n_estimators=500, max_depth=8, \n",
    "                                                                                 max_features=0.6,\n",
    "                                                                                 bootstrap=True, max_samples=0.8))]\n",
    ")\n",
    "\n"
   ]
  },
  {
   "cell_type": "code",
   "execution_count": 7,
   "id": "71843bc2",
   "metadata": {},
   "outputs": [],
   "source": [
    "X = frame.drop(\"CHURN_FLAG\", axis=1)\n",
    "y = frame[\"CHURN_FLAG\"]\n",
    "\n",
    "X_train, X_test, y_train, y_test = train_test_split(X, y, test_size=0.2, random_state=0)\n"
   ]
  },
  {
   "cell_type": "code",
   "execution_count": 8,
   "id": "915e4b2b",
   "metadata": {},
   "outputs": [
    {
     "name": "stdout",
     "output_type": "stream",
     "text": [
      "model score: 0.986\n"
     ]
    }
   ],
   "source": [
    "clf.fit(X_train, y_train)\n",
    "print(\"model score: %.3f\" % clf.score(X_test, y_test))"
   ]
  },
  {
   "cell_type": "code",
   "execution_count": 11,
   "id": "fa27ef14",
   "metadata": {},
   "outputs": [],
   "source": [
    "import pickle\n",
    "\n",
    "# save\n",
    "with open('churn_model_39.pkl','wb') as f:  ## use rb while reading the fie\n",
    "    pickle.dump(clf,f)"
   ]
  },
  {
   "cell_type": "code",
   "execution_count": 9,
   "id": "87cd5d1c",
   "metadata": {},
   "outputs": [
    {
     "data": {
      "text/html": [
       "<style>#sk-container-id-1 {color: black;background-color: white;}#sk-container-id-1 pre{padding: 0;}#sk-container-id-1 div.sk-toggleable {background-color: white;}#sk-container-id-1 label.sk-toggleable__label {cursor: pointer;display: block;width: 100%;margin-bottom: 0;padding: 0.3em;box-sizing: border-box;text-align: center;}#sk-container-id-1 label.sk-toggleable__label-arrow:before {content: \"▸\";float: left;margin-right: 0.25em;color: #696969;}#sk-container-id-1 label.sk-toggleable__label-arrow:hover:before {color: black;}#sk-container-id-1 div.sk-estimator:hover label.sk-toggleable__label-arrow:before {color: black;}#sk-container-id-1 div.sk-toggleable__content {max-height: 0;max-width: 0;overflow: hidden;text-align: left;background-color: #f0f8ff;}#sk-container-id-1 div.sk-toggleable__content pre {margin: 0.2em;color: black;border-radius: 0.25em;background-color: #f0f8ff;}#sk-container-id-1 input.sk-toggleable__control:checked~div.sk-toggleable__content {max-height: 200px;max-width: 100%;overflow: auto;}#sk-container-id-1 input.sk-toggleable__control:checked~label.sk-toggleable__label-arrow:before {content: \"▾\";}#sk-container-id-1 div.sk-estimator input.sk-toggleable__control:checked~label.sk-toggleable__label {background-color: #d4ebff;}#sk-container-id-1 div.sk-label input.sk-toggleable__control:checked~label.sk-toggleable__label {background-color: #d4ebff;}#sk-container-id-1 input.sk-hidden--visually {border: 0;clip: rect(1px 1px 1px 1px);clip: rect(1px, 1px, 1px, 1px);height: 1px;margin: -1px;overflow: hidden;padding: 0;position: absolute;width: 1px;}#sk-container-id-1 div.sk-estimator {font-family: monospace;background-color: #f0f8ff;border: 1px dotted black;border-radius: 0.25em;box-sizing: border-box;margin-bottom: 0.5em;}#sk-container-id-1 div.sk-estimator:hover {background-color: #d4ebff;}#sk-container-id-1 div.sk-parallel-item::after {content: \"\";width: 100%;border-bottom: 1px solid gray;flex-grow: 1;}#sk-container-id-1 div.sk-label:hover label.sk-toggleable__label {background-color: #d4ebff;}#sk-container-id-1 div.sk-serial::before {content: \"\";position: absolute;border-left: 1px solid gray;box-sizing: border-box;top: 0;bottom: 0;left: 50%;z-index: 0;}#sk-container-id-1 div.sk-serial {display: flex;flex-direction: column;align-items: center;background-color: white;padding-right: 0.2em;padding-left: 0.2em;position: relative;}#sk-container-id-1 div.sk-item {position: relative;z-index: 1;}#sk-container-id-1 div.sk-parallel {display: flex;align-items: stretch;justify-content: center;background-color: white;position: relative;}#sk-container-id-1 div.sk-item::before, #sk-container-id-1 div.sk-parallel-item::before {content: \"\";position: absolute;border-left: 1px solid gray;box-sizing: border-box;top: 0;bottom: 0;left: 50%;z-index: -1;}#sk-container-id-1 div.sk-parallel-item {display: flex;flex-direction: column;z-index: 1;position: relative;background-color: white;}#sk-container-id-1 div.sk-parallel-item:first-child::after {align-self: flex-end;width: 50%;}#sk-container-id-1 div.sk-parallel-item:last-child::after {align-self: flex-start;width: 50%;}#sk-container-id-1 div.sk-parallel-item:only-child::after {width: 0;}#sk-container-id-1 div.sk-dashed-wrapped {border: 1px dashed gray;margin: 0 0.4em 0.5em 0.4em;box-sizing: border-box;padding-bottom: 0.4em;background-color: white;}#sk-container-id-1 div.sk-label label {font-family: monospace;font-weight: bold;display: inline-block;line-height: 1.2em;}#sk-container-id-1 div.sk-label-container {text-align: center;}#sk-container-id-1 div.sk-container {/* jupyter's `normalize.less` sets `[hidden] { display: none; }` but bootstrap.min.css set `[hidden] { display: none !important; }` so we also need the `!important` here to be able to override the default hidden behavior on the sphinx rendered scikit-learn.org. See: https://github.com/scikit-learn/scikit-learn/issues/21755 */display: inline-block !important;position: relative;}#sk-container-id-1 div.sk-text-repr-fallback {display: none;}</style><div id=\"sk-container-id-1\" class=\"sk-top-container\"><div class=\"sk-text-repr-fallback\"><pre>Pipeline(steps=[(&#x27;preprocessor&#x27;,\n",
       "                 ColumnTransformer(transformers=[(&#x27;num&#x27;,\n",
       "                                                  Pipeline(steps=[(&#x27;imputer&#x27;,\n",
       "                                                                   SimpleImputer(strategy=&#x27;median&#x27;)),\n",
       "                                                                  (&#x27;scaler&#x27;,\n",
       "                                                                   StandardScaler())]),\n",
       "                                                  [&#x27;FUND_TOTAL_ASSETS&#x27;,\n",
       "                                                   &#x27;FUND_RETURN_TARGET_PERCENTAGE&#x27;,\n",
       "                                                   &#x27;CASH_BENCHMARK_ALLOCATION&#x27;,\n",
       "                                                   &#x27;FIXED_INCOME_BENCHMARK_ALLOCATION&#x27;,\n",
       "                                                   &#x27;DOMESTIC_LISTED_EQUITY_BENCHMARK_ALLOCATION&#x27;,\n",
       "                                                   &#x27;INTERNATIONAL_LISTED_EQU...\n",
       "                                                                                    score_func=&lt;function chi2 at 0x7ff6eb84fdc0&gt;))]),\n",
       "                                                  [&#x27;MEMBER_GENDER&#x27;,\n",
       "                                                   &#x27;MEMBER_STATE&#x27;,\n",
       "                                                   &#x27;MEMBER_CONTACT_VERIFIED&#x27;,\n",
       "                                                   &#x27;INVESTMENT_RISK_CATEGORY&#x27;,\n",
       "                                                   &#x27;FUND_RISK_LEVEL&#x27;,\n",
       "                                                   &#x27;FUND_RISK_CATEGORY&#x27;,\n",
       "                                                   &#x27;NEG_NETRETURN_SINCE_INCEPTION&#x27;,\n",
       "                                                   &#x27;INVESTMENT_AGE_GROUP&#x27;,\n",
       "                                                   &#x27;RETIREMENT_AGE_GROUP&#x27;,\n",
       "                                                   &#x27;TOTAL_FUNDS_INVESTED&#x27;])])),\n",
       "                (&#x27;classifier&#x27;,\n",
       "                 RandomForestClassifier(max_depth=8, max_features=0.6,\n",
       "                                        max_samples=0.8, n_estimators=500))])</pre><b>In a Jupyter environment, please rerun this cell to show the HTML representation or trust the notebook. <br />On GitHub, the HTML representation is unable to render, please try loading this page with nbviewer.org.</b></div><div class=\"sk-container\" hidden><div class=\"sk-item sk-dashed-wrapped\"><div class=\"sk-label-container\"><div class=\"sk-label sk-toggleable\"><input class=\"sk-toggleable__control sk-hidden--visually\" id=\"sk-estimator-id-1\" type=\"checkbox\" ><label for=\"sk-estimator-id-1\" class=\"sk-toggleable__label sk-toggleable__label-arrow\">Pipeline</label><div class=\"sk-toggleable__content\"><pre>Pipeline(steps=[(&#x27;preprocessor&#x27;,\n",
       "                 ColumnTransformer(transformers=[(&#x27;num&#x27;,\n",
       "                                                  Pipeline(steps=[(&#x27;imputer&#x27;,\n",
       "                                                                   SimpleImputer(strategy=&#x27;median&#x27;)),\n",
       "                                                                  (&#x27;scaler&#x27;,\n",
       "                                                                   StandardScaler())]),\n",
       "                                                  [&#x27;FUND_TOTAL_ASSETS&#x27;,\n",
       "                                                   &#x27;FUND_RETURN_TARGET_PERCENTAGE&#x27;,\n",
       "                                                   &#x27;CASH_BENCHMARK_ALLOCATION&#x27;,\n",
       "                                                   &#x27;FIXED_INCOME_BENCHMARK_ALLOCATION&#x27;,\n",
       "                                                   &#x27;DOMESTIC_LISTED_EQUITY_BENCHMARK_ALLOCATION&#x27;,\n",
       "                                                   &#x27;INTERNATIONAL_LISTED_EQU...\n",
       "                                                                                    score_func=&lt;function chi2 at 0x7ff6eb84fdc0&gt;))]),\n",
       "                                                  [&#x27;MEMBER_GENDER&#x27;,\n",
       "                                                   &#x27;MEMBER_STATE&#x27;,\n",
       "                                                   &#x27;MEMBER_CONTACT_VERIFIED&#x27;,\n",
       "                                                   &#x27;INVESTMENT_RISK_CATEGORY&#x27;,\n",
       "                                                   &#x27;FUND_RISK_LEVEL&#x27;,\n",
       "                                                   &#x27;FUND_RISK_CATEGORY&#x27;,\n",
       "                                                   &#x27;NEG_NETRETURN_SINCE_INCEPTION&#x27;,\n",
       "                                                   &#x27;INVESTMENT_AGE_GROUP&#x27;,\n",
       "                                                   &#x27;RETIREMENT_AGE_GROUP&#x27;,\n",
       "                                                   &#x27;TOTAL_FUNDS_INVESTED&#x27;])])),\n",
       "                (&#x27;classifier&#x27;,\n",
       "                 RandomForestClassifier(max_depth=8, max_features=0.6,\n",
       "                                        max_samples=0.8, n_estimators=500))])</pre></div></div></div><div class=\"sk-serial\"><div class=\"sk-item sk-dashed-wrapped\"><div class=\"sk-label-container\"><div class=\"sk-label sk-toggleable\"><input class=\"sk-toggleable__control sk-hidden--visually\" id=\"sk-estimator-id-2\" type=\"checkbox\" ><label for=\"sk-estimator-id-2\" class=\"sk-toggleable__label sk-toggleable__label-arrow\">preprocessor: ColumnTransformer</label><div class=\"sk-toggleable__content\"><pre>ColumnTransformer(transformers=[(&#x27;num&#x27;,\n",
       "                                 Pipeline(steps=[(&#x27;imputer&#x27;,\n",
       "                                                  SimpleImputer(strategy=&#x27;median&#x27;)),\n",
       "                                                 (&#x27;scaler&#x27;, StandardScaler())]),\n",
       "                                 [&#x27;FUND_TOTAL_ASSETS&#x27;,\n",
       "                                  &#x27;FUND_RETURN_TARGET_PERCENTAGE&#x27;,\n",
       "                                  &#x27;CASH_BENCHMARK_ALLOCATION&#x27;,\n",
       "                                  &#x27;FIXED_INCOME_BENCHMARK_ALLOCATION&#x27;,\n",
       "                                  &#x27;DOMESTIC_LISTED_EQUITY_BENCHMARK_ALLOCATION&#x27;,\n",
       "                                  &#x27;INTERNATIONAL_LISTED_EQUITY_BENCHMARK_ALLOCATION&#x27;,\n",
       "                                  &#x27;UNLIS...\n",
       "                                                  OneHotEncoder(handle_unknown=&#x27;ignore&#x27;)),\n",
       "                                                 (&#x27;selector&#x27;,\n",
       "                                                  SelectPercentile(percentile=50,\n",
       "                                                                   score_func=&lt;function chi2 at 0x7ff6eb84fdc0&gt;))]),\n",
       "                                 [&#x27;MEMBER_GENDER&#x27;, &#x27;MEMBER_STATE&#x27;,\n",
       "                                  &#x27;MEMBER_CONTACT_VERIFIED&#x27;,\n",
       "                                  &#x27;INVESTMENT_RISK_CATEGORY&#x27;, &#x27;FUND_RISK_LEVEL&#x27;,\n",
       "                                  &#x27;FUND_RISK_CATEGORY&#x27;,\n",
       "                                  &#x27;NEG_NETRETURN_SINCE_INCEPTION&#x27;,\n",
       "                                  &#x27;INVESTMENT_AGE_GROUP&#x27;,\n",
       "                                  &#x27;RETIREMENT_AGE_GROUP&#x27;,\n",
       "                                  &#x27;TOTAL_FUNDS_INVESTED&#x27;])])</pre></div></div></div><div class=\"sk-parallel\"><div class=\"sk-parallel-item\"><div class=\"sk-item\"><div class=\"sk-label-container\"><div class=\"sk-label sk-toggleable\"><input class=\"sk-toggleable__control sk-hidden--visually\" id=\"sk-estimator-id-3\" type=\"checkbox\" ><label for=\"sk-estimator-id-3\" class=\"sk-toggleable__label sk-toggleable__label-arrow\">num</label><div class=\"sk-toggleable__content\"><pre>[&#x27;FUND_TOTAL_ASSETS&#x27;, &#x27;FUND_RETURN_TARGET_PERCENTAGE&#x27;, &#x27;CASH_BENCHMARK_ALLOCATION&#x27;, &#x27;FIXED_INCOME_BENCHMARK_ALLOCATION&#x27;, &#x27;DOMESTIC_LISTED_EQUITY_BENCHMARK_ALLOCATION&#x27;, &#x27;INTERNATIONAL_LISTED_EQUITY_BENCHMARK_ALLOCATION&#x27;, &#x27;UNLISTED_EQUITY_BENCHMARK_ALLOCATION&#x27;, &#x27;EQUITY_BENCHMARK_ALLOCATION&#x27;, &#x27;PROPERTY_BENCHMARK_ALLOCATION&#x27;, &#x27;INFRA_BENCHMARK_ALLOCATION&#x27;, &#x27;COMMODITIES_BENCHMARK_ALLOCATION&#x27;, &#x27;OTHERS_BENCHMARK_ALLOCATION&#x27;, &#x27;YEAR_1_RETURNS&#x27;, &#x27;YEAR_3_RETURNS&#x27;, &#x27;YEAR_5_RETURNS&#x27;, &#x27;YEAR_7_RETURNS&#x27;, &#x27;YEAR_10_RETURNS&#x27;, &#x27;SUPER_FEES&#x27;, &#x27;PENSION_FEES&#x27;]</pre></div></div></div><div class=\"sk-serial\"><div class=\"sk-item\"><div class=\"sk-serial\"><div class=\"sk-item\"><div class=\"sk-estimator sk-toggleable\"><input class=\"sk-toggleable__control sk-hidden--visually\" id=\"sk-estimator-id-4\" type=\"checkbox\" ><label for=\"sk-estimator-id-4\" class=\"sk-toggleable__label sk-toggleable__label-arrow\">SimpleImputer</label><div class=\"sk-toggleable__content\"><pre>SimpleImputer(strategy=&#x27;median&#x27;)</pre></div></div></div><div class=\"sk-item\"><div class=\"sk-estimator sk-toggleable\"><input class=\"sk-toggleable__control sk-hidden--visually\" id=\"sk-estimator-id-5\" type=\"checkbox\" ><label for=\"sk-estimator-id-5\" class=\"sk-toggleable__label sk-toggleable__label-arrow\">StandardScaler</label><div class=\"sk-toggleable__content\"><pre>StandardScaler()</pre></div></div></div></div></div></div></div></div><div class=\"sk-parallel-item\"><div class=\"sk-item\"><div class=\"sk-label-container\"><div class=\"sk-label sk-toggleable\"><input class=\"sk-toggleable__control sk-hidden--visually\" id=\"sk-estimator-id-6\" type=\"checkbox\" ><label for=\"sk-estimator-id-6\" class=\"sk-toggleable__label sk-toggleable__label-arrow\">cat</label><div class=\"sk-toggleable__content\"><pre>[&#x27;MEMBER_GENDER&#x27;, &#x27;MEMBER_STATE&#x27;, &#x27;MEMBER_CONTACT_VERIFIED&#x27;, &#x27;INVESTMENT_RISK_CATEGORY&#x27;, &#x27;FUND_RISK_LEVEL&#x27;, &#x27;FUND_RISK_CATEGORY&#x27;, &#x27;NEG_NETRETURN_SINCE_INCEPTION&#x27;, &#x27;INVESTMENT_AGE_GROUP&#x27;, &#x27;RETIREMENT_AGE_GROUP&#x27;, &#x27;TOTAL_FUNDS_INVESTED&#x27;]</pre></div></div></div><div class=\"sk-serial\"><div class=\"sk-item\"><div class=\"sk-serial\"><div class=\"sk-item\"><div class=\"sk-estimator sk-toggleable\"><input class=\"sk-toggleable__control sk-hidden--visually\" id=\"sk-estimator-id-7\" type=\"checkbox\" ><label for=\"sk-estimator-id-7\" class=\"sk-toggleable__label sk-toggleable__label-arrow\">OneHotEncoder</label><div class=\"sk-toggleable__content\"><pre>OneHotEncoder(handle_unknown=&#x27;ignore&#x27;)</pre></div></div></div><div class=\"sk-item\"><div class=\"sk-estimator sk-toggleable\"><input class=\"sk-toggleable__control sk-hidden--visually\" id=\"sk-estimator-id-8\" type=\"checkbox\" ><label for=\"sk-estimator-id-8\" class=\"sk-toggleable__label sk-toggleable__label-arrow\">SelectPercentile</label><div class=\"sk-toggleable__content\"><pre>SelectPercentile(percentile=50, score_func=&lt;function chi2 at 0x7ff6eb84fdc0&gt;)</pre></div></div></div></div></div></div></div></div></div></div><div class=\"sk-item\"><div class=\"sk-estimator sk-toggleable\"><input class=\"sk-toggleable__control sk-hidden--visually\" id=\"sk-estimator-id-9\" type=\"checkbox\" ><label for=\"sk-estimator-id-9\" class=\"sk-toggleable__label sk-toggleable__label-arrow\">RandomForestClassifier</label><div class=\"sk-toggleable__content\"><pre>RandomForestClassifier(max_depth=8, max_features=0.6, max_samples=0.8,\n",
       "                       n_estimators=500)</pre></div></div></div></div></div></div></div>"
      ],
      "text/plain": [
       "Pipeline(steps=[('preprocessor',\n",
       "                 ColumnTransformer(transformers=[('num',\n",
       "                                                  Pipeline(steps=[('imputer',\n",
       "                                                                   SimpleImputer(strategy='median')),\n",
       "                                                                  ('scaler',\n",
       "                                                                   StandardScaler())]),\n",
       "                                                  ['FUND_TOTAL_ASSETS',\n",
       "                                                   'FUND_RETURN_TARGET_PERCENTAGE',\n",
       "                                                   'CASH_BENCHMARK_ALLOCATION',\n",
       "                                                   'FIXED_INCOME_BENCHMARK_ALLOCATION',\n",
       "                                                   'DOMESTIC_LISTED_EQUITY_BENCHMARK_ALLOCATION',\n",
       "                                                   'INTERNATIONAL_LISTED_EQU...\n",
       "                                                                                    score_func=<function chi2 at 0x7ff6eb84fdc0>))]),\n",
       "                                                  ['MEMBER_GENDER',\n",
       "                                                   'MEMBER_STATE',\n",
       "                                                   'MEMBER_CONTACT_VERIFIED',\n",
       "                                                   'INVESTMENT_RISK_CATEGORY',\n",
       "                                                   'FUND_RISK_LEVEL',\n",
       "                                                   'FUND_RISK_CATEGORY',\n",
       "                                                   'NEG_NETRETURN_SINCE_INCEPTION',\n",
       "                                                   'INVESTMENT_AGE_GROUP',\n",
       "                                                   'RETIREMENT_AGE_GROUP',\n",
       "                                                   'TOTAL_FUNDS_INVESTED'])])),\n",
       "                ('classifier',\n",
       "                 RandomForestClassifier(max_depth=8, max_features=0.6,\n",
       "                                        max_samples=0.8, n_estimators=500))])"
      ]
     },
     "execution_count": 9,
     "metadata": {},
     "output_type": "execute_result"
    }
   ],
   "source": [
    "clf"
   ]
  },
  {
   "cell_type": "code",
   "execution_count": 10,
   "id": "6e1d5877",
   "metadata": {},
   "outputs": [],
   "source": [
    "frame = clf.predict(frame)\n",
    "df[\"CHURN_PREDICTED\"] = frame"
   ]
  },
  {
   "cell_type": "markdown",
   "id": "0feee50a",
   "metadata": {},
   "source": [
    "# MODEL_REASON"
   ]
  },
  {
   "cell_type": "code",
   "execution_count": 12,
   "id": "a81c46df",
   "metadata": {},
   "outputs": [],
   "source": [
    "df[\"unique_id\"] = [i for i in range(df.shape[0])]"
   ]
  },
  {
   "cell_type": "code",
   "execution_count": 13,
   "id": "c1cd82a7",
   "metadata": {},
   "outputs": [],
   "source": [
    "churned = df[df[\"CHURN_FLAG\"] == \"Y\"]"
   ]
  },
  {
   "cell_type": "code",
   "execution_count": 14,
   "id": "5edf0d40",
   "metadata": {},
   "outputs": [
    {
     "data": {
      "text/html": [
       "<div>\n",
       "<style scoped>\n",
       "    .dataframe tbody tr th:only-of-type {\n",
       "        vertical-align: middle;\n",
       "    }\n",
       "\n",
       "    .dataframe tbody tr th {\n",
       "        vertical-align: top;\n",
       "    }\n",
       "\n",
       "    .dataframe thead th {\n",
       "        text-align: right;\n",
       "    }\n",
       "</style>\n",
       "<table border=\"1\" class=\"dataframe\">\n",
       "  <thead>\n",
       "    <tr style=\"text-align: right;\">\n",
       "      <th></th>\n",
       "      <th>CHURN_REASON</th>\n",
       "    </tr>\n",
       "    <tr>\n",
       "      <th>CHURN_REASON</th>\n",
       "      <th></th>\n",
       "    </tr>\n",
       "  </thead>\n",
       "  <tbody>\n",
       "    <tr>\n",
       "      <th>FUND REPUTATION DECLINING</th>\n",
       "      <td>29.070673</td>\n",
       "    </tr>\n",
       "    <tr>\n",
       "      <th>HIGH ACCOUNT FEE</th>\n",
       "      <td>16.143163</td>\n",
       "    </tr>\n",
       "    <tr>\n",
       "      <th>HIGH TRANSACTION FEE</th>\n",
       "      <td>21.015857</td>\n",
       "    </tr>\n",
       "    <tr>\n",
       "      <th>LIFE EVENT</th>\n",
       "      <td>5.547624</td>\n",
       "    </tr>\n",
       "    <tr>\n",
       "      <th>NO REASON IDENTIFIED</th>\n",
       "      <td>25.771735</td>\n",
       "    </tr>\n",
       "    <tr>\n",
       "      <th>POOR FUND PERFORMANCE</th>\n",
       "      <td>2.450949</td>\n",
       "    </tr>\n",
       "  </tbody>\n",
       "</table>\n",
       "</div>"
      ],
      "text/plain": [
       "                           CHURN_REASON\n",
       "CHURN_REASON                           \n",
       "FUND REPUTATION DECLINING     29.070673\n",
       "HIGH ACCOUNT FEE              16.143163\n",
       "HIGH TRANSACTION FEE          21.015857\n",
       "LIFE EVENT                     5.547624\n",
       "NO REASON IDENTIFIED          25.771735\n",
       "POOR FUND PERFORMANCE          2.450949"
      ]
     },
     "execution_count": 14,
     "metadata": {},
     "output_type": "execute_result"
    }
   ],
   "source": [
    "churned.groupby([\"CHURN_REASON\"])[[\"CHURN_REASON\"]].count() / churned.shape[0]*100"
   ]
  },
  {
   "cell_type": "code",
   "execution_count": 15,
   "id": "b6b45e3c",
   "metadata": {},
   "outputs": [],
   "source": [
    "from sklearn.multiclass import OneVsRestClassifier\n",
    "from sklearn.linear_model import LogisticRegression"
   ]
  },
  {
   "cell_type": "code",
   "execution_count": 16,
   "id": "857578bf",
   "metadata": {},
   "outputs": [],
   "source": [
    "# frame_id = churned[[\"FUND_ID\",\"\"]]\n",
    "frame = churned[['MEMBER_GENDER', 'MEMBER_STATE', 'MEMBER_CONTACT_VERIFIED','FUND_TOTAL_ASSETS','FUND_RETURN_TARGET_PERCENTAGE',\n",
    "            'INVESTMENT_RISK_CATEGORY', 'CASH_BENCHMARK_ALLOCATION','FIXED_INCOME_BENCHMARK_ALLOCATION',\n",
    "            'DOMESTIC_LISTED_EQUITY_BENCHMARK_ALLOCATION','INTERNATIONAL_LISTED_EQUITY_BENCHMARK_ALLOCATION',\n",
    "            'UNLISTED_EQUITY_BENCHMARK_ALLOCATION', 'EQUITY_BENCHMARK_ALLOCATION','PROPERTY_BENCHMARK_ALLOCATION',\n",
    "            'INFRA_BENCHMARK_ALLOCATION','COMMODITIES_BENCHMARK_ALLOCATION', 'OTHERS_BENCHMARK_ALLOCATION','FUND_RISK_LEVEL', \n",
    "            'FUND_RISK_CATEGORY','NEG_NETRETURN_SINCE_INCEPTION', 'YEAR_1_RETURNS', 'YEAR_3_RETURNS','YEAR_5_RETURNS',\n",
    "            'YEAR_7_RETURNS','YEAR_10_RETURNS', 'SUPER_FEES','PENSION_FEES',\n",
    "            'INVESTMENT_AGE_GROUP', 'RETIREMENT_AGE_GROUP', 'TOTAL_FUNDS_INVESTED',\"CHURN_REASON\"]].copy()"
   ]
  },
  {
   "cell_type": "code",
   "execution_count": 17,
   "id": "4d072b7a",
   "metadata": {},
   "outputs": [],
   "source": [
    "churn_reason_dic = {reason:i for i, reason in enumerate(churned[\"CHURN_REASON\"].unique())}\n",
    "frame[\"CHURN_REASON\"] = frame[\"CHURN_REASON\"].apply(lambda x: churn_reason_dic[x])"
   ]
  },
  {
   "cell_type": "code",
   "execution_count": 18,
   "id": "21d45cfe",
   "metadata": {},
   "outputs": [],
   "source": [
    "numeric_features = [\"FUND_TOTAL_ASSETS\", 'FUND_RETURN_TARGET_PERCENTAGE','CASH_BENCHMARK_ALLOCATION',\n",
    "       'FIXED_INCOME_BENCHMARK_ALLOCATION','DOMESTIC_LISTED_EQUITY_BENCHMARK_ALLOCATION','INTERNATIONAL_LISTED_EQUITY_BENCHMARK_ALLOCATION',\n",
    "       'UNLISTED_EQUITY_BENCHMARK_ALLOCATION', 'EQUITY_BENCHMARK_ALLOCATION','PROPERTY_BENCHMARK_ALLOCATION', 'INFRA_BENCHMARK_ALLOCATION',\n",
    "       'COMMODITIES_BENCHMARK_ALLOCATION', 'OTHERS_BENCHMARK_ALLOCATION', 'YEAR_1_RETURNS', 'YEAR_3_RETURNS',\n",
    "       'YEAR_5_RETURNS', 'YEAR_7_RETURNS', 'YEAR_10_RETURNS', 'SUPER_FEES','PENSION_FEES',]\n",
    "numeric_transformer = Pipeline(\n",
    "    steps=[(\"imputer\", SimpleImputer(strategy=\"median\")), (\"scaler\", StandardScaler())]\n",
    ")\n",
    "\n",
    "categorical_features = [\"MEMBER_GENDER\", \"MEMBER_STATE\", \"MEMBER_CONTACT_VERIFIED\",\"INVESTMENT_RISK_CATEGORY\",'FUND_RISK_LEVEL',\n",
    "                        'FUND_RISK_CATEGORY',\"NEG_NETRETURN_SINCE_INCEPTION\", 'INVESTMENT_AGE_GROUP', 'RETIREMENT_AGE_GROUP', \"TOTAL_FUNDS_INVESTED\"]\n",
    "categorical_transformer = Pipeline(\n",
    "    steps=[\n",
    "        (\"encoder\", OneHotEncoder(handle_unknown=\"ignore\")),\n",
    "        (\"selector\", SelectPercentile(chi2, percentile=50)),\n",
    "    ]\n",
    ")\n",
    "preprocessor = ColumnTransformer(\n",
    "    transformers=[\n",
    "        (\"num\", numeric_transformer, numeric_features),\n",
    "        (\"cat\", categorical_transformer, categorical_features),\n",
    "    ]\n",
    ")"
   ]
  },
  {
   "cell_type": "code",
   "execution_count": 19,
   "id": "0c67eae5",
   "metadata": {},
   "outputs": [
    {
     "name": "stdout",
     "output_type": "stream",
     "text": [
      "(73963, 29)\n",
      "model score: 1.000\n"
     ]
    }
   ],
   "source": [
    "multi_lable_clf = OneVsRestClassifier(RandomForestClassifier(n_estimators=500, max_depth=8, max_features=0.6, bootstrap=True,\n",
    "                                                             max_samples=0.8))\n",
    "clf2 = Pipeline(\n",
    "    steps=[(\"preprocessor\", preprocessor), (\"classifier\", multi_lable_clf)]\n",
    ")\n",
    "\n",
    "\n",
    "X = frame.drop(\"CHURN_REASON\", axis=1)\n",
    "y = frame[\"CHURN_REASON\"]\n",
    "\n",
    "X_train, X_test, y_train, y_test = train_test_split(X, y, test_size=0.2, random_state=0)\n",
    "print(X_train.shape)\n",
    "\n",
    "clf2.fit(X_train, y_train)\n",
    "print(\"model score: %.3f\" % clf2.score(X_test, y_test))"
   ]
  },
  {
   "cell_type": "code",
   "execution_count": 20,
   "id": "b774a17b",
   "metadata": {},
   "outputs": [],
   "source": [
    "frame_pred = clf2.predict(frame)\n",
    "churned[\"CHURN_REASON_PREDICTED\"] = frame_pred"
   ]
  },
  {
   "cell_type": "code",
   "execution_count": 21,
   "id": "70187d06",
   "metadata": {},
   "outputs": [],
   "source": [
    "import pickle\n",
    "\n",
    "# save\n",
    "with open('reason_model.pkl','wb') as f:  ## use rb while reading the fie\n",
    "    pickle.dump(clf2,f)"
   ]
  },
  {
   "cell_type": "code",
   "execution_count": 22,
   "id": "de5f9d69",
   "metadata": {},
   "outputs": [],
   "source": [
    "rev_churn_dic = {val:key for key, val in churn_reason_dic.items()}\n",
    "temp_df = df[[\"unique_id\"]]\n",
    "temp_churned = churned[[\"unique_id\", \"CHURN_REASON_PREDICTED\"]]\n",
    "temp_df = pd.merge(temp_df, temp_churned, on=\"unique_id\", how=\"left\")\n",
    "    \n",
    "    \n",
    "temp_df = temp_df.replace(np.nan, \"Not Applicable\")\n",
    "temp_df[\"CHURN_REASON_PREDICTED\"] = temp_df[\"CHURN_REASON_PREDICTED\"].apply(lambda  x: rev_churn_dic[int(x)] if x !=  \"Not Applicable\" else x)\n",
    "df[\"CHURN_REASON_PREDICTED\"] = temp_df[\"CHURN_REASON_PREDICTED\"]"
   ]
  },
  {
   "cell_type": "markdown",
   "id": "4bc2b5bd",
   "metadata": {},
   "source": [
    "# FUND RECOMMENDATION"
   ]
  },
  {
   "cell_type": "code",
   "execution_count": 23,
   "id": "9c3836d6",
   "metadata": {},
   "outputs": [],
   "source": [
    "fund_allocation = session.table(\"FUND_ALLOCATION_MASTER\").to_pandas()\n",
    "fund_master = session.table(\"FUND_MASTER\").to_pandas()\n",
    "fund_performance = session.table(\"FUND_PERFORMANCE_MASTER\").to_pandas()"
   ]
  },
  {
   "cell_type": "code",
   "execution_count": 24,
   "id": "2c1f6c72",
   "metadata": {},
   "outputs": [],
   "source": [
    "fund = pd.merge(fund_allocation, fund_master, on=\"FUND_ID\")\n",
    "fund_total = pd.merge(fund, fund_performance, on=\"FUND_ID\")\n",
    "fund_charge = [float(i) for i in fund_total[\"FUND_FEES_CHARGES\"] if i != 'Not Available']\n",
    "avg_fund_charge = sum(fund_charge) / len(fund_charge)\n",
    "\n",
    "fund_total[\"FUND_FEES_CHARGES\"] = fund_total[\"FUND_FEES_CHARGES\"].apply(lambda x: avg_fund_charge if x == 'Not Available' else x)\n",
    "fund_total[\"FUND_FEES_CHARGES\"] = fund_total[\"FUND_FEES_CHARGES\"].astype(float) \n",
    "\n",
    "fund_meta = fund_total[[\"FUND_ID\",\"FUNDNAME\"]]\n",
    "fund_cluster = fund_total.drop([\"FUND_ID\",\"FUNDNAME\",\"FUND_NAME_y\",\"FUND_TRUSTEE\",\"FUND_INCEPTION_DATE\"], axis=1)"
   ]
  },
  {
   "cell_type": "code",
   "execution_count": 25,
   "id": "6a0b6acf",
   "metadata": {},
   "outputs": [],
   "source": [
    "fund_data = pd.get_dummies(fund_cluster)\n",
    "\n",
    "fund_data = fund_data.replace(False, 0)\n",
    "fund_data = fund_data.replace(True, 1)"
   ]
  },
  {
   "cell_type": "code",
   "execution_count": 26,
   "id": "69966241",
   "metadata": {},
   "outputs": [],
   "source": [
    "clustering = DBSCAN(eps=2, min_samples=3).fit(fund_data)"
   ]
  },
  {
   "cell_type": "code",
   "execution_count": 27,
   "id": "5c7132b6",
   "metadata": {},
   "outputs": [],
   "source": [
    "fund_total[\"cluster\"] = clustering.labels_\n",
    "fund_total[\"avg_return\"] = fund_total[[\"YEAR_1_RETURNS\",\"YEAR_3_RETURNS\",\n",
    "                                 \"YEAR_5_RETURNS\",\"YEAR_7_RETURNS\",\n",
    "                                 \"YEAR_10_RETURNS\"]].apply(lambda x:\n",
    "                                                        (x[0] + (0.9*x[1]) + (0.75*x[2]) + (0.6*x[3]) + (0.55*x[4]))/5, axis=1)"
   ]
  },
  {
   "cell_type": "code",
   "execution_count": 28,
   "id": "67846c76",
   "metadata": {},
   "outputs": [
    {
     "name": "stdout",
     "output_type": "stream",
     "text": [
      "9\n"
     ]
    }
   ],
   "source": [
    "def recommendation(fund_id, reason):\n",
    "    if reason == 'NO REASON IDENTIFIED' or reason == \"NOT APPLICABLE\":\n",
    "        return \"Not Applicable\"\n",
    "    elif reason == 'HIGH ACCOUNT FEE' or reason == 'HIGH TRANSACTION FEE':\n",
    "        clus_frame = fund_total[fund_total[\"FUND_ID\"] == fund_id]\n",
    "        clus = list(clus_frame[\"cluster\"])[0]\n",
    "        clus_frame[\"charge\"] = clus_frame[[\"SUPER_FEES\",\"PENSION_FEES\",\"FUND_FEES_CHARGES\"]].apply(lambda x: (x[0]+x[1]+x[2])/3, axis=1)\n",
    "        total_charge = list(clus_frame[\"charge\"])[0]\n",
    "        group = fund_total[fund_total[\"cluster\"] == clus]\n",
    "        group[\"avg_fee\"] = group[[\"SUPER_FEES\",\"PENSION_FEES\",\"FUND_FEES_CHARGES\"]].apply(lambda x: (x[0]+x[1]+x[2])/3, axis=1)\n",
    "        group[\"rec\"] = group[\"avg_fee\"].apply(lambda x: 1 if x < total_charge else 0)\n",
    "        group = group.sort_values(\"avg_return\")\n",
    "        recommendations = list(group[group[\"rec\"] == 1][\"FUND_ID\"])\n",
    "        if fund_id in recommendations:\n",
    "            recommendations.remove(fund_id)\n",
    "        recommendations = recommendations[:5]\n",
    "        if len(recommendations) >= 1:\n",
    "            recommendations = np.random.choice(recommendations,1)[0]\n",
    "        else:\n",
    "            return \"Not Applicable\"\n",
    "        return recommendations\n",
    "\n",
    "    elif reason == 'FUND REPUTATION DECLINING' or reason == 'POOR FUND PERFORMANCE':\n",
    "        clus_frame = fund_total[fund_total[\"FUND_ID\"] == fund_id]\n",
    "        clus = list(clus_frame[\"cluster\"])[0]\n",
    "        group = fund_total[fund_total[\"cluster\"] == clus]\n",
    "        group = group.sort_values(\"avg_return\")\n",
    "        recommendations = list(group[\"FUND_ID\"])\n",
    "        if fund_id in recommendations:\n",
    "            recommendations.remove(fund_id)\n",
    "        recommendations = recommendations[:5]\n",
    "        if len(recommendations) >= 1:\n",
    "            recommendations = np.random.choice(recommendations,1)[0]\n",
    "        else:\n",
    "            return \"Not Applicable\"\n",
    "        return recommendations\n",
    "    \n",
    "    else:\n",
    "        return \"Not Applicable\"\n",
    "        \n",
    "            \n",
    "            \n",
    "            \n",
    "rec = recommendation(\"FID000014\",\"HIGH ACCOUNT FEE\")\n",
    "print(len(rec))"
   ]
  },
  {
   "cell_type": "code",
   "execution_count": 29,
   "id": "01b77fa2",
   "metadata": {},
   "outputs": [
    {
     "data": {
      "text/plain": [
       "'FID000016'"
      ]
     },
     "execution_count": 29,
     "metadata": {},
     "output_type": "execute_result"
    }
   ],
   "source": [
    "rec"
   ]
  },
  {
   "cell_type": "code",
   "execution_count": 30,
   "id": "42f936ec",
   "metadata": {},
   "outputs": [],
   "source": [
    "from tqdm import tqdm"
   ]
  },
  {
   "cell_type": "code",
   "execution_count": 31,
   "id": "b1bea31c",
   "metadata": {},
   "outputs": [
    {
     "name": "stderr",
     "output_type": "stream",
     "text": [
      "335999it [06:36, 847.89it/s] \n"
     ]
    }
   ],
   "source": [
    "rec_fund = []\n",
    "for fund_id, f_reason, churn in tqdm(zip(df[\"FUND_ID\"], df[\"CHURN_REASON\"], df[\"CHURN_PREDICTED\"])):\n",
    "    if churn == 1:\n",
    "        rec = recommendation(fund_id,f_reason)\n",
    "        rec_fund.append(rec)\n",
    "    else:\n",
    "        rec_fund.append(\"Not Applicable\")\n",
    "    "
   ]
  },
  {
   "cell_type": "code",
   "execution_count": 32,
   "id": "8ae5fcb3",
   "metadata": {},
   "outputs": [],
   "source": [
    "df[\"funds_rec\"] = rec_fund"
   ]
  },
  {
   "cell_type": "code",
   "execution_count": 33,
   "id": "5bd7631d",
   "metadata": {},
   "outputs": [],
   "source": [
    "df.to_csv(\"/data/funds_recommendated.csv\", index=False)"
   ]
  },
  {
   "cell_type": "code",
   "execution_count": 34,
   "id": "c2305020",
   "metadata": {},
   "outputs": [],
   "source": [
    "fund_total.to_csv(\"/data/FUNDS_COMPLETE_DATA.csv\", index=False)"
   ]
  },
  {
   "cell_type": "code",
   "execution_count": 100,
   "id": "affd50e2",
   "metadata": {},
   "outputs": [],
   "source": [
    "df = df.rename(columns={'FUNDS RECOMMENDATIONS': 'FUNDS_RECOMMENDATIONS'})\n",
    "df[\"FUNDS_RECOMMENDATIONS\"] = df[\"FUNDS_RECOMMENDATIONS\"].astype(str)"
   ]
  },
  {
   "cell_type": "code",
   "execution_count": 98,
   "id": "b5c53fb2",
   "metadata": {},
   "outputs": [],
   "source": [
    "for i, val in tqdm(enumerate(df['FUNDS_RECOMMENDATIONS'])):\n",
    "    df[\"FUNDS_RECOMMENDATIONS\"].iloc[i] = str(val)"
   ]
  },
  {
   "cell_type": "code",
   "execution_count": 110,
   "id": "da674e6c",
   "metadata": {},
   "outputs": [],
   "source": [
    "from snowflake.snowpark.types import StructType, StructField, StringType, IntegerType, FloatType\n",
    "\n",
    "schema = StructType([\n",
    "    StructField(\"MEMBER_ID\", StringType()),\n",
    "    StructField(\"MEMBER_NAME\", StringType()),\n",
    "    StructField(\"MEMBER_EMPLOYMENT\", StringType()),\n",
    "    StructField(\"MEMBER_GENDER\", StringType()),\n",
    "    StructField(\"MEMBER_CITY_TOWN\", StringType()),\n",
    "    StructField(\"MEMBER_STATE\", StringType()),\n",
    "    StructField(\"MEMBER_CONTACT_VERIFIED\", StringType()),\n",
    "    StructField(\"FUND_ID\", StringType()),\n",
    "    StructField(\"CHURN_REASON\", StringType()),\n",
    "    StructField(\"LATITUDE\", FloatType()),\n",
    "    StructField(\"LONGITUDE\", FloatType()),\n",
    "    StructField(\"COUNTRY\", StringType()),\n",
    "    StructField(\"COUNTRYCODE\", StringType()),\n",
    "    StructField(\"CAPITAL\", StringType()),\n",
    "    StructField(\"POPULATION\", IntegerType()),\n",
    "    StructField(\"FUND_TOTAL_ASSETS\", FloatType()),\n",
    "    StructField(\"FUND_RETURN_TARGET_PERCENTAGE\", FloatType()),\n",
    "    StructField(\"INVESTMENT_RISK_LEVEL\", FloatType()),\n",
    "    StructField(\"INVESTMENT_RISK_CATEGORY\", StringType()),\n",
    "    StructField(\"CASH_BENCHMARK_ALLOCATION\", FloatType()),\n",
    "    StructField(\"FIXED_INCOME_BENCHMARK_ALLOCATION\", FloatType()),\n",
    "    StructField(\"DOMESTIC_LISTED_EQUITY_BENCHMARK_ALLOCATION\", FloatType()),\n",
    "    StructField(\"INTERNATIONAL_LISTED_EQUITY_BENCHMARK_ALLOCATION\", FloatType()),\n",
    "    StructField(\"UNLISTED_EQUITY_BENCHMARK_ALLOCATION\", FloatType()),\n",
    "    StructField(\"EQUITY_BENCHMARK_ALLOCATION\", FloatType()),\n",
    "    StructField(\"PROPERTY_BENCHMARK_ALLOCATION\", FloatType()),\n",
    "    StructField(\"INFRA_BENCHMARK_ALLOCATION\", FloatType()),\n",
    "    StructField(\"COMMODITIES_BENCHMARK_ALLOCATION\", FloatType()),\n",
    "    StructField(\"OTHERS_BENCHMARK_ALLOCATION\", FloatType()),\n",
    "    StructField(\"FUND_RISK_LEVEL\", FloatType()),\n",
    "    StructField(\"FUND_RISK_CATEGORY\", StringType()),\n",
    "    StructField(\"NEG_NETRETURN_SINCE_INCEPTION\", StringType()),\n",
    "    StructField(\"YEAR_1_RETURNS\", FloatType()),\n",
    "    StructField(\"YEAR_3_RETURNS\", FloatType()),\n",
    "    StructField(\"YEAR_5_RETURNS\", FloatType()),\n",
    "    StructField(\"YEAR_7_RETURNS\", FloatType()),\n",
    "    StructField(\"YEAR_10_RETURNS\", FloatType()),\n",
    "    StructField(\"SUPER_FEES\", FloatType()),\n",
    "    StructField(\"PENSION_FEES\", FloatType()),\n",
    "    StructField(\"CHURN_FLAG\", StringType()),\n",
    "    StructField(\"MEMBER_AGE\", IntegerType()),\n",
    "    StructField(\"INVESTMENT_AGE_GROUP\", StringType()),\n",
    "    StructField(\"RETIREMENT_AGE\", IntegerType()),\n",
    "    StructField(\"RETIREMENT_AGE_GROUP\", StringType()),\n",
    "    StructField(\"TOTAL_FUNDS_INVESTED\", IntegerType()),\n",
    "    StructField(\"NO_OF_CHURN\", StringType()),\n",
    "    StructField(\"MEMBER_DOB_DT\", StringType()),\n",
    "    StructField(\"ALLOCATION_DT\", StringType()),\n",
    "    StructField(\"CHURN_DT\", StringType()),\n",
    "    StructField(\"RETIREMENT_DT\", StringType()),\n",
    "    StructField(\"CHURN_PREDICTED\", IntegerType()),\n",
    "    StructField(\"unique_id\", IntegerType()),\n",
    "    StructField(\"CHURN_REASON_PREDICTED\", StringType()),\n",
    "    StructField(\"FUNDS_RECOMMENDATIONS\", StringType())\n",
    "])"
   ]
  },
  {
   "cell_type": "code",
   "execution_count": 111,
   "id": "fc1167a7",
   "metadata": {},
   "outputs": [],
   "source": [
    "df_snowflake = session.createDataFrame(df.values.tolist(), schema=schema)"
   ]
  },
  {
   "cell_type": "code",
   "execution_count": 112,
   "id": "768a10da",
   "metadata": {},
   "outputs": [],
   "source": [
    "df_snowflake.write.mode(\"overwrite\").save_as_table(\"FDC_Banking_FS.BFS_SUPER_ANNU_SCHEMA.FUNDS_COMPLETE_DATA\")"
   ]
  },
  {
   "cell_type": "code",
   "execution_count": 108,
   "id": "818e39c2",
   "metadata": {},
   "outputs": [
    {
     "name": "stderr",
     "output_type": "stream",
     "text": [
      "335999it [02:19, 2414.77it/s]\n"
     ]
    }
   ],
   "source": [
    "temp_ = {}\n",
    "for i, val in tqdm(enumerate(df['FUNDS_RECOMMENDATIONS'])):\n",
    "    df[\"FUNDS_RECOMMENDATIONS\"].iloc[i] = str(val)\n",
    "#     temp_[val] =type(val)\n",
    "    "
   ]
  },
  {
   "cell_type": "code",
   "execution_count": 106,
   "id": "efbdd8be",
   "metadata": {},
   "outputs": [
    {
     "data": {
      "text/plain": [
       "{'Not Applicable': str,\n",
       " 'FID000100': numpy.str_,\n",
       " 'FID000033': numpy.str_,\n",
       " 'FID000096': numpy.str_,\n",
       " 'FID000034': numpy.str_,\n",
       " 'FID000117': numpy.str_,\n",
       " 'FID000192': numpy.str_,\n",
       " 'FID000136': numpy.str_,\n",
       " 'FID000080': numpy.str_,\n",
       " 'FID000121': numpy.str_,\n",
       " 'FID000106': numpy.str_,\n",
       " 'FID000119': numpy.str_,\n",
       " 'FID000097': numpy.str_,\n",
       " 'FID000011': numpy.str_,\n",
       " 'FID000105': numpy.str_,\n",
       " 'FID000005': numpy.str_,\n",
       " 'FID000103': numpy.str_,\n",
       " 'FID000116': numpy.str_,\n",
       " 'FID000049': numpy.str_,\n",
       " 'FID000135': numpy.str_,\n",
       " 'FID000060': numpy.str_,\n",
       " 'FID000122': numpy.str_,\n",
       " 'FID000059': numpy.str_,\n",
       " 'FID000102': numpy.str_,\n",
       " 'FID000185': numpy.str_,\n",
       " 'FID000146': numpy.str_,\n",
       " 'FID000114': numpy.str_,\n",
       " 'FID000107': numpy.str_,\n",
       " 'FID000108': numpy.str_,\n",
       " 'FID000006': numpy.str_,\n",
       " 'FID000067': numpy.str_,\n",
       " 'FID000016': numpy.str_,\n",
       " 'FID000171': numpy.str_,\n",
       " 'FID000163': numpy.str_,\n",
       " 'FID000115': numpy.str_,\n",
       " 'FID000113': numpy.str_,\n",
       " 'FID000008': numpy.str_,\n",
       " 'FID000010': numpy.str_,\n",
       " 'FID000118': numpy.str_,\n",
       " 'FID000159': numpy.str_,\n",
       " 'FID000173': numpy.str_,\n",
       " 'FID000009': numpy.str_,\n",
       " 'FID000186': numpy.str_,\n",
       " 'FID000003': numpy.str_,\n",
       " 'FID000007': numpy.str_,\n",
       " 'FID000181': numpy.str_,\n",
       " 'FID000050': numpy.str_,\n",
       " 'FID000131': numpy.str_,\n",
       " 'FID000093': numpy.str_,\n",
       " 'FID000132': numpy.str_,\n",
       " 'FID000057': numpy.str_,\n",
       " 'FID000055': numpy.str_,\n",
       " 'FID000030': numpy.str_,\n",
       " 'FID000172': numpy.str_,\n",
       " 'FID000109': numpy.str_,\n",
       " 'FID000091': numpy.str_,\n",
       " 'FID000129': numpy.str_,\n",
       " 'FID000130': numpy.str_,\n",
       " 'FID000142': numpy.str_}"
      ]
     },
     "execution_count": 106,
     "metadata": {},
     "output_type": "execute_result"
    }
   ],
   "source": [
    "temp_"
   ]
  },
  {
   "cell_type": "code",
   "execution_count": 115,
   "id": "859ce725",
   "metadata": {},
   "outputs": [],
   "source": [
    "fund_master[\"WEIGHTED_AVG_RETURN\"] = fund_total[\"avg_return\"]"
   ]
  },
  {
   "cell_type": "code",
   "execution_count": 116,
   "id": "8247244b",
   "metadata": {},
   "outputs": [],
   "source": [
    "fund_master[\"AVG_FEES\"] = fund_total[[\"SUPER_FEES\",\"PENSION_FEES\",\"FUND_FEES_CHARGES\"]].apply(lambda x: (x[0]+x[1]+x[2])/3, axis=1)"
   ]
  },
  {
   "cell_type": "code",
   "execution_count": 120,
   "id": "65dd4934",
   "metadata": {},
   "outputs": [],
   "source": [
    "def get_return_rating(x):\n",
    "    if x == '2 to 3':\n",
    "        return 4.0\n",
    "    if x == '1 to 2': \n",
    "        return 4.2\n",
    "    if x == '4 to 6':\n",
    "        return 3.5\n",
    "    if x == '0.5 to 1':\n",
    "        return  4.5\n",
    "    if x == '3 to 4':\n",
    "        return 3.8\n",
    "    else:\n",
    "        return 4.8\n",
    "\n",
    "fund_master[\"NEG_RETURN_RATING\"] = fund_total[\"NEG_NETRETURN_SINCE_INCEPTION\"].apply(get_return_rating)"
   ]
  },
  {
   "cell_type": "code",
   "execution_count": 122,
   "id": "39dc9acf",
   "metadata": {},
   "outputs": [],
   "source": [
    "fund_master = fund_master.drop(\"AVG_RETURN\", axis=1)"
   ]
  },
  {
   "cell_type": "code",
   "execution_count": 123,
   "id": "153af4f5",
   "metadata": {},
   "outputs": [],
   "source": [
    "df_snowflake = session.createDataFrame(fund_master.values.tolist(), schema=fund_master.columns.tolist())"
   ]
  },
  {
   "cell_type": "code",
   "execution_count": 124,
   "id": "3681106b",
   "metadata": {},
   "outputs": [],
   "source": [
    "df_snowflake.write.mode(\"overwrite\").save_as_table(\"FDC_Banking_FS.BFS_SUPER_ANNU_SCHEMA.FUND_MASTER\")"
   ]
  }
 ],
 "metadata": {
  "kernelspec": {
   "display_name": "Python 3",
   "language": "python",
   "name": "python3"
  },
  "language_info": {
   "codemirror_mode": {
    "name": "ipython",
    "version": 3
   },
   "file_extension": ".py",
   "mimetype": "text/x-python",
   "name": "python",
   "nbconvert_exporter": "python",
   "pygments_lexer": "ipython3",
   "version": "3.9.18"
  }
 },
 "nbformat": 4,
 "nbformat_minor": 5
}
