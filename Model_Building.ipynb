{
 "cells": [
  {
   "cell_type": "code",
   "execution_count": 1,
   "id": "e6bd2970",
   "metadata": {},
   "outputs": [
    {
     "name": "stdout",
     "output_type": "stream",
     "text": [
      "connection successful!\n"
     ]
    }
   ],
   "source": [
    "#Snowpark lib\n",
    "from snowflake.snowpark import Session\n",
    "\n",
    "# Data Science Libs\n",
    "import numpy as np\n",
    "import pandas as pd\n",
    "\n",
    "# create_temp_table warning suppresion\n",
    "import warnings; warnings.simplefilter('ignore')\n",
    "\n",
    "#ConfigParser to read ini file\n",
    "import configparser\n",
    "\n",
    "import numpy as np\n",
    "\n",
    "from sklearn.compose import ColumnTransformer\n",
    "from sklearn.feature_selection import SelectPercentile, chi2\n",
    "from sklearn.impute import SimpleImputer\n",
    "from sklearn.linear_model import LogisticRegression\n",
    "from sklearn.ensemble import RandomForestClassifier\n",
    "from sklearn.model_selection import RandomizedSearchCV, train_test_split\n",
    "from sklearn.pipeline import Pipeline\n",
    "from sklearn.preprocessing import OneHotEncoder, StandardScaler\n",
    "from sklearn.cluster import DBSCAN\n",
    "\n",
    "np.random.seed(0)\n",
    "\n",
    "config = configparser.ConfigParser()\n",
    "config.read(\"/notebooks/notebooks/credentials.ini\")\n",
    "\n",
    "connection_parameters = {\n",
    "    \"user\": f'{config[\"Snowflake\"][\"user\"]}',\n",
    "    \"password\": f'{config[\"Snowflake\"][\"password\"]}',\n",
    "    \"account\": f'{config[\"Snowflake\"][\"account\"]}',\n",
    "    \"WAREHOUSE\": f'{config[\"Snowflake\"][\"WAREHOUSE\"]}',\n",
    "    \"DATABASE\": f'{config[\"Snowflake\"][\"DATABASE\"]}',\n",
    "    \"SCHEMA\": f'{config[\"Snowflake\"][\"SCHEMA\"]}'\n",
    "}\n",
    "\n",
    "def snowflake_connector(conn):\n",
    "    try:\n",
    "        session = Session.builder.configs(conn).create()\n",
    "        print(\"connection successful!\")\n",
    "    except:\n",
    "        raise ValueError(\"error while connecting with db\")\n",
    "    return session\n",
    "\n",
    "session = snowflake_connector(connection_parameters)"
   ]
  },
  {
   "cell_type": "code",
   "execution_count": 2,
   "id": "9d9920b1",
   "metadata": {},
   "outputs": [],
   "source": [
    "df = session.table(\"MEMBER_FUNDS_ENRICHED_DETAILS\").to_pandas()\n",
    "# df = pd.read_csv(\"/data/funds.csv\")"
   ]
  },
  {
   "cell_type": "code",
   "execution_count": 4,
   "id": "a15f6ff6",
   "metadata": {},
   "outputs": [],
   "source": [
    "# df.to_csv(\"/data/funds.csv\", index=False)"
   ]
  },
  {
   "cell_type": "markdown",
   "id": "79265970",
   "metadata": {},
   "source": [
    "NO_OF_CHURN column has almost 50% missing value, it wont be wise to impute these many values so will just drop it.                                     "
   ]
  },
  {
   "cell_type": "code",
   "execution_count": 3,
   "id": "dbadf6b7",
   "metadata": {},
   "outputs": [],
   "source": [
    "frame = df[['MEMBER_GENDER', 'MEMBER_STATE', 'MEMBER_CONTACT_VERIFIED','FUND_TOTAL_ASSETS','FUND_RETURN_TARGET_PERCENTAGE',\n",
    "            'INVESTMENT_RISK_CATEGORY', 'CASH_BENCHMARK_ALLOCATION','FIXED_INCOME_BENCHMARK_ALLOCATION',\n",
    "            'DOMESTIC_LISTED_EQUITY_BENCHMARK_ALLOCATION','INTERNATIONAL_LISTED_EQUITY_BENCHMARK_ALLOCATION',\n",
    "            'UNLISTED_EQUITY_BENCHMARK_ALLOCATION', 'EQUITY_BENCHMARK_ALLOCATION','PROPERTY_BENCHMARK_ALLOCATION',\n",
    "            'INFRA_BENCHMARK_ALLOCATION','COMMODITIES_BENCHMARK_ALLOCATION', 'OTHERS_BENCHMARK_ALLOCATION','FUND_RISK_LEVEL', \n",
    "            'FUND_RISK_CATEGORY','NEG_NETRETURN_SINCE_INCEPTION', 'YEAR_1_RETURNS', 'YEAR_3_RETURNS','YEAR_5_RETURNS',\n",
    "            'YEAR_7_RETURNS','YEAR_10_RETURNS', 'SUPER_FEES','PENSION_FEES',\n",
    "            'INVESTMENT_AGE_GROUP', 'RETIREMENT_AGE_GROUP', 'TOTAL_FUNDS_INVESTED','CHURN_FLAG']].copy()"
   ]
  },
  {
   "cell_type": "code",
   "execution_count": 4,
   "id": "8e8c14af",
   "metadata": {},
   "outputs": [],
   "source": [
    "frame[\"CHURN_FLAG\"] = frame[\"CHURN_FLAG\"].apply(lambda x: 1 if x ==\"Y\" else 0)"
   ]
  },
  {
   "cell_type": "code",
   "execution_count": 8,
   "id": "acc5ef94",
   "metadata": {},
   "outputs": [],
   "source": [
    "# frame.groupby([\"RETIREMENT_AGE_GROUP\",\"CHURN_FLAG\"])[[\"CHURN_FLAG\"]].count()"
   ]
  },
  {
   "cell_type": "markdown",
   "id": "3d87ed94",
   "metadata": {},
   "source": [
    "The distribution of CHURN is pretty common bettween the employers and hence wont contribute inn modelling"
   ]
  },
  {
   "cell_type": "code",
   "execution_count": 9,
   "id": "9141d97f",
   "metadata": {},
   "outputs": [],
   "source": [
    "# multiple = {i for i, j in dict(df[\"MEMBER_ID\"].value_counts()).items() if j > 1 }\n",
    "# multiple[multiple[\"value_counts\"]>=2].index.to_list()"
   ]
  },
  {
   "cell_type": "markdown",
   "id": "69a03707",
   "metadata": {},
   "source": [
    "# MODEL TO PREDICT CHURN"
   ]
  },
  {
   "cell_type": "code",
   "execution_count": 5,
   "id": "35aed35e",
   "metadata": {},
   "outputs": [],
   "source": [
    "numeric_features = [\"FUND_TOTAL_ASSETS\", 'FUND_RETURN_TARGET_PERCENTAGE','CASH_BENCHMARK_ALLOCATION',\n",
    "       'FIXED_INCOME_BENCHMARK_ALLOCATION','DOMESTIC_LISTED_EQUITY_BENCHMARK_ALLOCATION','INTERNATIONAL_LISTED_EQUITY_BENCHMARK_ALLOCATION',\n",
    "       'UNLISTED_EQUITY_BENCHMARK_ALLOCATION', 'EQUITY_BENCHMARK_ALLOCATION','PROPERTY_BENCHMARK_ALLOCATION', 'INFRA_BENCHMARK_ALLOCATION',\n",
    "       'COMMODITIES_BENCHMARK_ALLOCATION', 'OTHERS_BENCHMARK_ALLOCATION', 'YEAR_1_RETURNS', 'YEAR_3_RETURNS',\n",
    "       'YEAR_5_RETURNS', 'YEAR_7_RETURNS', 'YEAR_10_RETURNS', 'SUPER_FEES','PENSION_FEES',]\n",
    "numeric_transformer = Pipeline(\n",
    "    steps=[(\"imputer\", SimpleImputer(strategy=\"median\")), (\"scaler\", StandardScaler())]\n",
    ")\n",
    "\n",
    "categorical_features = [\"MEMBER_GENDER\", \"MEMBER_STATE\", \"MEMBER_CONTACT_VERIFIED\",\"INVESTMENT_RISK_CATEGORY\",'FUND_RISK_LEVEL',\n",
    "                        'FUND_RISK_CATEGORY',\"NEG_NETRETURN_SINCE_INCEPTION\", 'INVESTMENT_AGE_GROUP', 'RETIREMENT_AGE_GROUP', \"TOTAL_FUNDS_INVESTED\"]\n",
    "categorical_transformer = Pipeline(\n",
    "    steps=[\n",
    "        (\"encoder\", OneHotEncoder(handle_unknown=\"ignore\")),\n",
    "        (\"selector\", SelectPercentile(chi2, percentile=50)),\n",
    "    ]\n",
    ")\n",
    "preprocessor = ColumnTransformer(\n",
    "    transformers=[\n",
    "        (\"num\", numeric_transformer, numeric_features),\n",
    "        (\"cat\", categorical_transformer, categorical_features),\n",
    "    ]\n",
    ")"
   ]
  },
  {
   "cell_type": "code",
   "execution_count": 6,
   "id": "e0595d24",
   "metadata": {},
   "outputs": [],
   "source": [
    "clf = Pipeline(\n",
    "    steps=[(\"preprocessor\", preprocessor), (\"classifier\", RandomForestClassifier(n_estimators=500, max_depth=8, \n",
    "                                                                                 max_features=0.6,\n",
    "                                                                                 bootstrap=True, max_samples=0.8))]\n",
    ")\n",
    "\n"
   ]
  },
  {
   "cell_type": "code",
   "execution_count": 7,
   "id": "71843bc2",
   "metadata": {},
   "outputs": [],
   "source": [
    "X = frame.drop(\"CHURN_FLAG\", axis=1)\n",
    "y = frame[\"CHURN_FLAG\"]\n",
    "\n",
    "X_train, X_test, y_train, y_test = train_test_split(X, y, test_size=0.2, random_state=0)\n"
   ]
  },
  {
   "cell_type": "code",
   "execution_count": 8,
   "id": "915e4b2b",
   "metadata": {},
   "outputs": [
    {
     "name": "stdout",
     "output_type": "stream",
     "text": [
      "model score: 0.989\n"
     ]
    }
   ],
   "source": [
    "clf.fit(X_train, y_train)\n",
    "print(\"model score: %.3f\" % clf.score(X_test, y_test))"
   ]
  },
  {
   "cell_type": "code",
   "execution_count": 9,
   "id": "fa27ef14",
   "metadata": {},
   "outputs": [],
   "source": [
    "import pickle\n",
    "\n",
    "# save\n",
    "with open('churn_model.pkl','wb') as f:  ## use rb while reading the fie\n",
    "    pickle.dump(clf,f)"
   ]
  },
  {
   "cell_type": "code",
   "execution_count": 10,
   "id": "87cd5d1c",
   "metadata": {},
   "outputs": [
    {
     "data": {
      "text/html": [
       "<style>#sk-container-id-1 {color: black;}#sk-container-id-1 pre{padding: 0;}#sk-container-id-1 div.sk-toggleable {background-color: white;}#sk-container-id-1 label.sk-toggleable__label {cursor: pointer;display: block;width: 100%;margin-bottom: 0;padding: 0.3em;box-sizing: border-box;text-align: center;}#sk-container-id-1 label.sk-toggleable__label-arrow:before {content: \"▸\";float: left;margin-right: 0.25em;color: #696969;}#sk-container-id-1 label.sk-toggleable__label-arrow:hover:before {color: black;}#sk-container-id-1 div.sk-estimator:hover label.sk-toggleable__label-arrow:before {color: black;}#sk-container-id-1 div.sk-toggleable__content {max-height: 0;max-width: 0;overflow: hidden;text-align: left;background-color: #f0f8ff;}#sk-container-id-1 div.sk-toggleable__content pre {margin: 0.2em;color: black;border-radius: 0.25em;background-color: #f0f8ff;}#sk-container-id-1 input.sk-toggleable__control:checked~div.sk-toggleable__content {max-height: 200px;max-width: 100%;overflow: auto;}#sk-container-id-1 input.sk-toggleable__control:checked~label.sk-toggleable__label-arrow:before {content: \"▾\";}#sk-container-id-1 div.sk-estimator input.sk-toggleable__control:checked~label.sk-toggleable__label {background-color: #d4ebff;}#sk-container-id-1 div.sk-label input.sk-toggleable__control:checked~label.sk-toggleable__label {background-color: #d4ebff;}#sk-container-id-1 input.sk-hidden--visually {border: 0;clip: rect(1px 1px 1px 1px);clip: rect(1px, 1px, 1px, 1px);height: 1px;margin: -1px;overflow: hidden;padding: 0;position: absolute;width: 1px;}#sk-container-id-1 div.sk-estimator {font-family: monospace;background-color: #f0f8ff;border: 1px dotted black;border-radius: 0.25em;box-sizing: border-box;margin-bottom: 0.5em;}#sk-container-id-1 div.sk-estimator:hover {background-color: #d4ebff;}#sk-container-id-1 div.sk-parallel-item::after {content: \"\";width: 100%;border-bottom: 1px solid gray;flex-grow: 1;}#sk-container-id-1 div.sk-label:hover label.sk-toggleable__label {background-color: #d4ebff;}#sk-container-id-1 div.sk-serial::before {content: \"\";position: absolute;border-left: 1px solid gray;box-sizing: border-box;top: 0;bottom: 0;left: 50%;z-index: 0;}#sk-container-id-1 div.sk-serial {display: flex;flex-direction: column;align-items: center;background-color: white;padding-right: 0.2em;padding-left: 0.2em;position: relative;}#sk-container-id-1 div.sk-item {position: relative;z-index: 1;}#sk-container-id-1 div.sk-parallel {display: flex;align-items: stretch;justify-content: center;background-color: white;position: relative;}#sk-container-id-1 div.sk-item::before, #sk-container-id-1 div.sk-parallel-item::before {content: \"\";position: absolute;border-left: 1px solid gray;box-sizing: border-box;top: 0;bottom: 0;left: 50%;z-index: -1;}#sk-container-id-1 div.sk-parallel-item {display: flex;flex-direction: column;z-index: 1;position: relative;background-color: white;}#sk-container-id-1 div.sk-parallel-item:first-child::after {align-self: flex-end;width: 50%;}#sk-container-id-1 div.sk-parallel-item:last-child::after {align-self: flex-start;width: 50%;}#sk-container-id-1 div.sk-parallel-item:only-child::after {width: 0;}#sk-container-id-1 div.sk-dashed-wrapped {border: 1px dashed gray;margin: 0 0.4em 0.5em 0.4em;box-sizing: border-box;padding-bottom: 0.4em;background-color: white;}#sk-container-id-1 div.sk-label label {font-family: monospace;font-weight: bold;display: inline-block;line-height: 1.2em;}#sk-container-id-1 div.sk-label-container {text-align: center;}#sk-container-id-1 div.sk-container {/* jupyter's `normalize.less` sets `[hidden] { display: none; }` but bootstrap.min.css set `[hidden] { display: none !important; }` so we also need the `!important` here to be able to override the default hidden behavior on the sphinx rendered scikit-learn.org. See: https://github.com/scikit-learn/scikit-learn/issues/21755 */display: inline-block !important;position: relative;}#sk-container-id-1 div.sk-text-repr-fallback {display: none;}</style><div id=\"sk-container-id-1\" class=\"sk-top-container\"><div class=\"sk-text-repr-fallback\"><pre>Pipeline(steps=[(&#x27;preprocessor&#x27;,\n",
       "                 ColumnTransformer(transformers=[(&#x27;num&#x27;,\n",
       "                                                  Pipeline(steps=[(&#x27;imputer&#x27;,\n",
       "                                                                   SimpleImputer(strategy=&#x27;median&#x27;)),\n",
       "                                                                  (&#x27;scaler&#x27;,\n",
       "                                                                   StandardScaler())]),\n",
       "                                                  [&#x27;FUND_TOTAL_ASSETS&#x27;,\n",
       "                                                   &#x27;FUND_RETURN_TARGET_PERCENTAGE&#x27;,\n",
       "                                                   &#x27;CASH_BENCHMARK_ALLOCATION&#x27;,\n",
       "                                                   &#x27;FIXED_INCOME_BENCHMARK_ALLOCATION&#x27;,\n",
       "                                                   &#x27;DOMESTIC_LISTED_EQUITY_BENCHMARK_ALLOCATION&#x27;,\n",
       "                                                   &#x27;INTERNATIONAL_LISTED_EQU...\n",
       "                                                                                    score_func=&lt;function chi2 at 0x7f5b9d862dc0&gt;))]),\n",
       "                                                  [&#x27;MEMBER_GENDER&#x27;,\n",
       "                                                   &#x27;MEMBER_STATE&#x27;,\n",
       "                                                   &#x27;MEMBER_CONTACT_VERIFIED&#x27;,\n",
       "                                                   &#x27;INVESTMENT_RISK_CATEGORY&#x27;,\n",
       "                                                   &#x27;FUND_RISK_LEVEL&#x27;,\n",
       "                                                   &#x27;FUND_RISK_CATEGORY&#x27;,\n",
       "                                                   &#x27;NEG_NETRETURN_SINCE_INCEPTION&#x27;,\n",
       "                                                   &#x27;INVESTMENT_AGE_GROUP&#x27;,\n",
       "                                                   &#x27;RETIREMENT_AGE_GROUP&#x27;,\n",
       "                                                   &#x27;TOTAL_FUNDS_INVESTED&#x27;])])),\n",
       "                (&#x27;classifier&#x27;,\n",
       "                 RandomForestClassifier(max_depth=8, max_features=0.6,\n",
       "                                        max_samples=0.8, n_estimators=500))])</pre><b>In a Jupyter environment, please rerun this cell to show the HTML representation or trust the notebook. <br />On GitHub, the HTML representation is unable to render, please try loading this page with nbviewer.org.</b></div><div class=\"sk-container\" hidden><div class=\"sk-item sk-dashed-wrapped\"><div class=\"sk-label-container\"><div class=\"sk-label sk-toggleable\"><input class=\"sk-toggleable__control sk-hidden--visually\" id=\"sk-estimator-id-1\" type=\"checkbox\" ><label for=\"sk-estimator-id-1\" class=\"sk-toggleable__label sk-toggleable__label-arrow\">Pipeline</label><div class=\"sk-toggleable__content\"><pre>Pipeline(steps=[(&#x27;preprocessor&#x27;,\n",
       "                 ColumnTransformer(transformers=[(&#x27;num&#x27;,\n",
       "                                                  Pipeline(steps=[(&#x27;imputer&#x27;,\n",
       "                                                                   SimpleImputer(strategy=&#x27;median&#x27;)),\n",
       "                                                                  (&#x27;scaler&#x27;,\n",
       "                                                                   StandardScaler())]),\n",
       "                                                  [&#x27;FUND_TOTAL_ASSETS&#x27;,\n",
       "                                                   &#x27;FUND_RETURN_TARGET_PERCENTAGE&#x27;,\n",
       "                                                   &#x27;CASH_BENCHMARK_ALLOCATION&#x27;,\n",
       "                                                   &#x27;FIXED_INCOME_BENCHMARK_ALLOCATION&#x27;,\n",
       "                                                   &#x27;DOMESTIC_LISTED_EQUITY_BENCHMARK_ALLOCATION&#x27;,\n",
       "                                                   &#x27;INTERNATIONAL_LISTED_EQU...\n",
       "                                                                                    score_func=&lt;function chi2 at 0x7f5b9d862dc0&gt;))]),\n",
       "                                                  [&#x27;MEMBER_GENDER&#x27;,\n",
       "                                                   &#x27;MEMBER_STATE&#x27;,\n",
       "                                                   &#x27;MEMBER_CONTACT_VERIFIED&#x27;,\n",
       "                                                   &#x27;INVESTMENT_RISK_CATEGORY&#x27;,\n",
       "                                                   &#x27;FUND_RISK_LEVEL&#x27;,\n",
       "                                                   &#x27;FUND_RISK_CATEGORY&#x27;,\n",
       "                                                   &#x27;NEG_NETRETURN_SINCE_INCEPTION&#x27;,\n",
       "                                                   &#x27;INVESTMENT_AGE_GROUP&#x27;,\n",
       "                                                   &#x27;RETIREMENT_AGE_GROUP&#x27;,\n",
       "                                                   &#x27;TOTAL_FUNDS_INVESTED&#x27;])])),\n",
       "                (&#x27;classifier&#x27;,\n",
       "                 RandomForestClassifier(max_depth=8, max_features=0.6,\n",
       "                                        max_samples=0.8, n_estimators=500))])</pre></div></div></div><div class=\"sk-serial\"><div class=\"sk-item sk-dashed-wrapped\"><div class=\"sk-label-container\"><div class=\"sk-label sk-toggleable\"><input class=\"sk-toggleable__control sk-hidden--visually\" id=\"sk-estimator-id-2\" type=\"checkbox\" ><label for=\"sk-estimator-id-2\" class=\"sk-toggleable__label sk-toggleable__label-arrow\">preprocessor: ColumnTransformer</label><div class=\"sk-toggleable__content\"><pre>ColumnTransformer(transformers=[(&#x27;num&#x27;,\n",
       "                                 Pipeline(steps=[(&#x27;imputer&#x27;,\n",
       "                                                  SimpleImputer(strategy=&#x27;median&#x27;)),\n",
       "                                                 (&#x27;scaler&#x27;, StandardScaler())]),\n",
       "                                 [&#x27;FUND_TOTAL_ASSETS&#x27;,\n",
       "                                  &#x27;FUND_RETURN_TARGET_PERCENTAGE&#x27;,\n",
       "                                  &#x27;CASH_BENCHMARK_ALLOCATION&#x27;,\n",
       "                                  &#x27;FIXED_INCOME_BENCHMARK_ALLOCATION&#x27;,\n",
       "                                  &#x27;DOMESTIC_LISTED_EQUITY_BENCHMARK_ALLOCATION&#x27;,\n",
       "                                  &#x27;INTERNATIONAL_LISTED_EQUITY_BENCHMARK_ALLOCATION&#x27;,\n",
       "                                  &#x27;UNLIS...\n",
       "                                                  OneHotEncoder(handle_unknown=&#x27;ignore&#x27;)),\n",
       "                                                 (&#x27;selector&#x27;,\n",
       "                                                  SelectPercentile(percentile=50,\n",
       "                                                                   score_func=&lt;function chi2 at 0x7f5b9d862dc0&gt;))]),\n",
       "                                 [&#x27;MEMBER_GENDER&#x27;, &#x27;MEMBER_STATE&#x27;,\n",
       "                                  &#x27;MEMBER_CONTACT_VERIFIED&#x27;,\n",
       "                                  &#x27;INVESTMENT_RISK_CATEGORY&#x27;, &#x27;FUND_RISK_LEVEL&#x27;,\n",
       "                                  &#x27;FUND_RISK_CATEGORY&#x27;,\n",
       "                                  &#x27;NEG_NETRETURN_SINCE_INCEPTION&#x27;,\n",
       "                                  &#x27;INVESTMENT_AGE_GROUP&#x27;,\n",
       "                                  &#x27;RETIREMENT_AGE_GROUP&#x27;,\n",
       "                                  &#x27;TOTAL_FUNDS_INVESTED&#x27;])])</pre></div></div></div><div class=\"sk-parallel\"><div class=\"sk-parallel-item\"><div class=\"sk-item\"><div class=\"sk-label-container\"><div class=\"sk-label sk-toggleable\"><input class=\"sk-toggleable__control sk-hidden--visually\" id=\"sk-estimator-id-3\" type=\"checkbox\" ><label for=\"sk-estimator-id-3\" class=\"sk-toggleable__label sk-toggleable__label-arrow\">num</label><div class=\"sk-toggleable__content\"><pre>[&#x27;FUND_TOTAL_ASSETS&#x27;, &#x27;FUND_RETURN_TARGET_PERCENTAGE&#x27;, &#x27;CASH_BENCHMARK_ALLOCATION&#x27;, &#x27;FIXED_INCOME_BENCHMARK_ALLOCATION&#x27;, &#x27;DOMESTIC_LISTED_EQUITY_BENCHMARK_ALLOCATION&#x27;, &#x27;INTERNATIONAL_LISTED_EQUITY_BENCHMARK_ALLOCATION&#x27;, &#x27;UNLISTED_EQUITY_BENCHMARK_ALLOCATION&#x27;, &#x27;EQUITY_BENCHMARK_ALLOCATION&#x27;, &#x27;PROPERTY_BENCHMARK_ALLOCATION&#x27;, &#x27;INFRA_BENCHMARK_ALLOCATION&#x27;, &#x27;COMMODITIES_BENCHMARK_ALLOCATION&#x27;, &#x27;OTHERS_BENCHMARK_ALLOCATION&#x27;, &#x27;YEAR_1_RETURNS&#x27;, &#x27;YEAR_3_RETURNS&#x27;, &#x27;YEAR_5_RETURNS&#x27;, &#x27;YEAR_7_RETURNS&#x27;, &#x27;YEAR_10_RETURNS&#x27;, &#x27;SUPER_FEES&#x27;, &#x27;PENSION_FEES&#x27;]</pre></div></div></div><div class=\"sk-serial\"><div class=\"sk-item\"><div class=\"sk-serial\"><div class=\"sk-item\"><div class=\"sk-estimator sk-toggleable\"><input class=\"sk-toggleable__control sk-hidden--visually\" id=\"sk-estimator-id-4\" type=\"checkbox\" ><label for=\"sk-estimator-id-4\" class=\"sk-toggleable__label sk-toggleable__label-arrow\">SimpleImputer</label><div class=\"sk-toggleable__content\"><pre>SimpleImputer(strategy=&#x27;median&#x27;)</pre></div></div></div><div class=\"sk-item\"><div class=\"sk-estimator sk-toggleable\"><input class=\"sk-toggleable__control sk-hidden--visually\" id=\"sk-estimator-id-5\" type=\"checkbox\" ><label for=\"sk-estimator-id-5\" class=\"sk-toggleable__label sk-toggleable__label-arrow\">StandardScaler</label><div class=\"sk-toggleable__content\"><pre>StandardScaler()</pre></div></div></div></div></div></div></div></div><div class=\"sk-parallel-item\"><div class=\"sk-item\"><div class=\"sk-label-container\"><div class=\"sk-label sk-toggleable\"><input class=\"sk-toggleable__control sk-hidden--visually\" id=\"sk-estimator-id-6\" type=\"checkbox\" ><label for=\"sk-estimator-id-6\" class=\"sk-toggleable__label sk-toggleable__label-arrow\">cat</label><div class=\"sk-toggleable__content\"><pre>[&#x27;MEMBER_GENDER&#x27;, &#x27;MEMBER_STATE&#x27;, &#x27;MEMBER_CONTACT_VERIFIED&#x27;, &#x27;INVESTMENT_RISK_CATEGORY&#x27;, &#x27;FUND_RISK_LEVEL&#x27;, &#x27;FUND_RISK_CATEGORY&#x27;, &#x27;NEG_NETRETURN_SINCE_INCEPTION&#x27;, &#x27;INVESTMENT_AGE_GROUP&#x27;, &#x27;RETIREMENT_AGE_GROUP&#x27;, &#x27;TOTAL_FUNDS_INVESTED&#x27;]</pre></div></div></div><div class=\"sk-serial\"><div class=\"sk-item\"><div class=\"sk-serial\"><div class=\"sk-item\"><div class=\"sk-estimator sk-toggleable\"><input class=\"sk-toggleable__control sk-hidden--visually\" id=\"sk-estimator-id-7\" type=\"checkbox\" ><label for=\"sk-estimator-id-7\" class=\"sk-toggleable__label sk-toggleable__label-arrow\">OneHotEncoder</label><div class=\"sk-toggleable__content\"><pre>OneHotEncoder(handle_unknown=&#x27;ignore&#x27;)</pre></div></div></div><div class=\"sk-item\"><div class=\"sk-estimator sk-toggleable\"><input class=\"sk-toggleable__control sk-hidden--visually\" id=\"sk-estimator-id-8\" type=\"checkbox\" ><label for=\"sk-estimator-id-8\" class=\"sk-toggleable__label sk-toggleable__label-arrow\">SelectPercentile</label><div class=\"sk-toggleable__content\"><pre>SelectPercentile(percentile=50, score_func=&lt;function chi2 at 0x7f5b9d862dc0&gt;)</pre></div></div></div></div></div></div></div></div></div></div><div class=\"sk-item\"><div class=\"sk-estimator sk-toggleable\"><input class=\"sk-toggleable__control sk-hidden--visually\" id=\"sk-estimator-id-9\" type=\"checkbox\" ><label for=\"sk-estimator-id-9\" class=\"sk-toggleable__label sk-toggleable__label-arrow\">RandomForestClassifier</label><div class=\"sk-toggleable__content\"><pre>RandomForestClassifier(max_depth=8, max_features=0.6, max_samples=0.8,\n",
       "                       n_estimators=500)</pre></div></div></div></div></div></div></div>"
      ],
      "text/plain": [
       "Pipeline(steps=[('preprocessor',\n",
       "                 ColumnTransformer(transformers=[('num',\n",
       "                                                  Pipeline(steps=[('imputer',\n",
       "                                                                   SimpleImputer(strategy='median')),\n",
       "                                                                  ('scaler',\n",
       "                                                                   StandardScaler())]),\n",
       "                                                  ['FUND_TOTAL_ASSETS',\n",
       "                                                   'FUND_RETURN_TARGET_PERCENTAGE',\n",
       "                                                   'CASH_BENCHMARK_ALLOCATION',\n",
       "                                                   'FIXED_INCOME_BENCHMARK_ALLOCATION',\n",
       "                                                   'DOMESTIC_LISTED_EQUITY_BENCHMARK_ALLOCATION',\n",
       "                                                   'INTERNATIONAL_LISTED_EQU...\n",
       "                                                                                    score_func=<function chi2 at 0x7f5b9d862dc0>))]),\n",
       "                                                  ['MEMBER_GENDER',\n",
       "                                                   'MEMBER_STATE',\n",
       "                                                   'MEMBER_CONTACT_VERIFIED',\n",
       "                                                   'INVESTMENT_RISK_CATEGORY',\n",
       "                                                   'FUND_RISK_LEVEL',\n",
       "                                                   'FUND_RISK_CATEGORY',\n",
       "                                                   'NEG_NETRETURN_SINCE_INCEPTION',\n",
       "                                                   'INVESTMENT_AGE_GROUP',\n",
       "                                                   'RETIREMENT_AGE_GROUP',\n",
       "                                                   'TOTAL_FUNDS_INVESTED'])])),\n",
       "                ('classifier',\n",
       "                 RandomForestClassifier(max_depth=8, max_features=0.6,\n",
       "                                        max_samples=0.8, n_estimators=500))])"
      ]
     },
     "execution_count": 10,
     "metadata": {},
     "output_type": "execute_result"
    }
   ],
   "source": [
    "clf"
   ]
  },
  {
   "cell_type": "code",
   "execution_count": 11,
   "id": "6e1d5877",
   "metadata": {},
   "outputs": [],
   "source": [
    "frame = clf.predict(frame)\n",
    "df[\"CHURN_PREDICTED\"] = frame"
   ]
  },
  {
   "cell_type": "markdown",
   "id": "0feee50a",
   "metadata": {},
   "source": [
    "# MODEL_REASON"
   ]
  },
  {
   "cell_type": "code",
   "execution_count": 12,
   "id": "a81c46df",
   "metadata": {},
   "outputs": [],
   "source": [
    "df[\"unique_id\"] = [i for i in range(df.shape[0])]"
   ]
  },
  {
   "cell_type": "code",
   "execution_count": 13,
   "id": "c1cd82a7",
   "metadata": {},
   "outputs": [],
   "source": [
    "churned = df[df[\"CHURN_FLAG\"] == \"Y\"]"
   ]
  },
  {
   "cell_type": "code",
   "execution_count": 14,
   "id": "5edf0d40",
   "metadata": {},
   "outputs": [
    {
     "data": {
      "text/html": [
       "<div>\n",
       "<style scoped>\n",
       "    .dataframe tbody tr th:only-of-type {\n",
       "        vertical-align: middle;\n",
       "    }\n",
       "\n",
       "    .dataframe tbody tr th {\n",
       "        vertical-align: top;\n",
       "    }\n",
       "\n",
       "    .dataframe thead th {\n",
       "        text-align: right;\n",
       "    }\n",
       "</style>\n",
       "<table border=\"1\" class=\"dataframe\">\n",
       "  <thead>\n",
       "    <tr style=\"text-align: right;\">\n",
       "      <th></th>\n",
       "      <th>CHURN_REASON</th>\n",
       "    </tr>\n",
       "    <tr>\n",
       "      <th>CHURN_REASON</th>\n",
       "      <th></th>\n",
       "    </tr>\n",
       "  </thead>\n",
       "  <tbody>\n",
       "    <tr>\n",
       "      <th>FUND REPUTATION DECLINING</th>\n",
       "      <td>29.070673</td>\n",
       "    </tr>\n",
       "    <tr>\n",
       "      <th>HIGH ACCOUNT FEE</th>\n",
       "      <td>16.143163</td>\n",
       "    </tr>\n",
       "    <tr>\n",
       "      <th>HIGH TRANSACTION FEE</th>\n",
       "      <td>21.015857</td>\n",
       "    </tr>\n",
       "    <tr>\n",
       "      <th>LIFE EVENT</th>\n",
       "      <td>5.547624</td>\n",
       "    </tr>\n",
       "    <tr>\n",
       "      <th>NO REASON IDENTIFIED</th>\n",
       "      <td>25.771735</td>\n",
       "    </tr>\n",
       "    <tr>\n",
       "      <th>POOR FUND PERFORMANCE</th>\n",
       "      <td>2.450949</td>\n",
       "    </tr>\n",
       "  </tbody>\n",
       "</table>\n",
       "</div>"
      ],
      "text/plain": [
       "                           CHURN_REASON\n",
       "CHURN_REASON                           \n",
       "FUND REPUTATION DECLINING     29.070673\n",
       "HIGH ACCOUNT FEE              16.143163\n",
       "HIGH TRANSACTION FEE          21.015857\n",
       "LIFE EVENT                     5.547624\n",
       "NO REASON IDENTIFIED          25.771735\n",
       "POOR FUND PERFORMANCE          2.450949"
      ]
     },
     "execution_count": 14,
     "metadata": {},
     "output_type": "execute_result"
    }
   ],
   "source": [
    "churned.groupby([\"CHURN_REASON\"])[[\"CHURN_REASON\"]].count() / churned.shape[0]*100"
   ]
  },
  {
   "cell_type": "code",
   "execution_count": 15,
   "id": "b6b45e3c",
   "metadata": {},
   "outputs": [],
   "source": [
    "from sklearn.multiclass import OneVsRestClassifier\n",
    "from sklearn.linear_model import LogisticRegression"
   ]
  },
  {
   "cell_type": "code",
   "execution_count": 16,
   "id": "857578bf",
   "metadata": {},
   "outputs": [],
   "source": [
    "# frame_id = churned[[\"FUND_ID\",\"\"]]\n",
    "frame = churned[['MEMBER_GENDER', 'MEMBER_STATE', 'MEMBER_CONTACT_VERIFIED','FUND_TOTAL_ASSETS','FUND_RETURN_TARGET_PERCENTAGE',\n",
    "            'INVESTMENT_RISK_CATEGORY', 'CASH_BENCHMARK_ALLOCATION','FIXED_INCOME_BENCHMARK_ALLOCATION',\n",
    "            'DOMESTIC_LISTED_EQUITY_BENCHMARK_ALLOCATION','INTERNATIONAL_LISTED_EQUITY_BENCHMARK_ALLOCATION',\n",
    "            'UNLISTED_EQUITY_BENCHMARK_ALLOCATION', 'EQUITY_BENCHMARK_ALLOCATION','PROPERTY_BENCHMARK_ALLOCATION',\n",
    "            'INFRA_BENCHMARK_ALLOCATION','COMMODITIES_BENCHMARK_ALLOCATION', 'OTHERS_BENCHMARK_ALLOCATION','FUND_RISK_LEVEL', \n",
    "            'FUND_RISK_CATEGORY','NEG_NETRETURN_SINCE_INCEPTION', 'YEAR_1_RETURNS', 'YEAR_3_RETURNS','YEAR_5_RETURNS',\n",
    "            'YEAR_7_RETURNS','YEAR_10_RETURNS', 'SUPER_FEES','PENSION_FEES',\n",
    "            'INVESTMENT_AGE_GROUP', 'RETIREMENT_AGE_GROUP', 'TOTAL_FUNDS_INVESTED',\"CHURN_REASON\"]].copy()"
   ]
  },
  {
   "cell_type": "code",
   "execution_count": 17,
   "id": "4d072b7a",
   "metadata": {},
   "outputs": [],
   "source": [
    "churn_reason_dic = {reason:i for i, reason in enumerate(churned[\"CHURN_REASON\"].unique())}\n",
    "frame[\"CHURN_REASON\"] = frame[\"CHURN_REASON\"].apply(lambda x: churn_reason_dic[x])"
   ]
  },
  {
   "cell_type": "code",
   "execution_count": 18,
   "id": "21d45cfe",
   "metadata": {},
   "outputs": [],
   "source": [
    "numeric_features = [\"FUND_TOTAL_ASSETS\", 'FUND_RETURN_TARGET_PERCENTAGE','CASH_BENCHMARK_ALLOCATION',\n",
    "       'FIXED_INCOME_BENCHMARK_ALLOCATION','DOMESTIC_LISTED_EQUITY_BENCHMARK_ALLOCATION','INTERNATIONAL_LISTED_EQUITY_BENCHMARK_ALLOCATION',\n",
    "       'UNLISTED_EQUITY_BENCHMARK_ALLOCATION', 'EQUITY_BENCHMARK_ALLOCATION','PROPERTY_BENCHMARK_ALLOCATION', 'INFRA_BENCHMARK_ALLOCATION',\n",
    "       'COMMODITIES_BENCHMARK_ALLOCATION', 'OTHERS_BENCHMARK_ALLOCATION', 'YEAR_1_RETURNS', 'YEAR_3_RETURNS',\n",
    "       'YEAR_5_RETURNS', 'YEAR_7_RETURNS', 'YEAR_10_RETURNS', 'SUPER_FEES','PENSION_FEES',]\n",
    "numeric_transformer = Pipeline(\n",
    "    steps=[(\"imputer\", SimpleImputer(strategy=\"median\")), (\"scaler\", StandardScaler())]\n",
    ")\n",
    "\n",
    "categorical_features = [\"MEMBER_GENDER\", \"MEMBER_STATE\", \"MEMBER_CONTACT_VERIFIED\",\"INVESTMENT_RISK_CATEGORY\",'FUND_RISK_LEVEL',\n",
    "                        'FUND_RISK_CATEGORY',\"NEG_NETRETURN_SINCE_INCEPTION\", 'INVESTMENT_AGE_GROUP', 'RETIREMENT_AGE_GROUP', \"TOTAL_FUNDS_INVESTED\"]\n",
    "categorical_transformer = Pipeline(\n",
    "    steps=[\n",
    "        (\"encoder\", OneHotEncoder(handle_unknown=\"ignore\")),\n",
    "        (\"selector\", SelectPercentile(chi2, percentile=50)),\n",
    "    ]\n",
    ")\n",
    "preprocessor = ColumnTransformer(\n",
    "    transformers=[\n",
    "        (\"num\", numeric_transformer, numeric_features),\n",
    "        (\"cat\", categorical_transformer, categorical_features),\n",
    "    ]\n",
    ")"
   ]
  },
  {
   "cell_type": "code",
   "execution_count": 19,
   "id": "0c67eae5",
   "metadata": {},
   "outputs": [
    {
     "name": "stdout",
     "output_type": "stream",
     "text": [
      "(73963, 29)\n",
      "model score: 1.000\n"
     ]
    }
   ],
   "source": [
    "multi_lable_clf = OneVsRestClassifier(RandomForestClassifier(n_estimators=500, max_depth=8, max_features=0.6, bootstrap=True,\n",
    "                                                             max_samples=0.8))\n",
    "clf2 = Pipeline(\n",
    "    steps=[(\"preprocessor\", preprocessor), (\"classifier\", multi_lable_clf)]\n",
    ")\n",
    "\n",
    "\n",
    "X = frame.drop(\"CHURN_REASON\", axis=1)\n",
    "y = frame[\"CHURN_REASON\"]\n",
    "\n",
    "X_train, X_test, y_train, y_test = train_test_split(X, y, test_size=0.2, random_state=0)\n",
    "print(X_train.shape)\n",
    "\n",
    "clf2.fit(X_train, y_train)\n",
    "print(\"model score: %.3f\" % clf2.score(X_test, y_test))"
   ]
  },
  {
   "cell_type": "code",
   "execution_count": 20,
   "id": "b774a17b",
   "metadata": {},
   "outputs": [],
   "source": [
    "frame_pred = clf2.predict(frame)\n",
    "churned[\"CHURN_REASON_PREDICTED\"] = frame_pred"
   ]
  },
  {
   "cell_type": "code",
   "execution_count": 21,
   "id": "70187d06",
   "metadata": {},
   "outputs": [],
   "source": [
    "import pickle\n",
    "\n",
    "# save\n",
    "with open('reason_model.pkl','wb') as f:  ## use rb while reading the fie\n",
    "    pickle.dump(clf2,f)"
   ]
  },
  {
   "cell_type": "code",
   "execution_count": 22,
   "id": "de5f9d69",
   "metadata": {},
   "outputs": [],
   "source": [
    "rev_churn_dic = {val:key for key, val in churn_reason_dic.items()}\n",
    "temp_df = df[[\"unique_id\"]]\n",
    "temp_churned = churned[[\"unique_id\", \"CHURN_REASON_PREDICTED\"]]\n",
    "temp_df = pd.merge(temp_df, temp_churned, on=\"unique_id\", how=\"left\")\n",
    "    \n",
    "    \n",
    "temp_df = temp_df.replace(np.nan, \"Not Applicable\")\n",
    "temp_df[\"CHURN_REASON_PREDICTED\"] = temp_df[\"CHURN_REASON_PREDICTED\"].apply(lambda  x: rev_churn_dic[int(x)] if x !=  \"Not Applicable\" else x)\n",
    "df[\"CHURN_REASON_PREDICTED\"] = temp_df[\"CHURN_REASON_PREDICTED\"]"
   ]
  },
  {
   "cell_type": "markdown",
   "id": "4bc2b5bd",
   "metadata": {},
   "source": [
    "# FUND RECOMMENDATION"
   ]
  },
  {
   "cell_type": "code",
   "execution_count": 23,
   "id": "9c3836d6",
   "metadata": {},
   "outputs": [],
   "source": [
    "fund_allocation = session.table(\"FUND_ALLOCATION_MASTER\").to_pandas()\n",
    "fund_master = session.table(\"FUND_MASTER\").to_pandas()\n",
    "fund_performance = session.table(\"FUND_PERFORMANCE_MASTER\").to_pandas()"
   ]
  },
  {
   "cell_type": "code",
   "execution_count": 24,
   "id": "2c1f6c72",
   "metadata": {},
   "outputs": [],
   "source": [
    "fund = pd.merge(fund_allocation, fund_master, on=\"FUND_ID\")\n",
    "fund_total = pd.merge(fund, fund_performance, on=\"FUND_ID\")\n",
    "fund_charge = [float(i) for i in fund_total[\"FUND_FEES_CHARGES\"] if i != 'Not Available']\n",
    "avg_fund_charge = sum(fund_charge) / len(fund_charge)\n",
    "\n",
    "fund_total[\"FUND_FEES_CHARGES\"] = fund_total[\"FUND_FEES_CHARGES\"].apply(lambda x: avg_fund_charge if x == 'Not Available' else x)\n",
    "fund_total[\"FUND_FEES_CHARGES\"] = fund_total[\"FUND_FEES_CHARGES\"].astype(float) \n",
    "\n",
    "fund_meta = fund_total[[\"FUND_ID\",\"FUNDNAME\"]]\n",
    "fund_cluster = fund_total.drop([\"FUND_ID\",\"FUNDNAME\",\"FUND_NAME_y\",\"FUND_TRUSTEE\",\"FUND_INCEPTION_DATE\"], axis=1)"
   ]
  },
  {
   "cell_type": "code",
   "execution_count": 25,
   "id": "6a0b6acf",
   "metadata": {},
   "outputs": [],
   "source": [
    "fund_data = pd.get_dummies(fund_cluster)\n",
    "\n",
    "fund_data = fund_data.replace(False, 0)\n",
    "fund_data = fund_data.replace(True, 1)"
   ]
  },
  {
   "cell_type": "code",
   "execution_count": 26,
   "id": "69966241",
   "metadata": {},
   "outputs": [],
   "source": [
    "clustering = DBSCAN(eps=2, min_samples=3).fit(fund_data)"
   ]
  },
  {
   "cell_type": "code",
   "execution_count": 27,
   "id": "5c7132b6",
   "metadata": {},
   "outputs": [],
   "source": [
    "fund_total[\"cluster\"] = clustering.labels_\n",
    "fund_total[\"avg_return\"] = fund_total[[\"YEAR_1_RETURNS\",\"YEAR_3_RETURNS\",\n",
    "                                 \"YEAR_5_RETURNS\",\"YEAR_7_RETURNS\",\n",
    "                                 \"YEAR_10_RETURNS\"]].apply(lambda x:\n",
    "                                                        (x[0] + (0.9*x[1]) + (0.75*x[2]) + (0.6*x[3]) + (0.55*x[4]))/5, axis=1)"
   ]
  },
  {
   "cell_type": "code",
   "execution_count": 28,
   "id": "67846c76",
   "metadata": {},
   "outputs": [
    {
     "name": "stdout",
     "output_type": "stream",
     "text": [
      "9\n"
     ]
    }
   ],
   "source": [
    "def recommendation(fund_id, reason):\n",
    "    if reason == 'NO REASON IDENTIFIED' or reason == \"NOT APPLICABLE\":\n",
    "        return \"Not Applicable\"\n",
    "    elif reason == 'HIGH ACCOUNT FEE' or reason == 'HIGH TRANSACTION FEE':\n",
    "        clus_frame = fund_total[fund_total[\"FUND_ID\"] == fund_id]\n",
    "        clus = list(clus_frame[\"cluster\"])[0]\n",
    "        clus_frame[\"charge\"] = clus_frame[[\"SUPER_FEES\",\"PENSION_FEES\",\"FUND_FEES_CHARGES\"]].apply(lambda x: (x[0]+x[1]+x[2])/3, axis=1)\n",
    "        total_charge = list(clus_frame[\"charge\"])[0]\n",
    "        group = fund_total[fund_total[\"cluster\"] == clus]\n",
    "        group[\"avg_fee\"] = group[[\"SUPER_FEES\",\"PENSION_FEES\",\"FUND_FEES_CHARGES\"]].apply(lambda x: (x[0]+x[1]+x[2])/3, axis=1)\n",
    "        group[\"rec\"] = group[\"avg_fee\"].apply(lambda x: 1 if x < total_charge else 0)\n",
    "        group = group.sort_values(\"avg_return\")\n",
    "        recommendations = list(group[group[\"rec\"] == 1][\"FUND_ID\"])\n",
    "        if fund_id in recommendations:\n",
    "            recommendations.remove(fund_id)\n",
    "        recommendations = recommendations[:5]\n",
    "        if len(recommendations) >= 1:\n",
    "            recommendations = np.random.choice(recommendations,1)[0]\n",
    "        else:\n",
    "            return \"Not Applicable\"\n",
    "        return recommendations\n",
    "\n",
    "    elif reason == 'FUND REPUTATION DECLINING' or reason == 'POOR FUND PERFORMANCE':\n",
    "        clus_frame = fund_total[fund_total[\"FUND_ID\"] == fund_id]\n",
    "        clus = list(clus_frame[\"cluster\"])[0]\n",
    "        group = fund_total[fund_total[\"cluster\"] == clus]\n",
    "        group = group.sort_values(\"avg_return\")\n",
    "        recommendations = list(group[\"FUND_ID\"])\n",
    "        if fund_id in recommendations:\n",
    "            recommendations.remove(fund_id)\n",
    "        recommendations = recommendations[:5]\n",
    "        if len(recommendations) >= 1:\n",
    "            recommendations = np.random.choice(recommendations,1)[0]\n",
    "        else:\n",
    "            return \"Not Applicable\"\n",
    "        return recommendations\n",
    "    \n",
    "    else:\n",
    "        return \"Not Applicable\"\n",
    "        \n",
    "            \n",
    "            \n",
    "            \n",
    "rec = recommendation(\"FID000014\",\"HIGH ACCOUNT FEE\")\n",
    "print(len(rec))"
   ]
  },
  {
   "cell_type": "code",
   "execution_count": 29,
   "id": "01b77fa2",
   "metadata": {},
   "outputs": [
    {
     "data": {
      "text/plain": [
       "'FID000016'"
      ]
     },
     "execution_count": 29,
     "metadata": {},
     "output_type": "execute_result"
    }
   ],
   "source": [
    "rec"
   ]
  },
  {
   "cell_type": "code",
   "execution_count": 30,
   "id": "42f936ec",
   "metadata": {},
   "outputs": [],
   "source": [
    "from tqdm import tqdm"
   ]
  },
  {
   "cell_type": "code",
   "execution_count": 31,
   "id": "b1bea31c",
   "metadata": {},
   "outputs": [
    {
     "name": "stderr",
     "output_type": "stream",
     "text": [
      "335999it [06:36, 847.89it/s] \n"
     ]
    }
   ],
   "source": [
    "rec_fund = []\n",
    "for fund_id, f_reason, churn in tqdm(zip(df[\"FUND_ID\"], df[\"CHURN_REASON\"], df[\"CHURN_PREDICTED\"])):\n",
    "    if churn == 1:\n",
    "        rec = recommendation(fund_id,f_reason)\n",
    "        rec_fund.append(rec)\n",
    "    else:\n",
    "        rec_fund.append(\"Not Applicable\")\n",
    "    "
   ]
  },
  {
   "cell_type": "code",
   "execution_count": 32,
   "id": "8ae5fcb3",
   "metadata": {},
   "outputs": [],
   "source": [
    "df[\"funds_rec\"] = rec_fund"
   ]
  },
  {
   "cell_type": "code",
   "execution_count": 33,
   "id": "5bd7631d",
   "metadata": {},
   "outputs": [],
   "source": [
    "df.to_csv(\"/data/funds_recommendated.csv\", index=False)"
   ]
  },
  {
   "cell_type": "code",
   "execution_count": 34,
   "id": "c2305020",
   "metadata": {},
   "outputs": [],
   "source": [
    "fund_total.to_csv(\"/data/FUNDS_COMPLETE_DATA.csv\", index=False)"
   ]
  },
  {
   "cell_type": "code",
   "execution_count": 100,
   "id": "683c5bd2",
   "metadata": {},
   "outputs": [],
   "source": [
    "df[\"FUNDS_RECOMMENDATIONS\"] = df[\"FUNDS_RECOMMENDATIONS\"].astype(str)"
   ]
  },
  {
   "cell_type": "code",
   "execution_count": 98,
   "id": "2343b84c",
   "metadata": {},
   "outputs": [],
   "source": [
    "df = df.rename(columns={'FUNDS RECOMMENDATIONS': 'FUNDS_RECOMMENDATIONS'})"
   ]
  },
  {
   "cell_type": "code",
   "execution_count": 87,
   "id": "8f5e0515",
   "metadata": {},
   "outputs": [],
   "source": [
    "# from snowflake.snowpark.types import StructType, StructField, StringType, IntegerType, FloatType\n",
    "\n",
    "# schema = StructType([\n",
    "#     StructField(\"MEMBER_ID\", StringType()),\n",
    "#     StructField(\"MEMBER_NAME\", StringType()),\n",
    "#     StructField(\"MEMBER_EMPLOYMENT\", StringType()),\n",
    "#     StructField(\"MEMBER_GENDER\", StringType()),\n",
    "#     StructField(\"MEMBER_CITY_TOWN\", StringType()),\n",
    "#     StructField(\"MEMBER_STATE\", StringType()),\n",
    "#     StructField(\"MEMBER_CONTACT_VERIFIED\", StringType()),\n",
    "#     StructField(\"FUND_ID\", StringType()),\n",
    "#     StructField(\"CHURN_REASON\", StringType()),\n",
    "#     StructField(\"LATITUDE\", FloatType()),\n",
    "#     StructField(\"LONGITUDE\", FloatType()),\n",
    "#     StructField(\"COUNTRY\", StringType()),\n",
    "#     StructField(\"COUNTRYCODE\", StringType()),\n",
    "#     StructField(\"CAPITAL\", StringType()),\n",
    "#     StructField(\"POPULATION\", IntegerType()),\n",
    "#     StructField(\"FUND_TOTAL_ASSETS\", FloatType()),\n",
    "#     StructField(\"FUND_RETURN_TARGET_PERCENTAGE\", FloatType()),\n",
    "#     StructField(\"INVESTMENT_RISK_LEVEL\", FloatType()),\n",
    "#     StructField(\"INVESTMENT_RISK_CATEGORY\", StringType()),\n",
    "#     StructField(\"CASH_BENCHMARK_ALLOCATION\", FloatType()),\n",
    "#     StructField(\"FIXED_INCOME_BENCHMARK_ALLOCATION\", FloatType()),\n",
    "#     StructField(\"DOMESTIC_LISTED_EQUITY_BENCHMARK_ALLOCATION\", FloatType()),\n",
    "#     StructField(\"INTERNATIONAL_LISTED_EQUITY_BENCHMARK_ALLOCATION\", FloatType()),\n",
    "#     StructField(\"UNLISTED_EQUITY_BENCHMARK_ALLOCATION\", FloatType()),\n",
    "#     StructField(\"EQUITY_BENCHMARK_ALLOCATION\", FloatType()),\n",
    "#     StructField(\"PROPERTY_BENCHMARK_ALLOCATION\", FloatType()),\n",
    "#     StructField(\"INFRA_BENCHMARK_ALLOCATION\", FloatType()),\n",
    "#     StructField(\"COMMODITIES_BENCHMARK_ALLOCATION\", FloatType()),\n",
    "#     StructField(\"OTHERS_BENCHMARK_ALLOCATION\", FloatType()),\n",
    "#     StructField(\"FUND_RISK_LEVEL\", FloatType()),\n",
    "#     StructField(\"FUND_RISK_CATEGORY\", StringType()),\n",
    "#     StructField(\"NEG_NETRETURN_SINCE_INCEPTION\", StringType()),\n",
    "#     StructField(\"YEAR_1_RETURNS\", FloatType()),\n",
    "#     StructField(\"YEAR_3_RETURNS\", FloatType()),\n",
    "#     StructField(\"YEAR_5_RETURNS\", FloatType()),\n",
    "#     StructField(\"YEAR_7_RETURNS\", FloatType()),\n",
    "#     StructField(\"YEAR_10_RETURNS\", FloatType()),\n",
    "#     StructField(\"SUPER_FEES\", FloatType()),\n",
    "#     StructField(\"PENSION_FEES\", FloatType()),\n",
    "#     StructField(\"CHURN_FLAG\", StringType()),\n",
    "#     StructField(\"MEMBER_AGE\", IntegerType()),\n",
    "#     StructField(\"INVESTMENT_AGE_GROUP\", StringType()),\n",
    "#     StructField(\"RETIREMENT_AGE\", IntegerType()),\n",
    "#     StructField(\"RETIREMENT_AGE_GROUP\", StringType()),\n",
    "#     StructField(\"TOTAL_FUNDS_INVESTED\", IntegerType()),\n",
    "#     StructField(\"NO_OF_CHURN\", StringType()),\n",
    "#     StructField(\"MEMBER_DOB_DT\", StringType()),\n",
    "#     StructField(\"ALLOCATION_DT\", StringType()),\n",
    "#     StructField(\"CHURN_DT\", StringType()),\n",
    "#     StructField(\"RETIREMENT_DT\", StringType()),\n",
    "#     StructField(\"CHURN_PREDICTED\", IntegerType()),\n",
    "#     StructField(\"unique_id\", IntegerType()),\n",
    "#     StructField(\"CHURN_REASON_PREDICTED\", StringType()),\n",
    "#     StructField(\"funds_rec\", StringType())\n",
    "# ])"
   ]
  },
  {
   "cell_type": "code",
   "execution_count": 101,
   "id": "83a1708c",
   "metadata": {},
   "outputs": [
    {
     "ename": "TypeError",
     "evalue": "Unable to infer the type of the field FUNDS_RECOMMENDATIONS.",
     "output_type": "error",
     "traceback": [
      "\u001b[0;31m---------------------------------------------------------------------------\u001b[0m",
      "\u001b[0;31mTypeError\u001b[0m                                 Traceback (most recent call last)",
      "File \u001b[0;32m/opt/conda/lib/python3.8/site-packages/snowflake/snowpark/_internal/type_utils.py:314\u001b[0m, in \u001b[0;36minfer_schema\u001b[0;34m(row, names)\u001b[0m\n\u001b[1;32m    313\u001b[0m \u001b[38;5;28;01mtry\u001b[39;00m:\n\u001b[0;32m--> 314\u001b[0m     fields\u001b[38;5;241m.\u001b[39mappend(StructField(k, \u001b[43minfer_type\u001b[49m\u001b[43m(\u001b[49m\u001b[43mv\u001b[49m\u001b[43m)\u001b[49m, \u001b[38;5;28;01mTrue\u001b[39;00m))\n\u001b[1;32m    315\u001b[0m \u001b[38;5;28;01mexcept\u001b[39;00m \u001b[38;5;167;01mTypeError\u001b[39;00m \u001b[38;5;28;01mas\u001b[39;00m e:\n",
      "File \u001b[0;32m/opt/conda/lib/python3.8/site-packages/snowflake/snowpark/_internal/type_utils.py:285\u001b[0m, in \u001b[0;36minfer_type\u001b[0;34m(obj)\u001b[0m\n\u001b[1;32m    284\u001b[0m \u001b[38;5;28;01melse\u001b[39;00m:\n\u001b[0;32m--> 285\u001b[0m     \u001b[38;5;28;01mraise\u001b[39;00m \u001b[38;5;167;01mTypeError\u001b[39;00m(\u001b[38;5;124m\"\u001b[39m\u001b[38;5;124mnot supported type: \u001b[39m\u001b[38;5;132;01m%s\u001b[39;00m\u001b[38;5;124m\"\u001b[39m \u001b[38;5;241m%\u001b[39m \u001b[38;5;28mtype\u001b[39m(obj))\n",
      "\u001b[0;31mTypeError\u001b[0m: not supported type: <class 'numpy.str_'>",
      "\nThe above exception was the direct cause of the following exception:\n",
      "\u001b[0;31mTypeError\u001b[0m                                 Traceback (most recent call last)",
      "Cell \u001b[0;32mIn[101], line 1\u001b[0m\n\u001b[0;32m----> 1\u001b[0m df_snowflake \u001b[38;5;241m=\u001b[39m \u001b[43msession\u001b[49m\u001b[38;5;241;43m.\u001b[39;49m\u001b[43mcreateDataFrame\u001b[49m\u001b[43m(\u001b[49m\u001b[43mdf\u001b[49m\u001b[38;5;241;43m.\u001b[39;49m\u001b[43mvalues\u001b[49m\u001b[38;5;241;43m.\u001b[39;49m\u001b[43mtolist\u001b[49m\u001b[43m(\u001b[49m\u001b[43m)\u001b[49m\u001b[43m,\u001b[49m\u001b[43m \u001b[49m\u001b[43mschema\u001b[49m\u001b[38;5;241;43m=\u001b[39;49m\u001b[43mdf\u001b[49m\u001b[38;5;241;43m.\u001b[39;49m\u001b[43mcolumns\u001b[49m\u001b[38;5;241;43m.\u001b[39;49m\u001b[43mtolist\u001b[49m\u001b[43m(\u001b[49m\u001b[43m)\u001b[49m\u001b[43m)\u001b[49m\n",
      "File \u001b[0;32m/opt/conda/lib/python3.8/site-packages/snowflake/snowpark/session.py:1403\u001b[0m, in \u001b[0;36mSession.create_dataframe\u001b[0;34m(self, data, schema)\u001b[0m\n\u001b[1;32m   1401\u001b[0m     \u001b[38;5;28;01mif\u001b[39;00m \u001b[38;5;28misinstance\u001b[39m(schema, \u001b[38;5;28mlist\u001b[39m):\n\u001b[1;32m   1402\u001b[0m         names \u001b[38;5;241m=\u001b[39m schema\n\u001b[0;32m-> 1403\u001b[0m     new_schema \u001b[38;5;241m=\u001b[39m \u001b[43mreduce\u001b[49m\u001b[43m(\u001b[49m\n\u001b[1;32m   1404\u001b[0m \u001b[43m        \u001b[49m\u001b[43mmerge_type\u001b[49m\u001b[43m,\u001b[49m\n\u001b[1;32m   1405\u001b[0m \u001b[43m        \u001b[49m\u001b[43m(\u001b[49m\u001b[43minfer_schema\u001b[49m\u001b[43m(\u001b[49m\u001b[43mrow\u001b[49m\u001b[43m,\u001b[49m\u001b[43m \u001b[49m\u001b[43mnames\u001b[49m\u001b[43m)\u001b[49m\u001b[43m \u001b[49m\u001b[38;5;28;43;01mfor\u001b[39;49;00m\u001b[43m \u001b[49m\u001b[43mrow\u001b[49m\u001b[43m \u001b[49m\u001b[38;5;129;43;01min\u001b[39;49;00m\u001b[43m \u001b[49m\u001b[43mdata\u001b[49m\u001b[43m)\u001b[49m\u001b[43m,\u001b[49m\n\u001b[1;32m   1406\u001b[0m \u001b[43m    \u001b[49m\u001b[43m)\u001b[49m\n\u001b[1;32m   1407\u001b[0m \u001b[38;5;28;01mif\u001b[39;00m \u001b[38;5;28mlen\u001b[39m(new_schema\u001b[38;5;241m.\u001b[39mfields) \u001b[38;5;241m==\u001b[39m \u001b[38;5;241m0\u001b[39m:\n\u001b[1;32m   1408\u001b[0m     \u001b[38;5;28;01mraise\u001b[39;00m \u001b[38;5;167;01mValueError\u001b[39;00m(\n\u001b[1;32m   1409\u001b[0m         \u001b[38;5;124m\"\u001b[39m\u001b[38;5;124mThe provided schema or inferred schema cannot be None or empty\u001b[39m\u001b[38;5;124m\"\u001b[39m\n\u001b[1;32m   1410\u001b[0m     )\n",
      "File \u001b[0;32m/opt/conda/lib/python3.8/site-packages/snowflake/snowpark/session.py:1405\u001b[0m, in \u001b[0;36m<genexpr>\u001b[0;34m(.0)\u001b[0m\n\u001b[1;32m   1401\u001b[0m     \u001b[38;5;28;01mif\u001b[39;00m \u001b[38;5;28misinstance\u001b[39m(schema, \u001b[38;5;28mlist\u001b[39m):\n\u001b[1;32m   1402\u001b[0m         names \u001b[38;5;241m=\u001b[39m schema\n\u001b[1;32m   1403\u001b[0m     new_schema \u001b[38;5;241m=\u001b[39m reduce(\n\u001b[1;32m   1404\u001b[0m         merge_type,\n\u001b[0;32m-> 1405\u001b[0m         (\u001b[43minfer_schema\u001b[49m\u001b[43m(\u001b[49m\u001b[43mrow\u001b[49m\u001b[43m,\u001b[49m\u001b[43m \u001b[49m\u001b[43mnames\u001b[49m\u001b[43m)\u001b[49m \u001b[38;5;28;01mfor\u001b[39;00m row \u001b[38;5;129;01min\u001b[39;00m data),\n\u001b[1;32m   1406\u001b[0m     )\n\u001b[1;32m   1407\u001b[0m \u001b[38;5;28;01mif\u001b[39;00m \u001b[38;5;28mlen\u001b[39m(new_schema\u001b[38;5;241m.\u001b[39mfields) \u001b[38;5;241m==\u001b[39m \u001b[38;5;241m0\u001b[39m:\n\u001b[1;32m   1408\u001b[0m     \u001b[38;5;28;01mraise\u001b[39;00m \u001b[38;5;167;01mValueError\u001b[39;00m(\n\u001b[1;32m   1409\u001b[0m         \u001b[38;5;124m\"\u001b[39m\u001b[38;5;124mThe provided schema or inferred schema cannot be None or empty\u001b[39m\u001b[38;5;124m\"\u001b[39m\n\u001b[1;32m   1410\u001b[0m     )\n",
      "File \u001b[0;32m/opt/conda/lib/python3.8/site-packages/snowflake/snowpark/_internal/type_utils.py:316\u001b[0m, in \u001b[0;36minfer_schema\u001b[0;34m(row, names)\u001b[0m\n\u001b[1;32m    314\u001b[0m         fields\u001b[38;5;241m.\u001b[39mappend(StructField(k, infer_type(v), \u001b[38;5;28;01mTrue\u001b[39;00m))\n\u001b[1;32m    315\u001b[0m     \u001b[38;5;28;01mexcept\u001b[39;00m \u001b[38;5;167;01mTypeError\u001b[39;00m \u001b[38;5;28;01mas\u001b[39;00m e:\n\u001b[0;32m--> 316\u001b[0m         \u001b[38;5;28;01mraise\u001b[39;00m \u001b[38;5;167;01mTypeError\u001b[39;00m(\u001b[38;5;124mf\u001b[39m\u001b[38;5;124m\"\u001b[39m\u001b[38;5;124mUnable to infer the type of the field \u001b[39m\u001b[38;5;132;01m{\u001b[39;00mk\u001b[38;5;132;01m}\u001b[39;00m\u001b[38;5;124m.\u001b[39m\u001b[38;5;124m\"\u001b[39m) \u001b[38;5;28;01mfrom\u001b[39;00m \u001b[38;5;21;01me\u001b[39;00m\n\u001b[1;32m    317\u001b[0m \u001b[38;5;28;01mreturn\u001b[39;00m StructType(fields)\n",
      "\u001b[0;31mTypeError\u001b[0m: Unable to infer the type of the field FUNDS_RECOMMENDATIONS."
     ]
    }
   ],
   "source": [
    "df_snowflake = session.createDataFrame(df.values.tolist(), schema=df.columns.tolist())"
   ]
  },
  {
   "cell_type": "code",
   "execution_count": 80,
   "id": "9a1a6147",
   "metadata": {},
   "outputs": [
    {
     "ename": "SnowparkSQLException",
     "evalue": "(1304): 252011: Python data type [str_] cannot be automatically mapped to Snowflake data type. Specify the snowflake data type explicitly.",
     "output_type": "error",
     "traceback": [
      "\u001b[0;31m---------------------------------------------------------------------------\u001b[0m",
      "\u001b[0;31mSnowparkSQLException\u001b[0m                      Traceback (most recent call last)",
      "Cell \u001b[0;32mIn[80], line 1\u001b[0m\n\u001b[0;32m----> 1\u001b[0m \u001b[43mdf_snowflake\u001b[49m\u001b[38;5;241;43m.\u001b[39;49m\u001b[43mwrite\u001b[49m\u001b[38;5;241;43m.\u001b[39;49m\u001b[43mmode\u001b[49m\u001b[43m(\u001b[49m\u001b[38;5;124;43m\"\u001b[39;49m\u001b[38;5;124;43moverwrite\u001b[39;49m\u001b[38;5;124;43m\"\u001b[39;49m\u001b[43m)\u001b[49m\u001b[38;5;241;43m.\u001b[39;49m\u001b[43msave_as_table\u001b[49m\u001b[43m(\u001b[49m\u001b[38;5;124;43m\"\u001b[39;49m\u001b[38;5;124;43mFDC_Banking_FS.BFS_SUPER_ANNU_SCHEMA.FUNDS_COMPLETE_DATA\u001b[39;49m\u001b[38;5;124;43m\"\u001b[39;49m\u001b[43m)\u001b[49m\n",
      "File \u001b[0;32m/opt/conda/lib/python3.8/site-packages/snowflake/snowpark/_internal/telemetry.py:161\u001b[0m, in \u001b[0;36mdfw_collect_api_telemetry.<locals>.wrap\u001b[0;34m(*args, **kwargs)\u001b[0m\n\u001b[1;32m    158\u001b[0m \u001b[38;5;129m@functools\u001b[39m\u001b[38;5;241m.\u001b[39mwraps(func)\n\u001b[1;32m    159\u001b[0m \u001b[38;5;28;01mdef\u001b[39;00m \u001b[38;5;21mwrap\u001b[39m(\u001b[38;5;241m*\u001b[39margs, \u001b[38;5;241m*\u001b[39m\u001b[38;5;241m*\u001b[39mkwargs):\n\u001b[1;32m    160\u001b[0m     \u001b[38;5;28;01mwith\u001b[39;00m args[\u001b[38;5;241m0\u001b[39m]\u001b[38;5;241m.\u001b[39m_dataframe\u001b[38;5;241m.\u001b[39m_session\u001b[38;5;241m.\u001b[39mquery_history() \u001b[38;5;28;01mas\u001b[39;00m query_history:\n\u001b[0;32m--> 161\u001b[0m         result \u001b[38;5;241m=\u001b[39m \u001b[43mfunc\u001b[49m\u001b[43m(\u001b[49m\u001b[38;5;241;43m*\u001b[39;49m\u001b[43margs\u001b[49m\u001b[43m,\u001b[49m\u001b[43m \u001b[49m\u001b[38;5;241;43m*\u001b[39;49m\u001b[38;5;241;43m*\u001b[39;49m\u001b[43mkwargs\u001b[49m\u001b[43m)\u001b[49m\n\u001b[1;32m    162\u001b[0m     plan \u001b[38;5;241m=\u001b[39m args[\u001b[38;5;241m0\u001b[39m]\u001b[38;5;241m.\u001b[39m_dataframe\u001b[38;5;241m.\u001b[39m_select_statement \u001b[38;5;129;01mor\u001b[39;00m args[\u001b[38;5;241m0\u001b[39m]\u001b[38;5;241m.\u001b[39m_dataframe\u001b[38;5;241m.\u001b[39m_plan\n\u001b[1;32m    163\u001b[0m     api_calls \u001b[38;5;241m=\u001b[39m [\n\u001b[1;32m    164\u001b[0m         \u001b[38;5;241m*\u001b[39mplan\u001b[38;5;241m.\u001b[39mapi_calls,\n\u001b[1;32m    165\u001b[0m         {TelemetryField\u001b[38;5;241m.\u001b[39mNAME\u001b[38;5;241m.\u001b[39mvalue: \u001b[38;5;124mf\u001b[39m\u001b[38;5;124m\"\u001b[39m\u001b[38;5;124mDataFrameWriter.\u001b[39m\u001b[38;5;132;01m{\u001b[39;00mfunc\u001b[38;5;241m.\u001b[39m\u001b[38;5;18m__name__\u001b[39m\u001b[38;5;132;01m}\u001b[39;00m\u001b[38;5;124m\"\u001b[39m},\n\u001b[1;32m    166\u001b[0m     ]\n",
      "File \u001b[0;32m/opt/conda/lib/python3.8/site-packages/snowflake/snowpark/dataframe_writer.py:193\u001b[0m, in \u001b[0;36mDataFrameWriter.save_as_table\u001b[0;34m(self, table_name, mode, column_order, create_temp_table, table_type, statement_params, block)\u001b[0m\n\u001b[1;32m    191\u001b[0m session \u001b[38;5;241m=\u001b[39m \u001b[38;5;28mself\u001b[39m\u001b[38;5;241m.\u001b[39m_dataframe\u001b[38;5;241m.\u001b[39m_session\n\u001b[1;32m    192\u001b[0m snowflake_plan \u001b[38;5;241m=\u001b[39m session\u001b[38;5;241m.\u001b[39m_analyzer\u001b[38;5;241m.\u001b[39mresolve(create_table_logic_plan)\n\u001b[0;32m--> 193\u001b[0m result \u001b[38;5;241m=\u001b[39m \u001b[43msession\u001b[49m\u001b[38;5;241;43m.\u001b[39;49m\u001b[43m_conn\u001b[49m\u001b[38;5;241;43m.\u001b[39;49m\u001b[43mexecute\u001b[49m\u001b[43m(\u001b[49m\n\u001b[1;32m    194\u001b[0m \u001b[43m    \u001b[49m\u001b[43msnowflake_plan\u001b[49m\u001b[43m,\u001b[49m\n\u001b[1;32m    195\u001b[0m \u001b[43m    \u001b[49m\u001b[43m_statement_params\u001b[49m\u001b[38;5;241;43m=\u001b[39;49m\u001b[43mstatement_params\u001b[49m\u001b[43m,\u001b[49m\n\u001b[1;32m    196\u001b[0m \u001b[43m    \u001b[49m\u001b[43mblock\u001b[49m\u001b[38;5;241;43m=\u001b[39;49m\u001b[43mblock\u001b[49m\u001b[43m,\u001b[49m\n\u001b[1;32m    197\u001b[0m \u001b[43m    \u001b[49m\u001b[43mdata_type\u001b[49m\u001b[38;5;241;43m=\u001b[39;49m\u001b[43m_AsyncResultType\u001b[49m\u001b[38;5;241;43m.\u001b[39;49m\u001b[43mNO_RESULT\u001b[49m\u001b[43m,\u001b[49m\n\u001b[1;32m    198\u001b[0m \u001b[43m\u001b[49m\u001b[43m)\u001b[49m\n\u001b[1;32m    199\u001b[0m \u001b[38;5;28;01mreturn\u001b[39;00m result \u001b[38;5;28;01mif\u001b[39;00m \u001b[38;5;129;01mnot\u001b[39;00m block \u001b[38;5;28;01melse\u001b[39;00m \u001b[38;5;28;01mNone\u001b[39;00m\n",
      "File \u001b[0;32m/opt/conda/lib/python3.8/site-packages/snowflake/snowpark/_internal/server_connection.py:406\u001b[0m, in \u001b[0;36mServerConnection.execute\u001b[0;34m(self, plan, to_pandas, to_iter, block, data_type, **kwargs)\u001b[0m\n\u001b[1;32m    402\u001b[0m \u001b[38;5;28;01mif\u001b[39;00m is_in_stored_procedure() \u001b[38;5;129;01mand\u001b[39;00m \u001b[38;5;129;01mnot\u001b[39;00m block:  \u001b[38;5;66;03m# pragma: no cover\u001b[39;00m\n\u001b[1;32m    403\u001b[0m     \u001b[38;5;28;01mraise\u001b[39;00m \u001b[38;5;167;01mNotImplementedError\u001b[39;00m(\n\u001b[1;32m    404\u001b[0m         \u001b[38;5;124m\"\u001b[39m\u001b[38;5;124mAsync query is not supported in stored procedure yet\u001b[39m\u001b[38;5;124m\"\u001b[39m\n\u001b[1;32m    405\u001b[0m     )\n\u001b[0;32m--> 406\u001b[0m result_set, result_meta \u001b[38;5;241m=\u001b[39m \u001b[38;5;28;43mself\u001b[39;49m\u001b[38;5;241;43m.\u001b[39;49m\u001b[43mget_result_set\u001b[49m\u001b[43m(\u001b[49m\n\u001b[1;32m    407\u001b[0m \u001b[43m    \u001b[49m\u001b[43mplan\u001b[49m\u001b[43m,\u001b[49m\u001b[43m \u001b[49m\u001b[43mto_pandas\u001b[49m\u001b[43m,\u001b[49m\u001b[43m \u001b[49m\u001b[43mto_iter\u001b[49m\u001b[43m,\u001b[49m\u001b[43m \u001b[49m\u001b[38;5;241;43m*\u001b[39;49m\u001b[38;5;241;43m*\u001b[39;49m\u001b[43mkwargs\u001b[49m\u001b[43m,\u001b[49m\u001b[43m \u001b[49m\u001b[43mblock\u001b[49m\u001b[38;5;241;43m=\u001b[39;49m\u001b[43mblock\u001b[49m\u001b[43m,\u001b[49m\u001b[43m \u001b[49m\u001b[43mdata_type\u001b[49m\u001b[38;5;241;43m=\u001b[39;49m\u001b[43mdata_type\u001b[49m\n\u001b[1;32m    408\u001b[0m \u001b[43m\u001b[49m\u001b[43m)\u001b[49m\n\u001b[1;32m    409\u001b[0m \u001b[38;5;28;01mif\u001b[39;00m \u001b[38;5;129;01mnot\u001b[39;00m block:\n\u001b[1;32m    410\u001b[0m     \u001b[38;5;28;01mreturn\u001b[39;00m result_set\n",
      "File \u001b[0;32m/opt/conda/lib/python3.8/site-packages/snowflake/snowpark/_internal/analyzer/snowflake_plan.py:154\u001b[0m, in \u001b[0;36mSnowflakePlan.Decorator.wrap_exception.<locals>.wrap\u001b[0;34m(*args, **kwargs)\u001b[0m\n\u001b[1;32m    150\u001b[0m \u001b[38;5;28;01melse\u001b[39;00m:\n\u001b[1;32m    151\u001b[0m     ne \u001b[38;5;241m=\u001b[39m SnowparkClientExceptionMessages\u001b[38;5;241m.\u001b[39mSQL_EXCEPTION_FROM_PROGRAMMING_ERROR(\n\u001b[1;32m    152\u001b[0m         e\n\u001b[1;32m    153\u001b[0m     )\n\u001b[0;32m--> 154\u001b[0m     \u001b[38;5;28;01mraise\u001b[39;00m ne\u001b[38;5;241m.\u001b[39mwith_traceback(tb) \u001b[38;5;28;01mfrom\u001b[39;00m \u001b[38;5;28;01mNone\u001b[39;00m\n",
      "File \u001b[0;32m/opt/conda/lib/python3.8/site-packages/snowflake/snowpark/_internal/analyzer/snowflake_plan.py:87\u001b[0m, in \u001b[0;36mSnowflakePlan.Decorator.wrap_exception.<locals>.wrap\u001b[0;34m(*args, **kwargs)\u001b[0m\n\u001b[1;32m     85\u001b[0m \u001b[38;5;28;01mdef\u001b[39;00m \u001b[38;5;21mwrap\u001b[39m(\u001b[38;5;241m*\u001b[39margs, \u001b[38;5;241m*\u001b[39m\u001b[38;5;241m*\u001b[39mkwargs):\n\u001b[1;32m     86\u001b[0m     \u001b[38;5;28;01mtry\u001b[39;00m:\n\u001b[0;32m---> 87\u001b[0m         \u001b[38;5;28;01mreturn\u001b[39;00m \u001b[43mfunc\u001b[49m\u001b[43m(\u001b[49m\u001b[38;5;241;43m*\u001b[39;49m\u001b[43margs\u001b[49m\u001b[43m,\u001b[49m\u001b[43m \u001b[49m\u001b[38;5;241;43m*\u001b[39;49m\u001b[38;5;241;43m*\u001b[39;49m\u001b[43mkwargs\u001b[49m\u001b[43m)\u001b[49m\n\u001b[1;32m     88\u001b[0m     \u001b[38;5;28;01mexcept\u001b[39;00m snowflake\u001b[38;5;241m.\u001b[39mconnector\u001b[38;5;241m.\u001b[39merrors\u001b[38;5;241m.\u001b[39mProgrammingError \u001b[38;5;28;01mas\u001b[39;00m e:\n\u001b[1;32m     89\u001b[0m         tb \u001b[38;5;241m=\u001b[39m sys\u001b[38;5;241m.\u001b[39mexc_info()[\u001b[38;5;241m2\u001b[39m]\n",
      "File \u001b[0;32m/opt/conda/lib/python3.8/site-packages/snowflake/snowpark/_internal/server_connection.py:488\u001b[0m, in \u001b[0;36mServerConnection.get_result_set\u001b[0;34m(self, plan, to_pandas, to_iter, block, data_type, **kwargs)\u001b[0m\n\u001b[1;32m    486\u001b[0m \u001b[38;5;28;01mfor\u001b[39;00m i, query \u001b[38;5;129;01min\u001b[39;00m \u001b[38;5;28menumerate\u001b[39m(plan\u001b[38;5;241m.\u001b[39mqueries):\n\u001b[1;32m    487\u001b[0m     \u001b[38;5;28;01mif\u001b[39;00m \u001b[38;5;28misinstance\u001b[39m(query, BatchInsertQuery):\n\u001b[0;32m--> 488\u001b[0m         \u001b[38;5;28;43mself\u001b[39;49m\u001b[38;5;241;43m.\u001b[39;49m\u001b[43mrun_batch_insert\u001b[49m\u001b[43m(\u001b[49m\u001b[43mquery\u001b[49m\u001b[38;5;241;43m.\u001b[39;49m\u001b[43msql\u001b[49m\u001b[43m,\u001b[49m\u001b[43m \u001b[49m\u001b[43mquery\u001b[49m\u001b[38;5;241;43m.\u001b[39;49m\u001b[43mrows\u001b[49m\u001b[43m,\u001b[49m\u001b[43m \u001b[49m\u001b[38;5;241;43m*\u001b[39;49m\u001b[38;5;241;43m*\u001b[39;49m\u001b[43mkwargs\u001b[49m\u001b[43m)\u001b[49m\n\u001b[1;32m    489\u001b[0m     \u001b[38;5;28;01melse\u001b[39;00m:\n\u001b[1;32m    490\u001b[0m         is_last \u001b[38;5;241m=\u001b[39m i \u001b[38;5;241m==\u001b[39m \u001b[38;5;28mlen\u001b[39m(plan\u001b[38;5;241m.\u001b[39mqueries) \u001b[38;5;241m-\u001b[39m \u001b[38;5;241m1\u001b[39m \u001b[38;5;129;01mand\u001b[39;00m \u001b[38;5;129;01mnot\u001b[39;00m block\n",
      "File \u001b[0;32m/opt/conda/lib/python3.8/site-packages/snowflake/snowpark/_internal/server_connection.py:104\u001b[0m, in \u001b[0;36mServerConnection._Decorator.wrap_exception.<locals>.wrap\u001b[0;34m(*args, **kwargs)\u001b[0m\n\u001b[1;32m    100\u001b[0m     \u001b[38;5;28;01mraise\u001b[39;00m SnowparkClientExceptionMessages\u001b[38;5;241m.\u001b[39mSERVER_SESSION_EXPIRED(\n\u001b[1;32m    101\u001b[0m         ex\u001b[38;5;241m.\u001b[39mcause\n\u001b[1;32m    102\u001b[0m     )\n\u001b[1;32m    103\u001b[0m \u001b[38;5;28;01mexcept\u001b[39;00m \u001b[38;5;167;01mException\u001b[39;00m \u001b[38;5;28;01mas\u001b[39;00m ex:\n\u001b[0;32m--> 104\u001b[0m     \u001b[38;5;28;01mraise\u001b[39;00m ex\n",
      "File \u001b[0;32m/opt/conda/lib/python3.8/site-packages/snowflake/snowpark/_internal/server_connection.py:98\u001b[0m, in \u001b[0;36mServerConnection._Decorator.wrap_exception.<locals>.wrap\u001b[0;34m(*args, **kwargs)\u001b[0m\n\u001b[1;32m     96\u001b[0m     \u001b[38;5;28;01mraise\u001b[39;00m SnowparkClientExceptionMessages\u001b[38;5;241m.\u001b[39mSERVER_SESSION_HAS_BEEN_CLOSED()\n\u001b[1;32m     97\u001b[0m \u001b[38;5;28;01mtry\u001b[39;00m:\n\u001b[0;32m---> 98\u001b[0m     \u001b[38;5;28;01mreturn\u001b[39;00m \u001b[43mfunc\u001b[49m\u001b[43m(\u001b[49m\u001b[38;5;241;43m*\u001b[39;49m\u001b[43margs\u001b[49m\u001b[43m,\u001b[49m\u001b[43m \u001b[49m\u001b[38;5;241;43m*\u001b[39;49m\u001b[38;5;241;43m*\u001b[39;49m\u001b[43mkwargs\u001b[49m\u001b[43m)\u001b[49m\n\u001b[1;32m     99\u001b[0m \u001b[38;5;28;01mexcept\u001b[39;00m ReauthenticationRequest \u001b[38;5;28;01mas\u001b[39;00m ex:\n\u001b[1;32m    100\u001b[0m     \u001b[38;5;28;01mraise\u001b[39;00m SnowparkClientExceptionMessages\u001b[38;5;241m.\u001b[39mSERVER_SESSION_EXPIRED(\n\u001b[1;32m    101\u001b[0m         ex\u001b[38;5;241m.\u001b[39mcause\n\u001b[1;32m    102\u001b[0m     )\n",
      "File \u001b[0;32m/opt/conda/lib/python3.8/site-packages/snowflake/snowpark/_internal/server_connection.py:559\u001b[0m, in \u001b[0;36mServerConnection.run_batch_insert\u001b[0;34m(self, query, rows, **kwargs)\u001b[0m\n\u001b[1;32m    553\u001b[0m     set_query_tag_cursor \u001b[38;5;241m=\u001b[39m \u001b[38;5;28mself\u001b[39m\u001b[38;5;241m.\u001b[39m_cursor\u001b[38;5;241m.\u001b[39mexecute(\n\u001b[1;32m    554\u001b[0m         \u001b[38;5;124mf\u001b[39m\u001b[38;5;124m\"\u001b[39m\u001b[38;5;124malter session set query_tag = \u001b[39m\u001b[38;5;132;01m{\u001b[39;00mstr_to_sql(query_tag)\u001b[38;5;132;01m}\u001b[39;00m\u001b[38;5;124m\"\u001b[39m\n\u001b[1;32m    555\u001b[0m     )\n\u001b[1;32m    556\u001b[0m     \u001b[38;5;28mself\u001b[39m\u001b[38;5;241m.\u001b[39mnotify_query_listeners(\n\u001b[1;32m    557\u001b[0m         QueryRecord(set_query_tag_cursor\u001b[38;5;241m.\u001b[39msfqid, set_query_tag_cursor\u001b[38;5;241m.\u001b[39mquery)\n\u001b[1;32m    558\u001b[0m     )\n\u001b[0;32m--> 559\u001b[0m results_cursor \u001b[38;5;241m=\u001b[39m \u001b[38;5;28;43mself\u001b[39;49m\u001b[38;5;241;43m.\u001b[39;49m\u001b[43m_cursor\u001b[49m\u001b[38;5;241;43m.\u001b[39;49m\u001b[43mexecutemany\u001b[49m\u001b[43m(\u001b[49m\u001b[43mquery\u001b[49m\u001b[43m,\u001b[49m\u001b[43m \u001b[49m\u001b[43mparams\u001b[49m\u001b[43m)\u001b[49m\n\u001b[1;32m    560\u001b[0m \u001b[38;5;28mself\u001b[39m\u001b[38;5;241m.\u001b[39mnotify_query_listeners(\n\u001b[1;32m    561\u001b[0m     QueryRecord(results_cursor\u001b[38;5;241m.\u001b[39msfqid, results_cursor\u001b[38;5;241m.\u001b[39mquery)\n\u001b[1;32m    562\u001b[0m )\n\u001b[1;32m    563\u001b[0m \u001b[38;5;28;01mif\u001b[39;00m query_tag:\n",
      "File \u001b[0;32m/opt/conda/lib/python3.8/site-packages/snowflake/connector/cursor.py:1458\u001b[0m, in \u001b[0;36mSnowflakeCursor.executemany\u001b[0;34m(self, command, seqparams, **kwargs)\u001b[0m\n\u001b[1;32m   1451\u001b[0m                 logger\u001b[38;5;241m.\u001b[39mdebug(\n\u001b[1;32m   1452\u001b[0m                     \u001b[38;5;124m\"\u001b[39m\u001b[38;5;124mFailed to upload binds to stage, sending binds to \u001b[39m\u001b[38;5;124m\"\u001b[39m\n\u001b[1;32m   1453\u001b[0m                     \u001b[38;5;124m\"\u001b[39m\u001b[38;5;124mSnowflake instead.\u001b[39m\u001b[38;5;124m\"\u001b[39m\n\u001b[1;32m   1454\u001b[0m                 )\n\u001b[1;32m   1455\u001b[0m         binding_param \u001b[38;5;241m=\u001b[39m (\n\u001b[1;32m   1456\u001b[0m             \u001b[38;5;28;01mNone\u001b[39;00m \u001b[38;5;28;01mif\u001b[39;00m bind_stage \u001b[38;5;28;01melse\u001b[39;00m \u001b[38;5;28mlist\u001b[39m(\u001b[38;5;28mmap\u001b[39m(\u001b[38;5;28mlist\u001b[39m, \u001b[38;5;28mzip\u001b[39m(\u001b[38;5;241m*\u001b[39mseqparams)))\n\u001b[1;32m   1457\u001b[0m         )  \u001b[38;5;66;03m# transpose\u001b[39;00m\n\u001b[0;32m-> 1458\u001b[0m         \u001b[38;5;28;43mself\u001b[39;49m\u001b[38;5;241;43m.\u001b[39;49m\u001b[43mexecute\u001b[49m\u001b[43m(\u001b[49m\n\u001b[1;32m   1459\u001b[0m \u001b[43m            \u001b[49m\u001b[43mcommand\u001b[49m\u001b[43m,\u001b[49m\u001b[43m \u001b[49m\u001b[43mparams\u001b[49m\u001b[38;5;241;43m=\u001b[39;49m\u001b[43mbinding_param\u001b[49m\u001b[43m,\u001b[49m\u001b[43m \u001b[49m\u001b[43m_bind_stage\u001b[49m\u001b[38;5;241;43m=\u001b[39;49m\u001b[43mbind_stage\u001b[49m\u001b[43m,\u001b[49m\u001b[43m \u001b[49m\u001b[38;5;241;43m*\u001b[39;49m\u001b[38;5;241;43m*\u001b[39;49m\u001b[43mkwargs\u001b[49m\n\u001b[1;32m   1460\u001b[0m \u001b[43m        \u001b[49m\u001b[43m)\u001b[49m\n\u001b[1;32m   1461\u001b[0m         \u001b[38;5;28;01mreturn\u001b[39;00m \u001b[38;5;28mself\u001b[39m\n\u001b[1;32m   1463\u001b[0m \u001b[38;5;28mself\u001b[39m\u001b[38;5;241m.\u001b[39mreset()\n",
      "File \u001b[0;32m/opt/conda/lib/python3.8/site-packages/snowflake/connector/cursor.py:1012\u001b[0m, in \u001b[0;36mSnowflakeCursor.execute\u001b[0;34m(self, command, params, _bind_stage, timeout, _exec_async, _no_retry, _do_reset, _put_callback, _put_azure_callback, _put_callback_output_stream, _get_callback, _get_azure_callback, _get_callback_output_stream, _show_progress_bar, _statement_params, _is_internal, _describe_only, _no_results, _is_put_get, _raise_put_get_error, _force_put_overwrite, _skip_upload_on_content_match, file_stream, num_statements)\u001b[0m\n\u001b[1;32m   1004\u001b[0m             errorvalue \u001b[38;5;241m=\u001b[39m {\n\u001b[1;32m   1005\u001b[0m                 \u001b[38;5;124m\"\u001b[39m\u001b[38;5;124mmsg\u001b[39m\u001b[38;5;124m\"\u001b[39m: \u001b[38;5;124mf\u001b[39m\u001b[38;5;124m\"\u001b[39m\u001b[38;5;124mBinding parameters must be a list: \u001b[39m\u001b[38;5;132;01m{\u001b[39;00mparams\u001b[38;5;132;01m}\u001b[39;00m\u001b[38;5;124m\"\u001b[39m,\n\u001b[1;32m   1006\u001b[0m                 \u001b[38;5;124m\"\u001b[39m\u001b[38;5;124merrno\u001b[39m\u001b[38;5;124m\"\u001b[39m: ER_FAILED_PROCESSING_PYFORMAT,\n\u001b[1;32m   1007\u001b[0m             }\n\u001b[1;32m   1008\u001b[0m             Error\u001b[38;5;241m.\u001b[39merrorhandler_wrapper(\n\u001b[1;32m   1009\u001b[0m                 \u001b[38;5;28mself\u001b[39m\u001b[38;5;241m.\u001b[39mconnection, \u001b[38;5;28mself\u001b[39m, ProgrammingError, errorvalue\n\u001b[1;32m   1010\u001b[0m             )\n\u001b[0;32m-> 1012\u001b[0m         kwargs[\u001b[38;5;124m\"\u001b[39m\u001b[38;5;124mbinding_params\u001b[39m\u001b[38;5;124m\"\u001b[39m] \u001b[38;5;241m=\u001b[39m \u001b[38;5;28;43mself\u001b[39;49m\u001b[38;5;241;43m.\u001b[39;49m\u001b[43m_connection\u001b[49m\u001b[38;5;241;43m.\u001b[39;49m\u001b[43m_process_params_qmarks\u001b[49m\u001b[43m(\u001b[49m\n\u001b[1;32m   1013\u001b[0m \u001b[43m            \u001b[49m\u001b[43mparams\u001b[49m\u001b[43m,\u001b[49m\u001b[43m \u001b[49m\u001b[38;5;28;43mself\u001b[39;49m\n\u001b[1;32m   1014\u001b[0m \u001b[43m        \u001b[49m\u001b[43m)\u001b[49m\n\u001b[1;32m   1016\u001b[0m m \u001b[38;5;241m=\u001b[39m DESC_TABLE_RE\u001b[38;5;241m.\u001b[39mmatch(query)\n\u001b[1;32m   1017\u001b[0m \u001b[38;5;28;01mif\u001b[39;00m m:\n",
      "File \u001b[0;32m/opt/conda/lib/python3.8/site-packages/snowflake/connector/connection.py:1430\u001b[0m, in \u001b[0;36mSnowflakeConnection._process_params_qmarks\u001b[0;34m(self, params, cursor)\u001b[0m\n\u001b[1;32m   1428\u001b[0m \u001b[38;5;28;01mif\u001b[39;00m \u001b[38;5;28misinstance\u001b[39m(v, \u001b[38;5;28mlist\u001b[39m):\n\u001b[1;32m   1429\u001b[0m     snowflake_type \u001b[38;5;241m=\u001b[39m \u001b[38;5;28mself\u001b[39m\u001b[38;5;241m.\u001b[39mconverter\u001b[38;5;241m.\u001b[39msnowflake_type(v)\n\u001b[0;32m-> 1430\u001b[0m     all_param_data \u001b[38;5;241m=\u001b[39m \u001b[38;5;28;43mlist\u001b[39;49m\u001b[43m(\u001b[49m\u001b[38;5;28;43mmap\u001b[39;49m\u001b[43m(\u001b[49m\u001b[43mget_type_and_binding\u001b[49m\u001b[43m,\u001b[49m\u001b[43m \u001b[49m\u001b[43mv\u001b[49m\u001b[43m)\u001b[49m\u001b[43m)\u001b[49m\n\u001b[1;32m   1431\u001b[0m     first_type \u001b[38;5;241m=\u001b[39m all_param_data[\u001b[38;5;241m0\u001b[39m]\u001b[38;5;241m.\u001b[39mtype\n\u001b[1;32m   1432\u001b[0m     \u001b[38;5;66;03m# if all elements have the same snowflake type, update snowflake_type\u001b[39;00m\n",
      "File \u001b[0;32m/opt/conda/lib/python3.8/site-packages/snowflake/connector/connection.py:1398\u001b[0m, in \u001b[0;36mSnowflakeConnection._get_snowflake_type_and_binding\u001b[0;34m(self, cursor, v)\u001b[0m\n\u001b[1;32m   1396\u001b[0m     snowflake_type \u001b[38;5;241m=\u001b[39m \u001b[38;5;28mself\u001b[39m\u001b[38;5;241m.\u001b[39mconverter\u001b[38;5;241m.\u001b[39msnowflake_type(v)\n\u001b[1;32m   1397\u001b[0m     \u001b[38;5;28;01mif\u001b[39;00m snowflake_type \u001b[38;5;129;01mis\u001b[39;00m \u001b[38;5;28;01mNone\u001b[39;00m:\n\u001b[0;32m-> 1398\u001b[0m         \u001b[43mError\u001b[49m\u001b[38;5;241;43m.\u001b[39;49m\u001b[43merrorhandler_wrapper\u001b[49m\u001b[43m(\u001b[49m\n\u001b[1;32m   1399\u001b[0m \u001b[43m            \u001b[49m\u001b[38;5;28;43mself\u001b[39;49m\u001b[43m,\u001b[49m\n\u001b[1;32m   1400\u001b[0m \u001b[43m            \u001b[49m\u001b[43mcursor\u001b[49m\u001b[43m,\u001b[49m\n\u001b[1;32m   1401\u001b[0m \u001b[43m            \u001b[49m\u001b[43mProgrammingError\u001b[49m\u001b[43m,\u001b[49m\n\u001b[1;32m   1402\u001b[0m \u001b[43m            \u001b[49m\u001b[43m{\u001b[49m\n\u001b[1;32m   1403\u001b[0m \u001b[43m                \u001b[49m\u001b[38;5;124;43m\"\u001b[39;49m\u001b[38;5;124;43mmsg\u001b[39;49m\u001b[38;5;124;43m\"\u001b[39;49m\u001b[43m:\u001b[49m\u001b[43m \u001b[49m\u001b[38;5;124;43m\"\u001b[39;49m\u001b[38;5;124;43mPython data type [\u001b[39;49m\u001b[38;5;132;43;01m{}\u001b[39;49;00m\u001b[38;5;124;43m] cannot be \u001b[39;49m\u001b[38;5;124;43m\"\u001b[39;49m\n\u001b[1;32m   1404\u001b[0m \u001b[43m                \u001b[49m\u001b[38;5;124;43m\"\u001b[39;49m\u001b[38;5;124;43mautomatically mapped to Snowflake data \u001b[39;49m\u001b[38;5;124;43m\"\u001b[39;49m\n\u001b[1;32m   1405\u001b[0m \u001b[43m                \u001b[49m\u001b[38;5;124;43m\"\u001b[39;49m\u001b[38;5;124;43mtype. Specify the snowflake data type \u001b[39;49m\u001b[38;5;124;43m\"\u001b[39;49m\n\u001b[1;32m   1406\u001b[0m \u001b[43m                \u001b[49m\u001b[38;5;124;43m\"\u001b[39;49m\u001b[38;5;124;43mexplicitly.\u001b[39;49m\u001b[38;5;124;43m\"\u001b[39;49m\u001b[38;5;241;43m.\u001b[39;49m\u001b[43mformat\u001b[49m\u001b[43m(\u001b[49m\u001b[43mv\u001b[49m\u001b[38;5;241;43m.\u001b[39;49m\u001b[38;5;18;43m__class__\u001b[39;49m\u001b[38;5;241;43m.\u001b[39;49m\u001b[38;5;18;43m__name__\u001b[39;49m\u001b[38;5;241;43m.\u001b[39;49m\u001b[43mlower\u001b[49m\u001b[43m(\u001b[49m\u001b[43m)\u001b[49m\u001b[43m)\u001b[49m\u001b[43m,\u001b[49m\n\u001b[1;32m   1407\u001b[0m \u001b[43m                \u001b[49m\u001b[38;5;124;43m\"\u001b[39;49m\u001b[38;5;124;43merrno\u001b[39;49m\u001b[38;5;124;43m\"\u001b[39;49m\u001b[43m:\u001b[49m\u001b[43m \u001b[49m\u001b[43mER_NOT_IMPLICITY_SNOWFLAKE_DATATYPE\u001b[49m\u001b[43m,\u001b[49m\n\u001b[1;32m   1408\u001b[0m \u001b[43m            \u001b[49m\u001b[43m}\u001b[49m\u001b[43m,\u001b[49m\n\u001b[1;32m   1409\u001b[0m \u001b[43m        \u001b[49m\u001b[43m)\u001b[49m\n\u001b[1;32m   1410\u001b[0m \u001b[38;5;28;01mreturn\u001b[39;00m TypeAndBinding(\n\u001b[1;32m   1411\u001b[0m     snowflake_type,\n\u001b[1;32m   1412\u001b[0m     \u001b[38;5;28mself\u001b[39m\u001b[38;5;241m.\u001b[39mconverter\u001b[38;5;241m.\u001b[39mto_snowflake_bindings(snowflake_type, v),\n\u001b[1;32m   1413\u001b[0m )\n",
      "File \u001b[0;32m/opt/conda/lib/python3.8/site-packages/snowflake/connector/errors.py:290\u001b[0m, in \u001b[0;36mError.errorhandler_wrapper\u001b[0;34m(connection, cursor, error_class, error_value)\u001b[0m\n\u001b[1;32m    267\u001b[0m \u001b[38;5;129m@staticmethod\u001b[39m\n\u001b[1;32m    268\u001b[0m \u001b[38;5;28;01mdef\u001b[39;00m \u001b[38;5;21merrorhandler_wrapper\u001b[39m(\n\u001b[1;32m    269\u001b[0m     connection: SnowflakeConnection \u001b[38;5;241m|\u001b[39m \u001b[38;5;28;01mNone\u001b[39;00m,\n\u001b[0;32m   (...)\u001b[0m\n\u001b[1;32m    272\u001b[0m     error_value: \u001b[38;5;28mdict\u001b[39m[\u001b[38;5;28mstr\u001b[39m, Any],\n\u001b[1;32m    273\u001b[0m ) \u001b[38;5;241m-\u001b[39m\u001b[38;5;241m>\u001b[39m \u001b[38;5;28;01mNone\u001b[39;00m:\n\u001b[1;32m    274\u001b[0m \u001b[38;5;250m    \u001b[39m\u001b[38;5;124;03m\"\"\"Error handler wrapper that calls the errorhandler method.\u001b[39;00m\n\u001b[1;32m    275\u001b[0m \n\u001b[1;32m    276\u001b[0m \u001b[38;5;124;03m    Args:\u001b[39;00m\n\u001b[0;32m   (...)\u001b[0m\n\u001b[1;32m    287\u001b[0m \u001b[38;5;124;03m        exception to the first handler in that order.\u001b[39;00m\n\u001b[1;32m    288\u001b[0m \u001b[38;5;124;03m    \"\"\"\u001b[39;00m\n\u001b[0;32m--> 290\u001b[0m     handed_over \u001b[38;5;241m=\u001b[39m \u001b[43mError\u001b[49m\u001b[38;5;241;43m.\u001b[39;49m\u001b[43mhand_to_other_handler\u001b[49m\u001b[43m(\u001b[49m\n\u001b[1;32m    291\u001b[0m \u001b[43m        \u001b[49m\u001b[43mconnection\u001b[49m\u001b[43m,\u001b[49m\n\u001b[1;32m    292\u001b[0m \u001b[43m        \u001b[49m\u001b[43mcursor\u001b[49m\u001b[43m,\u001b[49m\n\u001b[1;32m    293\u001b[0m \u001b[43m        \u001b[49m\u001b[43merror_class\u001b[49m\u001b[43m,\u001b[49m\n\u001b[1;32m    294\u001b[0m \u001b[43m        \u001b[49m\u001b[43merror_value\u001b[49m\u001b[43m,\u001b[49m\n\u001b[1;32m    295\u001b[0m \u001b[43m    \u001b[49m\u001b[43m)\u001b[49m\n\u001b[1;32m    296\u001b[0m     \u001b[38;5;28;01mif\u001b[39;00m \u001b[38;5;129;01mnot\u001b[39;00m handed_over:\n\u001b[1;32m    297\u001b[0m         \u001b[38;5;28;01mraise\u001b[39;00m Error\u001b[38;5;241m.\u001b[39merrorhandler_make_exception(\n\u001b[1;32m    298\u001b[0m             error_class,\n\u001b[1;32m    299\u001b[0m             error_value,\n\u001b[1;32m    300\u001b[0m         )\n",
      "File \u001b[0;32m/opt/conda/lib/python3.8/site-packages/snowflake/connector/errors.py:345\u001b[0m, in \u001b[0;36mError.hand_to_other_handler\u001b[0;34m(connection, cursor, error_class, error_value)\u001b[0m\n\u001b[1;32m    343\u001b[0m \u001b[38;5;28;01mif\u001b[39;00m cursor \u001b[38;5;129;01mis\u001b[39;00m \u001b[38;5;129;01mnot\u001b[39;00m \u001b[38;5;28;01mNone\u001b[39;00m:\n\u001b[1;32m    344\u001b[0m     cursor\u001b[38;5;241m.\u001b[39mmessages\u001b[38;5;241m.\u001b[39mappend((error_class, error_value))\n\u001b[0;32m--> 345\u001b[0m     \u001b[43mcursor\u001b[49m\u001b[38;5;241;43m.\u001b[39;49m\u001b[43merrorhandler\u001b[49m\u001b[43m(\u001b[49m\u001b[43mconnection\u001b[49m\u001b[43m,\u001b[49m\u001b[43m \u001b[49m\u001b[43mcursor\u001b[49m\u001b[43m,\u001b[49m\u001b[43m \u001b[49m\u001b[43merror_class\u001b[49m\u001b[43m,\u001b[49m\u001b[43m \u001b[49m\u001b[43merror_value\u001b[49m\u001b[43m)\u001b[49m\n\u001b[1;32m    346\u001b[0m     \u001b[38;5;28;01mreturn\u001b[39;00m \u001b[38;5;28;01mTrue\u001b[39;00m\n\u001b[1;32m    347\u001b[0m \u001b[38;5;28;01melif\u001b[39;00m connection \u001b[38;5;129;01mis\u001b[39;00m \u001b[38;5;129;01mnot\u001b[39;00m \u001b[38;5;28;01mNone\u001b[39;00m:\n",
      "File \u001b[0;32m/opt/conda/lib/python3.8/site-packages/snowflake/connector/errors.py:221\u001b[0m, in \u001b[0;36mError.default_errorhandler\u001b[0;34m(connection, cursor, error_class, error_value)\u001b[0m\n\u001b[1;32m    219\u001b[0m errno \u001b[38;5;241m=\u001b[39m error_value\u001b[38;5;241m.\u001b[39mget(\u001b[38;5;124m\"\u001b[39m\u001b[38;5;124merrno\u001b[39m\u001b[38;5;124m\"\u001b[39m)\n\u001b[1;32m    220\u001b[0m done_format_msg \u001b[38;5;241m=\u001b[39m error_value\u001b[38;5;241m.\u001b[39mget(\u001b[38;5;124m\"\u001b[39m\u001b[38;5;124mdone_format_msg\u001b[39m\u001b[38;5;124m\"\u001b[39m)\n\u001b[0;32m--> 221\u001b[0m \u001b[38;5;28;01mraise\u001b[39;00m error_class(\n\u001b[1;32m    222\u001b[0m     msg\u001b[38;5;241m=\u001b[39merror_value\u001b[38;5;241m.\u001b[39mget(\u001b[38;5;124m\"\u001b[39m\u001b[38;5;124mmsg\u001b[39m\u001b[38;5;124m\"\u001b[39m),\n\u001b[1;32m    223\u001b[0m     errno\u001b[38;5;241m=\u001b[39m\u001b[38;5;28;01mNone\u001b[39;00m \u001b[38;5;28;01mif\u001b[39;00m errno \u001b[38;5;129;01mis\u001b[39;00m \u001b[38;5;28;01mNone\u001b[39;00m \u001b[38;5;28;01melse\u001b[39;00m \u001b[38;5;28mint\u001b[39m(errno),\n\u001b[1;32m    224\u001b[0m     sqlstate\u001b[38;5;241m=\u001b[39merror_value\u001b[38;5;241m.\u001b[39mget(\u001b[38;5;124m\"\u001b[39m\u001b[38;5;124msqlstate\u001b[39m\u001b[38;5;124m\"\u001b[39m),\n\u001b[1;32m    225\u001b[0m     sfqid\u001b[38;5;241m=\u001b[39merror_value\u001b[38;5;241m.\u001b[39mget(\u001b[38;5;124m\"\u001b[39m\u001b[38;5;124msfqid\u001b[39m\u001b[38;5;124m\"\u001b[39m),\n\u001b[1;32m    226\u001b[0m     query\u001b[38;5;241m=\u001b[39merror_value\u001b[38;5;241m.\u001b[39mget(\u001b[38;5;124m\"\u001b[39m\u001b[38;5;124mquery\u001b[39m\u001b[38;5;124m\"\u001b[39m),\n\u001b[1;32m    227\u001b[0m     done_format_msg\u001b[38;5;241m=\u001b[39m(\n\u001b[1;32m    228\u001b[0m         \u001b[38;5;28;01mNone\u001b[39;00m \u001b[38;5;28;01mif\u001b[39;00m done_format_msg \u001b[38;5;129;01mis\u001b[39;00m \u001b[38;5;28;01mNone\u001b[39;00m \u001b[38;5;28;01melse\u001b[39;00m \u001b[38;5;28mbool\u001b[39m(done_format_msg)\n\u001b[1;32m    229\u001b[0m     ),\n\u001b[1;32m    230\u001b[0m     connection\u001b[38;5;241m=\u001b[39mconnection,\n\u001b[1;32m    231\u001b[0m     cursor\u001b[38;5;241m=\u001b[39mcursor,\n\u001b[1;32m    232\u001b[0m )\n",
      "\u001b[0;31mSnowparkSQLException\u001b[0m: (1304): 252011: Python data type [str_] cannot be automatically mapped to Snowflake data type. Specify the snowflake data type explicitly."
     ]
    }
   ],
   "source": [
    "df_snowflake.write.mode(\"overwrite\").save_as_table(\"FDC_Banking_FS.BFS_SUPER_ANNU_SCHEMA.FUNDS_COMPLETE_DATA\")"
   ]
  },
  {
   "cell_type": "code",
   "execution_count": null,
   "id": "b1a04492",
   "metadata": {},
   "outputs": [],
   "source": [
    "temp_ = {}\n",
    "for i, val in enumerate(df['FUNDS_RECOMMENDATIONS']):\n",
    "    df[\"FUNDS_RECOMMENDATIONS\"].iloc[i] = str(val)\n",
    "    temp_[val] =type(val)\n",
    "    "
   ]
  },
  {
   "cell_type": "code",
   "execution_count": 106,
   "id": "27d20250",
   "metadata": {},
   "outputs": [
    {
     "data": {
      "text/plain": [
       "{'Not Applicable': str,\n",
       " 'FID000100': numpy.str_,\n",
       " 'FID000033': numpy.str_,\n",
       " 'FID000096': numpy.str_,\n",
       " 'FID000034': numpy.str_,\n",
       " 'FID000117': numpy.str_,\n",
       " 'FID000192': numpy.str_,\n",
       " 'FID000136': numpy.str_,\n",
       " 'FID000080': numpy.str_,\n",
       " 'FID000121': numpy.str_,\n",
       " 'FID000106': numpy.str_,\n",
       " 'FID000119': numpy.str_,\n",
       " 'FID000097': numpy.str_,\n",
       " 'FID000011': numpy.str_,\n",
       " 'FID000105': numpy.str_,\n",
       " 'FID000005': numpy.str_,\n",
       " 'FID000103': numpy.str_,\n",
       " 'FID000116': numpy.str_,\n",
       " 'FID000049': numpy.str_,\n",
       " 'FID000135': numpy.str_,\n",
       " 'FID000060': numpy.str_,\n",
       " 'FID000122': numpy.str_,\n",
       " 'FID000059': numpy.str_,\n",
       " 'FID000102': numpy.str_,\n",
       " 'FID000185': numpy.str_,\n",
       " 'FID000146': numpy.str_,\n",
       " 'FID000114': numpy.str_,\n",
       " 'FID000107': numpy.str_,\n",
       " 'FID000108': numpy.str_,\n",
       " 'FID000006': numpy.str_,\n",
       " 'FID000067': numpy.str_,\n",
       " 'FID000016': numpy.str_,\n",
       " 'FID000171': numpy.str_,\n",
       " 'FID000163': numpy.str_,\n",
       " 'FID000115': numpy.str_,\n",
       " 'FID000113': numpy.str_,\n",
       " 'FID000008': numpy.str_,\n",
       " 'FID000010': numpy.str_,\n",
       " 'FID000118': numpy.str_,\n",
       " 'FID000159': numpy.str_,\n",
       " 'FID000173': numpy.str_,\n",
       " 'FID000009': numpy.str_,\n",
       " 'FID000186': numpy.str_,\n",
       " 'FID000003': numpy.str_,\n",
       " 'FID000007': numpy.str_,\n",
       " 'FID000181': numpy.str_,\n",
       " 'FID000050': numpy.str_,\n",
       " 'FID000131': numpy.str_,\n",
       " 'FID000093': numpy.str_,\n",
       " 'FID000132': numpy.str_,\n",
       " 'FID000057': numpy.str_,\n",
       " 'FID000055': numpy.str_,\n",
       " 'FID000030': numpy.str_,\n",
       " 'FID000172': numpy.str_,\n",
       " 'FID000109': numpy.str_,\n",
       " 'FID000091': numpy.str_,\n",
       " 'FID000129': numpy.str_,\n",
       " 'FID000130': numpy.str_,\n",
       " 'FID000142': numpy.str_}"
      ]
     },
     "execution_count": 106,
     "metadata": {},
     "output_type": "execute_result"
    }
   ],
   "source": [
    "temp_"
   ]
  }
 ],
 "metadata": {
  "kernelspec": {
   "display_name": "Python 3",
   "language": "python",
   "name": "python3"
  },
  "language_info": {
   "codemirror_mode": {
    "name": "ipython",
    "version": 3
   },
   "file_extension": ".py",
   "mimetype": "text/x-python",
   "name": "python",
   "nbconvert_exporter": "python",
   "pygments_lexer": "ipython3",
   "version": "3.8.18"
  }
 },
 "nbformat": 4,
 "nbformat_minor": 5
}
